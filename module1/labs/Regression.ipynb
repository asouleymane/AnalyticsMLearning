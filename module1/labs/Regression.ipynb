{
 "cells": [
  {
   "cell_type": "markdown",
   "metadata": {},
   "source": [
    "# Module 1: Regression\n",
    "\n",
    "In this lab you will create a regression model on the same red wine quality dataset and then apply and practice the same training and validation methodology. The regression model will be based on linear regression provided by sci-kit learn.\n",
    "\n",
    "#### Scikit Learn\n",
    "\n",
    "Read about Scikit as your time permits: http://scikit-learn.org/stable/\n",
    "\n",
    "\n",
    "Relevant sklearn API references:\n",
    " * [sklearn.linear_model.LinearRegression](http://scikit-learn.org/stable/modules/generated/sklearn.linear_model.LinearRegression.html)\n",
    " * [sklearn.linear_model.LogisticRegression](http://scikit-learn.org/stable/modules/generated/sklearn.linear_model.LogisticRegression.html)\n",
    " * [sklearn.metrics.mean_squared_error](http://scikit-learn.org/stable/modules/generated/sklearn.metrics.mean_squared_error.html)"
   ]
  },
  {
   "cell_type": "code",
   "execution_count": null,
   "metadata": {
    "collapsed": true
   },
   "outputs": [],
   "source": [
    "%matplotlib inline\n",
    "import os, sys\n",
    "import numpy as np\n",
    "import pandas as pd\n",
    "import seaborn as sns\n",
    "from sklearn.linear_model import LinearRegression\n",
    "from sklearn.linear_model import LogisticRegression\n",
    "from sklearn.model_selection import train_test_split\n",
    "import matplotlib.pyplot as plt"
   ]
  },
  {
   "cell_type": "markdown",
   "metadata": {},
   "source": [
    "## Load Dataset\n",
    "\n",
    "Load dataset from files into multi-dimensional array and understand its structure. \n",
    "Then check it's shape, columns and label distribution."
   ]
  },
  {
   "cell_type": "code",
   "execution_count": null,
   "metadata": {},
   "outputs": [],
   "source": [
    "# Dataset location\n",
    "DATASET = '/dsa/data/all_datasets/wine-quality/winequality-red.csv'\n",
    "assert os.path.exists(DATASET)\n",
    "\n",
    "# Load and shuffle\n",
    "dataset = pd.read_csv(DATASET, sep=';').sample(frac = 1).reset_index(drop=True)\n",
    "\n",
    "# View some metadata of the dataset and see if that makes sense\n",
    "print('dataset.shape', dataset.shape)\n",
    "dataset.describe()"
   ]
  },
  {
   "cell_type": "code",
   "execution_count": null,
   "metadata": {},
   "outputs": [],
   "source": [
    "X = np.array(dataset.iloc[:,:-1])[:, [1,2,6,9,10]]\n",
    "y = np.array(dataset.quality)\n",
    "\n",
    "print('X', X.shape, 'y', y.shape)\n",
    "                                # Refresher: This is a dictionary comprehension\n",
    "print('Label distribution:', {i: np.sum(y==i) for i in np.unique(dataset.quality)})\n",
    "                                # For each unique value in the quality column, \n",
    "                                #     count the number of times it occurs \n",
    "                                #      and store it in the dictionary with the quality as the key"
   ]
  },
  {
   "cell_type": "markdown",
   "metadata": {},
   "source": [
    "## Make the training/validation split, train the model, and validate it"
   ]
  },
  {
   "cell_type": "code",
   "execution_count": null,
   "metadata": {},
   "outputs": [],
   "source": [
    "X_train, X_test, y_train, y_test = train_test_split(X, y, test_size=0.25)\n",
    "model = LinearRegression()     # this is a blank model\n",
    "model.fit(X_train, y_train)    # Train the model against the data\n",
    "model.score(X_test, y_test)"
   ]
  },
  {
   "cell_type": "markdown",
   "metadata": {},
   "source": [
    "This score is the *coefficient of determination* (aka R squared) of the model on this dataset, \n",
    "which measures what portion of total variation is explained by the model.\n",
    "\n",
    "Sci-kit learn also provides convenience functions for computing mean squared error."
   ]
  },
  {
   "cell_type": "code",
   "execution_count": null,
   "metadata": {},
   "outputs": [],
   "source": [
    "from sklearn.metrics import mean_squared_error\n",
    "\n",
    "# Measure the model error based on expected output and predicted output\n",
    "mean_squared_error(y, model.predict(X))  # also known as   MSE"
   ]
  },
  {
   "cell_type": "markdown",
   "metadata": {},
   "source": [
    "Optionally you can print out a sample and see for yourself how the linear regression model performs."
   ]
  },
  {
   "cell_type": "code",
   "execution_count": null,
   "metadata": {},
   "outputs": [],
   "source": [
    "print(y[20:55])\n",
    "print(np.round(model.predict(X)[20:55]).astype('i4'))"
   ]
  },
  {
   "cell_type": "markdown",
   "metadata": {},
   "source": [
    "You can also choose to plot one of the input features against the regression response to visualize the regression as the following: (5 features are chosen so axis 1 would be indexed from 0 to 4)"
   ]
  },
  {
   "cell_type": "code",
   "execution_count": null,
   "metadata": {},
   "outputs": [],
   "source": [
    "sns.regplot(X[:,0], y)"
   ]
  },
  {
   "cell_type": "markdown",
   "metadata": {},
   "source": [
    "\n",
    "### Model Confusion\n",
    "A useful tool to employ, beyond single number metrics is a confusion matrix.\n",
    "\n",
    "Please read about it here: https://en.wikipedia.org/wiki/Confusion_matrix  \n",
    "You will note that from a confusion matrix, a large number of additional model performance metrics can be computed.\n"
   ]
  },
  {
   "cell_type": "code",
   "execution_count": null,
   "metadata": {},
   "outputs": [],
   "source": [
    "from sklearn.metrics import confusion_matrix\n",
    "# Compute confusion matrix with expected value, predicted values... similar to RMSE \n",
    "confusion_matrix(y_test, np.round(model.predict(X_test)).astype('i4'))"
   ]
  },
  {
   "cell_type": "markdown",
   "metadata": {},
   "source": [
    "The center diagonal, top left to bottom right, is the set of correct model predictions.\n",
    "The off diagonal counts are the errors.\n",
    "This gives a per class-pair breakdown of the model performance.\n",
    "\n",
    "### <span style=\"background:yellow\">NOTE:</span>\n",
    "Though we think of wine **quality** as an ordinal value, we are attempting to use regression which predicts continuous values.\n",
    "We are purposely looking at this problem with sub-optimal tools to illustrate various concepts and stimulate some contemplation.\n",
    "\n",
    "\n",
    "### Using an alternate form of regression\n",
    "We can reduce this to a 2-class (binary) problem as we did in the previous lab.\n",
    "Then, a 2-class regression classifier can be used - Logistic Regression.  \n",
    "You previously saw this model in the Statistical and Mathematical foundations class."
   ]
  },
  {
   "cell_type": "code",
   "execution_count": null,
   "metadata": {},
   "outputs": [],
   "source": [
    "# Binarize wine quality just for simplification\n",
    "y[y<6]=0; y[y>=6]=1\n",
    "print('X', X.shape, 'y', y.shape)\n",
    "print('Label distribution:', {0: np.sum(y==0), 1: np.sum(y==1)})"
   ]
  },
  {
   "cell_type": "code",
   "execution_count": null,
   "metadata": {},
   "outputs": [],
   "source": [
    "X_train, X_test, y_train, y_test = train_test_split(X, y, test_size=0.25)\n",
    "model = LogisticRegression()   # this is a new model\n",
    "model.fit(X_train, y_train)\n",
    "model.score(X_test, y_test)"
   ]
  },
  {
   "cell_type": "markdown",
   "metadata": {},
   "source": [
    "**That number may look familiar!**\n",
    "How does it compare to the Naive Bayes classifier in the previous lab."
   ]
  }
 ],
 "metadata": {
  "kernelspec": {
   "display_name": "Python 3",
   "language": "python",
   "name": "python3"
  },
  "language_info": {
   "codemirror_mode": {
    "name": "ipython",
    "version": 3
   },
   "file_extension": ".py",
   "mimetype": "text/x-python",
   "name": "python",
   "nbconvert_exporter": "python",
   "pygments_lexer": "ipython3",
   "version": "3.4.5"
  }
 },
 "nbformat": 4,
 "nbformat_minor": 2
}
