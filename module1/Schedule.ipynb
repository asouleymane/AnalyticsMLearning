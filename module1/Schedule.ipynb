{
 "cells": [
  {
   "cell_type": "markdown",
   "metadata": {},
   "source": [
    "# 1 \n",
    "# Introduction to Machine Learning"
   ]
  },
  {
   "cell_type": "markdown",
   "metadata": {},
   "source": [
    "## Module Topics\n",
    "### Machine Learning Overview\n",
    "  * ML versus PR, DM, and Stat\n",
    "  * Unsupervised ML\n",
    "  * Machine Learning Workflows\n",
    "     * Training\n",
    "     * Validation\n",
    "     * Testing\n",
    "     * Refinement\n",
    "       * Online Learning\n",
    "       * Feedback\n",
    "  * Supervised vs Unsupervised\n",
    "  * Supervised ML\n",
    "     * Predicting Quantitative Values\n",
    "     * Classification\n",
    "  * Unsupervised ML\n",
    "     * Clustering\n",
    "  * Probabilistic Graphical Models\n",
    "  * Times Series\n"
   ]
  },
  {
   "cell_type": "markdown",
   "metadata": {},
   "source": [
    "## Readings\n",
    "  * [Wikipedia - Machine Learning](https://en.wikipedia.org/wiki/Machine_learning)\n",
    "  * [Machine Learning: An In-Depth Guide - Overview...Pt 1](https://www.innoarchitech.com/machine-learning-an-in-depth-non-technical-guide/)\n",
    "  * [Machine Learning: An In-Depth Guide - Overview...Pt 2](https://www.innoarchitech.com/machine-learning-an-in-depth-non-technical-guide-part-2/)\n",
    "  * [Machine Learning: An In-Depth Guide - Overview...Pt 3](https://www.innoarchitech.com/machine-learning-an-in-depth-non-technical-guide-part-3/)\n",
    "  * [Machine Learning: An In-Depth Guide - Overview...Pt 4](https://www.innoarchitech.com/machine-learning-an-in-depth-non-technical-guide-part-4/)\n",
    "  * [Machine Learning: An In-Depth Guide - Overview...Pt 5](https://www.innoarchitech.com/machine-learning-an-in-depth-non-technical-guide-part-5/)"
   ]
  },
  {
   "cell_type": "markdown",
   "metadata": {},
   "source": [
    "## Labs\n",
    "\n",
    "The goal of the labs this module are to refresh you on some basic machine learning you have seen before.\n",
    "The labs are using the Python Scikit-Learn package and some simple ML examples.\n",
    "\n",
    "  * [ML Training and Validation](./labs/TrainAndValidate.ipynb)\n",
    "  * [Regression](./labs/Regression.ipynb)\n",
    "  * [Classification](./labs/Classification.ipynb)\n"
   ]
  },
  {
   "cell_type": "markdown",
   "metadata": {},
   "source": [
    "## Practices\n",
    "\n",
    "  * [ML Training and Validation](./practices/TrainAndValidate.ipynb)\n"
   ]
  },
  {
   "cell_type": "markdown",
   "metadata": {},
   "source": [
    "## Exercises\n",
    "\n",
    "  * [ML Training and Validation](./exercises/TrainAndValidate.ipynb)\n"
   ]
  },
  {
   "cell_type": "markdown",
   "metadata": {},
   "source": [
    "## Submitting your work\n",
    "\n",
    "#### Steps:\n",
    "  1. Open Terminal in JupyterHub\n",
    "  1. Change into the course folder\n",
    "  1. Stage (Git Add) the module's practive and exercise work   \n",
    "  `git  add   module1/practices    module1/exercises`\n",
    "  1. Create your work snapshot (Git Commit)  \n",
    "  `git   commit   -m   \"Module 1 submission\"`\n",
    "  1. Upload the snapshot to the server (Git Push)  \n",
    "  `git   push`\n"
   ]
  },
  {
   "cell_type": "markdown",
   "metadata": {},
   "source": [
    "## Congratulations, you have completed the learning activities for this module!"
   ]
  }
 ],
 "metadata": {
  "kernelspec": {
   "display_name": "Python 3",
   "language": "python",
   "name": "python3"
  },
  "language_info": {
   "codemirror_mode": {
    "name": "ipython",
    "version": 3
   },
   "file_extension": ".py",
   "mimetype": "text/x-python",
   "name": "python",
   "nbconvert_exporter": "python",
   "pygments_lexer": "ipython3",
   "version": "3.4.5"
  }
 },
 "nbformat": 4,
 "nbformat_minor": 2
}
