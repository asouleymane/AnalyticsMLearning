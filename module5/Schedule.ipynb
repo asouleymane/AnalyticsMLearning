{
 "cells": [
  {
   "cell_type": "markdown",
   "metadata": {},
   "source": [
    "# 5 \n",
    "# Neural Networks and Deep Learning"
   ]
  },
  {
   "cell_type": "markdown",
   "metadata": {},
   "source": [
    "## Module Topics\n",
    " * Perceptron / Neuron\n",
    " * Neural Networks\n",
    " * Feed Forward\n",
    " * Back Propagation\n",
    "   - Gradient descent\n",
    " * Deep Learning"
   ]
  },
  {
   "cell_type": "markdown",
   "metadata": {},
   "source": [
    "## Review\n",
    "\n",
    "  * Multiple Regression\n",
    "  * Logistic Regression\n",
    "\n",
    "\n",
    "## Readings\n",
    "\n",
    " * https://en.wikipedia.org/wiki/Perceptron\n",
    " * http://www.explainthatstuff.com/introduction-to-neural-networks.html\n",
    " * https://medium.com/technologymadeeasy/for-dummies-the-introduction-to-neural-networks-we-all-need-c50f6012d5eb\n",
    " * https://ujjwalkarn.me/2016/08/09/quick-intro-neural-networks/\n",
    "\n",
    " "
   ]
  },
  {
   "cell_type": "markdown",
   "metadata": {},
   "source": [
    "## Labs\n",
    "\n",
    "\n",
    "  * [MultilayerPerceptron](./labs/MultilayerPerceptron.ipynb)\n",
    "  * [MNIST](./labs/MNIST.ipynb)\n"
   ]
  },
  {
   "cell_type": "markdown",
   "metadata": {},
   "source": [
    "## Practices\n",
    "\n",
    "  * [Multilayer Perceptron](./practices/MultilayerPerceptron.ipynb)\n",
    "  \n",
    "  * **Transfer Learning**\n",
    "    * [Pre-Practice Reading: Transfer Learning](https://blog.acolyer.org/2017/02/27/understanding-generalisation-and-transfer-learning-in-deep-neural-networks/)\n",
    "    * [Pre-Practice Reading: VGG Network](http://www.robots.ox.ac.uk/~vgg/research/very_deep/)\n",
    "    * [Transfer Learning](./practices/TransferLearning.ipynb)\n",
    " "
   ]
  },
  {
   "cell_type": "markdown",
   "metadata": {},
   "source": [
    "## Exercises\n",
    "\n",
    "  * **Transfer Learning**\n",
    "    * [Transfer Learning](./exercises/TransferLearning.ipynb)\n",
    "  \n"
   ]
  },
  {
   "cell_type": "markdown",
   "metadata": {},
   "source": [
    "## Submitting your work\n",
    "\n",
    "#### Steps:\n",
    "  1. Open Terminal in JupyterHub\n",
    "  1. Change into the course folder\n",
    "  1. Stage (Git Add) the module's practive and exercise work   \n",
    "  `git  add   module5/practices    module5/exercises`\n",
    "  1. Create your work snapshot (Git Commit)  \n",
    "  `git   commit   -m   \"Module 5 submission\"`\n",
    "  1. Upload the snapshot to the server (Git Push)  \n",
    "  `git   push`\n"
   ]
  },
  {
   "cell_type": "markdown",
   "metadata": {},
   "source": [
    "## Additional, Deeper Dive Material\n",
    "  * http://www.asimovinstitute.org/neural-network-zoo/\n",
    "  * http://ataspinar.com/2017/08/15/building-convolutional-neural-networks-with-tensorflow/\n",
    "\n",
    "## Congratulations, you have completed the learning activities for this module!"
   ]
  }
 ],
 "metadata": {
  "kernelspec": {
   "display_name": "Python 3",
   "language": "python",
   "name": "python3"
  },
  "language_info": {
   "codemirror_mode": {
    "name": "ipython",
    "version": 3
   },
   "file_extension": ".py",
   "mimetype": "text/x-python",
   "name": "python",
   "nbconvert_exporter": "python",
   "pygments_lexer": "ipython3",
   "version": "3.4.5"
  }
 },
 "nbformat": 4,
 "nbformat_minor": 2
}
