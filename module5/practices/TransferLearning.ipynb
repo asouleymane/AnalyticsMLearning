{
 "cells": [
  {
   "cell_type": "markdown",
   "metadata": {},
   "source": [
    "# Module 5: Transfer learning - Practice\n",
    "\n",
    "In this session, you will create a **deep convolutional neural network** (DCNN)\n",
    "to distinguish **dogs vs cats** images.\n",
    "You will be able to train a very accurate model based on a dataset containing 20k+ images using\n",
    "a deep learning technique called transfer learning, which is typically done because of:\n",
    "\n",
    "1. Difficulties in data acuisition or limited amount of data\n",
    "2. Prohibitively long training duration of a highly complex model\n",
    "\n",
    "The Transfer Learning technique is to reuse an existing DCNN as **feature extraction**\n",
    "along with its trained weights for solving a problem in a slightly different domain.\n",
    "Deep convolutional networks exploit the hierarchical distributed feature representations where,\n",
    "lower levels of layers contain more generic features (e.g. edges or blobs) that should be useful to many tasks,\n",
    "while higher levels of layers extracts information relevant to some particular application of the network.\n",
    "\n",
    "Read more in this very popular article: [Building powerful image classification models using very little data](https://blog.keras.io/building-powerful-image-classification-models-using-very-little-data.html).\n",
    "\n",
    "In this session we will keep using **Keras** to create a deep convolutional network from high level.\n",
    "\n",
    "Keras documentation click [here](https://keras.io/layers/core/)."
   ]
  },
  {
   "cell_type": "code",
   "execution_count": null,
   "metadata": {
    "collapsed": true
   },
   "outputs": [],
   "source": [
    "%matplotlib inline\n",
    "import matplotlib.pyplot as plt\n",
    "\n",
    "import os, sys\n",
    "import itertools, functools\n",
    "import numpy as np\n",
    "import pandas as pd\n",
    "import tensorflow as tf\n",
    "from keras import backend as K\n",
    "\n",
    "import tf_threads\n",
    "tfconfig = tf_threads.limit(tf, 2)\n",
    "session = tf.Session(config=tfconfig)\n",
    "K.set_session(session)\n",
    "\n",
    "import h5py\n",
    "from skimage.io import imread, imshow\n",
    "from skimage.transform import resize\n",
    "from keras.models import Model\n",
    "from keras.layers import Input\n",
    "from keras.layers.core import Dense, Dropout, Reshape, Flatten\n",
    "from keras.layers.convolutional import Conv2D, MaxPooling2D\n",
    "from keras.optimizers import Adam, SGD\n",
    "from keras.preprocessing.image import ImageDataGenerator\n",
    "from keras.applications.vgg16 import VGG16"
   ]
  },
  {
   "cell_type": "markdown",
   "metadata": {},
   "source": [
    "# Load dataset\n",
    "\n",
    "Here's directory structure for this dataset:\n",
    "~~~\n",
    "DogsCats/\n",
    "    train/\n",
    "        cat.001.jpg\n",
    "        cat.002.jpg\n",
    "        dog.001.jpg\n",
    "        dog.002.jpg\n",
    "~~~\n",
    "\n",
    "Run this cell to show a cat image!"
   ]
  },
  {
   "cell_type": "code",
   "execution_count": null,
   "metadata": {
    "collapsed": true
   },
   "outputs": [],
   "source": [
    "DATASET = lambda fname = '': os.path.join('/dsa/data/all_datasets/transfer_learning/DogsCats', fname)\n",
    "assert os.path.exists(DATASET())\n",
    "\n",
    "plt.figure()\n",
    "\n",
    "# Study This Statement:\n",
    "print(\"Showing the train/cat.100.jpg, full path : {}\".format(\n",
    "            DATASET('train/cat.100.jpg')\n",
    "        )\n",
    "     )\n",
    "\n",
    "imshow(imread(DATASET('train/cat.100.jpg')))"
   ]
  },
  {
   "cell_type": "code",
   "execution_count": null,
   "metadata": {
    "collapsed": true
   },
   "outputs": [],
   "source": [
    "help(imshow)"
   ]
  },
  {
   "cell_type": "markdown",
   "metadata": {},
   "source": [
    "### Show another image of a dog, say '`dog.200.jpg`' from the training folder."
   ]
  },
  {
   "cell_type": "code",
   "execution_count": null,
   "metadata": {
    "collapsed": true
   },
   "outputs": [],
   "source": [
    "# Add code below this comment  (Question #P5101)\n",
    "# ----------------------------------\n",
    "\n",
    "\n",
    "\n",
    "\n",
    "\n",
    "\n",
    "\n"
   ]
  },
  {
   "cell_type": "markdown",
   "metadata": {},
   "source": [
    "# Create a DCNN model based on VGG16\n",
    "\n",
    "In the following cell, you will create a computational graph.\n",
    "This time we will transfer [VGG Networks](http://www.robots.ox.ac.uk/~vgg/research/very_deep/),\n",
    "[or academic paper: VGG16](https://arxiv.org/abs/1409.1556) network along with its\n",
    "weights instead of creating the neural network from scratch.\n",
    "But we will detach dense layers from VGG16 network and add our own.\n",
    "During training, all the weights within VGG16 will stay locked, so we'll be using \n",
    "whatever features VGG16 gives us.\n",
    "Only weights in the dense layers will be trained, and this part serves as a classifier.\n",
    "\n",
    "**Tip**: _If you want some hints and review, please go back to the [MNIST lab](../labs/MNIST.ipynb)._\n",
    "\n",
    "Steps:\n",
    "\n",
    "1. Specify input shape (150, 150, 3)\n",
    "2. Lock weights in VGG16 by setting each\n",
    "```\n",
    "layer.trainable = False\n",
    "```\n",
    "3. Complete dense layers\n",
    "  * the 1st one will have **256** units of neuron with **relu** activation.\n",
    "  * the 2nd one will have **1** unit of neuron with **sigmoid** activation."
   ]
  },
  {
   "cell_type": "code",
   "execution_count": null,
   "metadata": {
    "collapsed": true
   },
   "outputs": [],
   "source": [
    "# Complete code below this comment  (Question #P5102)\n",
    "# ----------------------------------\n",
    "images = Input(shape = <placeholder>)\n",
    "\n",
    "vgg16 = VGG16(weights='imagenet', include_top=False)\n",
    "\n",
    "# Lock the VGG16 Layers\n",
    "for layer in vgg16.layers:\n",
    "    <placeholder>   # Look above\n",
    "\n",
    "classifier = [\n",
    "    Flatten(input_shape = vgg16.output_shape[1:]),\n",
    "    \n",
    "    # Size, and Neuron Type\n",
    "    Dense(<placeholder>, activation=<placeholder>, name = 'dense_1'),\n",
    "    Dropout(0.5),\n",
    "\n",
    "    # Size, and Neuron Type\n",
    "    Dense(<placeholder>, activation=<placeholder>, name = 'dense_2'),\n",
    "]\n",
    "\n",
    "y_pred = functools.reduce(lambda f1, f2: f2(f1), [images, vgg16]+classifier)\n",
    "\n",
    "model = Model(inputs = [images], outputs = [y_pred])"
   ]
  },
  {
   "cell_type": "markdown",
   "metadata": {},
   "source": [
    "#### Compile this DCNN model.\n",
    "\n",
    "* **'binary_crossentropy'** as loss function\n",
    "* SGD optimizer with\n",
    "  * **learning rate (lr)  = $1 \\times 10^{-4}$ ** and\n",
    "  * **momentum = 0.9**.\n",
    "* For `metrics` use only :\n",
    "```\n",
    "['accuracy']\n",
    "```"
   ]
  },
  {
   "cell_type": "code",
   "execution_count": null,
   "metadata": {
    "collapsed": true
   },
   "outputs": [],
   "source": [
    "# Complete code below this comment  (Question #P5103)\n",
    "# ----------------------------------\n",
    "model.compile(loss=<placeholder>,\n",
    "    optimizer=SGD(lr=<placeholder>, momentum=<placeholder>),\n",
    "    metrics=<placeholder>)"
   ]
  },
  {
   "cell_type": "markdown",
   "metadata": {},
   "source": [
    "Print a model summary. \n",
    "Notice that number of trainable params should be different from total params, \n",
    "which indicates that you have locked VGG16 successfully."
   ]
  },
  {
   "cell_type": "code",
   "execution_count": null,
   "metadata": {
    "collapsed": true
   },
   "outputs": [],
   "source": [
    "# Add code below this comment  (Question #P5104)\n",
    "# ----------------------------------\n",
    "\n",
    "\n",
    "\n",
    "\n"
   ]
  },
  {
   "cell_type": "markdown",
   "metadata": {},
   "source": [
    "# Training a DCNN model using transfer learning\n",
    "\n",
    "Now we are going to create generators that generate batches for us.\n",
    "\n",
    "* set batch size = **20**\n",
    "* set image resolution to **(150,150)** (this is what target_size is referring to)\n",
    "* set class mode as **'binary'** because there are only two classes: dog and cat"
   ]
  },
  {
   "cell_type": "code",
   "execution_count": null,
   "metadata": {
    "collapsed": true
   },
   "outputs": [],
   "source": [
    "# Complete code below this comment  (Question #P5105)\n",
    "# ----------------------------------\n",
    "BATCH_SIZE = <placeholder>\n",
    "\n",
    "# Data augmentation\n",
    "train_datagen = ImageDataGenerator(\n",
    "    rescale = 1. / 255,\n",
    "    shear_range = 0.2,\n",
    "    zoom_range = 0.2,\n",
    "    horizontal_flip = True)\n",
    "\n",
    "test_datagen = ImageDataGenerator(rescale = 1. / 255)"
   ]
  },
  {
   "cell_type": "code",
   "execution_count": null,
   "metadata": {
    "collapsed": true
   },
   "outputs": [],
   "source": [
    "# Complete code below this comment  (Question #P5106)\n",
    "# ----------------------------------\n",
    "train_generator = train_datagen.flow_from_directory(\n",
    "    DATASET('TransferLearning/train'),\n",
    "    target_size=<placeholder>,\n",
    "    batch_size=BATCH_SIZE,\n",
    "    class_mode=<placeholder>)\n",
    "\n",
    "validation_generator = test_datagen.flow_from_directory(\n",
    "    DATASET('TransferLearning/validation'),\n",
    "    target_size=<placeholder>,\n",
    "    batch_size=BATCH_SIZE,\n",
    "    class_mode=<placeholder>)"
   ]
  },
  {
   "cell_type": "markdown",
   "metadata": {},
   "source": [
    "#### Fit this DCNN.\n",
    "\n",
    "<span style=\"background:yellow\">**NOTE:** This will take a **couple hours** for 1 epochs, depending on system load.</span>\n",
    "\n",
    "You should let it run a bit, then move on with loading the weights we have trained for you.\n",
    "\n",
    "You can interupt with `Kernel > Interrupt`"
   ]
  },
  {
   "cell_type": "code",
   "execution_count": null,
   "metadata": {
    "collapsed": true
   },
   "outputs": [],
   "source": [
    "try:\n",
    "    model.fit_generator(\n",
    "        train_generator, steps_per_epoch = 12500 // BATCH_SIZE,\n",
    "        validation_data=validation_generator, validation_steps=800 // BATCH_SIZE,\n",
    "        epochs=1) # Normally a few more epochs will be expected.\n",
    "except KeyboardInterrupt:\n",
    "    \"\"\"Select from top menu Kernel->Interrupt to quit training and\n",
    "    leave model parameters (or weights) as they are.\"\"\""
   ]
  },
  {
   "cell_type": "markdown",
   "metadata": {},
   "source": [
    "If you let this run through a few epochs, you will see lines such as this:\n",
    "\n",
    "```\n",
    "Epoch 1/5\n",
    "625/625 [==============================] - 6335s - loss: 0.5368 - acc: 0.7282 - val_loss: 0.3688 - val_acc: 0.8675\n",
    "Epoch 2/5\n",
    "625/625 [==============================] - 6429s - loss: 0.4119 - acc: 0.8121 - val_loss: 0.2991 - val_acc: 0.8875\n",
    "```\n",
    "\n",
    "### Saving the learned model\n",
    "\n",
    "If you let\n",
    "Here how to save this model. \n",
    "This requires that `h5py` has been installed. "
   ]
  },
  {
   "cell_type": "code",
   "execution_count": null,
   "metadata": {
    "collapsed": true
   },
   "outputs": [],
   "source": [
    "model.save_weights('./weights_dogs_cats.h5')\n",
    "os.path.exists('./weights_dogs_cats.h5')"
   ]
  },
  {
   "cell_type": "markdown",
   "metadata": {},
   "source": [
    "# Evaluation\n",
    "\n",
    "Now that we've gone through the creation of a model, \n",
    "we could define a class that allows us to reuse this model more easily.\n",
    "\n",
    "Repeat exactly what we did before to **complete this DogsVsCats classs**."
   ]
  },
  {
   "cell_type": "code",
   "execution_count": null,
   "metadata": {
    "collapsed": true
   },
   "outputs": [],
   "source": [
    "# Complete code below this comment  (Question #P5107)\n",
    "# ----------------------------------\n",
    "class DogsVsCats(Model):\n",
    "    def __init__(self):\n",
    "        self.images = Input(<placeholder>)\n",
    "        self.vgg16 = VGG16(<placeholder>)\n",
    "        \n",
    "        classifier = <placeholder>\n",
    "\n",
    "        self.prediction = functools.reduce(lambda f1, f2: f2(f1), [self.images, self.vgg16]+classifier)\n",
    "        \n",
    "        super(DogsVsCats, self).__init__(\n",
    "            inputs = [self.images],\n",
    "            outputs = [self.prediction]\n",
    "        )\n",
    "        \n",
    "        self.compile(<placeholder>)\n",
    "        \n",
    "    def freeze_vgg16(trainable = False):\n",
    "        for layer in self.vgg16.layers:\n",
    "            layer.trainable = trainable"
   ]
  },
  {
   "cell_type": "markdown",
   "metadata": {},
   "source": [
    "Create a new model and load in these weights we just saved.\n",
    "\n",
    "load_weights() will only need **a file path** as an argument."
   ]
  },
  {
   "cell_type": "code",
   "execution_count": null,
   "metadata": {
    "collapsed": true
   },
   "outputs": [],
   "source": [
    "# Complete code below this comment  (Question #P5108)\n",
    "# ----------------------------------\n",
    "new_model = DogsVsCats()\n",
    "new_model.load_weights(<placeholder>)"
   ]
  },
  {
   "cell_type": "markdown",
   "metadata": {},
   "source": [
    "Evaluate this model. Use **validation_generator** to provide data."
   ]
  },
  {
   "cell_type": "code",
   "execution_count": null,
   "metadata": {
    "collapsed": true
   },
   "outputs": [],
   "source": [
    "# Complete code below this comment  (Question #P5109)\n",
    "# ----------------------------------\n",
    "loss, accuracy = new_model.evaluate_generator(<placeholder>, steps = 800 // BATCH_SIZE)\n",
    "print('loss:', loss, 'accuracy:', accuracy)"
   ]
  },
  {
   "cell_type": "markdown",
   "metadata": {},
   "source": [
    "Here's how you can make a prediction for one image using this model."
   ]
  },
  {
   "cell_type": "code",
   "execution_count": null,
   "metadata": {
    "collapsed": true
   },
   "outputs": [],
   "source": [
    "im_test = imread(DATASET('test1/5.jpg'))\n",
    "imshow(im_test)\n",
    "im_test = resize(im_test, (150, 150), mode = 'reflect')\n",
    "y_pred = new_model.predict(np.expand_dims(im_test, 0)).squeeze()\n",
    "print(['Cat', 'Dog'][y_pred>=0.5])"
   ]
  },
  {
   "cell_type": "markdown",
   "metadata": {},
   "source": [
    "## Create another model with DogsVsCats()\n",
    "... and load in some weights that we have trained for you over 50 epochs at  \n",
    "\"`/dsa/data/all_datasets/transfer_learning/DogsCats/weights_dogs_cats.h5\"`\n",
    "\n",
    "Name the new model <span style=\"background: yellow;\">\"pretrained_model\"</span>."
   ]
  },
  {
   "cell_type": "code",
   "execution_count": null,
   "metadata": {
    "collapsed": true
   },
   "outputs": [],
   "source": [
    "assert os.path.exists('/dsa/data/all_datasets/transfer_learning/DogsCats/weights_dogs_cats.h5')\n",
    "\n",
    "# Add code below this comment  (Question #P5110)\n",
    "# ----------------------------------\n",
    "\n",
    "\n",
    "\n"
   ]
  },
  {
   "cell_type": "markdown",
   "metadata": {},
   "source": [
    "#### Evaluate accuracy of this model."
   ]
  },
  {
   "cell_type": "code",
   "execution_count": null,
   "metadata": {
    "collapsed": true
   },
   "outputs": [],
   "source": [
    "# Add code below this comment  (Question #P5111)\n",
    "# ----------------------------------\n",
    "\n",
    "\n",
    "\n",
    "\n",
    "\n"
   ]
  },
  {
   "cell_type": "markdown",
   "metadata": {},
   "source": [
    "#### [Optional] Make a prediction of any other single image like we did before."
   ]
  },
  {
   "cell_type": "code",
   "execution_count": null,
   "metadata": {
    "collapsed": true
   },
   "outputs": [],
   "source": [
    "# Try whatever you want below this comment  (Question #P5112)\n",
    "# ----------------------------------\n",
    "\n",
    "\n",
    "\n",
    "\n"
   ]
  },
  {
   "cell_type": "markdown",
   "metadata": {},
   "source": [
    "# Save your notebook!"
   ]
  }
 ],
 "metadata": {
  "kernelspec": {
   "display_name": "Python 3",
   "language": "python",
   "name": "python3"
  },
  "language_info": {
   "codemirror_mode": {
    "name": "ipython",
    "version": 3
   },
   "file_extension": ".py",
   "mimetype": "text/x-python",
   "name": "python",
   "nbconvert_exporter": "python",
   "pygments_lexer": "ipython3",
   "version": "3.4.5"
  }
 },
 "nbformat": 4,
 "nbformat_minor": 2
}
