{
 "cells": [
  {
   "cell_type": "markdown",
   "metadata": {},
   "source": [
    "# 4 \n",
    "# Unsupervised ML"
   ]
  },
  {
   "cell_type": "markdown",
   "metadata": {},
   "source": [
    "## Module Topics\n",
    "### Machine Learning Overview\n",
    "  * Clustering\n",
    "  * Analomoly Detection\n",
    "  * Latent Variable Models\n",
    "  * Expectation Maximization\n"
   ]
  },
  {
   "cell_type": "markdown",
   "metadata": {},
   "source": [
    "## Review\n",
    "\n",
    "Please review your previous course material from 8610, Statistical and Mathematical Foundations for Data Analytics.\n",
    "Specifically, module 7:\n",
    " * Hierarchical Clustering\n",
    " * K-means Clustering\n",
    "   - [K-means and Hierarchical Clustering](http://research.cs.tamu.edu/prism/lectures/pr/pr_l15.pdf)\n",
    " * DBSCAN Clustering\n",
    "   - [DBScan 1](https://en.wikibooks.org/wiki/Data_Mining_Algorithms_In_R/Clustering/Density-Based_Clustering)\n",
    "   - [DBScan 2](http://www.sthda.com/english/wiki/dbscan-density-based-clustering-for-discovering-clusters-in-large-datasets-with-noise-unsupervised-machine-learning)\n",
    "\n",
    "\n",
    "## Readings\n",
    "\n",
    "\n",
    "<ul>\n",
    "<li>Clustering\n",
    "<ul>\n",
    "<li><a href=\"http://frnsys.com/ai_notes/machine_learning/unsupervised_learning.html\">http://frnsys.com/ai_notes/machine_learning/unsupervised_learning.html</a></li>\n",
    "<li><a href=\"https://en.wikipedia.org/wiki/Cluster_analysis\">https://en.wikipedia.org/wiki/Cluster_analysis</a></li>\n",
    "</ul>\n",
    "</li>\n",
    "<li><a href=\"https://www.datascience.com/blog/intro-to-anomaly-detection-learn-data-science-tutorials\">Anomaly Detection</a></li>\n",
    "</ul>\n",
    "<p>Previously you have learned about latent factor analysis (or Factor Analysis). This is just one form of <em>latent variable model</em>. Now we are going to briefly explore additional further latent factor models, specifically in regards to <em>mixture models</em>.</p>\n",
    "<ul>\n",
    "<li><a href=\"https://en.wikipedia.org/wiki/Factor_analysis\">Factor Analysis</a>:&nbsp; Continuous Observed Variables from Continuous Latents\n",
    "<ul>\n",
    "<li><a title=\"M4 : Review of Factor Analysis\" href=\"https://missouri.instructure.com/courses/9052/pages/m4-review-of-factor-analysis\" data-api-endpoint=\"https://missouri.instructure.com/api/v1/courses/9052/pages/m4-review-of-factor-analysis\" data-api-returntype=\"Page\">M4 : Review of Factor Analysis (from 8610, Module 2)</a></li>\n",
    "</ul>\n",
    "</li>\n",
    "<li><a href=\"https://en.wikipedia.org/wiki/Mixture_model\">Mixture Model (Latent Profile Analysis)</a>: Continuous Observed Variables from Categorical Latents</li>\n",
    "</ul>\n",
    "<p>As you read through the Mixture Models, contemplate the conceptual similarities to cluster analysis.</p>\n",
    "  \n",
    "  \n",
    "\n",
    " "
   ]
  },
  {
   "cell_type": "markdown",
   "metadata": {},
   "source": [
    "## Labs\n",
    "\n",
    "The goal of this module is to refresh your understanding of clustering (unsupervised machine learning) and explore the application for _Anomaly Detection_.\n",
    "\n",
    "  * [Anomaly Detection](./labs/AnomalyDetection.ipynb)\n"
   ]
  },
  {
   "cell_type": "markdown",
   "metadata": {},
   "source": [
    "## Practices\n",
    "\n",
    "  * [Review Agglomerative, K-Means, and DBSCAN](./practices/ScikitLearnClustering.ipynb)\n",
    "  * [Anomaly Detection](./practices/AnomalyDetection.ipynb)\n"
   ]
  },
  {
   "cell_type": "markdown",
   "metadata": {},
   "source": [
    "## Exercises\n",
    "\n",
    "  * [Anomaly Detection](./exercises/AnomalyDetection.ipynb)\n"
   ]
  },
  {
   "cell_type": "markdown",
   "metadata": {},
   "source": [
    "## Submitting your work\n",
    "\n",
    "#### Steps:\n",
    "  1. Open Terminal in JupyterHub\n",
    "  1. Change into the course folder\n",
    "  1. Stage (Git Add) the module's practive and exercise work   \n",
    "  `git  add   module4/practices    module4/exercises`\n",
    "  1. Create your work snapshot (Git Commit)  \n",
    "  `git   commit   -m   \"Module 4 submission\"`\n",
    "  1. Upload the snapshot to the server (Git Push)  \n",
    "  `git   push`\n"
   ]
  },
  {
   "cell_type": "markdown",
   "metadata": {},
   "source": [
    "## Congratulations, you have completed the learning activities for this module!"
   ]
  }
 ],
 "metadata": {
  "kernelspec": {
   "display_name": "Python 3",
   "language": "python",
   "name": "python3"
  },
  "language_info": {
   "codemirror_mode": {
    "name": "ipython",
    "version": 3
   },
   "file_extension": ".py",
   "mimetype": "text/x-python",
   "name": "python",
   "nbconvert_exporter": "python",
   "pygments_lexer": "ipython3",
   "version": "3.4.5"
  }
 },
 "nbformat": 4,
 "nbformat_minor": 2
}
