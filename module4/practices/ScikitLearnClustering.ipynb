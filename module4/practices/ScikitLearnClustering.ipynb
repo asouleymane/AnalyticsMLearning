{
 "cells": [
  {
   "cell_type": "markdown",
   "metadata": {},
   "source": [
    "# Review of Clustering\n",
    "\n",
    "This lab is a brief review of clustering you have seen previously.\n",
    "These examples are in Python using Scikit Learn instead of R language used in 8610."
   ]
  },
  {
   "cell_type": "markdown",
   "metadata": {},
   "source": [
    "## Hierarchical (Linkages)\n",
    "\n",
    "This is an example using the agglomerative hierarchical clustering algorithm on the IRIS dataset."
   ]
  },
  {
   "cell_type": "code",
   "execution_count": 1,
   "metadata": {},
   "outputs": [
    {
     "name": "stdout",
     "output_type": "stream",
     "text": [
      "[1 1 1 1 1 1 1 1 1 1 1 1 1 1 1 1 1 1 1 1 1 1 1 1 1 1 1 1 1 1 1 1 1 1 1 1 1\n",
      " 1 1 1 1 1 1 1 1 1 1 1 1 1 0 0 0 0 0 0 0 0 0 0 0 0 0 0 0 0 0 0 0 0 0 0 0 0\n",
      " 0 0 0 2 0 0 0 0 0 0 0 0 0 0 0 0 0 0 0 0 0 0 0 0 0 0 2 0 2 2 2 2 0 2 2 2 2\n",
      " 2 2 0 0 2 2 2 2 0 2 0 2 0 2 2 0 0 2 2 2 2 2 0 0 2 2 2 0 2 2 2 0 2 2 2 0 2\n",
      " 2 0]\n"
     ]
    }
   ],
   "source": [
    "from sklearn import datasets\n",
    "from sklearn import cluster\n",
    "\n",
    "iris = datasets.load_iris()\n",
    "X_iris = iris.data\n",
    "\n",
    "K = 3   # we are cheating and know this to be the number of \"clusters\"\n",
    "\n",
    "agglo = cluster.FeatureAgglomeration(affinity='euclidean',\n",
    "                                     n_clusters=K)\n",
    "\n",
    "# Notice we need to transpose the data going into agglomeration\n",
    "# Please read through scikit learn for more details.\n",
    "agglo.fit(X_iris.transpose()) \n",
    "\n",
    "# Extract the label\n",
    "labels = agglo.labels_\n",
    "\n",
    "print(labels)"
   ]
  },
  {
   "cell_type": "code",
   "execution_count": 3,
   "metadata": {},
   "outputs": [],
   "source": [
    "#help(cluster.FeatureAgglomeration)"
   ]
  },
  {
   "cell_type": "code",
   "execution_count": 4,
   "metadata": {},
   "outputs": [
    {
     "data": {
      "image/png": "[encoded data removed]",
      "text/plain": [
       "<matplotlib.figure.Figure at 0x7fa89c71fdd8>"
      ]
     },
     "metadata": {},
     "output_type": "display_data"
    }
   ],
   "source": [
    "from matplotlib import pyplot\n",
    "import numpy as np\n",
    "\n",
    "# Define a color label mapping that accommodates up to 7 labels\n",
    "colors='rgbykcm'\n",
    "\n",
    "# create the per-datum color mapping\n",
    "color_map = [colors[i] for i in labels]\n",
    "                    # for every label (i) use it as an index into the string colors,\n",
    "                    # which is the list [r,g,b,y,k,c,m]\n",
    "\n",
    "pyplot.scatter(X_iris[:,2], X_iris[:,3], c=color_map)\n",
    "pyplot.xlabel(\"x\")\n",
    "pyplot.ylabel(\"y\")\n",
    "pyplot.show()\n"
   ]
  },
  {
   "cell_type": "markdown",
   "metadata": {},
   "source": [
    "---\n",
    "\n",
    "## K-means (Centroids)\n",
    "\n",
    "This is an example using the K-Means clustering algorithm on the IRIS dataset."
   ]
  },
  {
   "cell_type": "code",
   "execution_count": 5,
   "metadata": {},
   "outputs": [
    {
     "name": "stdout",
     "output_type": "stream",
     "text": [
      "[1 1 1 1 1 1 1 1 1 1 1 1 1 1 1 1 1 1 1 1 1 1 1 1 1 1 1 1 1 1 1 1 1 1 1 1 1\n",
      " 1 1 1 1 1 1 1 1 1 1 1 1 1 2 2 0 2 2 2 2 2 2 2 2 2 2 2 2 2 2 2 2 2 2 2 2 2\n",
      " 2 2 2 0 2 2 2 2 2 2 2 2 2 2 2 2 2 2 2 2 2 2 2 2 2 2 0 2 0 0 0 0 2 0 0 0 0\n",
      " 0 0 2 2 0 0 0 0 2 0 2 0 2 0 0 2 2 0 0 0 0 0 2 0 0 0 0 2 0 0 0 2 0 0 0 2 0\n",
      " 0 2]\n",
      "[[ 6.85        3.07368421  5.74210526  2.07105263]\n",
      " [ 5.006       3.418       1.464       0.244     ]\n",
      " [ 5.9016129   2.7483871   4.39354839  1.43387097]]\n"
     ]
    }
   ],
   "source": [
    "from sklearn import datasets\n",
    "from sklearn import cluster\n",
    "\n",
    "iris = datasets.load_iris()\n",
    "X_iris = iris.data\n",
    "\n",
    "# Run Clustering\n",
    "K = 3   # we are cheating and know this to be the number of \"clusters\"\n",
    "\n",
    "k_means = cluster.KMeans(n_clusters=K)\n",
    "k_means.fit(X_iris) \n",
    "\n",
    "# Extract the label vector and centroids\n",
    "labels = k_means.labels_\n",
    "centroids = k_means.cluster_centers_\n",
    "\n",
    "print(labels)\n",
    "\n",
    "print(centroids)"
   ]
  },
  {
   "cell_type": "code",
   "execution_count": null,
   "metadata": {
    "collapsed": true
   },
   "outputs": [],
   "source": [
    "help(cluster.KMeans)"
   ]
  },
  {
   "cell_type": "code",
   "execution_count": null,
   "metadata": {
    "collapsed": true
   },
   "outputs": [],
   "source": [
    "from matplotlib import pyplot\n",
    "import numpy as np\n",
    "\n",
    "for i in range(K):\n",
    "    # select only data observations with cluster label == i\n",
    "    ds = X_iris[np.where(labels==i)]\n",
    "    # plot the data observations\n",
    "    pyplot.plot(ds[:,2],ds[:,1],'o')\n",
    "    # plot the centroids\n",
    "    lines = pyplot.plot(centroids[i,2],centroids[i,1],'kx')\n",
    "    # make the centroid x's bigger\n",
    "    pyplot.setp(lines,ms=15.0)\n",
    "    pyplot.setp(lines,mew=2.0)\n",
    "pyplot.show()"
   ]
  },
  {
   "cell_type": "markdown",
   "metadata": {},
   "source": [
    "#### Your Turn\n",
    "\n",
    "Copy the code cell above that plots the data. \n",
    "Change the indices that are being used to plot the data, e.g., the lines \n",
    "\n",
    "```\n",
    "pyplot.plot(ds[:,2],ds[:,1],'o')\n",
    "...\n",
    "\n",
    "lines = pyplot.plot(centroids[i,2],centroids[i,1],'kx')\n",
    "```\n",
    "\n",
    "Note that the ,2 and ,1 are respectively selecting the dimensions from the set (0,1,2,3) to use for 2-D rendering."
   ]
  },
  {
   "cell_type": "code",
   "execution_count": null,
   "metadata": {
    "collapsed": true
   },
   "outputs": [],
   "source": [
    "# Add your code below this line: (Question #P4101)\n",
    "# ------------------------------\n",
    "\n",
    "\n",
    "\n",
    "\n",
    "\n",
    "\n",
    "\n",
    "\n",
    "\n",
    "\n",
    "\n",
    "\n"
   ]
  },
  {
   "cell_type": "markdown",
   "metadata": {},
   "source": [
    "---\n",
    "## DBSCAN (Density-based)\n",
    "\n",
    "This is an example using the DBSCAN clustering algorithm on the IRIS dataset."
   ]
  },
  {
   "cell_type": "code",
   "execution_count": null,
   "metadata": {
    "collapsed": true
   },
   "outputs": [],
   "source": [
    "from sklearn import datasets\n",
    "from sklearn import cluster\n",
    "\n",
    "iris = datasets.load_iris()\n",
    "X_iris = iris.data\n",
    "\n",
    "# Run Clustering\n",
    "# K = 3   # we cannot cheat with the known number of \"clusters\"\n",
    "\n",
    "# Recall the parameters are density based\n",
    "p_eps=1    # Radius\n",
    "p_min_samples=10  # Strength of local neighborhood\n",
    "\n",
    "dbs = cluster.DBSCAN(eps=p_eps, min_samples=p_min_samples)\n",
    "dbs.fit(X_iris) \n",
    "\n",
    "# Extract the label vector\n",
    "labels = dbs.labels_\n",
    "\n",
    "print(labels)"
   ]
  },
  {
   "cell_type": "code",
   "execution_count": null,
   "metadata": {
    "collapsed": true
   },
   "outputs": [],
   "source": [
    "from matplotlib import pyplot\n",
    "import numpy as np\n",
    "\n",
    "# Define a color label mapping that accommodates up to 7 labels\n",
    "colors='rgbykcm'\n",
    "\n",
    "# create the per-datum color mapping\n",
    "color_map = [colors[i] for i in labels]\n",
    "                    # for every label (i) use it as an index into the string colors,\n",
    "                    # which is the list [r,g,b,y,k,c,m]\n",
    "\n",
    "pyplot.scatter(X_iris[:,2], X_iris[:,3], c=color_map)\n",
    "pyplot.xlabel(\"x\")\n",
    "pyplot.ylabel(\"y\")\n",
    "pyplot.show()"
   ]
  },
  {
   "cell_type": "markdown",
   "metadata": {},
   "source": [
    "#### <span style=\"background:yellow\">What are we seeing from DBSCAN?</span>\n",
    "\n",
    "In the space below answer the following questions:\n",
    " 1. How many clusters did you get from DBSCAN and is this what you expected?\n",
    " 1. Would you suggest we change the parameters to DBSCAN to attempt to get three clusters? Why or why not, and if \"yes\" ... How would you suggest to change the parameters"
   ]
  },
  {
   "cell_type": "raw",
   "metadata": {},
   "source": [
    "# Answer Question 1:\n",
    "# -------------------------\n",
    "\n",
    "\n",
    "\n"
   ]
  },
  {
   "cell_type": "raw",
   "metadata": {},
   "source": [
    "# Answer Question 2:\n",
    "# -------------------------\n",
    "\n",
    "\n",
    "\n"
   ]
  },
  {
   "cell_type": "markdown",
   "metadata": {},
   "source": [
    "#### <span style=\"background:yellow\">IF you answered yes to 2 above</span>, please copy and paste the code for DBSCAN and Plotting in the cells below.\n",
    "#### Then, tweak and adjust the DBSCAN parameters until you get three clusters.\n"
   ]
  },
  {
   "cell_type": "code",
   "execution_count": null,
   "metadata": {
    "collapsed": true
   },
   "outputs": [],
   "source": [
    "# DBSCAN Clustering Code (Question #P4102)\n",
    "# -------------------------\n",
    "\n",
    "\n",
    "\n",
    "\n",
    "\n",
    "\n"
   ]
  },
  {
   "cell_type": "code",
   "execution_count": null,
   "metadata": {
    "collapsed": true
   },
   "outputs": [],
   "source": [
    "# Clustering Plotting Code (Question #P4103)\n",
    "# -------------------------\n",
    "\n",
    "\n",
    "\n",
    "\n",
    "\n",
    "\n"
   ]
  },
  {
   "cell_type": "markdown",
   "metadata": {},
   "source": [
    "**NOTE:** If you decide to give up on getting three clusters from DBSCAN, revise your answer to question 2 above!\n",
    "\n",
    "---\n",
    "\n",
    "# Save your Notebook!"
   ]
  }
 ],
 "metadata": {
  "kernelspec": {
   "display_name": "Python 3",
   "language": "python",
   "name": "python3"
  },
  "language_info": {
   "codemirror_mode": {
    "name": "ipython",
    "version": 3
   },
   "file_extension": ".py",
   "mimetype": "text/x-python",
   "name": "python",
   "nbconvert_exporter": "python",
   "pygments_lexer": "ipython3",
   "version": "3.4.5"
  }
 },
 "nbformat": 4,
 "nbformat_minor": 2
}
