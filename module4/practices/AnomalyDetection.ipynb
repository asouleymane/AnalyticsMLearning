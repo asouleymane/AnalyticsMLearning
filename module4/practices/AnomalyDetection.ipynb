{
 "cells": [
  {
   "cell_type": "markdown",
   "metadata": {
    "collapsed": true
   },
   "source": [
    "# Module 4: Anomaly Detection\n",
    "## Practice: Outlier Reduction for Linear Regression\n",
    "In this session, we'll be fitting a `LinearRegression` model on the `boston` dataset included in `scikit-learn`.  \n",
    "\n",
    "Having already worked with this dataset,\n",
    "you may remember it as a simple yet broadly representative linear regression problem.\n"
   ]
  },
  {
   "cell_type": "markdown",
   "metadata": {},
   "source": [
    "## Getting started - imports"
   ]
  },
  {
   "cell_type": "code",
   "execution_count": 1,
   "metadata": {
    "collapsed": true
   },
   "outputs": [],
   "source": [
    "%matplotlib inline\n",
    "import os\n",
    "import pandas as pd\n",
    "import numpy as np\n",
    "import matplotlib.pyplot as plt\n",
    "from sklearn.datasets import load_boston\n",
    "from sklearn.linear_model import Ridge\n",
    "from sklearn.model_selection import cross_val_score, train_test_split"
   ]
  },
  {
   "cell_type": "markdown",
   "metadata": {},
   "source": [
    "## Loading dataset\n",
    "\n",
    "First order of business is to load in the dataset.  \n",
    "Run the following cell to load the boston dataset and get a description of it."
   ]
  },
  {
   "cell_type": "code",
   "execution_count": 2,
   "metadata": {},
   "outputs": [
    {
     "name": "stdout",
     "output_type": "stream",
     "text": [
      "Boston House Prices dataset\n",
      "===========================\n",
      "\n",
      "Notes\n",
      "------\n",
      "Data Set Characteristics:  \n",
      "\n",
      "    :Number of Instances: 506 \n",
      "\n",
      "    :Number of Attributes: 13 numeric/categorical predictive\n",
      "    \n",
      "    :Median Value (attribute 14) is usually the target\n",
      "\n",
      "    :Attribute Information (in order):\n",
      "        - CRIM     per capita crime rate by town\n",
      "        - ZN       proportion of residential land zoned for lots over 25,000 sq.ft.\n",
      "        - INDUS    proportion of non-retail business acres per town\n",
      "        - CHAS     Charles River dummy variable (= 1 if tract bounds river; 0 otherwise)\n",
      "        - NOX      nitric oxides concentration (parts per 10 million)\n",
      "        - RM       average number of rooms per dwelling\n",
      "        - AGE      proportion of owner-occupied units built prior to 1940\n",
      "        - DIS      weighted distances to five Boston employment centres\n",
      "        - RAD      index of accessibility to radial highways\n",
      "        - TAX      full-value property-tax rate per $10,000\n",
      "        - PTRATIO  pupil-teacher ratio by town\n",
      "        - B        1000(Bk - 0.63)^2 where Bk is the proportion of blacks by town\n",
      "        - LSTAT    % lower status of the population\n",
      "        - MEDV     Median value of owner-occupied homes in $1000's\n",
      "\n",
      "    :Missing Attribute Values: None\n",
      "\n",
      "    :Creator: Harrison, D. and Rubinfeld, D.L.\n",
      "\n",
      "This is a copy of UCI ML housing dataset.\n",
      "http://archive.ics.uci.edu/ml/datasets/Housing\n",
      "\n",
      "\n",
      "This dataset was taken from the StatLib library which is maintained at Carnegie Mellon University.\n",
      "\n",
      "The Boston house-price data of Harrison, D. and Rubinfeld, D.L. 'Hedonic\n",
      "prices and the demand for clean air', J. Environ. Economics & Management,\n",
      "vol.5, 81-102, 1978.   Used in Belsley, Kuh & Welsch, 'Regression diagnostics\n",
      "...', Wiley, 1980.   N.B. Various transformations are used in the table on\n",
      "pages 244-261 of the latter.\n",
      "\n",
      "The Boston house-price data has been used in many machine learning papers that address regression\n",
      "problems.   \n",
      "     \n",
      "**References**\n",
      "\n",
      "   - Belsley, Kuh & Welsch, 'Regression diagnostics: Identifying Influential Data and Sources of Collinearity', Wiley, 1980. 244-261.\n",
      "   - Quinlan,R. (1993). Combining Instance-Based and Model-Based Learning. In Proceedings on the Tenth International Conference of Machine Learning, 236-243, University of Massachusetts, Amherst. Morgan Kaufmann.\n",
      "   - many more! (see http://archive.ics.uci.edu/ml/datasets/Housing)\n",
      "\n"
     ]
    }
   ],
   "source": [
    "# Load boston housing dataset\n",
    "boston = load_boston()\n",
    "print(boston.DESCR)"
   ]
  },
  {
   "cell_type": "markdown",
   "metadata": {},
   "source": [
    "### Some preparatory processing."
   ]
  },
  {
   "cell_type": "code",
   "execution_count": 3,
   "metadata": {},
   "outputs": [
    {
     "data": {
      "text/html": [
       "<div>\n",
       "<style>\n",
       "    .dataframe thead tr:only-child th {\n",
       "        text-align: right;\n",
       "    }\n",
       "\n",
       "    .dataframe thead th {\n",
       "        text-align: left;\n",
       "    }\n",
       "\n",
       "    .dataframe tbody tr th {\n",
       "        vertical-align: top;\n",
       "    }\n",
       "</style>\n",
       "<table border=\"1\" class=\"dataframe\">\n",
       "  <thead>\n",
       "    <tr style=\"text-align: right;\">\n",
       "      <th></th>\n",
       "      <th>NOX</th>\n",
       "      <th>AGE</th>\n",
       "      <th>RAD</th>\n",
       "      <th>PTRATIO</th>\n",
       "      <th>LSTAT</th>\n",
       "      <th>TARGET</th>\n",
       "    </tr>\n",
       "  </thead>\n",
       "  <tbody>\n",
       "    <tr>\n",
       "      <th>count</th>\n",
       "      <td>506.000000</td>\n",
       "      <td>506.000000</td>\n",
       "      <td>506.000000</td>\n",
       "      <td>506.000000</td>\n",
       "      <td>506.000000</td>\n",
       "      <td>506.000000</td>\n",
       "    </tr>\n",
       "    <tr>\n",
       "      <th>mean</th>\n",
       "      <td>0.554695</td>\n",
       "      <td>68.574901</td>\n",
       "      <td>9.549407</td>\n",
       "      <td>18.455534</td>\n",
       "      <td>12.653063</td>\n",
       "      <td>22.532806</td>\n",
       "    </tr>\n",
       "    <tr>\n",
       "      <th>std</th>\n",
       "      <td>0.115878</td>\n",
       "      <td>28.148861</td>\n",
       "      <td>8.707259</td>\n",
       "      <td>2.164946</td>\n",
       "      <td>7.141062</td>\n",
       "      <td>9.197104</td>\n",
       "    </tr>\n",
       "    <tr>\n",
       "      <th>min</th>\n",
       "      <td>0.385000</td>\n",
       "      <td>2.900000</td>\n",
       "      <td>1.000000</td>\n",
       "      <td>12.600000</td>\n",
       "      <td>1.730000</td>\n",
       "      <td>5.000000</td>\n",
       "    </tr>\n",
       "    <tr>\n",
       "      <th>25%</th>\n",
       "      <td>0.449000</td>\n",
       "      <td>45.025000</td>\n",
       "      <td>4.000000</td>\n",
       "      <td>17.400000</td>\n",
       "      <td>6.950000</td>\n",
       "      <td>17.025000</td>\n",
       "    </tr>\n",
       "    <tr>\n",
       "      <th>50%</th>\n",
       "      <td>0.538000</td>\n",
       "      <td>77.500000</td>\n",
       "      <td>5.000000</td>\n",
       "      <td>19.050000</td>\n",
       "      <td>11.360000</td>\n",
       "      <td>21.200000</td>\n",
       "    </tr>\n",
       "    <tr>\n",
       "      <th>75%</th>\n",
       "      <td>0.624000</td>\n",
       "      <td>94.075000</td>\n",
       "      <td>24.000000</td>\n",
       "      <td>20.200000</td>\n",
       "      <td>16.955000</td>\n",
       "      <td>25.000000</td>\n",
       "    </tr>\n",
       "    <tr>\n",
       "      <th>max</th>\n",
       "      <td>0.871000</td>\n",
       "      <td>100.000000</td>\n",
       "      <td>24.000000</td>\n",
       "      <td>22.000000</td>\n",
       "      <td>37.970000</td>\n",
       "      <td>50.000000</td>\n",
       "    </tr>\n",
       "  </tbody>\n",
       "</table>\n",
       "</div>"
      ],
      "text/plain": [
       "              NOX         AGE         RAD     PTRATIO       LSTAT      TARGET\n",
       "count  506.000000  506.000000  506.000000  506.000000  506.000000  506.000000\n",
       "mean     0.554695   68.574901    9.549407   18.455534   12.653063   22.532806\n",
       "std      0.115878   28.148861    8.707259    2.164946    7.141062    9.197104\n",
       "min      0.385000    2.900000    1.000000   12.600000    1.730000    5.000000\n",
       "25%      0.449000   45.025000    4.000000   17.400000    6.950000   17.025000\n",
       "50%      0.538000   77.500000    5.000000   19.050000   11.360000   21.200000\n",
       "75%      0.624000   94.075000   24.000000   20.200000   16.955000   25.000000\n",
       "max      0.871000  100.000000   24.000000   22.000000   37.970000   50.000000"
      ]
     },
     "execution_count": 3,
     "metadata": {},
     "output_type": "execute_result"
    }
   ],
   "source": [
    "# Select out just a few of the features \n",
    "# NOX      nitric oxides concentration (parts per 10 million)\n",
    "# AGE      proportion of owner-occupied units built prior to 1\n",
    "# RAD      index of accessibility to radial highways\n",
    "# PTRATIO  pupil-teacher ratio by town\n",
    "# LSTAT    % lower status of the population\n",
    "boston_X = boston.data[:,(4,6,8,10,12)]\n",
    "boston_y = boston.target\n",
    "dataset = pd.DataFrame(np.column_stack([boston_X, boston_y])).sample(frac=1).reset_index(drop = True)\n",
    "\n",
    "# Here's how to do the same with pandas\n",
    "# boston_X = pd.DataFrame(boston.data[:,(4,6,8,10,12)])\n",
    "# boston_y = pd.DataFrame(boston.target)\n",
    "# dataset = pd.concat([boston_X, boston_y], axis=1, join_axes=[boston_X.index]).sample(frac=1).reset_index(drop = True)\n",
    "\n",
    "dataset.columns = ['NOX', 'AGE', 'RAD', 'PTRATIO', 'LSTAT', 'TARGET']\n",
    "dataset.describe()"
   ]
  },
  {
   "cell_type": "markdown",
   "metadata": {},
   "source": [
    "#### Pull columns from dataset into variables X (everything except TARGET) and y (TARGET)."
   ]
  },
  {
   "cell_type": "code",
   "execution_count": 4,
   "metadata": {},
   "outputs": [
    {
     "name": "stdout",
     "output_type": "stream",
     "text": [
      "X, y shape: (506, 5) (506,)\n"
     ]
    }
   ],
   "source": [
    "# Split into X and y sets (use indices 4,6,8,10,12 for X)\n",
    "\n",
    "# Complete code below this comment  (Question #P4001)\n",
    "# ----------------------------------\n",
    "X = np.array(dataset.iloc[:,:-1])\n",
    "y = np.array(dataset.TARGET)\n",
    "\n",
    "# Print out some basic shape data on the arrays\n",
    "print(\"X, y shape:\", X.shape, y.shape)"
   ]
  },
  {
   "cell_type": "markdown",
   "metadata": {
    "collapsed": true
   },
   "source": [
    "**Create training/validation split** with 30% data held out."
   ]
  },
  {
   "cell_type": "code",
   "execution_count": 5,
   "metadata": {
    "scrolled": true
   },
   "outputs": [
    {
     "name": "stdout",
     "output_type": "stream",
     "text": [
      "X_train.shape:  (354, 5)\n",
      "y_train.shape:  (354,)\n",
      "X_test.shape:  (152, 5)\n",
      "y_test.shape:  (152,)\n"
     ]
    }
   ],
   "source": [
    "# Complete code below this comment  (Question #P4002)\n",
    "# ----------------------------------\n",
    "X_train,X_test,y_train,y_test = train_test_split(X,y,test_size=.3)\n",
    "\n",
    "# verify split shapes and contents\n",
    "print(\"X_train.shape: \", X_train.shape)\n",
    "print(\"y_train.shape: \", y_train.shape)\n",
    "print(\"X_test.shape: \", X_test.shape)\n",
    "print(\"y_test.shape: \", y_test.shape)"
   ]
  },
  {
   "cell_type": "markdown",
   "metadata": {},
   "source": [
    "Run cross validation on a linear ridge model."
   ]
  },
  {
   "cell_type": "code",
   "execution_count": 6,
   "metadata": {},
   "outputs": [
    {
     "name": "stdout",
     "output_type": "stream",
     "text": [
      "Scores:  [ 0.63267399  0.66113187  0.59283608]\n",
      "Mean score (3 folds):  0.628880647982\n"
     ]
    }
   ],
   "source": [
    "naive_model = Ridge()\n",
    "\n",
    "# Complete code below this comment  (Question #P4003)\n",
    "# ----------------------------------\n",
    "scores = cross_val_score(naive_model,X_train,y_train,cv=3)\n",
    "print(\"Scores: \", scores)\n",
    "print(\"Mean score (3 folds): \", np.mean(scores))"
   ]
  },
  {
   "cell_type": "markdown",
   "metadata": {},
   "source": [
    "Fit this model on the training dataset."
   ]
  },
  {
   "cell_type": "code",
   "execution_count": 7,
   "metadata": {},
   "outputs": [
    {
     "data": {
      "text/plain": [
       "Ridge(alpha=1.0, copy_X=True, fit_intercept=True, max_iter=None,\n",
       "   normalize=False, random_state=None, solver='auto', tol=0.001)"
      ]
     },
     "execution_count": 7,
     "metadata": {},
     "output_type": "execute_result"
    }
   ],
   "source": [
    "# Complete code below this comment  (Question #P4004)\n",
    "# ----------------------------------\n",
    "naive_model.fit(X_train,y_train)"
   ]
  },
  {
   "cell_type": "markdown",
   "metadata": {},
   "source": [
    "Make some predictions from testing dataset and plot them."
   ]
  },
  {
   "cell_type": "code",
   "execution_count": 8,
   "metadata": {},
   "outputs": [
    {
     "name": "stdout",
     "output_type": "stream",
     "text": [
      "(152, 5) (152,)\n"
     ]
    },
    {
     "data": {
      "text/plain": [
       "[<matplotlib.lines.Line2D at 0x7f186c4e5f28>]"
      ]
     },
     "execution_count": 8,
     "metadata": {},
     "output_type": "execute_result"
    },
    {
     "data": {
      "image/png": "[encoded data removed]",
      "text/plain": [
       "<matplotlib.figure.Figure at 0x7f186e5bf710>"
      ]
     },
     "metadata": {},
     "output_type": "display_data"
    }
   ],
   "source": [
    "# Complete code below this comment  (Question #P4005)\n",
    "# ----------------------------------\n",
    "naive_predictions = naive_model.predict(X_test)\n",
    "print(X_test.shape, naive_predictions.shape)\n",
    "plt.scatter(y_test, naive_predictions)\n",
    "\n",
    "# Fit a trendline for visualization\n",
    "z = np.polyfit(y_test, naive_predictions, 1)\n",
    "p = np.poly1d(z)\n",
    "plt.title(\"Predicted vs. actual target values\")\n",
    "plt.xlabel(\"Actual y value\")\n",
    "plt.ylabel(\"Model y value\")\n",
    "plt.plot(y_test, p(y_test), 'k--')"
   ]
  },
  {
   "cell_type": "markdown",
   "metadata": {},
   "source": [
    "## Issues with the above model\n",
    "It is worth noting that without outlier reduction / anomaly detection in the pipeline, \n",
    "performance is relatively low. \n",
    "The actual performance on the test set is only scarcely better than random guessing \n",
    "(we can assume a baseline performance of 50% in such a case, and the model scores about 70%).\n",
    "\n",
    "## Why a trendline?\n",
    "This is mainly for illustrative purposes. \n",
    "The highest-error estimations are those farthest from the trendline, and ideally, \n",
    "the line of best fit would be `f(x) = x` \n",
    "(that is, the estimate and actual values would be perfectly equal in all cases).\n",
    "\n",
    "## What methods are available to us for outlier reduction?\n",
    "We could try `KMeans` or an `EllipticEnvelope` again, but we're going to explore a few more options. "
   ]
  },
  {
   "cell_type": "code",
   "execution_count": 9,
   "metadata": {
    "collapsed": true
   },
   "outputs": [],
   "source": [
    "from sklearn.ensemble import IsolationForest\n",
    "\n",
    "# Construct IsolationForest \n",
    "iso_forest = IsolationForest(n_estimators=250,\n",
    "                             bootstrap=True).fit(X, y)"
   ]
  },
  {
   "cell_type": "code",
   "execution_count": 10,
   "metadata": {
    "collapsed": true
   },
   "outputs": [],
   "source": [
    "#help(IsolationForest)"
   ]
  },
  {
   "cell_type": "markdown",
   "metadata": {},
   "source": [
    "Carefully read through the API documentation for Isolation Forest!\n",
    "\n",
    "Pull **inliers** into variables X_iso and y_iso."
   ]
  },
  {
   "cell_type": "code",
   "execution_count": 11,
   "metadata": {
    "collapsed": true
   },
   "outputs": [],
   "source": [
    "# Get labels from classifier and be ready to pull outliers\n",
    "iso_outliers = iso_forest.predict(X)==-1\n",
    "\n",
    "# Complete code below this comment  (Question #P4006)\n",
    "# ----------------------------------\n",
    "X_iso = X[~iso_outliers]\n",
    "y_iso = y[~iso_outliers]"
   ]
  },
  {
   "cell_type": "code",
   "execution_count": 33,
   "metadata": {},
   "outputs": [
    {
     "name": "stdout",
     "output_type": "stream",
     "text": [
      "[ 0.67770207  0.59617724  0.60441213]\n",
      "Mean CV score w/ IsolationForest: 0.626097146029\n"
     ]
    },
    {
     "data": {
      "text/plain": [
       "[<matplotlib.lines.Line2D at 0x7f186b45ee48>]"
      ]
     },
     "execution_count": 33,
     "metadata": {},
     "output_type": "execute_result"
    },
    {
     "data": {
      "image/png": "[encoded data removed]",
      "text/plain": [
       "<matplotlib.figure.Figure at 0x7f186b335c88>"
      ]
     },
     "metadata": {},
     "output_type": "display_data"
    }
   ],
   "source": [
    "# We can of course run a train-test split on the separated data as well\n",
    "X_train_iso, X_test_iso, y_train_iso, y_test_iso = train_test_split(X_iso, \n",
    "                                                                    y_iso, \n",
    "                                                                    test_size=0.3)\n",
    "# Fit the new model using the IsolationForest training split\n",
    "iso_model = Ridge()\n",
    "iso_model.fit(X_train_iso, y_train_iso)\n",
    "\n",
    "# Cross validate the new model\n",
    "iso_scores = cross_val_score(estimator=iso_model, \n",
    "                             X=X_test_iso, y=y_test_iso)\n",
    "print(iso_scores)\n",
    "print(\"Mean CV score w/ IsolationForest:\", np.mean(iso_scores))\n",
    "\n",
    "iso_predictions = iso_model.predict(X_test)\n",
    "\n",
    "# Plot the inlying points\n",
    "plt.scatter(y_test, iso_predictions)\n",
    "\n",
    "# Fit a trendline for visualization\n",
    "z = np.polyfit(y_test, iso_predictions, 1)\n",
    "p = np.poly1d(z)\n",
    "plt.title(\"Predicted vs. actual target values\")\n",
    "plt.xlabel(\"Actual y value\")\n",
    "plt.ylabel(\"Model y value\")\n",
    "plt.plot(y_test, p(y_test), 'k-')"
   ]
  },
  {
   "cell_type": "markdown",
   "metadata": {
    "collapsed": true
   },
   "source": [
    "## Alternatives to IsolationForest: OneClassSVM\n",
    "This means it's time to try something else.  \n",
    "The code below will look very similar to the above, but using `OneClassSVM` in place of the `IsolationForest`:"
   ]
  },
  {
   "cell_type": "code",
   "execution_count": 13,
   "metadata": {
    "collapsed": true
   },
   "outputs": [],
   "source": [
    "from sklearn.svm import OneClassSVM\n",
    "\n",
    "#help(OneClassSVM)"
   ]
  },
  {
   "cell_type": "code",
   "execution_count": 14,
   "metadata": {
    "collapsed": true
   },
   "outputs": [],
   "source": [
    "# Construct OneClassSVM (kernel='rbf') and fit to full dataset\n",
    "svm = OneClassSVM(kernel='rbf').fit(X, y)"
   ]
  },
  {
   "cell_type": "markdown",
   "metadata": {},
   "source": [
    "#### Mark outliers.\n",
    "Pull **inliers** into variables X_svm and y_svm."
   ]
  },
  {
   "cell_type": "code",
   "execution_count": 15,
   "metadata": {
    "collapsed": true
   },
   "outputs": [],
   "source": [
    "# Complete code below this comment  (Question #P4007)\n",
    "# ----------------------------------\n",
    "\n",
    "# Get labels from classifier and mark outliers\n",
    "svm_outliers = svm.predict(X)==-1\n",
    "\n",
    "# Pull inliers\n",
    "X_svm = X[~svm_outliers]\n",
    "y_svm = y[~svm_outliers]"
   ]
  },
  {
   "cell_type": "code",
   "execution_count": 16,
   "metadata": {},
   "outputs": [
    {
     "name": "stdout",
     "output_type": "stream",
     "text": [
      "[ 0.54990839  0.55281422  0.6549296 ]\n",
      "Mean CV score w/ OneClassSVM: 0.58588407006\n"
     ]
    },
    {
     "data": {
      "text/plain": [
       "[<matplotlib.lines.Line2D at 0x7f186e5afcc0>]"
      ]
     },
     "execution_count": 16,
     "metadata": {},
     "output_type": "execute_result"
    },
    {
     "data": {
      "image/png": "[encoded data removed]",
      "text/plain": [
       "<matplotlib.figure.Figure at 0x7f186b4e2e80>"
      ]
     },
     "metadata": {},
     "output_type": "display_data"
    }
   ],
   "source": [
    "# Train-test split\n",
    "X_train_svm, X_test_svm, y_train_svm, y_test_svm = train_test_split(X_svm, y_svm, test_size=0.3)\n",
    "\n",
    "svm_model = Ridge().fit(X_train_svm, y_train_svm)\n",
    "\n",
    "# Cross validate the new model\n",
    "iso_scores = cross_val_score(estimator=svm_model, \n",
    "                             X=X_test_svm, y=y_test_svm)\n",
    "print(iso_scores)\n",
    "print(\"Mean CV score w/ OneClassSVM:\", np.mean(iso_scores))\n",
    "\n",
    "# Make predictions with the fitted model\n",
    "svm_predictions = svm_model.predict(X_test)\n",
    "\n",
    "# Plot the inlying points\n",
    "plt.scatter(y_test, svm_predictions)\n",
    "\n",
    "# Fit a trendline for visualization\n",
    "z = np.polyfit(y_test, svm_predictions, 1)\n",
    "p = np.poly1d(z)\n",
    "plt.title(\"Predicted vs. actual target values\")\n",
    "plt.xlabel(\"Actual y value\")\n",
    "plt.ylabel(\"Model y value\")\n",
    "plt.plot(y_test, p(y_test), 'k-')"
   ]
  },
  {
   "cell_type": "markdown",
   "metadata": {},
   "source": [
    "## Summary Analysis\n",
    "\n",
    "Of the anomaly detection algorithms used, \n",
    "which had the highest marginal performance? \n",
    "Consider computational cost, which ones seemd to run fast versus slow?"
   ]
  },
  {
   "cell_type": "raw",
   "metadata": {},
   "source": [
    "# Provide your answers to the question above in this cell\n",
    "# ---------------------------------------------------------\n",
    "Isolation forest has definitely a higher accuracy compare to the base model and the oneclass svm.Computationaly i did not discern a much difference even though i know for sure as a dataset gets bigger and bigger theses algorithms will definitely out perform each other.\n",
    "\n",
    "\n",
    "\n"
   ]
  },
  {
   "cell_type": "markdown",
   "metadata": {},
   "source": [
    "## Going further: performance analysis w/ `scikit` modules\n",
    "Compute and display the following for the models produced by each anomaly detection method:\n",
    " 1. Confusion Matrix\n",
    " 1. Accuracy\n",
    " 1. Precision\n",
    " 1. $F_1$-Score"
   ]
  },
  {
   "cell_type": "code",
   "execution_count": 29,
   "metadata": {},
   "outputs": [
    {
     "name": "stdout",
     "output_type": "stream",
     "text": [
      "[[29  6  3  0]\n",
      " [ 6 24  7  1]\n",
      " [ 2  7 21 10]\n",
      " [ 1  1  7 27]]\n"
     ]
    },
    {
     "data": {
      "text/plain": [
       "(0.66447368421052633, 0.66447368421052633, 0.66447368421052633, None)"
      ]
     },
     "execution_count": 29,
     "metadata": {},
     "output_type": "execute_result"
    }
   ],
   "source": [
    "# Add your code for the above tasks here:   (Question #P4008)\n",
    "#  Ridge\n",
    "# ----------------------------------------\n",
    "from sklearn.metrics import precision_recall_fscore_support\n",
    "from sklearn.metrics import confusion_matrix\n",
    "# cut the variables based on quartiles \n",
    "naive_predictions_qcut = pd.qcut(naive_predictions, q=4, labels=False)\n",
    "y_test_qcut = pd.qcut(y_test, 4, labels=False)\n",
    "\n",
    "# compute confusion matrix \n",
    "print(confusion_matrix(y_test_qcut, naive_predictions_qcut.astype('i4')))\n",
    "precision_recall_fscore_support(y_test_qcut,naive_predictions_qcut,average='micro')\n"
   ]
  },
  {
   "cell_type": "code",
   "execution_count": 34,
   "metadata": {
    "scrolled": true
   },
   "outputs": [
    {
     "name": "stdout",
     "output_type": "stream",
     "text": [
      "[[29  5  1  0]\n",
      " [ 5 20  7  2]\n",
      " [ 1  8 19  7]\n",
      " [ 0  1  7 25]]\n"
     ]
    },
    {
     "data": {
      "text/plain": [
       "(0.67883211678832112, 0.67883211678832112, 0.67883211678832112, None)"
      ]
     },
     "execution_count": 34,
     "metadata": {},
     "output_type": "execute_result"
    }
   ],
   "source": [
    "# Add your code for the above tasks here:   (Question #P4009)\n",
    "#  IsolationForest\n",
    "# ----------------------------------------\n",
    "iso_predictions = iso_model.predict(X_test_iso)\n",
    "iso_predictions_qcut = pd.qcut(iso_predictions,q=4,labels=False)\n",
    "y_test_iso_qcut = pd.qcut(y_test_iso,4,labels=False)\n",
    "# compute confusion matrix and store in confmatrix\n",
    "print(confusion_matrix(y_test_iso_qcut, iso_predictions_qcut.astype('i4')))\n",
    "precision_recall_fscore_support(y_test_iso_qcut,iso_predictions_qcut,average='micro')"
   ]
  },
  {
   "cell_type": "code",
   "execution_count": 37,
   "metadata": {},
   "outputs": [
    {
     "name": "stdout",
     "output_type": "stream",
     "text": [
      "[[18  2  2  0]\n",
      " [ 2 11  8  0]\n",
      " [ 1  5  9  6]\n",
      " [ 1  3  2 15]]\n"
     ]
    },
    {
     "data": {
      "text/plain": [
       "(0.62352941176470589, 0.62352941176470589, 0.62352941176470589, None)"
      ]
     },
     "execution_count": 37,
     "metadata": {},
     "output_type": "execute_result"
    }
   ],
   "source": [
    "# Add your code for the above tasks here:   (Question #P4010)\n",
    "#  OneClassSVM\n",
    "# ------------------------------------------------\n",
    "\n",
    "\n",
    "# Make predictions with the fitted model\n",
    "svm_predictions = iso_model.predict(X_test_svm)\n",
    "svm_predictions_qcut = pd.qcut(svm_predictions,q=4,labels=False)\n",
    "y_test_svm_qcut = pd.qcut(y_test_svm,4,labels=False)\n",
    "# compute confusion matrix and store in confmatrix\n",
    "print(confusion_matrix(y_test_svm_qcut, svm_predictions_qcut.astype('i4')))\n",
    "precision_recall_fscore_support(y_test_svm_qcut,svm_predictions_qcut,average='micro')\n",
    "\n",
    "\n",
    "\n"
   ]
  },
  {
   "cell_type": "markdown",
   "metadata": {},
   "source": [
    "# Save your notebook!"
   ]
  }
 ],
 "metadata": {
  "kernelspec": {
   "display_name": "Python 3",
   "language": "python",
   "name": "python3"
  },
  "language_info": {
   "codemirror_mode": {
    "name": "ipython",
    "version": 3
   },
   "file_extension": ".py",
   "mimetype": "text/x-python",
   "name": "python",
   "nbconvert_exporter": "python",
   "pygments_lexer": "ipython3",
   "version": "3.4.5"
  }
 },
 "nbformat": 4,
 "nbformat_minor": 2
}
