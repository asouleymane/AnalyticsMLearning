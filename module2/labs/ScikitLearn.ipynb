{
 "cells": [
  {
   "cell_type": "markdown",
   "metadata": {},
   "source": [
    "# Scikit-Learn Basics: Index\n",
    "\n",
    "## Topics covered\n",
    "1. Scikit API overview\n",
    "2. Model types / estimator selection\n",
    "    * Regression\n",
    "    * Dimensionality Reduction\n",
    "    * Clustering\n",
    "    * Classification\n",
    "\n",
    "## Resources used\n",
    "\n",
    "1. [Scikit docs](http://scikit-learn.org/stable/index.html)\n",
    "1. See each of the tutorial pages for case-specific references."
   ]
  },
  {
   "cell_type": "markdown",
   "metadata": {
    "collapsed": true
   },
   "source": [
    "## Scikit-Learn basics: the API\n",
    "\n",
    "To begin, you should familiarize yourself with some of the general truths about the `scikit-learn` API, \n",
    "as it will be used heavily throughout this course.\n",
    "[Here](../resources/api.ipynb) is a brief explanation of how to use most of the features of `scikit`."
   ]
  },
  {
   "cell_type": "markdown",
   "metadata": {},
   "source": [
    "## Basic model/estimator types and how to choose between them\n",
    "\n",
    "Once you understand how the `scikit` interface works on a basic level,\n",
    "you may want to start actually using it.\n",
    "There are a number of data analysis tasks possible from within the `scikit` framework - \n",
    "we'll start with four of the more common categories:\n",
    "\n",
    "   * [Regression](../resources/regression.ipynb)\n",
    "       * Regression aims at estimation/prediction of **numerical** values, e.g. stock prices, based on a statistical model.\n",
    "   * [Dimensionality Reduction](../resources/dim_red.ipynb)\n",
    "       * Dimensionality reduction is a pre-processing task used to simplify or reduce training data to produce more accurate models.\n",
    "   * [Clustering](../resources/clustering.ipynb)\n",
    "       * Clustering is an unsupervised process used to group unlabeled data into *clusters*.\n",
    "   * [Classification](../resources/classification.ipynb)\n",
    "       * Classification is a supervised process that takes in labeled data and may then be used to predict what group or class an unlabeled input value should fall into.\n",
    "       \n",
    "The above pages are code-heavy and should be taken as *examples* - \n",
    "working through each might be very helpful to your understanding, \n",
    "but for time purposes, it should not be required. \n",
    "The `scikit` documentation will be referenced throughout,\n",
    "and should be of much help in case the above examples are insufficient."
   ]
  }
 ],
 "metadata": {
  "kernelspec": {
   "display_name": "Python 3",
   "language": "python",
   "name": "python3"
  },
  "language_info": {
   "codemirror_mode": {
    "name": "ipython",
    "version": 3
   },
   "file_extension": ".py",
   "mimetype": "text/x-python",
   "name": "python",
   "nbconvert_exporter": "python",
   "pygments_lexer": "ipython3",
   "version": "3.4.5"
  }
 },
 "nbformat": 4,
 "nbformat_minor": 2
}
