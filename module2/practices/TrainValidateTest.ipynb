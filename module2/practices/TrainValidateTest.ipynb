{
 "cells": [
  {
   "cell_type": "markdown",
   "metadata": {},
   "source": [
    "# Practice: Train, Validate --> Train, Test\n",
    "In this lab you will revisit the cross-validation process to evaluate and then fully train a \n",
    "classification model on the scikit learn **digits** dataset using the `GaussianNB` classifier.\n",
    "\n",
    "## Required resources and imports"
   ]
  },
  {
   "cell_type": "code",
   "execution_count": null,
   "metadata": {
    "collapsed": true
   },
   "outputs": [],
   "source": [
    "# note: you will need a few other things here - come back and import them later\n",
    "import numpy as np\n",
    "import matplotlib.pyplot as plt\n",
    "from sklearn.datasets import load_digits # do not change this!\n",
    "from sklearn.naive_bayes import GaussianNB # use the GaussianNB model\n",
    "from collections import OrderedDict # the code using this module is given to you"
   ]
  },
  {
   "cell_type": "code",
   "execution_count": null,
   "metadata": {},
   "outputs": [],
   "source": [
    "help(load_digits)"
   ]
  },
  {
   "cell_type": "markdown",
   "metadata": {
    "collapsed": true
   },
   "source": [
    "## Model construction"
   ]
  },
  {
   "cell_type": "code",
   "execution_count": null,
   "metadata": {
    "collapsed": true
   },
   "outputs": [],
   "source": [
    "# load dataset (we're working with the digits dataset)\n",
    "raw = load_digits()\n",
    "\n",
    "# TODO: split raw into X and Y sets\n",
    "\n",
    "# TODO: perform a validation split, reserving 30% of the data for testing\n",
    "\n",
    "# we'll use the Gaussian Naive Bayes classifier\n",
    "classifier = GaussianNB()"
   ]
  },
  {
   "cell_type": "markdown",
   "metadata": {
    "collapsed": true
   },
   "source": [
    "## Cross-validation"
   ]
  },
  {
   "cell_type": "code",
   "execution_count": null,
   "metadata": {
    "collapsed": true
   },
   "outputs": [],
   "source": [
    "# TODO: perform 10-fold *automated* cross-validation on the data\n",
    "\n",
    "print(scores) # this should print out a 10-item array"
   ]
  },
  {
   "cell_type": "markdown",
   "metadata": {},
   "source": [
    "## Fully train the model"
   ]
  },
  {
   "cell_type": "code",
   "execution_count": null,
   "metadata": {
    "collapsed": true
   },
   "outputs": [],
   "source": [
    "# TODO: re-fit a model to the data\n"
   ]
  },
  {
   "cell_type": "markdown",
   "metadata": {},
   "source": [
    "## Test final model performance"
   ]
  },
  {
   "cell_type": "code",
   "execution_count": null,
   "metadata": {
    "collapsed": true
   },
   "outputs": [],
   "source": [
    "# GaussianNB.predict() returns class labels (integers)\n",
    "predict = classifier.predict(X_test)\n",
    "\n",
    "# check for unique labels\n",
    "indices = set()\n",
    "for l in predict:\n",
    "    indices.add(l)\n",
    "    l -= 2\n",
    "print(indices)"
   ]
  },
  {
   "cell_type": "markdown",
   "metadata": {},
   "source": [
    "The data is in 10 groups, so indices are all from 0 to 9. We should select ten colors for plotting."
   ]
  },
  {
   "cell_type": "code",
   "execution_count": null,
   "metadata": {
    "collapsed": true
   },
   "outputs": [],
   "source": [
    "# select colors to match to indices 0-9\n",
    "colors = [\"red\", \"blue\", \"green\", \"black\"] #fill in the remaining six\n",
    "used = []\n",
    "\n",
    "# iterate over labels and assign color to each point\n",
    "for i in np.arange(0, len(X_test)):\n",
    "    col = colors[predict[i]-1]\n",
    "    used += col\n",
    "    if col not in used:\n",
    "        plt.plot(X_test[:,1][i], Y_test[i], color=col, marker='o', \n",
    "                 markersize=5, label=\"Class %i\" % predict[i])\n",
    "\n",
    "# cut out duplicate labels\n",
    "handles, labels = plt.gca().get_legend_handles_labels()\n",
    "by_label = OrderedDict(zip(labels, handles))\n",
    "plt.legend(by_label.values(), by_label.keys(), loc='upper right')\n",
    "plt.show()"
   ]
  },
  {
   "cell_type": "markdown",
   "metadata": {},
   "source": [
    "## Save model to disk via pickling"
   ]
  },
  {
   "cell_type": "code",
   "execution_count": null,
   "metadata": {
    "collapsed": true
   },
   "outputs": [],
   "source": [
    "# TODO: pickle model to disk \n",
    "# (this will require an import - use either of the modules discussed in lab)"
   ]
  },
  {
   "cell_type": "markdown",
   "metadata": {},
   "source": [
    "## Load and re-test model"
   ]
  },
  {
   "cell_type": "code",
   "execution_count": null,
   "metadata": {
    "collapsed": true
   },
   "outputs": [],
   "source": [
    "# TODO: load/unpickle model\n",
    "\n",
    "# select colors to match to indices 0-9 (can copy from above, this is boilerplate anyway)\n",
    "colors = [\"red\", \"blue\", \"green\", \"black\"]\n",
    "used = []\n",
    "\n",
    "# iterate over labels and assign color to each point\n",
    "for i in np.arange(0, len(X_test)):\n",
    "    col = colors[predict[i]-i]\n",
    "    used += col\n",
    "    if col not in used:\n",
    "        plt.plot(X_test[:,1][i], Y_test[i], color=col, marker='o', \n",
    "                 markersize=5, label=\"Class %i\" % predict[i])\n",
    "\n",
    "# cut out duplicate labels\n",
    "handles, labels = plt.gca().get_legend_handles_labels()\n",
    "by_label = OrderedDict(zip(labels, handles))\n",
    "plt.legend(by_label.values(), by_label.keys(), loc='upper right')\n",
    "plt.show()"
   ]
  },
  {
   "cell_type": "markdown",
   "metadata": {},
   "source": [
    "# Save your notebook"
   ]
  }
 ],
 "metadata": {
  "kernelspec": {
   "display_name": "Python 3",
   "language": "python",
   "name": "python3"
  },
  "language_info": {
   "codemirror_mode": {
    "name": "ipython",
    "version": 3
   },
   "file_extension": ".py",
   "mimetype": "text/x-python",
   "name": "python",
   "nbconvert_exporter": "python",
   "pygments_lexer": "ipython3",
   "version": "3.4.5"
  }
 },
 "nbformat": 4,
 "nbformat_minor": 2
}
