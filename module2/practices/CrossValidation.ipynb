{
 "cells": [
  {
   "cell_type": "markdown",
   "metadata": {},
   "source": [
    "# Module 2: Cross-Validation - Practice\n",
    "\n",
    "In this practice you will create a **20-fold cross-validation** to a **Gaussian Naive Bayes model**, \n",
    "which attempts to fit the **titanic** dataset.\n",
    "\n",
    "+ Look for **placeholders** in the code and fill in the appropriate code.\n",
    "+ Expect requirements in **bold** font when provided.\n",
    "+ Presentation of printouts are not strict as long as they are readable and equivalent.\n"
   ]
  },
  {
   "cell_type": "code",
   "execution_count": null,
   "metadata": {
    "collapsed": true
   },
   "outputs": [],
   "source": [
    "import os, sys\n",
    "from collections import Counter\n",
    "import numpy as np\n",
    "import pandas as pd\n",
    "import sklearn.model_selection\n",
    "from sklearn.naive_bayes import GaussianNB\n",
    "\n",
    "np.random.seed(18937) # please ignore and leave this line alone"
   ]
  },
  {
   "cell_type": "markdown",
   "metadata": {},
   "source": [
    "## Load Dataset\n",
    "\n",
    "Load dataset from files into multidimensional array."
   ]
  },
  {
   "cell_type": "code",
   "execution_count": null,
   "metadata": {},
   "outputs": [],
   "source": [
    "# Dataset location\n",
    "DATASET = '/dsa/data/all_datasets/titanic_ML/titanic.csv'\n",
    "assert os.path.exists(DATASET)\n",
    "\n",
    "# Load and shuffle\n",
    "dataset = pd.read_csv(DATASET).sample(frac = 1).reset_index(drop=True)\n",
    "dataset.describe()"
   ]
  },
  {
   "cell_type": "markdown",
   "metadata": {},
   "source": [
    "## Part 1: Cross-validation with sklearn\n",
    "\n",
    "Make a **20-fold** cross-validation using `cross_val_score()` provided by sklearn."
   ]
  },
  {
   "cell_type": "code",
   "execution_count": null,
   "metadata": {
    "collapsed": true
   },
   "outputs": [],
   "source": [
    "model = GaussianNB()\n",
    "\n",
    "X = np.array(<placeholder>)\n",
    "y = np.array(<placeholder>)\n",
    "\n",
    "sklearn.model_selection.cross_val_score(<placeholder>, <placeholder>, <placeholder>, cv=<placeholder>)"
   ]
  },
  {
   "cell_type": "markdown",
   "metadata": {},
   "source": [
    "## Part 2: Create cross-validation manually\n",
    "\n",
    "Make a 20-fold cross-validation without using the scikit learn provided cross-validation scoring method."
   ]
  },
  {
   "cell_type": "code",
   "execution_count": null,
   "metadata": {
    "collapsed": true
   },
   "outputs": [],
   "source": [
    "def cross_val_score(model, X, y, cv):\n",
    "    X_folds = np.array_split(<placeholder>, <placeholder>)\n",
    "    y_folds = np.array_split(<placeholder>, <placeholder>)\n",
    "    print('X_folds', Counter([i.shape for i in X_folds]), 'y_folds', Counter([i.shape for i in y_folds]))\n",
    "    \n",
    "    for i in range(cv):\n",
    "        X_train = np.concatenate([X_folds[<placeholder>] for j in range(cv) if <placeholder>])\n",
    "        X_test = X_folds[<placeholder>]\n",
    "        y_train = np.concatenate([y_folds[<placeholder>] for j in range(cv) if <placeholder>])\n",
    "        y_test = y_folds[<placeholder>]\n",
    "        model.fit(<placeholder>, <placeholder>)\n",
    "        yield model.score(<placeholder>, <placeholder>)\n",
    "\n",
    "print(\"Cross-validation:\")\n",
    "for i, score in enumerate(cross_val_score(model, X, y, cv=<placeholder>)):\n",
    "    print(('\\tscore[%d] ='%i), score)"
   ]
  },
  {
   "cell_type": "markdown",
   "metadata": {
    "collapsed": true
   },
   "source": [
    "# Save your notebook!"
   ]
  }
 ],
 "metadata": {
  "kernelspec": {
   "display_name": "Python 3",
   "language": "python",
   "name": "python3"
  },
  "language_info": {
   "codemirror_mode": {
    "name": "ipython",
    "version": 3
   },
   "file_extension": ".py",
   "mimetype": "text/x-python",
   "name": "python",
   "nbconvert_exporter": "python",
   "pygments_lexer": "ipython3",
   "version": "3.4.5"
  }
 },
 "nbformat": 4,
 "nbformat_minor": 2
}
