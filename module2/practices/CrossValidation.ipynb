{
 "cells": [
  {
   "cell_type": "markdown",
   "metadata": {},
   "source": [
    "# Module 2: Cross-Validation - Practice\n",
    "\n",
    "In this practice you will create a **20-fold cross-validation** to a **Gaussian Naive Bayes model**, \n",
    "which attempts to fit the **titanic** dataset.\n",
    "\n",
    "+ Look for **placeholders** in the code and fill in the appropriate code.\n",
    "+ Expect requirements in **bold** font when provided.\n",
    "+ Presentation of printouts are not strict as long as they are readable and equivalent.\n"
   ]
  },
  {
   "cell_type": "code",
   "execution_count": 1,
   "metadata": {
    "collapsed": true
   },
   "outputs": [],
   "source": [
    "import os, sys\n",
    "from collections import Counter\n",
    "import numpy as np\n",
    "import pandas as pd\n",
    "import sklearn.model_selection\n",
    "from sklearn.naive_bayes import GaussianNB\n",
    "\n",
    "np.random.seed(18937) # please ignore and leave this line alone"
   ]
  },
  {
   "cell_type": "markdown",
   "metadata": {},
   "source": [
    "## Load Dataset\n",
    "\n",
    "Load dataset from files into multidimensional array."
   ]
  },
  {
   "cell_type": "code",
   "execution_count": 2,
   "metadata": {},
   "outputs": [
    {
     "data": {
      "text/html": [
       "<div>\n",
       "<style>\n",
       "    .dataframe thead tr:only-child th {\n",
       "        text-align: right;\n",
       "    }\n",
       "\n",
       "    .dataframe thead th {\n",
       "        text-align: left;\n",
       "    }\n",
       "\n",
       "    .dataframe tbody tr th {\n",
       "        vertical-align: top;\n",
       "    }\n",
       "</style>\n",
       "<table border=\"1\" class=\"dataframe\">\n",
       "  <thead>\n",
       "    <tr style=\"text-align: right;\">\n",
       "      <th></th>\n",
       "      <th>pclass</th>\n",
       "      <th>sex</th>\n",
       "      <th>age</th>\n",
       "      <th>sibsp</th>\n",
       "      <th>parch</th>\n",
       "      <th>fare</th>\n",
       "      <th>embarked</th>\n",
       "      <th>survived</th>\n",
       "    </tr>\n",
       "  </thead>\n",
       "  <tbody>\n",
       "    <tr>\n",
       "      <th>count</th>\n",
       "      <td>890.000000</td>\n",
       "      <td>890.000000</td>\n",
       "      <td>890.000000</td>\n",
       "      <td>890.000000</td>\n",
       "      <td>890.000000</td>\n",
       "      <td>890.000000</td>\n",
       "      <td>890.000000</td>\n",
       "      <td>890.000000</td>\n",
       "    </tr>\n",
       "    <tr>\n",
       "      <th>mean</th>\n",
       "      <td>2.312360</td>\n",
       "      <td>0.642697</td>\n",
       "      <td>29.548697</td>\n",
       "      <td>0.503371</td>\n",
       "      <td>0.351685</td>\n",
       "      <td>32.865772</td>\n",
       "      <td>0.895506</td>\n",
       "      <td>0.389888</td>\n",
       "    </tr>\n",
       "    <tr>\n",
       "      <th>std</th>\n",
       "      <td>0.837241</td>\n",
       "      <td>0.479475</td>\n",
       "      <td>13.379025</td>\n",
       "      <td>1.095286</td>\n",
       "      <td>0.790069</td>\n",
       "      <td>52.639685</td>\n",
       "      <td>0.529535</td>\n",
       "      <td>0.487999</td>\n",
       "    </tr>\n",
       "    <tr>\n",
       "      <th>min</th>\n",
       "      <td>1.000000</td>\n",
       "      <td>0.000000</td>\n",
       "      <td>0.170000</td>\n",
       "      <td>0.000000</td>\n",
       "      <td>0.000000</td>\n",
       "      <td>0.000000</td>\n",
       "      <td>0.000000</td>\n",
       "      <td>0.000000</td>\n",
       "    </tr>\n",
       "    <tr>\n",
       "      <th>25%</th>\n",
       "      <td>2.000000</td>\n",
       "      <td>0.000000</td>\n",
       "      <td>21.000000</td>\n",
       "      <td>0.000000</td>\n",
       "      <td>0.000000</td>\n",
       "      <td>7.895800</td>\n",
       "      <td>1.000000</td>\n",
       "      <td>0.000000</td>\n",
       "    </tr>\n",
       "    <tr>\n",
       "      <th>50%</th>\n",
       "      <td>3.000000</td>\n",
       "      <td>1.000000</td>\n",
       "      <td>28.000000</td>\n",
       "      <td>0.000000</td>\n",
       "      <td>0.000000</td>\n",
       "      <td>13.775000</td>\n",
       "      <td>1.000000</td>\n",
       "      <td>0.000000</td>\n",
       "    </tr>\n",
       "    <tr>\n",
       "      <th>75%</th>\n",
       "      <td>3.000000</td>\n",
       "      <td>1.000000</td>\n",
       "      <td>37.000000</td>\n",
       "      <td>1.000000</td>\n",
       "      <td>0.000000</td>\n",
       "      <td>29.925000</td>\n",
       "      <td>1.000000</td>\n",
       "      <td>1.000000</td>\n",
       "    </tr>\n",
       "    <tr>\n",
       "      <th>max</th>\n",
       "      <td>3.000000</td>\n",
       "      <td>1.000000</td>\n",
       "      <td>80.000000</td>\n",
       "      <td>8.000000</td>\n",
       "      <td>9.000000</td>\n",
       "      <td>512.329200</td>\n",
       "      <td>2.000000</td>\n",
       "      <td>1.000000</td>\n",
       "    </tr>\n",
       "  </tbody>\n",
       "</table>\n",
       "</div>"
      ],
      "text/plain": [
       "           pclass         sex         age       sibsp       parch        fare  \\\n",
       "count  890.000000  890.000000  890.000000  890.000000  890.000000  890.000000   \n",
       "mean     2.312360    0.642697   29.548697    0.503371    0.351685   32.865772   \n",
       "std      0.837241    0.479475   13.379025    1.095286    0.790069   52.639685   \n",
       "min      1.000000    0.000000    0.170000    0.000000    0.000000    0.000000   \n",
       "25%      2.000000    0.000000   21.000000    0.000000    0.000000    7.895800   \n",
       "50%      3.000000    1.000000   28.000000    0.000000    0.000000   13.775000   \n",
       "75%      3.000000    1.000000   37.000000    1.000000    0.000000   29.925000   \n",
       "max      3.000000    1.000000   80.000000    8.000000    9.000000  512.329200   \n",
       "\n",
       "         embarked    survived  \n",
       "count  890.000000  890.000000  \n",
       "mean     0.895506    0.389888  \n",
       "std      0.529535    0.487999  \n",
       "min      0.000000    0.000000  \n",
       "25%      1.000000    0.000000  \n",
       "50%      1.000000    0.000000  \n",
       "75%      1.000000    1.000000  \n",
       "max      2.000000    1.000000  "
      ]
     },
     "execution_count": 2,
     "metadata": {},
     "output_type": "execute_result"
    }
   ],
   "source": [
    "# Dataset location\n",
    "DATASET = '/dsa/data/all_datasets/titanic_ML/titanic.csv'\n",
    "assert os.path.exists(DATASET)\n",
    "\n",
    "# Load and shuffle\n",
    "dataset = pd.read_csv(DATASET).sample(frac = 1).reset_index(drop=True)\n",
    "dataset.describe()"
   ]
  },
  {
   "cell_type": "code",
   "execution_count": 3,
   "metadata": {},
   "outputs": [
    {
     "data": {
      "text/html": [
       "<div>\n",
       "<style>\n",
       "    .dataframe thead tr:only-child th {\n",
       "        text-align: right;\n",
       "    }\n",
       "\n",
       "    .dataframe thead th {\n",
       "        text-align: left;\n",
       "    }\n",
       "\n",
       "    .dataframe tbody tr th {\n",
       "        vertical-align: top;\n",
       "    }\n",
       "</style>\n",
       "<table border=\"1\" class=\"dataframe\">\n",
       "  <thead>\n",
       "    <tr style=\"text-align: right;\">\n",
       "      <th></th>\n",
       "      <th>pclass</th>\n",
       "      <th>sex</th>\n",
       "      <th>age</th>\n",
       "      <th>sibsp</th>\n",
       "      <th>parch</th>\n",
       "      <th>fare</th>\n",
       "      <th>embarked</th>\n",
       "      <th>survived</th>\n",
       "    </tr>\n",
       "  </thead>\n",
       "  <tbody>\n",
       "    <tr>\n",
       "      <th>0</th>\n",
       "      <td>1</td>\n",
       "      <td>0</td>\n",
       "      <td>30.0</td>\n",
       "      <td>0</td>\n",
       "      <td>0</td>\n",
       "      <td>164.8667</td>\n",
       "      <td>1</td>\n",
       "      <td>1</td>\n",
       "    </tr>\n",
       "    <tr>\n",
       "      <th>1</th>\n",
       "      <td>2</td>\n",
       "      <td>1</td>\n",
       "      <td>36.0</td>\n",
       "      <td>0</td>\n",
       "      <td>0</td>\n",
       "      <td>10.5000</td>\n",
       "      <td>1</td>\n",
       "      <td>0</td>\n",
       "    </tr>\n",
       "    <tr>\n",
       "      <th>2</th>\n",
       "      <td>3</td>\n",
       "      <td>1</td>\n",
       "      <td>19.0</td>\n",
       "      <td>0</td>\n",
       "      <td>0</td>\n",
       "      <td>0.0000</td>\n",
       "      <td>1</td>\n",
       "      <td>0</td>\n",
       "    </tr>\n",
       "    <tr>\n",
       "      <th>3</th>\n",
       "      <td>3</td>\n",
       "      <td>1</td>\n",
       "      <td>29.0</td>\n",
       "      <td>3</td>\n",
       "      <td>1</td>\n",
       "      <td>22.0250</td>\n",
       "      <td>1</td>\n",
       "      <td>1</td>\n",
       "    </tr>\n",
       "    <tr>\n",
       "      <th>4</th>\n",
       "      <td>3</td>\n",
       "      <td>1</td>\n",
       "      <td>18.0</td>\n",
       "      <td>1</td>\n",
       "      <td>1</td>\n",
       "      <td>20.2125</td>\n",
       "      <td>1</td>\n",
       "      <td>0</td>\n",
       "    </tr>\n",
       "  </tbody>\n",
       "</table>\n",
       "</div>"
      ],
      "text/plain": [
       "   pclass  sex   age  sibsp  parch      fare  embarked  survived\n",
       "0       1    0  30.0      0      0  164.8667         1         1\n",
       "1       2    1  36.0      0      0   10.5000         1         0\n",
       "2       3    1  19.0      0      0    0.0000         1         0\n",
       "3       3    1  29.0      3      1   22.0250         1         1\n",
       "4       3    1  18.0      1      1   20.2125         1         0"
      ]
     },
     "execution_count": 3,
     "metadata": {},
     "output_type": "execute_result"
    }
   ],
   "source": [
    "dataset.head()"
   ]
  },
  {
   "cell_type": "markdown",
   "metadata": {},
   "source": [
    "## Part 1: Cross-validation with sklearn\n",
    "\n",
    "Make a **20-fold** cross-validation using `cross_val_score()` provided by sklearn."
   ]
  },
  {
   "cell_type": "code",
   "execution_count": null,
   "metadata": {
    "collapsed": true
   },
   "outputs": [],
   "source": [
    "model = GaussianNB()\n",
    "\n",
    "X = np.array(<placeholder>)\n",
    "y = np.array(<placeholder>)\n",
    "\n",
    "sklearn.model_selection.cross_val_score(<placeholder>, <placeholder>, <placeholder>, cv=<placeholder>)"
   ]
  },
  {
   "cell_type": "code",
   "execution_count": 4,
   "metadata": {},
   "outputs": [
    {
     "data": {
      "text/plain": [
       "array([ 0.76086957,  0.60869565,  0.7826087 ,  0.8       ,  0.68888889,\n",
       "        0.75555556,  0.77777778,  0.84090909,  0.77272727,  0.77272727,\n",
       "        0.79545455,  0.77272727,  0.77272727,  0.79545455,  0.75      ,\n",
       "        0.72727273,  0.72727273,  0.79545455,  0.88636364,  0.77272727])"
      ]
     },
     "execution_count": 4,
     "metadata": {},
     "output_type": "execute_result"
    }
   ],
   "source": [
    "model = GaussianNB()\n",
    "\n",
    "X = np.array(dataset.iloc[:,:-1])\n",
    "y = np.array(dataset.survived)\n",
    "\n",
    "sklearn.model_selection.cross_val_score(model,X,y,cv=20)"
   ]
  },
  {
   "cell_type": "markdown",
   "metadata": {},
   "source": [
    "## Part 2: Create cross-validation manually\n",
    "\n",
    "Make a 20-fold cross-validation without using the scikit learn provided cross-validation scoring method."
   ]
  },
  {
   "cell_type": "code",
   "execution_count": null,
   "metadata": {
    "collapsed": true
   },
   "outputs": [],
   "source": [
    "def cross_val_score(model, X, y, cv):\n",
    "    X_folds = np.array_split(<placeholder>, <placeholder>)\n",
    "    y_folds = np.array_split(<placeholder>, <placeholder>)\n",
    "    print('X_folds', Counter([i.shape for i in X_folds]), 'y_folds', Counter([i.shape for i in y_folds]))\n",
    "    \n",
    "    for i in range(cv):\n",
    "        X_train = np.concatenate([X_folds[<placeholder>] for j in range(cv) if <placeholder>])\n",
    "        X_test = X_folds[<placeholder>]\n",
    "        y_train = np.concatenate([y_folds[<placeholder>] for j in range(cv) if <placeholder>])\n",
    "        y_test = y_folds[<placeholder>]\n",
    "        model.fit(<placeholder>, <placeholder>)\n",
    "        yield model.score(<placeholder>, <placeholder>)\n",
    "\n",
    "print(\"Cross-validation:\")\n",
    "for i, score in enumerate(cross_val_score(model, X, y, cv=<placeholder>)):\n",
    "    print(('\\tscore[%d] ='%i), score)"
   ]
  },
  {
   "cell_type": "code",
   "execution_count": 5,
   "metadata": {},
   "outputs": [
    {
     "name": "stdout",
     "output_type": "stream",
     "text": [
      "Cross-validation:\n",
      "X_folds Counter({(44, 7): 10, (45, 7): 10}) y_folds Counter({(45,): 10, (44,): 10})\n",
      "\tscore[0]= 0.733333333333\n",
      "\tscore[1]= 0.688888888889\n",
      "\tscore[2]= 0.711111111111\n",
      "\tscore[3]= 0.822222222222\n",
      "\tscore[4]= 0.688888888889\n",
      "\tscore[5]= 0.755555555556\n",
      "\tscore[6]= 0.755555555556\n",
      "\tscore[7]= 0.844444444444\n",
      "\tscore[8]= 0.777777777778\n",
      "\tscore[9]= 0.777777777778\n",
      "\tscore[10]= 0.795454545455\n",
      "\tscore[11]= 0.772727272727\n",
      "\tscore[12]= 0.727272727273\n",
      "\tscore[13]= 0.772727272727\n",
      "\tscore[14]= 0.840909090909\n",
      "\tscore[15]= 0.681818181818\n",
      "\tscore[16]= 0.659090909091\n",
      "\tscore[17]= 0.863636363636\n",
      "\tscore[18]= 0.886363636364\n",
      "\tscore[19]= 0.772727272727\n"
     ]
    }
   ],
   "source": [
    "def cross_val_score(model,X,y,cv):\n",
    "    X_folds = np.array_split(X,20)\n",
    "    y_folds = np.array_split(y,20)\n",
    "    print('X_folds',Counter([i.shape for i in X_folds]),'y_folds', Counter([i.shape for i in y_folds]))\n",
    "    \n",
    "    for i in range(cv):\n",
    "        X_train = np.concatenate([X_folds[j] for j in range(20) if j != i])\n",
    "        X_test = X_folds[i]\n",
    "        y_train = np.concatenate([y_folds[j] for j in range(20) if j != i])\n",
    "        y_test = y_folds[i]\n",
    "        model.fit(X_train,y_train)\n",
    "        yield model.score(X_test,y_test)\n",
    "        \n",
    "        \n",
    "print(\"Cross-validation:\")\n",
    "for i,score in enumerate(cross_val_score(model,X,y,cv=20)):\n",
    "    print(('\\tscore[%d]='%i),score)"
   ]
  },
  {
   "cell_type": "markdown",
   "metadata": {
    "collapsed": true
   },
   "source": [
    "# Save your notebook!"
   ]
  }
 ],
 "metadata": {
  "kernelspec": {
   "display_name": "Python 3",
   "language": "python",
   "name": "python3"
  },
  "language_info": {
   "codemirror_mode": {
    "name": "ipython",
    "version": 3
   },
   "file_extension": ".py",
   "mimetype": "text/x-python",
   "name": "python",
   "nbconvert_exporter": "python",
   "pygments_lexer": "ipython3",
   "version": "3.4.5"
  }
 },
 "nbformat": 4,
 "nbformat_minor": 2
}
