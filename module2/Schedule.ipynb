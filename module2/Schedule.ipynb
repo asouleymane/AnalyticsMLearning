{
 "cells": [
  {
   "cell_type": "markdown",
   "metadata": {},
   "source": [
    "# 2 \n",
    "# Programming Machine Learning Workflows"
   ]
  },
  {
   "cell_type": "markdown",
   "metadata": {},
   "source": [
    "## Module Topics\n",
    "### Machine Learning Overview\n",
    "  * Cross-Validation\n",
    "  * Scikit-Learn \n",
    "    - Model Types\n",
    "    - basic API\n",
    "  * Operationalizing Models\n",
    "    - Train/Validate/Test\n",
    "    - Data - Model Pipelines\n",
    "  * Monitoring and Maintaining Model Performance\n"
   ]
  },
  {
   "cell_type": "markdown",
   "metadata": {},
   "source": [
    "## Readings\n",
    "\n",
    "### Basic Topics for Context\n",
    "  * https://en.wikipedia.org/wiki/Cross-validation_(statistics)\n",
    "  * http://scikit-learn.org/stable/modules/cross_validation.html\n",
    "  * https://en.wikipedia.org/wiki/Reinforcement_learning\n",
    "\n",
    "### Workflow Related Readings\n",
    "\n",
    "  * [Someone asked the right question!](https://www.quora.com/How-does-one-operationalize-a-machine-learning-ranking-system-from-an-organization-and-an-engineering-management-point-of-view-How-do-organizations-make-sure-that-theyre-running-smoothly-and-improving-How-are-goals-defined-and-by-whom) Please read the response to the post by **_Brandon Ballinger, applied ML to fraud, speech recognition, and ads_**\n",
    "  * [A \"Kaggle Grad Master\" take on the ML workflow](http://blog.kaggle.com/2016/07/21/approaching-almost-any-machine-learning-problem-abhishek-thakur/)\n",
    "\n",
    "### ML Workflow Perspectives (as time permits)\n",
    "\n",
    "  * [Cross-Validation as a practicioner](https://robjhyndman.com/hyndsight/crossvalidation/)\n",
    "  * [Management-Level for perspective](http://www.mckinsey.com/industries/high-tech/our-insights/an-executives-guide-to-machine-learning)\n",
    "  * [Case Study](https://content.pivotal.io/blog/scoring-as-a-service-to-operationalize-algorithms-for-real-time) \n",
    "  * [This is actually a Video](https://www.youtube.com/watch?v=q5-p9U4qU3s&feature=youtu.be)\n",
    "  \n",
    "  \n",
    "\n",
    " "
   ]
  },
  {
   "cell_type": "markdown",
   "metadata": {},
   "source": [
    "## Labs\n",
    "\n",
    "The goal of the labs this module are to refresh you on some basic machine learning you have seen before.\n",
    "The labs are using the Python Scikit-Learn package and some simple ML examples.\n",
    "\n",
    "  * [Cross-Validation](./labs/CrossValidation.ipynb)\n",
    "  * [Scikit Learn](./labs/ScikitLearn.ipynb)\n",
    "  * [Train Validate Test](./labs/TrainValidateTest.ipynb)\n"
   ]
  },
  {
   "cell_type": "markdown",
   "metadata": {},
   "source": [
    "## Practices\n",
    "\n",
    "  * [Cross-Validation](./practices/CrossValidation.ipynb)\n",
    "  * [Train-Validate-Test](./practices/TrainValidateTest.ipynb)\n"
   ]
  },
  {
   "cell_type": "markdown",
   "metadata": {},
   "source": [
    "## Exercises\n",
    "\n",
    "  * [ML Training and Validation and Testing](./exercises/TrainValTrainTest.ipynb)\n"
   ]
  },
  {
   "cell_type": "markdown",
   "metadata": {},
   "source": [
    "## Submitting your work\n",
    "\n",
    "#### Steps:\n",
    "  1. Open Terminal in JupyterHub\n",
    "  1. Change into the course folder\n",
    "  1. Stage (Git Add) the module's practive and exercise work   \n",
    "  `git  add   module2/practices    module2/exercises`\n",
    "  1. Create your work snapshot (Git Commit)  \n",
    "  `git   commit   -m   \"Module 2 submission\"`\n",
    "  1. Upload the snapshot to the server (Git Push)  \n",
    "  `git   push`\n"
   ]
  },
  {
   "cell_type": "markdown",
   "metadata": {},
   "source": [
    "## Congratulations, you have completed the learning activities for this module!"
   ]
  }
 ],
 "metadata": {
  "kernelspec": {
   "display_name": "Python 3",
   "language": "python",
   "name": "python3"
  },
  "language_info": {
   "codemirror_mode": {
    "name": "ipython",
    "version": 3
   },
   "file_extension": ".py",
   "mimetype": "text/x-python",
   "name": "python",
   "nbconvert_exporter": "python",
   "pygments_lexer": "ipython3",
   "version": "3.4.5"
  }
 },
 "nbformat": 4,
 "nbformat_minor": 2
}
