{
 "cells": [
  {
   "cell_type": "markdown",
   "metadata": {},
   "source": [
    "# Module 6: Linear Support Vector Machine - Practice\n",
    "\n",
    "In this session, you will practice using Linear SVM on **red wine** dataset\n",
    "with the typical train/validate workflow."
   ]
  },
  {
   "cell_type": "code",
   "execution_count": null,
   "metadata": {
    "collapsed": true
   },
   "outputs": [],
   "source": [
    "%matplotlib inline\n",
    "import matplotlib.pyplot as plt\n",
    "\n",
    "import os, sys\n",
    "import itertools\n",
    "import numpy as np\n",
    "import pandas as pd\n",
    "import tensorflow as tf\n",
    "from sklearn.preprocessing import scale\n",
    "from sklearn.model_selection import train_test_split\n",
    "from sklearn.metrics import confusion_matrix\n",
    "\n",
    "tf.logging.set_verbosity(tf.logging.ERROR)"
   ]
  },
  {
   "cell_type": "markdown",
   "metadata": {},
   "source": [
    "## Load dataset\n",
    "\n",
    "In the following cell, **print out class distribution** before and after labels are binarized respectively."
   ]
  },
  {
   "cell_type": "code",
   "execution_count": null,
   "metadata": {
    "collapsed": true
   },
   "outputs": [],
   "source": [
    "# Dataset location\n",
    "DATASET = '/dsa/data/all_datasets/wine-quality/winequality-red.csv'\n",
    "assert os.path.exists(DATASET)\n",
    "\n",
    "# Load and shuffle\n",
    "dataset = pd.read_csv(DATASET, sep=';').sample(frac = 1).reset_index(drop=True)"
   ]
  },
  {
   "cell_type": "code",
   "execution_count": null,
   "metadata": {},
   "outputs": [],
   "source": [
    "# Pull features and labels\n",
    "selected_features = [1,6,9,10]\n",
    "X = scale(np.array(dataset.iloc[:, selected_features]))\n",
    "y = np.array(dataset.quality)\n",
    "\n",
    "# Complete code below this comment  (Question #P6001)\n",
    "# ----------------------------------\n",
    "print('Class distribution (before binarization):', {i: <placeholder> for i in np.unique(y)})\n",
    "\n",
    "# Binarize labels\n",
    "y = y>=6\n",
    "print('Class distribution (after binarization):', {i: <placeholder> for i in np.unique(y)})\n",
    "# ----------------------------------\n",
    "\n",
    "# Create training/validation split\n",
    "X_train, X_test, y_train, y_test = train_test_split(X, y, test_size=0.25)\n",
    "\n",
    "dataset.describe()"
   ]
  },
  {
   "cell_type": "markdown",
   "metadata": {},
   "source": [
    "## Create linear SVM model\n",
    "\n",
    "Collect names for all selected feature columns."
   ]
  },
  {
   "cell_type": "code",
   "execution_count": null,
   "metadata": {
    "collapsed": true
   },
   "outputs": [],
   "source": [
    "feature_names = [dataset.columns[i].replace('\\x20', '_') for i in selected_features]\n",
    "print(feature_names)"
   ]
  },
  {
   "cell_type": "markdown",
   "metadata": {},
   "source": [
    "Create feature columns placeholders for TensorFlow SVM."
   ]
  },
  {
   "cell_type": "code",
   "execution_count": null,
   "metadata": {
    "collapsed": true
   },
   "outputs": [],
   "source": [
    "# Complete code below this comment  (Question #P6002)\n",
    "# ----------------------------------\n",
    "feature_columns = [<placeholder> for feature_name in feature_names]"
   ]
  },
  {
   "cell_type": "markdown",
   "metadata": {},
   "source": [
    "Create a linear classifier."
   ]
  },
  {
   "cell_type": "code",
   "execution_count": null,
   "metadata": {
    "collapsed": true
   },
   "outputs": [],
   "source": [
    "# Complete code below this comment  (Question #P6003)\n",
    "# ----------------------------------\n",
    "classifier = tf.contrib.learn.SVM('example_id', feature_columns=<placeholder>, l2_regularization=1.0)"
   ]
  },
  {
   "cell_type": "markdown",
   "metadata": {},
   "source": [
    "## Training and preparation\n",
    "\n",
    "Create input_fn() to supply training data for linear SVM."
   ]
  },
  {
   "cell_type": "code",
   "execution_count": null,
   "metadata": {
    "collapsed": true
   },
   "outputs": [],
   "source": [
    "# Complete code below this comment  (Question #P6004)\n",
    "# ----------------------------------\n",
    "def input_fn():\n",
    "    columns = {\n",
    "        feature_name: tf.constant(np.expand_dims(<placeholder>, 1))\n",
    "            for i,feature_name in enumerate(feature_names)\n",
    "    }\n",
    "    columns['example_id'] = tf.constant([str(i+1) for i in range(len(X_train))])\n",
    "    labels = tf.constant(<placeholder>)\n",
    "    return columns, labels\n"
   ]
  },
  {
   "cell_type": "markdown",
   "metadata": {},
   "source": [
    "Train SVM."
   ]
  },
  {
   "cell_type": "code",
   "execution_count": null,
   "metadata": {
    "collapsed": true
   },
   "outputs": [],
   "source": [
    "# Add code below this comment  (Question #P6005)\n",
    "# ----------------------------------\n",
    "\n",
    "\n",
    "\n",
    "\n",
    "\n",
    "\n"
   ]
  },
  {
   "cell_type": "markdown",
   "metadata": {},
   "source": [
    "## Evaluation\n",
    "\n",
    "Create a predict_fn() to supply data to make predictions.  \n",
    "Then call classifier.predict() to create y_pred."
   ]
  },
  {
   "cell_type": "code",
   "execution_count": null,
   "metadata": {
    "collapsed": true
   },
   "outputs": [],
   "source": [
    "# Complete code below this comment  (Question #P6006)\n",
    "# ----------------------------------\n",
    "def predict_fn():\n",
    "    columns = {\n",
    "        feature_name: tf.constant(np.expand_dims(<placeholder>, 1))\n",
    "            for i,feature_name in enumerate(<placeholder>)\n",
    "    }\n",
    "    columns['example_id'] = tf.constant([str(i+1) for i in range(len(X_test))])\n",
    "    return columns"
   ]
  },
  {
   "cell_type": "markdown",
   "metadata": {},
   "source": [
    "Then call classifier.predict() to create **y_pred** as predictions.\n",
    "\n",
    "**Hint**: See LinearSVM lab."
   ]
  },
  {
   "cell_type": "code",
   "execution_count": null,
   "metadata": {
    "collapsed": true
   },
   "outputs": [],
   "source": [
    "# Add code below this comment  (Question #P6007)\n",
    "# ----------------------------------\n",
    "\n",
    "\n",
    "\n",
    "\n",
    "\n"
   ]
  },
  {
   "cell_type": "markdown",
   "metadata": {},
   "source": [
    "Feed predictions **y_pred** along with ground truth **y_test** to confusion_matrix() to create a confusion matrix."
   ]
  },
  {
   "cell_type": "code",
   "execution_count": null,
   "metadata": {
    "collapsed": true
   },
   "outputs": [],
   "source": [
    "# Add code below this comment  (Question #P6008)\n",
    "# ----------------------------------\n",
    "\n",
    "\n",
    "\n",
    "\n",
    "\n"
   ]
  },
  {
   "cell_type": "markdown",
   "metadata": {},
   "source": [
    "# Save your notebook!"
   ]
  }
 ],
 "metadata": {
  "kernelspec": {
   "display_name": "Python 3",
   "language": "python",
   "name": "python3"
  },
  "language_info": {
   "codemirror_mode": {
    "name": "ipython",
    "version": 3
   },
   "file_extension": ".py",
   "mimetype": "text/x-python",
   "name": "python",
   "nbconvert_exporter": "python",
   "pygments_lexer": "ipython3",
   "version": "3.4.5"
  }
 },
 "nbformat": 4,
 "nbformat_minor": 2
}
