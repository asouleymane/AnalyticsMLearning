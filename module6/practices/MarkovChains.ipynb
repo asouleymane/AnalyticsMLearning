{
 "cells": [
  {
   "cell_type": "markdown",
   "metadata": {},
   "source": [
    "# Module 6: Markov Chains - Practice\n",
    "\n",
    "In this session, we will gently practice appling this graphical model of **markov chain** to a real-world dataset.\n",
    "\n",
    "The dataset is a graph of connections between web pages.\n",
    "\n",
    "Dataset: [Stanford web graph](https://snap.stanford.edu/data/web-Stanford.html)\n",
    "\n",
    "The task is to predict popularities of each web page solely based on its degree of connectivity\n",
    "relative to other pages.  \n",
    "This is part of Google's famous algorithm [PageRank](https://en.wikipedia.org/wiki/PageRank)."
   ]
  },
  {
   "cell_type": "code",
   "execution_count": 1,
   "metadata": {
    "collapsed": true
   },
   "outputs": [],
   "source": [
    "import os, sys\n",
    "import itertools\n",
    "import pickle\n",
    "import numpy as np\n",
    "import tensorflow as tf"
   ]
  },
  {
   "cell_type": "markdown",
   "metadata": {},
   "source": [
    "## Load dataset\n",
    "\n",
    "This time it's a **graph**, which is a type of data structure in computer science, widely applicable\n",
    "to representing objects we are studying with vertices and relations between them with edges.\n",
    "\n",
    "Formally defined as $G=(V, E)$, where V is set of vertices and E is set of edges.\n",
    "\n",
    "* [Wikipedia: Graph](https://goo.gl/Da4yAS)\n",
    "* [What are graphs in laymen's terms](https://softwareengineering.stackexchange.com/questions/168058/what-are-graphs-in-laymens-terms)\n",
    "\n",
    "We still represent the graph with fundamental linear data structures such as list() and set() in Python.\n",
    "\n",
    "Here's how:\n",
    "\n",
    "![Graph example](../resources/graph_example.png)\n",
    "\n",
    "Take this graph for example. Each circle (**vertex**) can represent web pages there are on the Internet.  \n",
    "Each arrow (**directed edge**) can be representing hyperlinks that sends user from one page to another.\n",
    "\n",
    "Here's an [adjacency list](https://en.wikipedia.org/wiki/Adjacency_list) representation of the graph.\n",
    "\n",
    "~~~python\n",
    "G = [\n",
    "    {3, 4}, # descendants of vertex 0\n",
    "    {5},    # descendants of vertex 1\n",
    "    {},     # descendants of vertex 2\n",
    "    {1},    # descendants of vertex 3\n",
    "    {2, 5}, # descendants of vertex 4\n",
    "    {}      # descendants of vertex 5\n",
    "]\n",
    "~~~\n",
    "\n",
    "Now we will be able to look up, for instance, all vertices connected to vertex 4 with **G[4]**.  \n",
    "And we can check whether 3 is connected to 4 using **3 in G[4]**. This check is $O(1)$ time due  \n",
    "to the fact that we put descendants in a set whose underlying data structure is hash set.  \n",
    "If you have no prior experience to dealing with this type of data structure, all you have to know  \n",
    "is that this representation is relatively **convenient** and it's **fast**.\n",
    "\n",
    "The following cell will load in a graph in an **adjacency list** representation."
   ]
  },
  {
   "cell_type": "code",
   "execution_count": 2,
   "metadata": {},
   "outputs": [
    {
     "name": "stdout",
     "output_type": "stream",
     "text": [
      "Graph size V=5600 E=1209\n"
     ]
    }
   ],
   "source": [
    "# Size of graph\n",
    "num_vertices = 0\n",
    "num_edges = 0\n",
    "with open('/dsa/data/all_datasets/AppliedML_M6/web-Stanford.5600.pkl', 'rb') as f_adj:\n",
    "    G = pickle.load(f_adj)\n",
    "    for k, v in G.items():\n",
    "        num_edges += len(v)\n",
    "        num_vertices = max(num_vertices, max(k, max(v)))\n",
    "\n",
    "print('Graph size', 'V={} E={}'.format(num_vertices, num_edges))"
   ]
  },
  {
   "cell_type": "markdown",
   "metadata": {},
   "source": [
    "Now we derive transition matrix for markov chain from a connectivity matrix, defined as\n",
    "\n",
    "$$ C_{ij} = [\\text{whether there's an edge from i to j}] $$\n",
    "\n",
    "Following previous example graph illustrated in the figure, $C$ would be:\n",
    "\n",
    "$$\\begin{pmatrix} 0 & 0 & 0 & 1 & 1 & 0 \\\\ 0 & 0 & 0 & 0 & 0 & 1 \\\\ 0 & 0 & 0 & 0 & 0 & 0 \\\\ 0 & 1 & 0 & 0 & 0 & 0 \\\\ 0 & 0 & 1 & 0 & 0 & 1 \\\\ 0 & 0 & 0 & 0 & 0 & 0 \\end{pmatrix}$$"
   ]
  },
  {
   "cell_type": "code",
   "execution_count": 5,
   "metadata": {},
   "outputs": [],
   "source": [
    "# Initialize as all zeros\n",
    "matG = np.zeros((num_vertices, num_vertices), dtype=bool) # Connectivity matrix\n",
    "\n",
    "# Complete code below this comment  (Question #P6101)\n",
    "# ----------------------------------\n",
    "# Set 1 if there's an directed edge\n",
    "for u, V in G.items(): # traverse vertices\n",
    "    for v in V: # traverse directed edges outbound from u\n",
    "        matG[u-1, v-1] = 1 # we are using [u-1, v-1] as index because data we loaded uses 1-based index,\n",
    "                           #    while numpy array uses 0-based index."
   ]
  },
  {
   "cell_type": "markdown",
   "metadata": {},
   "source": [
    "Compute transition matrix assuming transition probability for each vertex is a discrete uniform distribution.  \n",
    "That is to say, at any given webpage, user is equally likely to click on any link on that web page the next moment.\n",
    "\n",
    "Therefore the transition matrix should be:\n",
    "\n",
    "$$T_{ij} = \\frac{1}{deg^{+}(i)} $$\n",
    "\n",
    "where $ deg^{+}(i) $ denotes the outdegree of a vertex.\n",
    "\n",
    "We can find out outdegree by summing up **connectivity matrix** along **axis=1**.\n",
    "\n",
    "Only be careful with the edge case where $deg^{+}(i)=0$, which by definition means there's no\n",
    "outbound connection for vertex i. So the transition probability should be 0 because if a webpage\n",
    "contains no link, user couldn't possibly go anywhere from there."
   ]
  },
  {
   "cell_type": "code",
   "execution_count": 6,
   "metadata": {},
   "outputs": [
    {
     "name": "stdout",
     "output_type": "stream",
     "text": [
      "Transition matrix shape (5600, 5600)\n"
     ]
    }
   ],
   "source": [
    "# Compute transition matrix\n",
    "\n",
    "# Complete code below this comment  (Question #P6102)\n",
    "# ----------------------------------\n",
    "out_degree = np.sum(matG,axis=1)\n",
    "# ----------------------------------\n",
    "\n",
    "# only deal with vertices which have any outbound connection at all\n",
    "nonzero = np.flatnonzero(out_degree)\n",
    "P = matG.copy().astype(float)\n",
    "P[nonzero, :] /= out_degree[nonzero][..., np.newaxis]\n",
    "\n",
    "print('Transition matrix shape', P.shape)"
   ]
  },
  {
   "cell_type": "markdown",
   "metadata": {},
   "source": [
    "Find out stationary distribution."
   ]
  },
  {
   "cell_type": "code",
   "execution_count": 8,
   "metadata": {},
   "outputs": [
    {
     "name": "stdout",
     "output_type": "stream",
     "text": [
      "CPU times: user 3min 55s, sys: 1.32 s, total: 3min 56s\n",
      "Wall time: 21.3 s\n"
     ]
    }
   ],
   "source": [
    "%%time\n",
    "\n",
    "# Compute stationary state - power method\n",
    "def mat_power(M, n):\n",
    "    \"\"\" Construct a graph that raises square matrix M to n-th power where n>=1\n",
    "    This generates a computational graph with space complexity O(log(n)).\n",
    "    \"\"\"\n",
    "    assert n>=1\n",
    "    # trivial cases\n",
    "    if n==2:\n",
    "        return tf.matmul(M, M)\n",
    "    elif n==1:\n",
    "        return M\n",
    "    \n",
    "    # divide & conquer\n",
    "    A = mat_power(M, n//2)\n",
    "    A2 = tf.matmul(A, A)\n",
    "    if n&1: # odd power\n",
    "        return tf.matmul(A2, M)\n",
    "    else: # even power\n",
    "        return A2\n",
    "\n",
    "    \n",
    "# Complete code below this comment  (Question #P6103)\n",
    "# ----------------------------------\n",
    "def get_stationary_state(P):\n",
    "    pi0 = tf.constant(np.ones((1, len(P)))/len(P))\n",
    "    transition_matrix = tf.constant(P)\n",
    "    stationary_state = tf.squeeze(tf.matmul(pi0,mat_power(transition_matrix,50)))\n",
    "    with tf.Session() as sess:\n",
    "        return sess.run(stationary_state)\n",
    "\n",
    "a = get_stationary_state(P)"
   ]
  },
  {
   "cell_type": "markdown",
   "metadata": {},
   "source": [
    "Print out **less than 10** indices of top ranked pages.\n",
    "\n",
    "**Hint**: $a$ is a probability distribution. An uninformative uniform distribution would have 1/5600\n",
    "in all of it's entries where 5600 is number of vertices in this graph.\n",
    "So this code currently thresholds out web pages that are more popular than average."
   ]
  },
  {
   "cell_type": "code",
   "execution_count": 18,
   "metadata": {},
   "outputs": [
    {
     "name": "stdout",
     "output_type": "stream",
     "text": [
      "Most popular pages [  80  165  784  891  925 1148 1305 1342 1887]\n"
     ]
    }
   ],
   "source": [
    "# Tweak code below this comment so that it only prints less than 10 entries (Question #P6104)\n",
    "# ----------------------------------\n",
    "print('Most popular pages', (np.flatnonzero(a>1/5600)+1)[:9])"
   ]
  },
  {
   "cell_type": "markdown",
   "metadata": {},
   "source": [
    "# Save your notebook!"
   ]
  }
 ],
 "metadata": {
  "kernelspec": {
   "display_name": "Python 3",
   "language": "python",
   "name": "python3"
  },
  "language_info": {
   "codemirror_mode": {
    "name": "ipython",
    "version": 3
   },
   "file_extension": ".py",
   "mimetype": "text/x-python",
   "name": "python",
   "nbconvert_exporter": "python",
   "pygments_lexer": "ipython3",
   "version": "3.4.5"
  }
 },
 "nbformat": 4,
 "nbformat_minor": 2
}
