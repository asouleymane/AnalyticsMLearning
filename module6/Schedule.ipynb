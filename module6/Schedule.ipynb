{
 "cells": [
  {
   "cell_type": "markdown",
   "metadata": {},
   "source": [
    "# 6 \n",
    "# Support Vector Machines, Bayesian &amp; Probability Graph Models"
   ]
  },
  {
   "cell_type": "markdown",
   "metadata": {},
   "source": [
    "## Module Topics\n",
    " * Linear SVM\n",
    "   * Kernel Trick\n",
    "   * Hard vs Soft Margins\n",
    " * Non-Linear SVM\n",
    "   - Polynomial\n",
    "   - RBF\n",
    "   - Hyperbolic\n",
    " * Multi-class SVM\n",
    " * Support Vector Clustering\n",
    " * Bayesian Network\n",
    " * Markov Random Field\n",
    " * Markov Chains"
   ]
  },
  {
   "cell_type": "markdown",
   "metadata": {},
   "source": [
    "## Review Readings\n",
    "\n",
    "You previously saw basic Support Vector Machines in 8610 (Stat/Math).\n",
    "In this module, you will see more SVM including linear, non-linear, and multi-class.\n",
    "\n",
    "  * https://en.wikipedia.org/wiki/Support_vector_machine\n",
    "\n",
    "\n",
    "\n",
    "## New Topic Readings\n",
    "\n",
    "We will also introduce you to **Markov Chains** and the study of probability state changes.\n",
    "  * https://en.wikipedia.org/wiki/Markov_chain\n",
    "  * http://setosa.io/ev/markov-chains/\n",
    "  * https://www.dartmouth.edu/~chance/teaching_aids/books_articles/probability_book/Chapter11.pdf\n",
    "\n",
    "\n",
    " "
   ]
  },
  {
   "cell_type": "markdown",
   "metadata": {},
   "source": [
    "## Labs\n",
    "\n",
    "  * [Linear SVM](./labs/LinearSVM.ipynb)\n",
    "  * [Non-linear SVM](./labs/Non-linearSVM.ipynb)\n",
    "  * [MultiSVM](./labs/MultiSVM.ipynb)\n",
    "  * [MarkovChains](./labs/MarkovChains.ipynb)\n"
   ]
  },
  {
   "cell_type": "markdown",
   "metadata": {},
   "source": [
    "## Practices\n",
    "\n",
    "  * [Linear SVM](./practices/LinearSVM.ipynb)\n",
    "  * [Markov Chains](./practices/MarkovChains.ipynb)\n"
   ]
  },
  {
   "cell_type": "markdown",
   "metadata": {},
   "source": [
    "## Exercises\n",
    "\n",
    "  * [Linear SVM](./exercises/LinearSVM.ipynb)\n"
   ]
  },
  {
   "cell_type": "markdown",
   "metadata": {},
   "source": [
    "## Submitting your work\n",
    "\n",
    "#### Steps:\n",
    "  1. Open Terminal in JupyterHub\n",
    "  1. Change into the course folder\n",
    "  1. Stage (Git Add) the module's practive and exercise work   \n",
    "  `git  add   module6/practices    module6/exercises`\n",
    "  1. Create your work snapshot (Git Commit)  \n",
    "  `git   commit   -m   \"Module 6 submission\"`\n",
    "  1. Upload the snapshot to the server (Git Push)  \n",
    "  `git   push`\n"
   ]
  },
  {
   "cell_type": "markdown",
   "metadata": {},
   "source": [
    "## Congratulations, you have completed the learning activities for this module!"
   ]
  }
 ],
 "metadata": {
  "kernelspec": {
   "display_name": "Python 3",
   "language": "python",
   "name": "python3"
  },
  "language_info": {
   "codemirror_mode": {
    "name": "ipython",
    "version": 3
   },
   "file_extension": ".py",
   "mimetype": "text/x-python",
   "name": "python",
   "nbconvert_exporter": "python",
   "pygments_lexer": "ipython3",
   "version": "3.4.5"
  }
 },
 "nbformat": 4,
 "nbformat_minor": 2
}
