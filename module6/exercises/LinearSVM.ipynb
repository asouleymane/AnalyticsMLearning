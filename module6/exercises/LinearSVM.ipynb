{
 "cells": [
  {
   "cell_type": "markdown",
   "metadata": {},
   "source": [
    "# Module 6: Exercise\n",
    "\n",
    "In this session, we fit a linear SVM on **Medical Appointment No Shows** dataset\n",
    "with the typical train/validate workflow.\n",
    "\n",
    "In addition, you are supposed to perform outlier removal and feature selection before\n",
    "training a linear SVM on this dataset as well.\n",
    "\n",
    "Please follow **LinearSVM** and **Processing** labs in this module to get familliarized with\n",
    "linear SVM model and prepare for this exercise.\n",
    "\n",
    "The **Processing** provides an example of how you could incorporate feature selections and\n",
    "outlier detection into a more complete data analysis workflow.\n",
    "Please refer back to labs in **Module 3** and **Module 4** respectively for more details.\n",
    "\n",
    "Dataset: https://www.kaggle.com/joniarroba/noshowappointments"
   ]
  },
  {
   "cell_type": "code",
   "execution_count": 1,
   "metadata": {
    "collapsed": true
   },
   "outputs": [],
   "source": [
    "%matplotlib inline\n",
    "import matplotlib.pyplot as plt\n",
    "\n",
    "import os, sys\n",
    "import itertools\n",
    "import numpy as np\n",
    "import pandas as pd"
   ]
  },
  {
   "cell_type": "markdown",
   "metadata": {},
   "source": [
    "## Load dataset\n",
    "\n",
    "This dataset is used to potentially predict **No-show** from various factors recorded."
   ]
  },
  {
   "cell_type": "code",
   "execution_count": 17,
   "metadata": {},
   "outputs": [
    {
     "data": {
      "text/html": [
       "<div>\n",
       "<style>\n",
       "    .dataframe thead tr:only-child th {\n",
       "        text-align: right;\n",
       "    }\n",
       "\n",
       "    .dataframe thead th {\n",
       "        text-align: left;\n",
       "    }\n",
       "\n",
       "    .dataframe tbody tr th {\n",
       "        vertical-align: top;\n",
       "    }\n",
       "</style>\n",
       "<table border=\"1\" class=\"dataframe\">\n",
       "  <thead>\n",
       "    <tr style=\"text-align: right;\">\n",
       "      <th></th>\n",
       "      <th>PatientId</th>\n",
       "      <th>AppointmentID</th>\n",
       "      <th>Age</th>\n",
       "      <th>Scholarship</th>\n",
       "      <th>Hipertension</th>\n",
       "      <th>Diabetes</th>\n",
       "      <th>Alcoholism</th>\n",
       "      <th>Handcap</th>\n",
       "      <th>SMS_received</th>\n",
       "    </tr>\n",
       "  </thead>\n",
       "  <tbody>\n",
       "    <tr>\n",
       "      <th>count</th>\n",
       "      <td>1.105270e+05</td>\n",
       "      <td>1.105270e+05</td>\n",
       "      <td>110527.000000</td>\n",
       "      <td>110527.000000</td>\n",
       "      <td>110527.000000</td>\n",
       "      <td>110527.000000</td>\n",
       "      <td>110527.000000</td>\n",
       "      <td>110527.000000</td>\n",
       "      <td>110527.000000</td>\n",
       "    </tr>\n",
       "    <tr>\n",
       "      <th>mean</th>\n",
       "      <td>1.474963e+14</td>\n",
       "      <td>5.675305e+06</td>\n",
       "      <td>37.088874</td>\n",
       "      <td>0.098266</td>\n",
       "      <td>0.197246</td>\n",
       "      <td>0.071865</td>\n",
       "      <td>0.030400</td>\n",
       "      <td>0.022248</td>\n",
       "      <td>0.321026</td>\n",
       "    </tr>\n",
       "    <tr>\n",
       "      <th>std</th>\n",
       "      <td>2.560949e+14</td>\n",
       "      <td>7.129575e+04</td>\n",
       "      <td>23.110205</td>\n",
       "      <td>0.297675</td>\n",
       "      <td>0.397921</td>\n",
       "      <td>0.258265</td>\n",
       "      <td>0.171686</td>\n",
       "      <td>0.161543</td>\n",
       "      <td>0.466873</td>\n",
       "    </tr>\n",
       "    <tr>\n",
       "      <th>min</th>\n",
       "      <td>3.921784e+04</td>\n",
       "      <td>5.030230e+06</td>\n",
       "      <td>-1.000000</td>\n",
       "      <td>0.000000</td>\n",
       "      <td>0.000000</td>\n",
       "      <td>0.000000</td>\n",
       "      <td>0.000000</td>\n",
       "      <td>0.000000</td>\n",
       "      <td>0.000000</td>\n",
       "    </tr>\n",
       "    <tr>\n",
       "      <th>25%</th>\n",
       "      <td>4.172614e+12</td>\n",
       "      <td>5.640286e+06</td>\n",
       "      <td>18.000000</td>\n",
       "      <td>0.000000</td>\n",
       "      <td>0.000000</td>\n",
       "      <td>0.000000</td>\n",
       "      <td>0.000000</td>\n",
       "      <td>0.000000</td>\n",
       "      <td>0.000000</td>\n",
       "    </tr>\n",
       "    <tr>\n",
       "      <th>50%</th>\n",
       "      <td>3.173184e+13</td>\n",
       "      <td>5.680573e+06</td>\n",
       "      <td>37.000000</td>\n",
       "      <td>0.000000</td>\n",
       "      <td>0.000000</td>\n",
       "      <td>0.000000</td>\n",
       "      <td>0.000000</td>\n",
       "      <td>0.000000</td>\n",
       "      <td>0.000000</td>\n",
       "    </tr>\n",
       "    <tr>\n",
       "      <th>75%</th>\n",
       "      <td>9.439172e+13</td>\n",
       "      <td>5.725524e+06</td>\n",
       "      <td>55.000000</td>\n",
       "      <td>0.000000</td>\n",
       "      <td>0.000000</td>\n",
       "      <td>0.000000</td>\n",
       "      <td>0.000000</td>\n",
       "      <td>0.000000</td>\n",
       "      <td>1.000000</td>\n",
       "    </tr>\n",
       "    <tr>\n",
       "      <th>max</th>\n",
       "      <td>9.999816e+14</td>\n",
       "      <td>5.790484e+06</td>\n",
       "      <td>115.000000</td>\n",
       "      <td>1.000000</td>\n",
       "      <td>1.000000</td>\n",
       "      <td>1.000000</td>\n",
       "      <td>1.000000</td>\n",
       "      <td>4.000000</td>\n",
       "      <td>1.000000</td>\n",
       "    </tr>\n",
       "  </tbody>\n",
       "</table>\n",
       "</div>"
      ],
      "text/plain": [
       "          PatientId  AppointmentID            Age    Scholarship  \\\n",
       "count  1.105270e+05   1.105270e+05  110527.000000  110527.000000   \n",
       "mean   1.474963e+14   5.675305e+06      37.088874       0.098266   \n",
       "std    2.560949e+14   7.129575e+04      23.110205       0.297675   \n",
       "min    3.921784e+04   5.030230e+06      -1.000000       0.000000   \n",
       "25%    4.172614e+12   5.640286e+06      18.000000       0.000000   \n",
       "50%    3.173184e+13   5.680573e+06      37.000000       0.000000   \n",
       "75%    9.439172e+13   5.725524e+06      55.000000       0.000000   \n",
       "max    9.999816e+14   5.790484e+06     115.000000       1.000000   \n",
       "\n",
       "        Hipertension       Diabetes     Alcoholism        Handcap  \\\n",
       "count  110527.000000  110527.000000  110527.000000  110527.000000   \n",
       "mean        0.197246       0.071865       0.030400       0.022248   \n",
       "std         0.397921       0.258265       0.171686       0.161543   \n",
       "min         0.000000       0.000000       0.000000       0.000000   \n",
       "25%         0.000000       0.000000       0.000000       0.000000   \n",
       "50%         0.000000       0.000000       0.000000       0.000000   \n",
       "75%         0.000000       0.000000       0.000000       0.000000   \n",
       "max         1.000000       1.000000       1.000000       4.000000   \n",
       "\n",
       "        SMS_received  \n",
       "count  110527.000000  \n",
       "mean        0.321026  \n",
       "std         0.466873  \n",
       "min         0.000000  \n",
       "25%         0.000000  \n",
       "50%         0.000000  \n",
       "75%         1.000000  \n",
       "max         1.000000  "
      ]
     },
     "execution_count": 17,
     "metadata": {},
     "output_type": "execute_result"
    }
   ],
   "source": [
    "# Dataset location\n",
    "DATASET = '/dsa/data/all_datasets/AppliedML_M6/appointment_noshow.csv'\n",
    "assert os.path.exists(DATASET)\n",
    "\n",
    "# Load and shuffle\n",
    "dataset = pd.read_csv(DATASET).sample(frac = 1).reset_index(drop=True)\n",
    "dataset.describe()"
   ]
  },
  {
   "cell_type": "markdown",
   "metadata": {},
   "source": [
    "## Processing\n",
    "\n",
    "<span style=\"background: yellow;\">For this section, every time when you are debugging your code to modify the dataset, you probably need to re-run cells from **Load dataset**. (above cell)</span>"
   ]
  },
  {
   "cell_type": "markdown",
   "metadata": {},
   "source": [
    "List top 5 records to have a preview of this dataset."
   ]
  },
  {
   "cell_type": "code",
   "execution_count": 18,
   "metadata": {},
   "outputs": [
    {
     "data": {
      "text/html": [
       "<div>\n",
       "<style>\n",
       "    .dataframe thead tr:only-child th {\n",
       "        text-align: right;\n",
       "    }\n",
       "\n",
       "    .dataframe thead th {\n",
       "        text-align: left;\n",
       "    }\n",
       "\n",
       "    .dataframe tbody tr th {\n",
       "        vertical-align: top;\n",
       "    }\n",
       "</style>\n",
       "<table border=\"1\" class=\"dataframe\">\n",
       "  <thead>\n",
       "    <tr style=\"text-align: right;\">\n",
       "      <th></th>\n",
       "      <th>PatientId</th>\n",
       "      <th>AppointmentID</th>\n",
       "      <th>Gender</th>\n",
       "      <th>ScheduledDay</th>\n",
       "      <th>AppointmentDay</th>\n",
       "      <th>Age</th>\n",
       "      <th>Neighbourhood</th>\n",
       "      <th>Scholarship</th>\n",
       "      <th>Hipertension</th>\n",
       "      <th>Diabetes</th>\n",
       "      <th>Alcoholism</th>\n",
       "      <th>Handcap</th>\n",
       "      <th>SMS_received</th>\n",
       "      <th>No-show</th>\n",
       "    </tr>\n",
       "  </thead>\n",
       "  <tbody>\n",
       "    <tr>\n",
       "      <th>0</th>\n",
       "      <td>8.236818e+14</td>\n",
       "      <td>5604716</td>\n",
       "      <td>F</td>\n",
       "      <td>2016-04-20T08:15:11Z</td>\n",
       "      <td>2016-05-02T00:00:00Z</td>\n",
       "      <td>13</td>\n",
       "      <td>CONQUISTA</td>\n",
       "      <td>0</td>\n",
       "      <td>0</td>\n",
       "      <td>0</td>\n",
       "      <td>0</td>\n",
       "      <td>0</td>\n",
       "      <td>1</td>\n",
       "      <td>No</td>\n",
       "    </tr>\n",
       "    <tr>\n",
       "      <th>1</th>\n",
       "      <td>7.139581e+14</td>\n",
       "      <td>5658944</td>\n",
       "      <td>F</td>\n",
       "      <td>2016-05-04T12:37:06Z</td>\n",
       "      <td>2016-05-04T00:00:00Z</td>\n",
       "      <td>15</td>\n",
       "      <td>SANTA MARTHA</td>\n",
       "      <td>0</td>\n",
       "      <td>0</td>\n",
       "      <td>0</td>\n",
       "      <td>0</td>\n",
       "      <td>0</td>\n",
       "      <td>0</td>\n",
       "      <td>No</td>\n",
       "    </tr>\n",
       "    <tr>\n",
       "      <th>2</th>\n",
       "      <td>9.918162e+12</td>\n",
       "      <td>5646167</td>\n",
       "      <td>M</td>\n",
       "      <td>2016-05-02T11:00:26Z</td>\n",
       "      <td>2016-05-10T00:00:00Z</td>\n",
       "      <td>70</td>\n",
       "      <td>ILHA DO PRÍNCIPE</td>\n",
       "      <td>0</td>\n",
       "      <td>0</td>\n",
       "      <td>0</td>\n",
       "      <td>0</td>\n",
       "      <td>0</td>\n",
       "      <td>1</td>\n",
       "      <td>No</td>\n",
       "    </tr>\n",
       "    <tr>\n",
       "      <th>3</th>\n",
       "      <td>3.194793e+14</td>\n",
       "      <td>5684241</td>\n",
       "      <td>F</td>\n",
       "      <td>2016-05-11T08:23:40Z</td>\n",
       "      <td>2016-05-11T00:00:00Z</td>\n",
       "      <td>37</td>\n",
       "      <td>TABUAZEIRO</td>\n",
       "      <td>1</td>\n",
       "      <td>0</td>\n",
       "      <td>0</td>\n",
       "      <td>0</td>\n",
       "      <td>0</td>\n",
       "      <td>0</td>\n",
       "      <td>No</td>\n",
       "    </tr>\n",
       "    <tr>\n",
       "      <th>4</th>\n",
       "      <td>5.777447e+11</td>\n",
       "      <td>5564030</td>\n",
       "      <td>M</td>\n",
       "      <td>2016-04-11T07:08:46Z</td>\n",
       "      <td>2016-05-16T00:00:00Z</td>\n",
       "      <td>59</td>\n",
       "      <td>PARQUE MOSCOSO</td>\n",
       "      <td>0</td>\n",
       "      <td>0</td>\n",
       "      <td>0</td>\n",
       "      <td>0</td>\n",
       "      <td>0</td>\n",
       "      <td>0</td>\n",
       "      <td>No</td>\n",
       "    </tr>\n",
       "  </tbody>\n",
       "</table>\n",
       "</div>"
      ],
      "text/plain": [
       "      PatientId  AppointmentID Gender          ScheduledDay  \\\n",
       "0  8.236818e+14        5604716      F  2016-04-20T08:15:11Z   \n",
       "1  7.139581e+14        5658944      F  2016-05-04T12:37:06Z   \n",
       "2  9.918162e+12        5646167      M  2016-05-02T11:00:26Z   \n",
       "3  3.194793e+14        5684241      F  2016-05-11T08:23:40Z   \n",
       "4  5.777447e+11        5564030      M  2016-04-11T07:08:46Z   \n",
       "\n",
       "         AppointmentDay  Age     Neighbourhood  Scholarship  Hipertension  \\\n",
       "0  2016-05-02T00:00:00Z   13         CONQUISTA            0             0   \n",
       "1  2016-05-04T00:00:00Z   15      SANTA MARTHA            0             0   \n",
       "2  2016-05-10T00:00:00Z   70  ILHA DO PRÍNCIPE            0             0   \n",
       "3  2016-05-11T00:00:00Z   37        TABUAZEIRO            1             0   \n",
       "4  2016-05-16T00:00:00Z   59    PARQUE MOSCOSO            0             0   \n",
       "\n",
       "   Diabetes  Alcoholism  Handcap  SMS_received No-show  \n",
       "0         0           0        0             1      No  \n",
       "1         0           0        0             0      No  \n",
       "2         0           0        0             1      No  \n",
       "3         0           0        0             0      No  \n",
       "4         0           0        0             0      No  "
      ]
     },
     "execution_count": 18,
     "metadata": {},
     "output_type": "execute_result"
    }
   ],
   "source": [
    "# Add code below this comment  (Question #E6001)\n",
    "# ----------------------------------\n",
    "dataset.head()"
   ]
  },
  {
   "cell_type": "markdown",
   "metadata": {},
   "source": [
    "Looks like we won't be using **PatientId** and **AppointmentID** columns.\n",
    "\n",
    "Delete those columns."
   ]
  },
  {
   "cell_type": "code",
   "execution_count": 19,
   "metadata": {},
   "outputs": [
    {
     "data": {
      "text/html": [
       "<div>\n",
       "<style>\n",
       "    .dataframe thead tr:only-child th {\n",
       "        text-align: right;\n",
       "    }\n",
       "\n",
       "    .dataframe thead th {\n",
       "        text-align: left;\n",
       "    }\n",
       "\n",
       "    .dataframe tbody tr th {\n",
       "        vertical-align: top;\n",
       "    }\n",
       "</style>\n",
       "<table border=\"1\" class=\"dataframe\">\n",
       "  <thead>\n",
       "    <tr style=\"text-align: right;\">\n",
       "      <th></th>\n",
       "      <th>Gender</th>\n",
       "      <th>ScheduledDay</th>\n",
       "      <th>AppointmentDay</th>\n",
       "      <th>Age</th>\n",
       "      <th>Neighbourhood</th>\n",
       "      <th>Scholarship</th>\n",
       "      <th>Hipertension</th>\n",
       "      <th>Diabetes</th>\n",
       "      <th>Alcoholism</th>\n",
       "      <th>Handcap</th>\n",
       "      <th>SMS_received</th>\n",
       "      <th>No-show</th>\n",
       "    </tr>\n",
       "  </thead>\n",
       "  <tbody>\n",
       "    <tr>\n",
       "      <th>0</th>\n",
       "      <td>F</td>\n",
       "      <td>2016-04-20T08:15:11Z</td>\n",
       "      <td>2016-05-02T00:00:00Z</td>\n",
       "      <td>13</td>\n",
       "      <td>CONQUISTA</td>\n",
       "      <td>0</td>\n",
       "      <td>0</td>\n",
       "      <td>0</td>\n",
       "      <td>0</td>\n",
       "      <td>0</td>\n",
       "      <td>1</td>\n",
       "      <td>No</td>\n",
       "    </tr>\n",
       "    <tr>\n",
       "      <th>1</th>\n",
       "      <td>F</td>\n",
       "      <td>2016-05-04T12:37:06Z</td>\n",
       "      <td>2016-05-04T00:00:00Z</td>\n",
       "      <td>15</td>\n",
       "      <td>SANTA MARTHA</td>\n",
       "      <td>0</td>\n",
       "      <td>0</td>\n",
       "      <td>0</td>\n",
       "      <td>0</td>\n",
       "      <td>0</td>\n",
       "      <td>0</td>\n",
       "      <td>No</td>\n",
       "    </tr>\n",
       "    <tr>\n",
       "      <th>2</th>\n",
       "      <td>M</td>\n",
       "      <td>2016-05-02T11:00:26Z</td>\n",
       "      <td>2016-05-10T00:00:00Z</td>\n",
       "      <td>70</td>\n",
       "      <td>ILHA DO PRÍNCIPE</td>\n",
       "      <td>0</td>\n",
       "      <td>0</td>\n",
       "      <td>0</td>\n",
       "      <td>0</td>\n",
       "      <td>0</td>\n",
       "      <td>1</td>\n",
       "      <td>No</td>\n",
       "    </tr>\n",
       "    <tr>\n",
       "      <th>3</th>\n",
       "      <td>F</td>\n",
       "      <td>2016-05-11T08:23:40Z</td>\n",
       "      <td>2016-05-11T00:00:00Z</td>\n",
       "      <td>37</td>\n",
       "      <td>TABUAZEIRO</td>\n",
       "      <td>1</td>\n",
       "      <td>0</td>\n",
       "      <td>0</td>\n",
       "      <td>0</td>\n",
       "      <td>0</td>\n",
       "      <td>0</td>\n",
       "      <td>No</td>\n",
       "    </tr>\n",
       "    <tr>\n",
       "      <th>4</th>\n",
       "      <td>M</td>\n",
       "      <td>2016-04-11T07:08:46Z</td>\n",
       "      <td>2016-05-16T00:00:00Z</td>\n",
       "      <td>59</td>\n",
       "      <td>PARQUE MOSCOSO</td>\n",
       "      <td>0</td>\n",
       "      <td>0</td>\n",
       "      <td>0</td>\n",
       "      <td>0</td>\n",
       "      <td>0</td>\n",
       "      <td>0</td>\n",
       "      <td>No</td>\n",
       "    </tr>\n",
       "  </tbody>\n",
       "</table>\n",
       "</div>"
      ],
      "text/plain": [
       "  Gender          ScheduledDay        AppointmentDay  Age     Neighbourhood  \\\n",
       "0      F  2016-04-20T08:15:11Z  2016-05-02T00:00:00Z   13         CONQUISTA   \n",
       "1      F  2016-05-04T12:37:06Z  2016-05-04T00:00:00Z   15      SANTA MARTHA   \n",
       "2      M  2016-05-02T11:00:26Z  2016-05-10T00:00:00Z   70  ILHA DO PRÍNCIPE   \n",
       "3      F  2016-05-11T08:23:40Z  2016-05-11T00:00:00Z   37        TABUAZEIRO   \n",
       "4      M  2016-04-11T07:08:46Z  2016-05-16T00:00:00Z   59    PARQUE MOSCOSO   \n",
       "\n",
       "   Scholarship  Hipertension  Diabetes  Alcoholism  Handcap  SMS_received  \\\n",
       "0            0             0         0           0        0             1   \n",
       "1            0             0         0           0        0             0   \n",
       "2            0             0         0           0        0             1   \n",
       "3            1             0         0           0        0             0   \n",
       "4            0             0         0           0        0             0   \n",
       "\n",
       "  No-show  \n",
       "0      No  \n",
       "1      No  \n",
       "2      No  \n",
       "3      No  \n",
       "4      No  "
      ]
     },
     "execution_count": 19,
     "metadata": {},
     "output_type": "execute_result"
    }
   ],
   "source": [
    "# Add code below this comment  (Question #E6002)\n",
    "# ----------------------------------\n",
    "dataset.drop(['PatientId','AppointmentID'],axis=1,inplace=True)\n",
    "\n",
    "dataset.head()"
   ]
  },
  {
   "cell_type": "markdown",
   "metadata": {},
   "source": [
    "Convert **Gender** and **No-show** to binary (0s and 1s)."
   ]
  },
  {
   "cell_type": "code",
   "execution_count": 20,
   "metadata": {},
   "outputs": [
    {
     "data": {
      "text/html": [
       "<div>\n",
       "<style>\n",
       "    .dataframe thead tr:only-child th {\n",
       "        text-align: right;\n",
       "    }\n",
       "\n",
       "    .dataframe thead th {\n",
       "        text-align: left;\n",
       "    }\n",
       "\n",
       "    .dataframe tbody tr th {\n",
       "        vertical-align: top;\n",
       "    }\n",
       "</style>\n",
       "<table border=\"1\" class=\"dataframe\">\n",
       "  <thead>\n",
       "    <tr style=\"text-align: right;\">\n",
       "      <th></th>\n",
       "      <th>Gender</th>\n",
       "      <th>ScheduledDay</th>\n",
       "      <th>AppointmentDay</th>\n",
       "      <th>Age</th>\n",
       "      <th>Neighbourhood</th>\n",
       "      <th>Scholarship</th>\n",
       "      <th>Hipertension</th>\n",
       "      <th>Diabetes</th>\n",
       "      <th>Alcoholism</th>\n",
       "      <th>Handcap</th>\n",
       "      <th>SMS_received</th>\n",
       "      <th>No-show</th>\n",
       "    </tr>\n",
       "  </thead>\n",
       "  <tbody>\n",
       "    <tr>\n",
       "      <th>0</th>\n",
       "      <td>1</td>\n",
       "      <td>2016-04-20T08:15:11Z</td>\n",
       "      <td>2016-05-02T00:00:00Z</td>\n",
       "      <td>13</td>\n",
       "      <td>CONQUISTA</td>\n",
       "      <td>0</td>\n",
       "      <td>0</td>\n",
       "      <td>0</td>\n",
       "      <td>0</td>\n",
       "      <td>0</td>\n",
       "      <td>1</td>\n",
       "      <td>1</td>\n",
       "    </tr>\n",
       "    <tr>\n",
       "      <th>1</th>\n",
       "      <td>1</td>\n",
       "      <td>2016-05-04T12:37:06Z</td>\n",
       "      <td>2016-05-04T00:00:00Z</td>\n",
       "      <td>15</td>\n",
       "      <td>SANTA MARTHA</td>\n",
       "      <td>0</td>\n",
       "      <td>0</td>\n",
       "      <td>0</td>\n",
       "      <td>0</td>\n",
       "      <td>0</td>\n",
       "      <td>0</td>\n",
       "      <td>1</td>\n",
       "    </tr>\n",
       "    <tr>\n",
       "      <th>2</th>\n",
       "      <td>0</td>\n",
       "      <td>2016-05-02T11:00:26Z</td>\n",
       "      <td>2016-05-10T00:00:00Z</td>\n",
       "      <td>70</td>\n",
       "      <td>ILHA DO PRÍNCIPE</td>\n",
       "      <td>0</td>\n",
       "      <td>0</td>\n",
       "      <td>0</td>\n",
       "      <td>0</td>\n",
       "      <td>0</td>\n",
       "      <td>1</td>\n",
       "      <td>1</td>\n",
       "    </tr>\n",
       "    <tr>\n",
       "      <th>3</th>\n",
       "      <td>1</td>\n",
       "      <td>2016-05-11T08:23:40Z</td>\n",
       "      <td>2016-05-11T00:00:00Z</td>\n",
       "      <td>37</td>\n",
       "      <td>TABUAZEIRO</td>\n",
       "      <td>1</td>\n",
       "      <td>0</td>\n",
       "      <td>0</td>\n",
       "      <td>0</td>\n",
       "      <td>0</td>\n",
       "      <td>0</td>\n",
       "      <td>1</td>\n",
       "    </tr>\n",
       "    <tr>\n",
       "      <th>4</th>\n",
       "      <td>0</td>\n",
       "      <td>2016-04-11T07:08:46Z</td>\n",
       "      <td>2016-05-16T00:00:00Z</td>\n",
       "      <td>59</td>\n",
       "      <td>PARQUE MOSCOSO</td>\n",
       "      <td>0</td>\n",
       "      <td>0</td>\n",
       "      <td>0</td>\n",
       "      <td>0</td>\n",
       "      <td>0</td>\n",
       "      <td>0</td>\n",
       "      <td>1</td>\n",
       "    </tr>\n",
       "  </tbody>\n",
       "</table>\n",
       "</div>"
      ],
      "text/plain": [
       "   Gender          ScheduledDay        AppointmentDay  Age     Neighbourhood  \\\n",
       "0       1  2016-04-20T08:15:11Z  2016-05-02T00:00:00Z   13         CONQUISTA   \n",
       "1       1  2016-05-04T12:37:06Z  2016-05-04T00:00:00Z   15      SANTA MARTHA   \n",
       "2       0  2016-05-02T11:00:26Z  2016-05-10T00:00:00Z   70  ILHA DO PRÍNCIPE   \n",
       "3       1  2016-05-11T08:23:40Z  2016-05-11T00:00:00Z   37        TABUAZEIRO   \n",
       "4       0  2016-04-11T07:08:46Z  2016-05-16T00:00:00Z   59    PARQUE MOSCOSO   \n",
       "\n",
       "   Scholarship  Hipertension  Diabetes  Alcoholism  Handcap  SMS_received  \\\n",
       "0            0             0         0           0        0             1   \n",
       "1            0             0         0           0        0             0   \n",
       "2            0             0         0           0        0             1   \n",
       "3            1             0         0           0        0             0   \n",
       "4            0             0         0           0        0             0   \n",
       "\n",
       "   No-show  \n",
       "0        1  \n",
       "1        1  \n",
       "2        1  \n",
       "3        1  \n",
       "4        1  "
      ]
     },
     "execution_count": 20,
     "metadata": {},
     "output_type": "execute_result"
    }
   ],
   "source": [
    "# Add code below this comment  (Question #E6003)\n",
    "# ----------------------------------\n",
    "\n",
    "dataset['Gender'] = list(map(['M','F'].index , dataset['Gender']))\n",
    "dataset['No-show'] = list(map(['Yes','No'].index ,dataset['No-show']))\n",
    "dataset.head()"
   ]
  },
  {
   "cell_type": "markdown",
   "metadata": {},
   "source": [
    "Convert **ScheduledDay** and **AppointmentDay** into np.datetime data type."
   ]
  },
  {
   "cell_type": "code",
   "execution_count": 21,
   "metadata": {
    "collapsed": true
   },
   "outputs": [],
   "source": [
    "dataset['ScheduledDay'] = dataset['ScheduledDay'].apply(np.datetime64)"
   ]
  },
  {
   "cell_type": "code",
   "execution_count": 22,
   "metadata": {},
   "outputs": [
    {
     "data": {
      "text/html": [
       "<div>\n",
       "<style>\n",
       "    .dataframe thead tr:only-child th {\n",
       "        text-align: right;\n",
       "    }\n",
       "\n",
       "    .dataframe thead th {\n",
       "        text-align: left;\n",
       "    }\n",
       "\n",
       "    .dataframe tbody tr th {\n",
       "        vertical-align: top;\n",
       "    }\n",
       "</style>\n",
       "<table border=\"1\" class=\"dataframe\">\n",
       "  <thead>\n",
       "    <tr style=\"text-align: right;\">\n",
       "      <th></th>\n",
       "      <th>Gender</th>\n",
       "      <th>ScheduledDay</th>\n",
       "      <th>AppointmentDay</th>\n",
       "      <th>Age</th>\n",
       "      <th>Neighbourhood</th>\n",
       "      <th>Scholarship</th>\n",
       "      <th>Hipertension</th>\n",
       "      <th>Diabetes</th>\n",
       "      <th>Alcoholism</th>\n",
       "      <th>Handcap</th>\n",
       "      <th>SMS_received</th>\n",
       "      <th>No-show</th>\n",
       "    </tr>\n",
       "  </thead>\n",
       "  <tbody>\n",
       "    <tr>\n",
       "      <th>0</th>\n",
       "      <td>1</td>\n",
       "      <td>2016-04-20 08:15:11</td>\n",
       "      <td>2016-05-02</td>\n",
       "      <td>13</td>\n",
       "      <td>CONQUISTA</td>\n",
       "      <td>0</td>\n",
       "      <td>0</td>\n",
       "      <td>0</td>\n",
       "      <td>0</td>\n",
       "      <td>0</td>\n",
       "      <td>1</td>\n",
       "      <td>1</td>\n",
       "    </tr>\n",
       "    <tr>\n",
       "      <th>1</th>\n",
       "      <td>1</td>\n",
       "      <td>2016-05-04 12:37:06</td>\n",
       "      <td>2016-05-04</td>\n",
       "      <td>15</td>\n",
       "      <td>SANTA MARTHA</td>\n",
       "      <td>0</td>\n",
       "      <td>0</td>\n",
       "      <td>0</td>\n",
       "      <td>0</td>\n",
       "      <td>0</td>\n",
       "      <td>0</td>\n",
       "      <td>1</td>\n",
       "    </tr>\n",
       "    <tr>\n",
       "      <th>2</th>\n",
       "      <td>0</td>\n",
       "      <td>2016-05-02 11:00:26</td>\n",
       "      <td>2016-05-10</td>\n",
       "      <td>70</td>\n",
       "      <td>ILHA DO PRÍNCIPE</td>\n",
       "      <td>0</td>\n",
       "      <td>0</td>\n",
       "      <td>0</td>\n",
       "      <td>0</td>\n",
       "      <td>0</td>\n",
       "      <td>1</td>\n",
       "      <td>1</td>\n",
       "    </tr>\n",
       "    <tr>\n",
       "      <th>3</th>\n",
       "      <td>1</td>\n",
       "      <td>2016-05-11 08:23:40</td>\n",
       "      <td>2016-05-11</td>\n",
       "      <td>37</td>\n",
       "      <td>TABUAZEIRO</td>\n",
       "      <td>1</td>\n",
       "      <td>0</td>\n",
       "      <td>0</td>\n",
       "      <td>0</td>\n",
       "      <td>0</td>\n",
       "      <td>0</td>\n",
       "      <td>1</td>\n",
       "    </tr>\n",
       "    <tr>\n",
       "      <th>4</th>\n",
       "      <td>0</td>\n",
       "      <td>2016-04-11 07:08:46</td>\n",
       "      <td>2016-05-16</td>\n",
       "      <td>59</td>\n",
       "      <td>PARQUE MOSCOSO</td>\n",
       "      <td>0</td>\n",
       "      <td>0</td>\n",
       "      <td>0</td>\n",
       "      <td>0</td>\n",
       "      <td>0</td>\n",
       "      <td>0</td>\n",
       "      <td>1</td>\n",
       "    </tr>\n",
       "  </tbody>\n",
       "</table>\n",
       "</div>"
      ],
      "text/plain": [
       "   Gender        ScheduledDay AppointmentDay  Age     Neighbourhood  \\\n",
       "0       1 2016-04-20 08:15:11     2016-05-02   13         CONQUISTA   \n",
       "1       1 2016-05-04 12:37:06     2016-05-04   15      SANTA MARTHA   \n",
       "2       0 2016-05-02 11:00:26     2016-05-10   70  ILHA DO PRÍNCIPE   \n",
       "3       1 2016-05-11 08:23:40     2016-05-11   37        TABUAZEIRO   \n",
       "4       0 2016-04-11 07:08:46     2016-05-16   59    PARQUE MOSCOSO   \n",
       "\n",
       "   Scholarship  Hipertension  Diabetes  Alcoholism  Handcap  SMS_received  \\\n",
       "0            0             0         0           0        0             1   \n",
       "1            0             0         0           0        0             0   \n",
       "2            0             0         0           0        0             1   \n",
       "3            1             0         0           0        0             0   \n",
       "4            0             0         0           0        0             0   \n",
       "\n",
       "   No-show  \n",
       "0        1  \n",
       "1        1  \n",
       "2        1  \n",
       "3        1  \n",
       "4        1  "
      ]
     },
     "execution_count": 22,
     "metadata": {},
     "output_type": "execute_result"
    }
   ],
   "source": [
    "# Add code below this comment  (Question #E6004)\n",
    "# ----------------------------------\n",
    "dataset['AppointmentDay'] = dataset['AppointmentDay'].apply(np.datetime64)\n",
    "dataset.head()"
   ]
  },
  {
   "cell_type": "markdown",
   "metadata": {},
   "source": [
    "Add a column **AwaitingTime** filled with the time difference between **AppointmentDay** and **ScheduledDay**,\n",
    "in number of days."
   ]
  },
  {
   "cell_type": "code",
   "execution_count": 23,
   "metadata": {},
   "outputs": [
    {
     "data": {
      "text/html": [
       "<div>\n",
       "<style>\n",
       "    .dataframe thead tr:only-child th {\n",
       "        text-align: right;\n",
       "    }\n",
       "\n",
       "    .dataframe thead th {\n",
       "        text-align: left;\n",
       "    }\n",
       "\n",
       "    .dataframe tbody tr th {\n",
       "        vertical-align: top;\n",
       "    }\n",
       "</style>\n",
       "<table border=\"1\" class=\"dataframe\">\n",
       "  <thead>\n",
       "    <tr style=\"text-align: right;\">\n",
       "      <th></th>\n",
       "      <th>Gender</th>\n",
       "      <th>ScheduledDay</th>\n",
       "      <th>AppointmentDay</th>\n",
       "      <th>Age</th>\n",
       "      <th>Neighbourhood</th>\n",
       "      <th>Scholarship</th>\n",
       "      <th>Hipertension</th>\n",
       "      <th>Diabetes</th>\n",
       "      <th>Alcoholism</th>\n",
       "      <th>Handcap</th>\n",
       "      <th>SMS_received</th>\n",
       "      <th>No-show</th>\n",
       "      <th>AwaitingTime</th>\n",
       "    </tr>\n",
       "  </thead>\n",
       "  <tbody>\n",
       "    <tr>\n",
       "      <th>0</th>\n",
       "      <td>1</td>\n",
       "      <td>2016-04-20 08:15:11</td>\n",
       "      <td>2016-05-02</td>\n",
       "      <td>13</td>\n",
       "      <td>CONQUISTA</td>\n",
       "      <td>0</td>\n",
       "      <td>0</td>\n",
       "      <td>0</td>\n",
       "      <td>0</td>\n",
       "      <td>0</td>\n",
       "      <td>1</td>\n",
       "      <td>1</td>\n",
       "      <td>11</td>\n",
       "    </tr>\n",
       "    <tr>\n",
       "      <th>1</th>\n",
       "      <td>1</td>\n",
       "      <td>2016-05-04 12:37:06</td>\n",
       "      <td>2016-05-04</td>\n",
       "      <td>15</td>\n",
       "      <td>SANTA MARTHA</td>\n",
       "      <td>0</td>\n",
       "      <td>0</td>\n",
       "      <td>0</td>\n",
       "      <td>0</td>\n",
       "      <td>0</td>\n",
       "      <td>0</td>\n",
       "      <td>1</td>\n",
       "      <td>-1</td>\n",
       "    </tr>\n",
       "    <tr>\n",
       "      <th>2</th>\n",
       "      <td>0</td>\n",
       "      <td>2016-05-02 11:00:26</td>\n",
       "      <td>2016-05-10</td>\n",
       "      <td>70</td>\n",
       "      <td>ILHA DO PRÍNCIPE</td>\n",
       "      <td>0</td>\n",
       "      <td>0</td>\n",
       "      <td>0</td>\n",
       "      <td>0</td>\n",
       "      <td>0</td>\n",
       "      <td>1</td>\n",
       "      <td>1</td>\n",
       "      <td>7</td>\n",
       "    </tr>\n",
       "    <tr>\n",
       "      <th>3</th>\n",
       "      <td>1</td>\n",
       "      <td>2016-05-11 08:23:40</td>\n",
       "      <td>2016-05-11</td>\n",
       "      <td>37</td>\n",
       "      <td>TABUAZEIRO</td>\n",
       "      <td>1</td>\n",
       "      <td>0</td>\n",
       "      <td>0</td>\n",
       "      <td>0</td>\n",
       "      <td>0</td>\n",
       "      <td>0</td>\n",
       "      <td>1</td>\n",
       "      <td>-1</td>\n",
       "    </tr>\n",
       "    <tr>\n",
       "      <th>4</th>\n",
       "      <td>0</td>\n",
       "      <td>2016-04-11 07:08:46</td>\n",
       "      <td>2016-05-16</td>\n",
       "      <td>59</td>\n",
       "      <td>PARQUE MOSCOSO</td>\n",
       "      <td>0</td>\n",
       "      <td>0</td>\n",
       "      <td>0</td>\n",
       "      <td>0</td>\n",
       "      <td>0</td>\n",
       "      <td>0</td>\n",
       "      <td>1</td>\n",
       "      <td>34</td>\n",
       "    </tr>\n",
       "  </tbody>\n",
       "</table>\n",
       "</div>"
      ],
      "text/plain": [
       "   Gender        ScheduledDay AppointmentDay  Age     Neighbourhood  \\\n",
       "0       1 2016-04-20 08:15:11     2016-05-02   13         CONQUISTA   \n",
       "1       1 2016-05-04 12:37:06     2016-05-04   15      SANTA MARTHA   \n",
       "2       0 2016-05-02 11:00:26     2016-05-10   70  ILHA DO PRÍNCIPE   \n",
       "3       1 2016-05-11 08:23:40     2016-05-11   37        TABUAZEIRO   \n",
       "4       0 2016-04-11 07:08:46     2016-05-16   59    PARQUE MOSCOSO   \n",
       "\n",
       "   Scholarship  Hipertension  Diabetes  Alcoholism  Handcap  SMS_received  \\\n",
       "0            0             0         0           0        0             1   \n",
       "1            0             0         0           0        0             0   \n",
       "2            0             0         0           0        0             1   \n",
       "3            1             0         0           0        0             0   \n",
       "4            0             0         0           0        0             0   \n",
       "\n",
       "   No-show  AwaitingTime  \n",
       "0        1            11  \n",
       "1        1            -1  \n",
       "2        1             7  \n",
       "3        1            -1  \n",
       "4        1            34  "
      ]
     },
     "execution_count": 23,
     "metadata": {},
     "output_type": "execute_result"
    }
   ],
   "source": [
    "dataset['AwaitingTime'] = (dataset['AppointmentDay'] - dataset['ScheduledDay']).apply(lambda dt: dt.days)\n",
    "dataset.head()"
   ]
  },
  {
   "cell_type": "markdown",
   "metadata": {},
   "source": [
    "Check unique values of all columns, except **ScheduledDay** and **AppointmentDay**\n",
    "because they would have too many unique values.\n",
    "\n",
    "The goal is to understand whether there's missing values or \"bad\" values in the dataset."
   ]
  },
  {
   "cell_type": "code",
   "execution_count": 24,
   "metadata": {},
   "outputs": [
    {
     "name": "stdout",
     "output_type": "stream",
     "text": [
      "Handcap [0, 1, 2, 3, 4]\n",
      "Age [-1, 0, 1, 2, 3, 4, 5, 6, 7, 8, 9, 10, 11, 12, 13, 14, 15, 16, 17, 18, 19, 20, 21, 22, 23, 24, 25, 26, 27, 28, 29, 30, 31, 32, 33, 34, 35, 36, 37, 38, 39, 40, 41, 42, 43, 44, 45, 46, 47, 48, 49, 50, 51, 52, 53, 54, 55, 56, 57, 58, 59, 60, 61, 62, 63, 64, 65, 66, 67, 68, 69, 70, 71, 72, 73, 74, 75, 76, 77, 78, 79, 80, 81, 82, 83, 84, 85, 86, 87, 88, 89, 90, 91, 92, 93, 94, 95, 96, 97, 98, 99, 100, 102, 115]\n",
      "AwaitingTime [-7, -2, -1, 0, 1, 2, 3, 4, 5, 6, 7, 8, 9, 10, 11, 12, 13, 14, 15, 16, 17, 18, 19, 20, 21, 22, 23, 24, 25, 26, 27, 28, 29, 30, 31, 32, 33, 34, 35, 36, 37, 38, 39, 40, 41, 42, 43, 44, 45, 46, 47, 48, 49, 50, 51, 52, 53, 54, 55, 56, 57, 58, 59, 60, 61, 62, 63, 64, 65, 66, 67, 68, 69, 70, 71, 72, 73, 74, 75, 76, 77, 78, 79, 80, 81, 82, 83, 84, 85, 86, 87, 88, 89, 90, 91, 92, 93, 94, 95, 96, 97, 100, 101, 102, 103, 104, 106, 107, 108, 109, 110, 111, 114, 116, 118, 121, 122, 124, 125, 126, 131, 132, 138, 141, 145, 150, 154, 161, 168, 175, 178]\n",
      "Gender [0, 1]\n",
      "Neighbourhood ['AEROPORTO', 'ANDORINHAS', 'ANTÔNIO HONÓRIO', 'ARIOVALDO FAVALESSA', 'BARRO VERMELHO', 'BELA VISTA', 'BENTO FERREIRA', 'BOA VISTA', 'BONFIM', 'CARATOÍRA', 'CENTRO', 'COMDUSA', 'CONQUISTA', 'CONSOLAÇÃO', 'CRUZAMENTO', 'DA PENHA', 'DE LOURDES', 'DO CABRAL', 'DO MOSCOSO', 'DO QUADRO', 'ENSEADA DO SUÁ', 'ESTRELINHA', 'FONTE GRANDE', 'FORTE SÃO JOÃO', 'FRADINHOS', 'GOIABEIRAS', 'GRANDE VITÓRIA', 'GURIGICA', 'HORTO', 'ILHA DAS CAIEIRAS', 'ILHA DE SANTA MARIA', 'ILHA DO BOI', 'ILHA DO FRADE', 'ILHA DO PRÍNCIPE', 'ILHAS OCEÂNICAS DE TRINDADE', 'INHANGUETÁ', 'ITARARÉ', 'JABOUR', 'JARDIM CAMBURI', 'JARDIM DA PENHA', 'JESUS DE NAZARETH', 'JOANA D´ARC', 'JUCUTUQUARA', 'MARIA ORTIZ', 'MARUÍPE', 'MATA DA PRAIA', 'MONTE BELO', 'MORADA DE CAMBURI', 'MÁRIO CYPRESTE', 'NAZARETH', 'NOVA PALESTINA', 'PARQUE INDUSTRIAL', 'PARQUE MOSCOSO', 'PIEDADE', 'PONTAL DE CAMBURI', 'PRAIA DO CANTO', 'PRAIA DO SUÁ', 'REDENÇÃO', 'REPÚBLICA', 'RESISTÊNCIA', 'ROMÃO', 'SANTA CECÍLIA', 'SANTA CLARA', 'SANTA HELENA', 'SANTA LUÍZA', 'SANTA LÚCIA', 'SANTA MARTHA', 'SANTA TEREZA', 'SANTO ANDRÉ', 'SANTO ANTÔNIO', 'SANTOS DUMONT', 'SANTOS REIS', 'SEGURANÇA DO LAR', 'SOLON BORGES', 'SÃO BENEDITO', 'SÃO CRISTÓVÃO', 'SÃO JOSÉ', 'SÃO PEDRO', 'TABUAZEIRO', 'UNIVERSITÁRIO', 'VILA RUBIM']\n",
      "Hipertension [0, 1]\n",
      "Scholarship [0, 1]\n",
      "Diabetes [0, 1]\n",
      "Alcoholism [0, 1]\n",
      "SMS_received [0, 1]\n",
      "No-show [0, 1]\n"
     ]
    }
   ],
   "source": [
    "# Complete code below this comment  (Question #E6005)\n",
    "# ----------------------------------\n",
    "for column_name in set(dataset.columns)-{'ScheduledDay', 'AppointmentDay'}:\n",
    "    print(column_name, sorted(np.unique(dataset[column_name])))\n",
    "        "
   ]
  },
  {
   "cell_type": "markdown",
   "metadata": {},
   "source": [
    "### Outliers\n",
    "\n",
    "Import some outlier detection utilities."
   ]
  },
  {
   "cell_type": "code",
   "execution_count": 25,
   "metadata": {
    "collapsed": true
   },
   "outputs": [],
   "source": [
    "from sklearn.svm import OneClassSVM\n",
    "from sklearn.neighbors import LocalOutlierFactor\n",
    "from sklearn.covariance import EllipticEnvelope\n",
    "from sklearn.ensemble import IsolationForest"
   ]
  },
  {
   "cell_type": "markdown",
   "metadata": {},
   "source": [
    "First thing we noticed is that age can't be less than or equal to 0 unless there's probably some discrepancy in the dataset. We remove those rows."
   ]
  },
  {
   "cell_type": "code",
   "execution_count": 26,
   "metadata": {
    "collapsed": true
   },
   "outputs": [],
   "source": [
    "dropdata=dataset[dataset['Age']<1]\n",
    "dataset.drop(dropdata.index,inplace=True)\n",
    "dataset.reset_index(drop=True,inplace =True)"
   ]
  },
  {
   "cell_type": "markdown",
   "metadata": {},
   "source": [
    "Remove outliers in **AwaitingTime** with **Elliptic Envelope**."
   ]
  },
  {
   "cell_type": "code",
   "execution_count": 27,
   "metadata": {},
   "outputs": [
    {
     "name": "stdout",
     "output_type": "stream",
     "text": [
      "awaiting_time.shape (106987, 1)\n",
      "{'inliers': 106670, 'outliers': 317}\n",
      "Number of records 106670\n",
      "AwaitingTime [-7 -2 -1  0  1  2  3  4  5  6  7  8  9 10 11 12 13 14 15 16 17 18 19 20 21\n",
      " 22 23 24 25 26 27 28 29 30 31 32 33 34 35 36 37 38 39 40 41 42 43 44 45 46\n",
      " 47 48 49 50 51 52 53 54 55 56 57 58 59 60 61 62 63 64 65 66 67 68 69 70 71\n",
      " 72 73 74 75 76 77 78 79 80 81 82 83 84 85]\n"
     ]
    }
   ],
   "source": [
    "awaiting_time = np.array(dataset['AwaitingTime']).reshape((-1, 1))#-1 unknown for number of rows and 1 \n",
    "print('awaiting_time.shape', awaiting_time.shape)                 # 1 for columns in reshape\n",
    "                                                                  #the double parentheses is passing a tuple\n",
    "# Complete code below this comment  (Question #E6007)             #to the function\n",
    "# ----------------------------------\n",
    "envelope = EllipticEnvelope(contamination = 0.003)\n",
    "envelope.fit(awaiting_time)\n",
    "outliers = envelope.predict(awaiting_time)==-1\n",
    "dataset.drop(np.flatnonzero(outliers), inplace=True)\n",
    "dataset.reset_index(drop=True, inplace=True)\n",
    "# ----------------------------------\n",
    "\n",
    "print({'inliers': np.sum(~outliers), 'outliers': np.sum(outliers)})\n",
    "print('Number of records', len(dataset))\n",
    "print('AwaitingTime', np.unique(dataset['AwaitingTime']))"
   ]
  },
  {
   "cell_type": "markdown",
   "metadata": {},
   "source": [
    "### Encoding"
   ]
  },
  {
   "cell_type": "markdown",
   "metadata": {},
   "source": [
    "Dates and times are usually difficult to deal with for predictive models as input data.\n",
    "\n",
    "Therefore, we create take day and month out of **AppointmentDay** and **create two new columns** respectively.\n",
    "\n",
    "Also remove **ScheduledDay** because it can be derived from these two columns and **AwaitingTime**,\n",
    "so this column would become redundant.\n",
    "\n",
    "Remove column **AppointmentDay**."
   ]
  },
  {
   "cell_type": "code",
   "execution_count": 28,
   "metadata": {},
   "outputs": [
    {
     "data": {
      "text/html": [
       "<div>\n",
       "<style>\n",
       "    .dataframe thead tr:only-child th {\n",
       "        text-align: right;\n",
       "    }\n",
       "\n",
       "    .dataframe thead th {\n",
       "        text-align: left;\n",
       "    }\n",
       "\n",
       "    .dataframe tbody tr th {\n",
       "        vertical-align: top;\n",
       "    }\n",
       "</style>\n",
       "<table border=\"1\" class=\"dataframe\">\n",
       "  <thead>\n",
       "    <tr style=\"text-align: right;\">\n",
       "      <th></th>\n",
       "      <th>Gender</th>\n",
       "      <th>Age</th>\n",
       "      <th>Neighbourhood</th>\n",
       "      <th>Scholarship</th>\n",
       "      <th>Hipertension</th>\n",
       "      <th>Diabetes</th>\n",
       "      <th>Alcoholism</th>\n",
       "      <th>Handcap</th>\n",
       "      <th>SMS_received</th>\n",
       "      <th>No-show</th>\n",
       "      <th>AwaitingTime</th>\n",
       "      <th>AppointmentDate_day</th>\n",
       "      <th>AppointmentDate_month</th>\n",
       "    </tr>\n",
       "  </thead>\n",
       "  <tbody>\n",
       "    <tr>\n",
       "      <th>0</th>\n",
       "      <td>1</td>\n",
       "      <td>13</td>\n",
       "      <td>CONQUISTA</td>\n",
       "      <td>0</td>\n",
       "      <td>0</td>\n",
       "      <td>0</td>\n",
       "      <td>0</td>\n",
       "      <td>0</td>\n",
       "      <td>1</td>\n",
       "      <td>1</td>\n",
       "      <td>11</td>\n",
       "      <td>2</td>\n",
       "      <td>5</td>\n",
       "    </tr>\n",
       "    <tr>\n",
       "      <th>1</th>\n",
       "      <td>1</td>\n",
       "      <td>15</td>\n",
       "      <td>SANTA MARTHA</td>\n",
       "      <td>0</td>\n",
       "      <td>0</td>\n",
       "      <td>0</td>\n",
       "      <td>0</td>\n",
       "      <td>0</td>\n",
       "      <td>0</td>\n",
       "      <td>1</td>\n",
       "      <td>-1</td>\n",
       "      <td>4</td>\n",
       "      <td>5</td>\n",
       "    </tr>\n",
       "    <tr>\n",
       "      <th>2</th>\n",
       "      <td>0</td>\n",
       "      <td>70</td>\n",
       "      <td>ILHA DO PRÍNCIPE</td>\n",
       "      <td>0</td>\n",
       "      <td>0</td>\n",
       "      <td>0</td>\n",
       "      <td>0</td>\n",
       "      <td>0</td>\n",
       "      <td>1</td>\n",
       "      <td>1</td>\n",
       "      <td>7</td>\n",
       "      <td>10</td>\n",
       "      <td>5</td>\n",
       "    </tr>\n",
       "    <tr>\n",
       "      <th>3</th>\n",
       "      <td>1</td>\n",
       "      <td>37</td>\n",
       "      <td>TABUAZEIRO</td>\n",
       "      <td>1</td>\n",
       "      <td>0</td>\n",
       "      <td>0</td>\n",
       "      <td>0</td>\n",
       "      <td>0</td>\n",
       "      <td>0</td>\n",
       "      <td>1</td>\n",
       "      <td>-1</td>\n",
       "      <td>11</td>\n",
       "      <td>5</td>\n",
       "    </tr>\n",
       "    <tr>\n",
       "      <th>4</th>\n",
       "      <td>0</td>\n",
       "      <td>59</td>\n",
       "      <td>PARQUE MOSCOSO</td>\n",
       "      <td>0</td>\n",
       "      <td>0</td>\n",
       "      <td>0</td>\n",
       "      <td>0</td>\n",
       "      <td>0</td>\n",
       "      <td>0</td>\n",
       "      <td>1</td>\n",
       "      <td>34</td>\n",
       "      <td>16</td>\n",
       "      <td>5</td>\n",
       "    </tr>\n",
       "  </tbody>\n",
       "</table>\n",
       "</div>"
      ],
      "text/plain": [
       "   Gender  Age     Neighbourhood  Scholarship  Hipertension  Diabetes  \\\n",
       "0       1   13         CONQUISTA            0             0         0   \n",
       "1       1   15      SANTA MARTHA            0             0         0   \n",
       "2       0   70  ILHA DO PRÍNCIPE            0             0         0   \n",
       "3       1   37        TABUAZEIRO            1             0         0   \n",
       "4       0   59    PARQUE MOSCOSO            0             0         0   \n",
       "\n",
       "   Alcoholism  Handcap  SMS_received  No-show  AwaitingTime  \\\n",
       "0           0        0             1        1            11   \n",
       "1           0        0             0        1            -1   \n",
       "2           0        0             1        1             7   \n",
       "3           0        0             0        1            -1   \n",
       "4           0        0             0        1            34   \n",
       "\n",
       "   AppointmentDate_day  AppointmentDate_month  \n",
       "0                    2                      5  \n",
       "1                    4                      5  \n",
       "2                   10                      5  \n",
       "3                   11                      5  \n",
       "4                   16                      5  "
      ]
     },
     "execution_count": 28,
     "metadata": {},
     "output_type": "execute_result"
    }
   ],
   "source": [
    "# Complete code below this comment  (Question #E6008)\n",
    "# ----------------------------------\n",
    "dataset['AppointmentDate_day'] = dataset['AppointmentDay'].apply(lambda d:d.day)\n",
    "dataset['AppointmentDate_month'] = dataset['AppointmentDay'].apply(lambda d:d.month)\n",
    "\n",
    "# Add code below this comment to delete columns ScheduledDay and AppointmentDay (Question #E6009)\n",
    "# ----------------------------------\n",
    "\n",
    "del dataset['ScheduledDay']\n",
    "del dataset['AppointmentDay']\n",
    "\n",
    "# ----------------------------------\n",
    "\n",
    "dataset.head()"
   ]
  },
  {
   "cell_type": "markdown",
   "metadata": {},
   "source": [
    "Strings are also undesirable data types here. We use **LabelBinarizer** to create a one-hot encoding for **Neighbourhood** instead."
   ]
  },
  {
   "cell_type": "code",
   "execution_count": 29,
   "metadata": {},
   "outputs": [
    {
     "name": "stdout",
     "output_type": "stream",
     "text": [
      "<class 'pandas.core.frame.DataFrame'>\n",
      "RangeIndex: 106670 entries, 0 to 106669\n",
      "Data columns (total 93 columns):\n",
      "Gender                                         106670 non-null int64\n",
      "Age                                            106670 non-null int64\n",
      "Scholarship                                    106670 non-null int64\n",
      "Hipertension                                   106670 non-null int64\n",
      "Diabetes                                       106670 non-null int64\n",
      "Alcoholism                                     106670 non-null int64\n",
      "Handcap                                        106670 non-null int64\n",
      "SMS_received                                   106670 non-null int64\n",
      "No-show                                        106670 non-null int64\n",
      "AwaitingTime                                   106670 non-null int64\n",
      "AppointmentDate_day                            106670 non-null int64\n",
      "AppointmentDate_month                          106670 non-null int64\n",
      "Neighbourhood (AEROPORTO)                      106670 non-null int64\n",
      "Neighbourhood (ANDORINHAS)                     106670 non-null int64\n",
      "Neighbourhood (ANTÔNIO HONÓRIO)                106670 non-null int64\n",
      "Neighbourhood (ARIOVALDO FAVALESSA)            106670 non-null int64\n",
      "Neighbourhood (BARRO VERMELHO)                 106670 non-null int64\n",
      "Neighbourhood (BELA VISTA)                     106670 non-null int64\n",
      "Neighbourhood (BENTO FERREIRA)                 106670 non-null int64\n",
      "Neighbourhood (BOA VISTA)                      106670 non-null int64\n",
      "Neighbourhood (BONFIM)                         106670 non-null int64\n",
      "Neighbourhood (CARATOÍRA)                      106670 non-null int64\n",
      "Neighbourhood (CENTRO)                         106670 non-null int64\n",
      "Neighbourhood (COMDUSA)                        106670 non-null int64\n",
      "Neighbourhood (CONQUISTA)                      106670 non-null int64\n",
      "Neighbourhood (CONSOLAÇÃO)                     106670 non-null int64\n",
      "Neighbourhood (CRUZAMENTO)                     106670 non-null int64\n",
      "Neighbourhood (DA PENHA)                       106670 non-null int64\n",
      "Neighbourhood (DE LOURDES)                     106670 non-null int64\n",
      "Neighbourhood (DO CABRAL)                      106670 non-null int64\n",
      "Neighbourhood (DO MOSCOSO)                     106670 non-null int64\n",
      "Neighbourhood (DO QUADRO)                      106670 non-null int64\n",
      "Neighbourhood (ENSEADA DO SUÁ)                 106670 non-null int64\n",
      "Neighbourhood (ESTRELINHA)                     106670 non-null int64\n",
      "Neighbourhood (FONTE GRANDE)                   106670 non-null int64\n",
      "Neighbourhood (FORTE SÃO JOÃO)                 106670 non-null int64\n",
      "Neighbourhood (FRADINHOS)                      106670 non-null int64\n",
      "Neighbourhood (GOIABEIRAS)                     106670 non-null int64\n",
      "Neighbourhood (GRANDE VITÓRIA)                 106670 non-null int64\n",
      "Neighbourhood (GURIGICA)                       106670 non-null int64\n",
      "Neighbourhood (HORTO)                          106670 non-null int64\n",
      "Neighbourhood (ILHA DAS CAIEIRAS)              106670 non-null int64\n",
      "Neighbourhood (ILHA DE SANTA MARIA)            106670 non-null int64\n",
      "Neighbourhood (ILHA DO BOI)                    106670 non-null int64\n",
      "Neighbourhood (ILHA DO FRADE)                  106670 non-null int64\n",
      "Neighbourhood (ILHA DO PRÍNCIPE)               106670 non-null int64\n",
      "Neighbourhood (ILHAS OCEÂNICAS DE TRINDADE)    106670 non-null int64\n",
      "Neighbourhood (INHANGUETÁ)                     106670 non-null int64\n",
      "Neighbourhood (ITARARÉ)                        106670 non-null int64\n",
      "Neighbourhood (JABOUR)                         106670 non-null int64\n",
      "Neighbourhood (JARDIM CAMBURI)                 106670 non-null int64\n",
      "Neighbourhood (JARDIM DA PENHA)                106670 non-null int64\n",
      "Neighbourhood (JESUS DE NAZARETH)              106670 non-null int64\n",
      "Neighbourhood (JOANA D´ARC)                    106670 non-null int64\n",
      "Neighbourhood (JUCUTUQUARA)                    106670 non-null int64\n",
      "Neighbourhood (MARIA ORTIZ)                    106670 non-null int64\n",
      "Neighbourhood (MARUÍPE)                        106670 non-null int64\n",
      "Neighbourhood (MATA DA PRAIA)                  106670 non-null int64\n",
      "Neighbourhood (MONTE BELO)                     106670 non-null int64\n",
      "Neighbourhood (MORADA DE CAMBURI)              106670 non-null int64\n",
      "Neighbourhood (MÁRIO CYPRESTE)                 106670 non-null int64\n",
      "Neighbourhood (NAZARETH)                       106670 non-null int64\n",
      "Neighbourhood (NOVA PALESTINA)                 106670 non-null int64\n",
      "Neighbourhood (PARQUE INDUSTRIAL)              106670 non-null int64\n",
      "Neighbourhood (PARQUE MOSCOSO)                 106670 non-null int64\n",
      "Neighbourhood (PIEDADE)                        106670 non-null int64\n",
      "Neighbourhood (PONTAL DE CAMBURI)              106670 non-null int64\n",
      "Neighbourhood (PRAIA DO CANTO)                 106670 non-null int64\n",
      "Neighbourhood (PRAIA DO SUÁ)                   106670 non-null int64\n",
      "Neighbourhood (REDENÇÃO)                       106670 non-null int64\n",
      "Neighbourhood (REPÚBLICA)                      106670 non-null int64\n",
      "Neighbourhood (RESISTÊNCIA)                    106670 non-null int64\n",
      "Neighbourhood (ROMÃO)                          106670 non-null int64\n",
      "Neighbourhood (SANTA CECÍLIA)                  106670 non-null int64\n",
      "Neighbourhood (SANTA CLARA)                    106670 non-null int64\n",
      "Neighbourhood (SANTA HELENA)                   106670 non-null int64\n",
      "Neighbourhood (SANTA LUÍZA)                    106670 non-null int64\n",
      "Neighbourhood (SANTA LÚCIA)                    106670 non-null int64\n",
      "Neighbourhood (SANTA MARTHA)                   106670 non-null int64\n",
      "Neighbourhood (SANTA TEREZA)                   106670 non-null int64\n",
      "Neighbourhood (SANTO ANDRÉ)                    106670 non-null int64\n",
      "Neighbourhood (SANTO ANTÔNIO)                  106670 non-null int64\n",
      "Neighbourhood (SANTOS DUMONT)                  106670 non-null int64\n",
      "Neighbourhood (SANTOS REIS)                    106670 non-null int64\n",
      "Neighbourhood (SEGURANÇA DO LAR)               106670 non-null int64\n",
      "Neighbourhood (SOLON BORGES)                   106670 non-null int64\n",
      "Neighbourhood (SÃO BENEDITO)                   106670 non-null int64\n",
      "Neighbourhood (SÃO CRISTÓVÃO)                  106670 non-null int64\n",
      "Neighbourhood (SÃO JOSÉ)                       106670 non-null int64\n",
      "Neighbourhood (SÃO PEDRO)                      106670 non-null int64\n",
      "Neighbourhood (TABUAZEIRO)                     106670 non-null int64\n",
      "Neighbourhood (UNIVERSITÁRIO)                  106670 non-null int64\n",
      "Neighbourhood (VILA RUBIM)                     106670 non-null int64\n",
      "dtypes: int64(93)\n",
      "memory usage: 75.7 MB\n"
     ]
    }
   ],
   "source": [
    "from sklearn.preprocessing import LabelBinarizer\n",
    "# Complete code below this comment  (Question #E6010)\n",
    "# ----------------------------------\n",
    "encoder = LabelBinarizer()\n",
    "Neighbourhood_onehot = encoder.fit_transform(dataset['Neighbourhood'])\n",
    "# ----------------------------------\n",
    "\n",
    "for j, neighborhood in enumerate(encoder.classes_):\n",
    "    dataset['Neighbourhood ({})'.format(neighborhood)] = Neighbourhood_onehot[:, j]\n",
    "\n",
    "del dataset['Neighbourhood']\n",
    "dataset.info()"
   ]
  },
  {
   "cell_type": "markdown",
   "metadata": {},
   "source": [
    "### Statistics"
   ]
  },
  {
   "cell_type": "markdown",
   "metadata": {},
   "source": [
    "Now all columns are integer type.\n",
    "\n",
    "Check statictics for the rest of the columns."
   ]
  },
  {
   "cell_type": "code",
   "execution_count": 30,
   "metadata": {},
   "outputs": [
    {
     "data": {
      "text/html": [
       "<div>\n",
       "<style>\n",
       "    .dataframe thead tr:only-child th {\n",
       "        text-align: right;\n",
       "    }\n",
       "\n",
       "    .dataframe thead th {\n",
       "        text-align: left;\n",
       "    }\n",
       "\n",
       "    .dataframe tbody tr th {\n",
       "        vertical-align: top;\n",
       "    }\n",
       "</style>\n",
       "<table border=\"1\" class=\"dataframe\">\n",
       "  <thead>\n",
       "    <tr style=\"text-align: right;\">\n",
       "      <th></th>\n",
       "      <th>Gender</th>\n",
       "      <th>Age</th>\n",
       "      <th>Scholarship</th>\n",
       "      <th>Hipertension</th>\n",
       "      <th>Diabetes</th>\n",
       "      <th>Alcoholism</th>\n",
       "      <th>Handcap</th>\n",
       "      <th>SMS_received</th>\n",
       "      <th>No-show</th>\n",
       "      <th>AwaitingTime</th>\n",
       "      <th>AppointmentDate_day</th>\n",
       "      <th>AppointmentDate_month</th>\n",
       "    </tr>\n",
       "  </thead>\n",
       "  <tbody>\n",
       "    <tr>\n",
       "      <th>count</th>\n",
       "      <td>106670.000000</td>\n",
       "      <td>106670.000000</td>\n",
       "      <td>106670.000000</td>\n",
       "      <td>106670.000000</td>\n",
       "      <td>106670.000000</td>\n",
       "      <td>106670.000000</td>\n",
       "      <td>106670.000000</td>\n",
       "      <td>106670.000000</td>\n",
       "      <td>106670.000000</td>\n",
       "      <td>106670.000000</td>\n",
       "      <td>106670.000000</td>\n",
       "      <td>106670.000000</td>\n",
       "    </tr>\n",
       "    <tr>\n",
       "      <th>mean</th>\n",
       "      <td>0.655161</td>\n",
       "      <td>38.248317</td>\n",
       "      <td>0.101191</td>\n",
       "      <td>0.203019</td>\n",
       "      <td>0.074088</td>\n",
       "      <td>0.031452</td>\n",
       "      <td>0.022874</td>\n",
       "      <td>0.322162</td>\n",
       "      <td>0.797553</td>\n",
       "      <td>8.867067</td>\n",
       "      <td>12.469195</td>\n",
       "      <td>5.211278</td>\n",
       "    </tr>\n",
       "    <tr>\n",
       "      <th>std</th>\n",
       "      <td>0.475318</td>\n",
       "      <td>22.428750</td>\n",
       "      <td>0.301582</td>\n",
       "      <td>0.402248</td>\n",
       "      <td>0.261916</td>\n",
       "      <td>0.174537</td>\n",
       "      <td>0.163863</td>\n",
       "      <td>0.467307</td>\n",
       "      <td>0.401825</td>\n",
       "      <td>14.165951</td>\n",
       "      <td>9.046689</td>\n",
       "      <td>0.473975</td>\n",
       "    </tr>\n",
       "    <tr>\n",
       "      <th>min</th>\n",
       "      <td>0.000000</td>\n",
       "      <td>1.000000</td>\n",
       "      <td>0.000000</td>\n",
       "      <td>0.000000</td>\n",
       "      <td>0.000000</td>\n",
       "      <td>0.000000</td>\n",
       "      <td>0.000000</td>\n",
       "      <td>0.000000</td>\n",
       "      <td>0.000000</td>\n",
       "      <td>-7.000000</td>\n",
       "      <td>1.000000</td>\n",
       "      <td>4.000000</td>\n",
       "    </tr>\n",
       "    <tr>\n",
       "      <th>25%</th>\n",
       "      <td>0.000000</td>\n",
       "      <td>19.000000</td>\n",
       "      <td>0.000000</td>\n",
       "      <td>0.000000</td>\n",
       "      <td>0.000000</td>\n",
       "      <td>0.000000</td>\n",
       "      <td>0.000000</td>\n",
       "      <td>0.000000</td>\n",
       "      <td>1.000000</td>\n",
       "      <td>-1.000000</td>\n",
       "      <td>5.000000</td>\n",
       "      <td>5.000000</td>\n",
       "    </tr>\n",
       "    <tr>\n",
       "      <th>50%</th>\n",
       "      <td>1.000000</td>\n",
       "      <td>38.000000</td>\n",
       "      <td>0.000000</td>\n",
       "      <td>0.000000</td>\n",
       "      <td>0.000000</td>\n",
       "      <td>0.000000</td>\n",
       "      <td>0.000000</td>\n",
       "      <td>0.000000</td>\n",
       "      <td>1.000000</td>\n",
       "      <td>3.000000</td>\n",
       "      <td>10.000000</td>\n",
       "      <td>5.000000</td>\n",
       "    </tr>\n",
       "    <tr>\n",
       "      <th>75%</th>\n",
       "      <td>1.000000</td>\n",
       "      <td>56.000000</td>\n",
       "      <td>0.000000</td>\n",
       "      <td>0.000000</td>\n",
       "      <td>0.000000</td>\n",
       "      <td>0.000000</td>\n",
       "      <td>0.000000</td>\n",
       "      <td>1.000000</td>\n",
       "      <td>1.000000</td>\n",
       "      <td>13.000000</td>\n",
       "      <td>19.000000</td>\n",
       "      <td>5.000000</td>\n",
       "    </tr>\n",
       "    <tr>\n",
       "      <th>max</th>\n",
       "      <td>1.000000</td>\n",
       "      <td>115.000000</td>\n",
       "      <td>1.000000</td>\n",
       "      <td>1.000000</td>\n",
       "      <td>1.000000</td>\n",
       "      <td>1.000000</td>\n",
       "      <td>4.000000</td>\n",
       "      <td>1.000000</td>\n",
       "      <td>1.000000</td>\n",
       "      <td>85.000000</td>\n",
       "      <td>31.000000</td>\n",
       "      <td>6.000000</td>\n",
       "    </tr>\n",
       "  </tbody>\n",
       "</table>\n",
       "</div>"
      ],
      "text/plain": [
       "              Gender            Age    Scholarship   Hipertension  \\\n",
       "count  106670.000000  106670.000000  106670.000000  106670.000000   \n",
       "mean        0.655161      38.248317       0.101191       0.203019   \n",
       "std         0.475318      22.428750       0.301582       0.402248   \n",
       "min         0.000000       1.000000       0.000000       0.000000   \n",
       "25%         0.000000      19.000000       0.000000       0.000000   \n",
       "50%         1.000000      38.000000       0.000000       0.000000   \n",
       "75%         1.000000      56.000000       0.000000       0.000000   \n",
       "max         1.000000     115.000000       1.000000       1.000000   \n",
       "\n",
       "            Diabetes     Alcoholism        Handcap   SMS_received  \\\n",
       "count  106670.000000  106670.000000  106670.000000  106670.000000   \n",
       "mean        0.074088       0.031452       0.022874       0.322162   \n",
       "std         0.261916       0.174537       0.163863       0.467307   \n",
       "min         0.000000       0.000000       0.000000       0.000000   \n",
       "25%         0.000000       0.000000       0.000000       0.000000   \n",
       "50%         0.000000       0.000000       0.000000       0.000000   \n",
       "75%         0.000000       0.000000       0.000000       1.000000   \n",
       "max         1.000000       1.000000       4.000000       1.000000   \n",
       "\n",
       "             No-show   AwaitingTime  AppointmentDate_day  \\\n",
       "count  106670.000000  106670.000000        106670.000000   \n",
       "mean        0.797553       8.867067            12.469195   \n",
       "std         0.401825      14.165951             9.046689   \n",
       "min         0.000000      -7.000000             1.000000   \n",
       "25%         1.000000      -1.000000             5.000000   \n",
       "50%         1.000000       3.000000            10.000000   \n",
       "75%         1.000000      13.000000            19.000000   \n",
       "max         1.000000      85.000000            31.000000   \n",
       "\n",
       "       AppointmentDate_month  \n",
       "count          106670.000000  \n",
       "mean                5.211278  \n",
       "std                 0.473975  \n",
       "min                 4.000000  \n",
       "25%                 5.000000  \n",
       "50%                 5.000000  \n",
       "75%                 5.000000  \n",
       "max                 6.000000  "
      ]
     },
     "execution_count": 30,
     "metadata": {},
     "output_type": "execute_result"
    }
   ],
   "source": [
    "dataset.loc[:, [column_name for column_name in dataset.columns\n",
    "    if not column_name.startswith('Neighbourhood')]].describe()"
   ]
  },
  {
   "cell_type": "markdown",
   "metadata": {},
   "source": [
    "Check class balance.\n",
    "\n",
    "This dataset is used to potentially predict **No-show** from various factors recorded.\n",
    "Since no-shows should usually be the minority cases, it's very likely that this dataset  \n",
    "is very imbalanced.\n",
    "\n",
    "We want to understand how balanced it is between number of positive and negative samples quantitatively.  \n",
    "So we find out the ratio of no-shows among the entire dataset."
   ]
  },
  {
   "cell_type": "code",
   "execution_count": 33,
   "metadata": {},
   "outputs": [
    {
     "name": "stdout",
     "output_type": "stream",
     "text": [
      "noshow ratio: 21595 / 106670 = 0.202446798538\n"
     ]
    }
   ],
   "source": [
    "# Complete code below this comment  (Question #E6011)\n",
    "# ----------------------------------\n",
    "num_noshow = np.sum(dataset['No-show']==0) # find out total number of no-show cases\n",
    "print('noshow ratio:', num_noshow, '/', len(dataset), '=', num_noshow / len(dataset))\n",
    "\n",
    "\n",
    "\n",
    "\n"
   ]
  },
  {
   "cell_type": "markdown",
   "metadata": {},
   "source": [
    "For the sake of fairness, we will resample no-show cases to rebalance the dataset.\n",
    "\n",
    "First, we calculate this upsample rate that would make positive and negative samples appear 50/50,\n",
    "when multiplied to number of no-show cases."
   ]
  },
  {
   "cell_type": "code",
   "execution_count": 34,
   "metadata": {},
   "outputs": [
    {
     "name": "stdout",
     "output_type": "stream",
     "text": [
      "upsample_rate: 3.93956934476\n"
     ]
    }
   ],
   "source": [
    "upsample_rate = (len(dataset) - num_noshow) / num_noshow\n",
    "print('upsample_rate:', upsample_rate)"
   ]
  },
  {
   "cell_type": "markdown",
   "metadata": {},
   "source": [
    "Verify this upsample rate by definition."
   ]
  },
  {
   "cell_type": "code",
   "execution_count": 35,
   "metadata": {},
   "outputs": [
    {
     "name": "stdout",
     "output_type": "stream",
     "text": [
      "85075 85075\n"
     ]
    }
   ],
   "source": [
    "print(int(num_noshow * upsample_rate), len(dataset) - num_noshow)"
   ]
  },
  {
   "cell_type": "markdown",
   "metadata": {},
   "source": [
    "Now we resample dataset. Please upsample these no-show cases then concatenate with original \"show-up\" cases and\n",
    "and create a new dataset **dataset_resampled**."
   ]
  },
  {
   "cell_type": "code",
   "execution_count": 37,
   "metadata": {},
   "outputs": [],
   "source": [
    "# Complete code below this comment  (Question #E6012)\n",
    "# ----------------------------------\n",
    "dataset_resampled = pd.concat([\n",
    "    dataset[dataset['No-show'] == 1].sample(num_noshow).reset_index(drop=True),\n",
    "    dataset[dataset['No-show'] == 0]\n",
    "])\n",
    "\n",
    "\n"
   ]
  },
  {
   "cell_type": "markdown",
   "metadata": {},
   "source": [
    "Shuffle **dataset_resampled**."
   ]
  },
  {
   "cell_type": "code",
   "execution_count": 38,
   "metadata": {
    "collapsed": true
   },
   "outputs": [],
   "source": [
    "# Add code below this comment  (Question #E6013)\n",
    "# ----------------------------------\n",
    "\n",
    "dataset_resampled = dataset_resampled.sample(frac=1).reset_index(drop=True)"
   ]
  },
  {
   "cell_type": "markdown",
   "metadata": {},
   "source": [
    "Verify no-show ratio again."
   ]
  },
  {
   "cell_type": "code",
   "execution_count": 41,
   "metadata": {},
   "outputs": [
    {
     "name": "stdout",
     "output_type": "stream",
     "text": [
      "noshow ratio: 0.5\n"
     ]
    }
   ],
   "source": [
    "print('noshow ratio:', np.sum(dataset_resampled['No-show'] == 1) / len(dataset_resampled))"
   ]
  },
  {
   "cell_type": "markdown",
   "metadata": {},
   "source": [
    "To avoid mixing up **dataset** and **dataset_resampled**,\n",
    "we replace **dataset** and delete **dataset_resampled**."
   ]
  },
  {
   "cell_type": "code",
   "execution_count": 42,
   "metadata": {
    "collapsed": true
   },
   "outputs": [],
   "source": [
    "dataset = dataset_resampled\n",
    "del dataset_resampled"
   ]
  },
  {
   "cell_type": "markdown",
   "metadata": {},
   "source": [
    "Next thing, you may realize that we got a lot of columns just for neighborhood.\n",
    "Number of these columns are way higher than other features combined.\n",
    "Since we have already made an decision to encode them with one-hot encoding arbitrary,\n",
    "why not use PCA on these columns and see if we could compress them down."
   ]
  },
  {
   "cell_type": "code",
   "execution_count": 43,
   "metadata": {
    "collapsed": true
   },
   "outputs": [],
   "source": [
    "from sklearn.decomposition import PCA, FactorAnalysis\n",
    "from sklearn.preprocessing import scale, LabelEncoder, OneHotEncoder, LabelBinarizer\n",
    "from sklearn.feature_selection import SelectKBest, chi2, f_classif, mutual_info_classif"
   ]
  },
  {
   "cell_type": "markdown",
   "metadata": {},
   "source": [
    "Select all Neighbourhood columns."
   ]
  },
  {
   "cell_type": "code",
   "execution_count": 44,
   "metadata": {},
   "outputs": [
    {
     "data": {
      "text/plain": [
       "(43190, 81)"
      ]
     },
     "execution_count": 44,
     "metadata": {},
     "output_type": "execute_result"
    }
   ],
   "source": [
    "# Complete code below this comment  (Question #E6014)\n",
    "# ----------------------------------\n",
    "X_neighbors = np.array(dataset.loc[:, [column_name for column_name in dataset.columns\n",
    "    if column_name.startswith('Neighbourhood')]])\n",
    "X_neighbors.shape\n",
    "\n"
   ]
  },
  {
   "cell_type": "markdown",
   "metadata": {},
   "source": [
    "Apply PCA to **X_neighbors** with 60 pincipal components to create **X_neighbors_PCA**."
   ]
  },
  {
   "cell_type": "code",
   "execution_count": 45,
   "metadata": {
    "collapsed": true
   },
   "outputs": [],
   "source": [
    "# Add code below this comment  (Question #E6015)\n",
    "# ----------------------------------\n",
    "pca = PCA(n_components = 60)\n",
    "X_neighbors_PCA = pca.fit_transform(X_neighbors)\n"
   ]
  },
  {
   "cell_type": "markdown",
   "metadata": {},
   "source": [
    "Check combined variance explained ratio to make sure it doesn't drop too significantly."
   ]
  },
  {
   "cell_type": "code",
   "execution_count": 46,
   "metadata": {},
   "outputs": [
    {
     "data": {
      "text/plain": [
       "0.96869606988266499"
      ]
     },
     "execution_count": 46,
     "metadata": {},
     "output_type": "execute_result"
    }
   ],
   "source": [
    "np.sum(pca.explained_variance_ratio_)"
   ]
  },
  {
   "cell_type": "markdown",
   "metadata": {},
   "source": [
    "Delete all Neighbourhood columns because we are going to replace them all with their principal components."
   ]
  },
  {
   "cell_type": "code",
   "execution_count": 50,
   "metadata": {},
   "outputs": [],
   "source": [
    "# Add code below this comment  (Question #E6016)\n",
    "# ----------------------------------\n",
    "dataset.drop(dataset.loc[:,[column_name for column_name in dataset.columns \n",
    "                  if column_name.startswith('Neighbourhood')]],axis=1,inplace=True)\n"
   ]
  },
  {
   "cell_type": "markdown",
   "metadata": {},
   "source": [
    "Attatch principal components of the original Neighbourhood columns onto the dataset."
   ]
  },
  {
   "cell_type": "code",
   "execution_count": 51,
   "metadata": {
    "collapsed": true
   },
   "outputs": [],
   "source": [
    "for j in range(X_neighbors_PCA.shape[1]):\n",
    "    dataset['N{}'.format(j)] = X_neighbors_PCA[:, j]"
   ]
  },
  {
   "cell_type": "markdown",
   "metadata": {},
   "source": [
    "Take a look at the dataset again."
   ]
  },
  {
   "cell_type": "code",
   "execution_count": 52,
   "metadata": {},
   "outputs": [
    {
     "name": "stdout",
     "output_type": "stream",
     "text": [
      "<class 'pandas.core.frame.DataFrame'>\n",
      "RangeIndex: 43190 entries, 0 to 43189\n",
      "Data columns (total 72 columns):\n",
      "Gender                   43190 non-null int64\n",
      "Age                      43190 non-null int64\n",
      "Scholarship              43190 non-null int64\n",
      "Hipertension             43190 non-null int64\n",
      "Diabetes                 43190 non-null int64\n",
      "Alcoholism               43190 non-null int64\n",
      "Handcap                  43190 non-null int64\n",
      "SMS_received             43190 non-null int64\n",
      "No-show                  43190 non-null int64\n",
      "AwaitingTime             43190 non-null int64\n",
      "AppointmentDate_day      43190 non-null int64\n",
      "AppointmentDate_month    43190 non-null int64\n",
      "N0                       43190 non-null float64\n",
      "N1                       43190 non-null float64\n",
      "N2                       43190 non-null float64\n",
      "N3                       43190 non-null float64\n",
      "N4                       43190 non-null float64\n",
      "N5                       43190 non-null float64\n",
      "N6                       43190 non-null float64\n",
      "N7                       43190 non-null float64\n",
      "N8                       43190 non-null float64\n",
      "N9                       43190 non-null float64\n",
      "N10                      43190 non-null float64\n",
      "N11                      43190 non-null float64\n",
      "N12                      43190 non-null float64\n",
      "N13                      43190 non-null float64\n",
      "N14                      43190 non-null float64\n",
      "N15                      43190 non-null float64\n",
      "N16                      43190 non-null float64\n",
      "N17                      43190 non-null float64\n",
      "N18                      43190 non-null float64\n",
      "N19                      43190 non-null float64\n",
      "N20                      43190 non-null float64\n",
      "N21                      43190 non-null float64\n",
      "N22                      43190 non-null float64\n",
      "N23                      43190 non-null float64\n",
      "N24                      43190 non-null float64\n",
      "N25                      43190 non-null float64\n",
      "N26                      43190 non-null float64\n",
      "N27                      43190 non-null float64\n",
      "N28                      43190 non-null float64\n",
      "N29                      43190 non-null float64\n",
      "N30                      43190 non-null float64\n",
      "N31                      43190 non-null float64\n",
      "N32                      43190 non-null float64\n",
      "N33                      43190 non-null float64\n",
      "N34                      43190 non-null float64\n",
      "N35                      43190 non-null float64\n",
      "N36                      43190 non-null float64\n",
      "N37                      43190 non-null float64\n",
      "N38                      43190 non-null float64\n",
      "N39                      43190 non-null float64\n",
      "N40                      43190 non-null float64\n",
      "N41                      43190 non-null float64\n",
      "N42                      43190 non-null float64\n",
      "N43                      43190 non-null float64\n",
      "N44                      43190 non-null float64\n",
      "N45                      43190 non-null float64\n",
      "N46                      43190 non-null float64\n",
      "N47                      43190 non-null float64\n",
      "N48                      43190 non-null float64\n",
      "N49                      43190 non-null float64\n",
      "N50                      43190 non-null float64\n",
      "N51                      43190 non-null float64\n",
      "N52                      43190 non-null float64\n",
      "N53                      43190 non-null float64\n",
      "N54                      43190 non-null float64\n",
      "N55                      43190 non-null float64\n",
      "N56                      43190 non-null float64\n",
      "N57                      43190 non-null float64\n",
      "N58                      43190 non-null float64\n",
      "N59                      43190 non-null float64\n",
      "dtypes: float64(60), int64(12)\n",
      "memory usage: 23.7 MB\n"
     ]
    }
   ],
   "source": [
    "dataset.info()"
   ]
  },
  {
   "cell_type": "markdown",
   "metadata": {},
   "source": [
    "### Feature selection"
   ]
  },
  {
   "cell_type": "markdown",
   "metadata": {},
   "source": [
    "Now we create following arrays for easier access to column names and features.\n",
    "\n",
    "Study what they are and what do they represent."
   ]
  },
  {
   "cell_type": "code",
   "execution_count": 53,
   "metadata": {
    "collapsed": true
   },
   "outputs": [],
   "source": [
    "column_names = np.array(dataset.columns)\n",
    "original_features = column_names!='No-show'"
   ]
  },
  {
   "cell_type": "markdown",
   "metadata": {},
   "source": [
    "Create train/test split **X_train, X_test, y_train, y_test**"
   ]
  },
  {
   "cell_type": "code",
   "execution_count": 54,
   "metadata": {
    "collapsed": true
   },
   "outputs": [],
   "source": [
    "from sklearn.model_selection import train_test_split\n",
    "\n",
    "# Complete code below this comment  (Question #E6017)\n",
    "# ----------------------------------\n",
    "# Pull features and labels\n",
    "X = scale(np.array(dataset.loc[:, original_features]))  # use what you learned from the cell above this\n",
    "y = np.array(dataset['No-show'])\n",
    "\n",
    "# Add code below this comment  (Question #E6018)\n",
    "# ----------------------------------\n",
    "# Create training/validation split\n",
    "\n",
    "X_train, X_test, y_train, y_test = train_test_split(X,y,test_size=.25)\n"
   ]
  },
  {
   "cell_type": "markdown",
   "metadata": {},
   "source": [
    "Fit a feature selector."
   ]
  },
  {
   "cell_type": "code",
   "execution_count": 55,
   "metadata": {},
   "outputs": [
    {
     "name": "stdout",
     "output_type": "stream",
     "text": [
      "['Age' 'Scholarship' 'Hipertension' 'Diabetes' 'Handcap' 'SMS_received'\n",
      " 'AwaitingTime' 'AppointmentDate_month' 'N3' 'N6' 'N8' 'N10' 'N12' 'N15'\n",
      " 'N22' 'N27' 'N31' 'N39' 'N41' 'N54']\n"
     ]
    }
   ],
   "source": [
    "# Complete code below this comment  (Question #E6019)\n",
    "# ----------------------------------\n",
    "selector = SelectKBest(f_classif, k=20)\n",
    "selector.fit(X_train,y_train)\n",
    "selected_features = column_names[original_features][selector.get_support()]\n",
    "print(selected_features)\n",
    "\n",
    "\n"
   ]
  },
  {
   "cell_type": "markdown",
   "metadata": {},
   "source": [
    "## Create a linear SVM classifier"
   ]
  },
  {
   "cell_type": "code",
   "execution_count": 56,
   "metadata": {
    "collapsed": true
   },
   "outputs": [],
   "source": [
    "import tensorflow as tf\n",
    "\n",
    "# Please ignore the configurations below\n",
    "tf.logging.set_verbosity(tf.logging.ERROR)\n",
    "import tf_threads\n",
    "estimator_config = tf.contrib.learn.RunConfig(session_config=\n",
    "    tf_threads.limit(tf, 4)\n",
    ")"
   ]
  },
  {
   "cell_type": "markdown",
   "metadata": {},
   "source": [
    "Prepare feature columns as TensorFlow placeholders."
   ]
  },
  {
   "cell_type": "code",
   "execution_count": 65,
   "metadata": {},
   "outputs": [],
   "source": [
    "# Add code below this comment  (Question #E6020)\n",
    "# -----------------------------------------------\n",
    "features_columns = [tf.contrib.layers.real_valued_column(i)for i in selected_features]\n",
    "\n"
   ]
  },
  {
   "cell_type": "markdown",
   "metadata": {},
   "source": [
    "Create SVM classifier"
   ]
  },
  {
   "cell_type": "code",
   "execution_count": 68,
   "metadata": {},
   "outputs": [],
   "source": [
    "# Add code below this comment  (Question #E6021)\n",
    "# ----------------------------------\n",
    "classifier = tf.contrib.learn.SVM('example_id',feature_columns = features_columns,l2_regularization=1.0)\n"
   ]
  },
  {
   "cell_type": "markdown",
   "metadata": {},
   "source": [
    "Prepare input_fn() to supply training data."
   ]
  },
  {
   "cell_type": "code",
   "execution_count": 69,
   "metadata": {
    "collapsed": true
   },
   "outputs": [],
   "source": [
    "# Complete code below this comment  (Question #E6022)\n",
    "# ----------------------------------\n",
    "def input_fn():\n",
    "    X_selected = selector.transform(X_train)\n",
    "    columns = {\n",
    "        feature_name: tf.constant(np.expand_dims(X_selected[:,i], 1))\n",
    "            for i,feature_name in enumerate(selected_features)\n",
    "    }\n",
    "    columns['example_id'] = tf.constant([str(i+1) for i in range(len(X_selected))])\n",
    "    labels = tf.constant(y_train)\n",
    "    return columns, labels"
   ]
  },
  {
   "cell_type": "code",
   "execution_count": null,
   "metadata": {
    "collapsed": true
   },
   "outputs": [],
   "source": []
  },
  {
   "cell_type": "markdown",
   "metadata": {},
   "source": [
    "## Train SVM\n",
    "\n",
    "This may take a few minutes."
   ]
  },
  {
   "cell_type": "code",
   "execution_count": 70,
   "metadata": {},
   "outputs": [
    {
     "name": "stdout",
     "output_type": "stream",
     "text": [
      "CPU times: user 57.6 s, sys: 1.07 s, total: 58.7 s\n",
      "Wall time: 20.8 s\n"
     ]
    },
    {
     "data": {
      "text/plain": [
       "SVM(params={'feature_columns': [_RealValuedColumn(column_name='Age', dimension=1, default_value=None, dtype=tf.float32, normalizer=None), _RealValuedColumn(column_name='Scholarship', dimension=1, default_value=None, dtype=tf.float32, normalizer=None), _RealValuedColumn(column_name='Hipertension', dimension=1, default_value=None, dtype=tf.float32, normalizer=None), _RealValuedColumn(column_name='Diabetes', dimension=1, default_value=None, dtype=tf.float32, normalizer=None), _RealValuedColumn(column_name='Handcap', dimension=1, default_value=None, dtype=tf.float32, normalizer=None), _RealValuedColumn(column_name='SMS_received', dimension=1, default_value=None, dtype=tf.float32, normalizer=None), _RealValuedColumn(column_name='AwaitingTime', dimension=1, default_value=None, dtype=tf.float32, normalizer=None), _RealValuedColumn(column_name='AppointmentDate_month', dimension=1, default_value=None, dtype=tf.float32, normalizer=None), _RealValuedColumn(column_name='N3', dimension=1, default_value=None, dtype=tf.float32, normalizer=None), _RealValuedColumn(column_name='N6', dimension=1, default_value=None, dtype=tf.float32, normalizer=None), _RealValuedColumn(column_name='N8', dimension=1, default_value=None, dtype=tf.float32, normalizer=None), _RealValuedColumn(column_name='N10', dimension=1, default_value=None, dtype=tf.float32, normalizer=None), _RealValuedColumn(column_name='N12', dimension=1, default_value=None, dtype=tf.float32, normalizer=None), _RealValuedColumn(column_name='N15', dimension=1, default_value=None, dtype=tf.float32, normalizer=None), _RealValuedColumn(column_name='N22', dimension=1, default_value=None, dtype=tf.float32, normalizer=None), _RealValuedColumn(column_name='N27', dimension=1, default_value=None, dtype=tf.float32, normalizer=None), _RealValuedColumn(column_name='N31', dimension=1, default_value=None, dtype=tf.float32, normalizer=None), _RealValuedColumn(column_name='N39', dimension=1, default_value=None, dtype=tf.float32, normalizer=None), _RealValuedColumn(column_name='N41', dimension=1, default_value=None, dtype=tf.float32, normalizer=None), _RealValuedColumn(column_name='N54', dimension=1, default_value=None, dtype=tf.float32, normalizer=None)], 'head': <tensorflow.contrib.learn.python.learn.estimators.head._BinarySvmHead object at 0x7f21189d5cc0>, 'update_weights_hook': <tensorflow.contrib.learn.python.learn.estimators.linear._SdcaUpdateWeightsHook object at 0x7f21189d5d30>, 'weight_column_name': None, 'optimizer': <tensorflow.contrib.linear_optimizer.python.sdca_optimizer.SDCAOptimizer object at 0x7f21189d53c8>})"
      ]
     },
     "execution_count": 70,
     "metadata": {},
     "output_type": "execute_result"
    }
   ],
   "source": [
    "%%time\n",
    "\n",
    "# Add code below this comment  (Question #E6023)\n",
    "# ----------------------------------\n",
    "classifier.fit(input_fn=input_fn,steps=30)\n"
   ]
  },
  {
   "cell_type": "markdown",
   "metadata": {},
   "source": [
    "## Evaluation\n",
    "\n",
    "First create a predict_fn() to supply data from test dataset."
   ]
  },
  {
   "cell_type": "code",
   "execution_count": 71,
   "metadata": {
    "collapsed": true
   },
   "outputs": [],
   "source": [
    "def predict_fn():\n",
    "    X_selected = selector.transform(X_test)\n",
    "    columns = {\n",
    "        feature_name: tf.constant(np.expand_dims(X_selected[:, i], 1))\n",
    "            for i,feature_name in enumerate(selected_features)\n",
    "    }\n",
    "    columns['example_id'] = tf.constant([str(i+1) for i in range(len(X_selected))])\n",
    "    return columns"
   ]
  },
  {
   "cell_type": "markdown",
   "metadata": {},
   "source": [
    "Make predictions"
   ]
  },
  {
   "cell_type": "code",
   "execution_count": 72,
   "metadata": {
    "collapsed": true
   },
   "outputs": [],
   "source": [
    "y_pred = classifier.predict(input_fn=predict_fn)\n",
    "y_pred = list(map(lambda i: i['classes'], y_pred))"
   ]
  },
  {
   "cell_type": "markdown",
   "metadata": {},
   "source": [
    "Measure accuracy and create confusion matrix."
   ]
  },
  {
   "cell_type": "code",
   "execution_count": 73,
   "metadata": {},
   "outputs": [
    {
     "name": "stdout",
     "output_type": "stream",
     "text": [
      "Loss 0.923955 \n",
      "Accuracy 0.581193\n"
     ]
    },
    {
     "data": {
      "text/plain": [
       "array([[3348, 2081],\n",
       "       [2490, 2879]])"
      ]
     },
     "execution_count": 73,
     "metadata": {},
     "output_type": "execute_result"
    }
   ],
   "source": [
    "from sklearn.metrics import accuracy_score, confusion_matrix\n",
    "\n",
    "# Add code below this comment  (Question #E6024)\n",
    "# ----------------------------------\n",
    "metrics = classifier.evaluate(input_fn=input_fn,steps=1)\n",
    "print(\"Loss\",metrics['loss'],\"\\nAccuracy\",metrics['accuracy'])\n",
    "confusion_matrix(y_test,y_pred)\n"
   ]
  },
  {
   "cell_type": "markdown",
   "metadata": {
    "collapsed": true
   },
   "source": [
    "# Save your notebook!"
   ]
  }
 ],
 "metadata": {
  "kernelspec": {
   "display_name": "Python 3",
   "language": "python",
   "name": "python3"
  },
  "language_info": {
   "codemirror_mode": {
    "name": "ipython",
    "version": 3
   },
   "file_extension": ".py",
   "mimetype": "text/x-python",
   "name": "python",
   "nbconvert_exporter": "python",
   "pygments_lexer": "ipython3",
   "version": "3.4.5"
  }
 },
 "nbformat": 4,
 "nbformat_minor": 2
}
