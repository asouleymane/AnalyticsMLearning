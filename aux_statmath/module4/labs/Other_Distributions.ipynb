{
 "cells": [
  {
   "cell_type": "markdown",
   "metadata": {
    "collapsed": true
   },
   "source": [
    "### Normal distributions"
   ]
  },
  {
   "cell_type": "markdown",
   "metadata": {},
   "source": [
    "We saw in module 1 how a normal distribution looks and discussed what questions we can answer about a variable knowing that it is normally distributed. \n",
    "We can say a distribution, X, is normally distributed mathematically as below... \n",
    "\n",
    "$$ X ∼ norm(mean = µ, sd = σ) $$\n",
    "\n",
    "where µ(mu) is the mean of the normal distribution and σ(sigma) is the standard deviation of the distribution. \n",
    "\n",
    "The associated R function is to generate a standard normal distribution with mean 0 and standard deviation of 1 is `dnorm(x, mean = 0,sd = 1)`."
   ]
  },
  {
   "cell_type": "markdown",
   "metadata": {},
   "source": [
    "The values of the distribution lie around the (sample) mean in specific proportions, \n",
    "which is commonly called 68-95-99.7 rule. \n",
    "We can see where this rule comes from using `pnorm()` function in R.\n",
    "\n",
    "`pnorm()` : Given a number or a list, \n",
    "this function calculates the probability that a normally distributed random number will be less than that number. \n",
    "Simply put, it gives the area under the standard normal curve. \n",
    "It takes mean and standard deviation as its arguments. \n",
    "If none are specified, it considers mean=0 and sd=1 by default. \n",
    "\n",
    "In the below example, the `pnorm()` function gives the probabilities of 3 numbers {1,2,3}, \n",
    "telling us where they will fall according to the 68-95-99.7 rule. \n",
    "We are not supplying the mean and standard deviation to the function. \n",
    "So, mean and sd are assumed 0 and 1, respectively, by default.\n",
    "So, what is the area below the first input value '1'? \n",
    "We know that 50% of the area under standard normal curve will be below the mean. "
   ]
  },
  {
   "cell_type": "code",
   "execution_count": null,
   "metadata": {},
   "outputs": [],
   "source": [
    "#These probabilities are for the right tail of the distribution \n",
    "pnorm(1)\n",
    "pnorm(2)\n",
    "pnorm(3)\n",
    "pnorm(4)"
   ]
  },
  {
   "cell_type": "code",
   "execution_count": null,
   "metadata": {},
   "outputs": [],
   "source": [
    "sequence <- seq(-4,4,.01)\n",
    "\n",
    "# dnorm() - Given a set of values it returns the height of the probability distribution at each point. It assumes a mean of \n",
    "# 0 and standard deviation of 1 if they are not supplied with data.\n",
    "densities <- dnorm(sequence,0,1)\n",
    "head(densities)"
   ]
  },
  {
   "cell_type": "code",
   "execution_count": null,
   "metadata": {},
   "outputs": [],
   "source": [
    "# Setting the size of the plot to 2\" by 2\" . \n",
    "par(pin=c(2,2))\n",
    "\n",
    "plot(sequence, # Plotting the values (-4,-3.99,-3.98,...,3.98,3.99,4) on x axis\n",
    "     densities, # Plotting the corresponding probability densities of the values (-4,-3.99,-3.98,...,3.98,3.99,4) on y axis\n",
    "     col=\"blue\",xlab=\"\", ylab=\"Density\", type=\"l\",lwd=2, cex=2,  \n",
    "     main=\"PDF of Standard Normal Distribution\", cex.axis=.8)\n",
    "\n",
    "#Vertical lines at standard deviations of 1,2,3 from mean \n",
    "abline(v=c(-1,1),col=('red')) # Draw a vertical line at standard deviation of 1\n",
    "abline(v=c(-2,2),col=('green')) # Draw a vertical line at standard deviation of 2\n",
    "abline(v=c(-3,3),col=('blue'))  # Draw a vertical line at standard deviation of 3\n",
    "axis(1, at=c(-3,-2,-1,0,1,2,3), \n",
    "     labels=c(0.001,0.02,0.15,0.5,0.84,0.97,0.99), # The labels {0.001,0.02,0.15,0.5,0.84,0.97,0.99} represent the areas under \n",
    "                                                   # normal curve before each value.          \n",
    "     las=2,col.axis=\"red\",cex.axis=0.7)"
   ]
  },
  {
   "cell_type": "code",
   "execution_count": null,
   "metadata": {},
   "outputs": [],
   "source": [
    "#Probabilities of numbers on the left tail of the distribution \n",
    "pnorm(-(1:3))"
   ]
  },
  {
   "cell_type": "markdown",
   "metadata": {},
   "source": [
    "When you substract the areas of probability on left tail with that of right tail, you will see why the values of the distribution fall within the proportions of 68.2-95.4-99.7"
   ]
  },
  {
   "cell_type": "code",
   "execution_count": null,
   "metadata": {},
   "outputs": [],
   "source": [
    "# Note, this is a vector math operation:  A = right tail vector, B = left tail vector\n",
    "# A - B\n",
    "pnorm(1:3) - pnorm(-(1:3))"
   ]
  },
  {
   "cell_type": "markdown",
   "metadata": {},
   "source": [
    "**Question: ** A random experiment consist of a person taking an IQ test. \n",
    "Let `X` be the score on the test.\n",
    "The test scores have a mean of 100 and a standard deviation of 15. \n",
    "What is P(85 ≤ X ≤ 115)?\n",
    "\n",
    "\n",
    "**Solution:** We need to find the area on the normal curve where this scores will fall. \n",
    "The limits 85 and 115 fall exactly one standard deviation (below and above, respectively) from the mean of 100. \n",
    "The answer is therefore approximately 68%. \n",
    "So the probability of a person getting a score between 85 and 115 is 68%. "
   ]
  },
  {
   "cell_type": "markdown",
   "metadata": {},
   "source": [
    "**qnorm() **\n",
    "\n",
    "Given a set of values it returns the height of the probability distribution at each point. \n",
    "If you only give the points it assumes you want to use a mean of zero and standard deviation of one. \n",
    "Simply put, it gives the value at which the CDF of the standard normal curve is at a given value.\n",
    "\n",
    "**Question: ** Continuing with our previous example of IQ, \n",
    "what is the lowest possible IQ score that a person can have and still be in the top 1% of all IQ scores?\n",
    "\n",
    "**Solution: ** we are looking for QX(0.99), where X ∼ norm(mean =100, sd = 15). "
   ]
  },
  {
   "cell_type": "code",
   "execution_count": null,
   "metadata": {},
   "outputs": [],
   "source": [
    "#The below function should return the distribution value at the given probability.\n",
    "qnorm(0.99, mean = 100, sd = 15)"
   ]
  },
  {
   "cell_type": "markdown",
   "metadata": {},
   "source": [
    "So, the answer is approximately 134.8952. A person with this IQ score or higher falls in the top 1% of all IQ scores"
   ]
  },
  {
   "cell_type": "markdown",
   "metadata": {},
   "source": [
    "### Normal distribution as an approximation for the binomial distribution\n",
    "\n",
    "**Binomial distributions**\n",
    "\n",
    "When you flip a coin, there are two possible outcomes: heads or tails. \n",
    "Each outcome has a fixed probability of 1/2, the same from trial to trial.\n",
    "We consider probability distributions for which there are just two possible \n",
    "outcomes with fixed probabilities summing to one. \n",
    "These distributions are called binomial distributions.\n",
    "\n",
    "The formula we use for calculating probabilities in a binomial distribution is given below, \n",
    "(note that the \"!\" means \"factorial\", which is a number multiplied by the progressive \n",
    "reduction of itself down to 1 ... such that 3! is 3 x 2 x 1 = 6 and 2! is 2 x 1 = 2)\n",
    "\n",
    "<img src='../images/binomial_formula.gif'>\n",
    "\n",
    "... where P(x) is the probability of x successes out of N trials, \n",
    "N is the number of trials, and π is the probability of success on a given trial. \n",
    "Applying this to the coin flip example,\n",
    "\n",
    "<img src='../images/binomial2.gif'>\n",
    "\n",
    "image src: http://onlinestatbook.com/2/probability/binomial.html\n",
    "\n",
    "We toss a coin 12 times. \n",
    "What is the probability that we get from 0 to 3 heads? \n",
    "The answer is found by computing the probability of exactly 0 heads,\n",
    "exactly 1 head, exactly 2 heads, and exactly 3 heads. \n",
    "The probability of getting from 0 to 3 heads is then the sum of these probabilities.\n",
    "The probabilities are: 0.0002, 0.0029, 0.0161, and 0.0537.\n",
    "The sum of the probabilities is 0.073. \n",
    "The calculation of cumulative binomial probabilities can be quite tedious. \n",
    "Abraham de Moivre, an 18th century statistician noted that when the number of events (coin flips) increased, \n",
    "the shape of the binomial distribution approached a very smooth curve. \n",
    "The curve he discovered is now called the \"normal curve.\"\n",
    "\n"
   ]
  },
  {
   "cell_type": "markdown",
   "metadata": {},
   "source": [
    "Assume you have a fair coin and wish to know the probability that you would get 8 heads out of 10 flips.\n",
    "The binomial distribution has a mean of $\\mu$ = Nπ = (10)(0.5) = 5 and a variance of $\\sigma^2$ = Nπ(1-π) = (10)(0.5)(0.5) = 2.5. \n",
    "The standard deviation $\\sigma$ is therefore 1.5811. \n",
    "\n",
    "    8 - no of heads\n",
    "\n",
    "    5 - mean of the population\n",
    "\n",
    "    1.5811 - SD of pulation\n",
    "\n",
    "A total of 8 heads is (8 - 5)/1.5811 = 1.897 standard deviations above the mean of the distribution. \n",
    "\n",
    "The question then is, \"What is the probability of getting a value exactly 1.897 standard deviations above the mean?\" You may be surprised to learn that the answer is 0:\n",
    "The probability of any one specific point is 0 on a continous distribution.\n",
    "\n",
    "The solution is to round off and consider any value from 7.5 to 8.5 to represent an outcome of 8 heads. \n",
    "Using this approach, we figure out the area under a normal curve from 7.5 to 8.5\n",
    "\n",
    "<img src='../images/normal_binom_p.gif'>"
   ]
  },
  {
   "cell_type": "code",
   "execution_count": null,
   "metadata": {},
   "outputs": [],
   "source": [
    "# There are two ways to find the area under a curve\n",
    "    # a) Using a table of the standard normal distribution (a Z table)\n",
    "    # b) Using pnormGC() function as shown below\n",
    "\n",
    "# Find the z-score to find out the area\n",
    "#Z score for 8.5\n",
    "Z1 = (8.5 - 5)/1.5811\n",
    "Z1\n",
    "\n",
    "#Z score for 7.5\n",
    "Z2 = (7.5 - 5)/1.5811\n",
    "Z2"
   ]
  },
  {
   "cell_type": "markdown",
   "metadata": {},
   "source": [
    "**Reference**: <a href=\"../images/zscoretable.pdf\">click here for z-score table</a>"
   ]
  },
  {
   "cell_type": "code",
   "execution_count": null,
   "metadata": {},
   "outputs": [],
   "source": [
    "# Area below Z1 of 2.21 using pnormGC function\n",
    "\n",
    "library(tigerstats) # tigerstats\n",
    "pnormGC(8.5,region=\"below\",mean=5,\n",
    "        sd=1.5811,graph=FALSE)\n",
    "\n",
    "#Area below Z2 of 1.58\n",
    "pnormGC(7.5,region=\"below\",mean=5,\n",
    "        sd=1.5811,graph=FALSE)"
   ]
  },
  {
   "cell_type": "code",
   "execution_count": null,
   "metadata": {},
   "outputs": [],
   "source": [
    "#Subtract the area of Z2 from the value of Z1\n",
    "0.986573523658572-0.943081289204437"
   ]
  },
  {
   "cell_type": "markdown",
   "metadata": {},
   "source": [
    "The area 0.043492234454135 is an approximation of the probability of obtaining 8 heads.\n",
    "\n",
    "The same logic applies when calculating the probability of a range of outcomes. For example, to calculate the probability of 7 to 10 flips, calculate the area from 7.5 to 10.5.\n",
    "\n",
    "**Reference: ** [pnormGC()](https://cran.r-project.org/web/packages/tigerstats/vignettes/pnormGC.html)\n",
    "\n",
    "**Reference: ** [tigerstats package](https://cran.r-project.org/web/packages/tigerstats/vignettes/instructorNotes.html)"
   ]
  },
  {
   "cell_type": "markdown",
   "metadata": {},
   "source": [
    "###  Binomial Distribution\n",
    "\n",
    "The binomial distribution is based on a Bernoulli trial (Binomial trial), \n",
    "which is a random experiment in which there are only two possible outcomes: \n",
    "success (S) and failure (F). \n",
    "We conduct the Bernoulli trial and let\n",
    "\n",
    "\\begin{gather*}     \n",
    "X =\n",
    "\\begin{cases}\n",
    "1 & \\text {if the outcome is S ,}\\\\\n",
    "0 & \\text {if the outcome is F.}\\\\\n",
    "\\end{cases}\n",
    "\\end{gather*}\n",
    "\n",
    "If the probability of success is **p** then the probability of failure must be 1 − p = q and the PMF of X is\n",
    "\n",
    "$fx(X) = p^x(1 − p)^{1−x} $,                  x = 0, 1.\n"
   ]
  },
  {
   "cell_type": "markdown",
   "metadata": {},
   "source": [
    "#### The Binomial Model\n",
    "\n",
    "The Binomial model has three defining properties:\n",
    "    \n",
    "    • Bernoulli trials are conducted n times,\n",
    "    • the trials are independent,\n",
    "    • the probability of success **p** does not change between trials.\n",
    "\n",
    "If a random variable `X` follows the binomial distribution with parameters n ∈ N(total number of trials) and p ∈ [0,1] (probability range),\n",
    "we write X ~ B(n, p). \n",
    "he probability of getting exactly k successes in n trials is given by the probability mass function:\n",
    "\n",
    "If k counts the number of successes in the n independent trials, then the Probability Mass Function(PMF) of k is\n",
    "\n",
    "<img src=\"../images/binomial_dist.JPG\">\n",
    "\n",
    "Image src: https://en.wikipedia.org/wiki/Binomial_distribution"
   ]
  },
  {
   "cell_type": "markdown",
   "metadata": {},
   "source": [
    "#### How to replicate the same in R:\n",
    "\n",
    "The corresponding R function for the PMF and CDF for binomial distribution are `dbinom` and `pbinom`, respectively. We demonstrate their use in the following examples.\n",
    "\n",
    "Example: Roll 12 dice simultaneously, and let X denote the number of 6s that appear. \n",
    "We wish to find the probability of getting seven, eight, or nine 6s. \n",
    "If we let S = { get a 6 on one roll },then P(S) = 1/6 and the rolls constitute Bernoulli trials; \n",
    "thus X ∼ binom(size =12, prob =1/6) and our task is to find P(7 ≤ X ≤ 9). \n",
    "This is just\n",
    "\n",
    "$P(7 ≤ X ≤ 9) = \\sum_{x=7}^{9} {{9}\\choose{7}}(1/6)^x(5/6)^{12−x}$\n",
    "\n",
    "\n",
    "P(7 ≤ X ≤ 9) = P(X ≤9) − P(X ≤ 6) = FX(9) − FX(6),"
   ]
  },
  {
   "cell_type": "code",
   "execution_count": null,
   "metadata": {},
   "outputs": [],
   "source": [
    "pbinom(9, size=12, prob=1/6) - pbinom(6, size=12, prob=1/6)"
   ]
  },
  {
   "cell_type": "markdown",
   "metadata": {},
   "source": [
    "**Example:** Toss a coin three times and let X be the number of Heads observed.\n",
    "We know from before that X ∼ binom(size = 3, prob = 1/2) which implies the following PMF:\n",
    "\n",
    "x = # of Heads   |  0   1   2   3\n",
    "----------------|-----------------\n",
    "f(x) = IP(X = x)| 1/8 3/8 3/8 1/8"
   ]
  },
  {
   "cell_type": "code",
   "execution_count": null,
   "metadata": {},
   "outputs": [],
   "source": [
    "# install.packages(\"distr\",repo=\"https://cran.cnr.berkeley.edu/\")\n",
    "library(distr)\n",
    "x <- Binom(size = 3, prob = 1/2)\n",
    "x"
   ]
  },
  {
   "cell_type": "code",
   "execution_count": null,
   "metadata": {},
   "outputs": [],
   "source": [
    "paste(d(x)(0),',', d(x)(1),',', d(x)(2),',',d(x)(3)) # pmf of X evaluated at x = 0,1,2,3"
   ]
  },
  {
   "cell_type": "code",
   "execution_count": null,
   "metadata": {},
   "outputs": [],
   "source": [
    "paste(p(x)(0),',', p(x)(1),',', p(x)(2),',',p(x)(3)) # cdf of X evaluated at x = 0,1,2,3"
   ]
  },
  {
   "cell_type": "markdown",
   "metadata": {},
   "source": [
    "### This concludes the extra distributions notebook"
   ]
  }
 ],
 "metadata": {
  "kernelspec": {
   "display_name": "R",
   "language": "R",
   "name": "ir"
  },
  "language_info": {
   "codemirror_mode": "r",
   "file_extension": ".r",
   "mimetype": "text/x-r-source",
   "name": "R",
   "pygments_lexer": "r",
   "version": "3.4.0"
  }
 },
 "nbformat": 4,
 "nbformat_minor": 1
}
