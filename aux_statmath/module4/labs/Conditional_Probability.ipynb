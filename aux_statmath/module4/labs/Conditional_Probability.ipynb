{
 "cells": [
  {
   "cell_type": "markdown",
   "metadata": {
    "collapsed": true
   },
   "source": [
    "# Conditional Probability\n",
    "\n",
    "In this lab notebook we will be looking into independent and dependent events, \n",
    "concepts of conditional probablity, permutations, and combinations. \n",
    "\n",
    "Independent and Dependent events follow from their names. \n",
    "Independent events are those whose occurence is wholly independent of another event, \n",
    "or at least the events we are calculating probabilities for. \n",
    "Dependent events exist in a space where the likliehood of one event depends on or is influenced by the occurrence of the other. \n",
    "We express this below mathematically. \n",
    "\n",
    "Conditional probability is the probability of seeing some event knowing that some other event has actually occurred. For example, weather forecasting is based on conditional probabilities. \n",
    "When the forecast says that there is a 30% chance of rain, \n",
    "that probability is based on all the information that the meteorologists know up until that point.\n",
    "\n",
    "Let's look into what independent and dependent events are. \n",
    "**Reference: ** [Elementary Probability and the prob Package](https://cran.r-project.org/web/packages/prob/vignettes/prob.pdf)"
   ]
  },
  {
   "cell_type": "markdown",
   "metadata": {},
   "source": [
    "### Independent and Dependent Events\n",
    "\n",
    "\n",
    "**Independent: ** Events A and B are said to be independent if\n",
    "\n",
    "            (A ∩ B) = (A).(B)\n",
    "\n",
    "Otherwise, the events are said to be **dependent**.\n",
    "    \n",
    "                                                   P(A ∩ B)     P(A).P(B)\n",
    "          when P(B) > 0  we can write,    P(A|B) = --------  =  --------- = P(A)\n",
    "                                                     P(B)          P(B)\n",
    "                                                     \n",
    "\n",
    "When A and B are independent, the numerator of the fraction factors so that (B) cancels with the result:\n",
    " \n",
    "            P(A|B) = P(A) when A, B are independent\n",
    "\n",
    "\n",
    "\n",
    "Let's consider the example of tossing ten coins to illustrate the nature of independent events. \n",
    "So, what is the probability of observing at least one Head? \n",
    "\n",
    "Imagine that we are tossing the coins in such a way that they do not interfere with each other; i.e. they are independent events. \n",
    "\n",
    "The only way there will not be at least one Head is if all tosses are Tails. \n",
    "Therefore,\n",
    "         \n",
    "         P(at least one H) = 1 − P(all T),\n",
    "\n",
    "\n",
    "                             1 - (1/2)^10"
   ]
  },
  {
   "cell_type": "code",
   "execution_count": null,
   "metadata": {},
   "outputs": [],
   "source": [
    "#Let's try to do the same thing in R\n",
    "library(prob)\n",
    "Space <- tosscoin(10, makespace = TRUE)\n",
    "\n",
    "#The isrep function in the prob package, will test each row of Space to see whether the value T appears 10 times and returns \n",
    "#true or false for each row it checks. The subset function is logical, so makes a subset with the rows which are true.\n",
    "A <- subset(Space, isrep(Space, vals = \"T\", nrep = 10))\n",
    "1 - Prob(A)"
   ]
  },
  {
   "cell_type": "markdown",
   "metadata": {},
   "source": [
    "#### Repeated Experiments with Independent Events\n",
    "\n",
    "Experiments are repeated when we want to discern the probability of two events occuring more reliably. \n",
    "Often, a single experiment does not yield sufficient data. \n",
    "Therefore, it is common to repeat a certain experiment multiple times under identical \n",
    "conditions and in an independent manner. \n",
    "Experiments like tossing a coin repeatedly, rolling a die or dice, etc. are repreated experiments.\n",
    "\n",
    "The `iidspace` function in the \"prob\" library in R (note \"*`library(prob)`* in the code above) implements repeated experiments. \n",
    "It takes three arguments: \n",
    "`x`, which is a vector of outcomes, \n",
    "`ntrials`, which is an integer telling how many times to repeat the experiment, and \n",
    "`probs` to specify the probabilities of the outcomes of x in a single trial."
   ]
  },
  {
   "cell_type": "code",
   "execution_count": null,
   "metadata": {},
   "outputs": [],
   "source": [
    "iidspace(c(\"H\",\"T\"), ntrials = 3, probs = c(0.5, 0.5))"
   ]
  },
  {
   "cell_type": "markdown",
   "metadata": {},
   "source": [
    "### Dependent Events / Conditional Probability"
   ]
  },
  {
   "cell_type": "markdown",
   "metadata": {},
   "source": [
    "Conditional probabilities only exist for dependent events. \n",
    "Consider why: \n",
    "If events are independent, then their occurence probabilities cannot be expressed together in an equation. \n",
    "If events are *dependent*, then their probabilities can be expressed as one depending on the other or in an expression of mutual dependence. \n",
    "\n",
    "Consider an example of drawing cards from a full deck of 52 standard playing cards as an example of *dependent events* and *conditional probablity*. \n",
    "Select two cards from the deck, in succession. \n",
    "\n",
    "    Let A = {first card drawn is an Ace} and B = {second card drawn is an Ace}. \n",
    "\n",
    "Since there are four Aces in the deck, it is natural to assign P(A) = 4/52. \n",
    "Let's unpack how this probability changes after the first card is drawn,\n",
    "because after the first card is drawn there are only 51 cards remaining. \n",
    "\n",
    "Suppose we looked at the first card. \n",
    "What is the probability of B now? \n",
    "The answer depends on the value of the first card. \n",
    "If the first card is an Ace, then the probability that the second also is an Ace should be 3/51, \n",
    "but if the first card is not an Ace, then the probability that the second is an Ace should be 4/51. \n",
    "\n",
    "Mathematically, for these two situations we write\n",
    "    \n",
    "    P(B|A) = 3/51, P(A) = 4/52\n",
    "    \n",
    "The probability of B being an Ace, if A was an Ace is 3/51. \n",
    "The probability of A being an Ace is 4/52, because no cards have been drawn yet. \n",
    "    \n",
    "Definition: The conditional probability of B given A, denoted P(B|A), is defined by\n",
    "    \n",
    "    \n",
    "              P(A ∩ B)\n",
    "    P(B|A) =  --------\n",
    "                P(A)\n",
    "                \n",
    "P(A ∩ B) means that A & B intersect. \n",
    "They intersect if they are the same card (in this case, an Ace). \n",
    "P(A) means the probabilty of A being an Ace\n",
    "    \n",
    "              P(A ∩ B)                                  3      4\n",
    "    P(B|A) =  -------- => P(A ∩ B) => P(B|A) * P(A) => --- *  --- => 0.0045\n",
    "                P(A)                                    51     52"
   ]
  },
  {
   "cell_type": "code",
   "execution_count": null,
   "metadata": {},
   "outputs": [],
   "source": [
    "(3/51)*(4/52)"
   ]
  },
  {
   "cell_type": "markdown",
   "metadata": {},
   "source": [
    "**Example: **Let's work out an example. \n",
    "Toss a six-sided die _twice_. \n",
    "The sample space consists of all ordered pairs (i, j)\n",
    "\n",
    "of the numbers 1, 2, . . . , 6, that is, S = {(1, 1), (1, 2), . . . ,(6, 6)}. \n",
    "\n",
    "Essentially, \"i\" is one die and \"j\" is another die. \n",
    "\n",
    "Let A = {outcomes match} and B = {sum of outcomes at least 8}."
   ]
  },
  {
   "cell_type": "code",
   "execution_count": null,
   "metadata": {},
   "outputs": [],
   "source": [
    "# The first thing to do is set up the probability space with the \n",
    "# rolldie function inside the prob library. \n",
    "# So, \"S\" is the probability space\n",
    "# \"rolldie\" is the function\n",
    "# 2 is the number of die\n",
    "# makespace is \"make the space? Yes or no?\"\n",
    "S <- rolldie(2, makespace = TRUE)\n",
    "#S contains all the all 36 possible outcomes {(1,1),(1,2)....(6,6)} with \n",
    "# each outcome having an identical probability of 0.02777778\n",
    "head(S)"
   ]
  },
  {
   "cell_type": "code",
   "execution_count": null,
   "metadata": {},
   "outputs": [],
   "source": [
    "# Subsetting sample space S, for outcomes matching event A(outcomes match). \n",
    "# This results in a set where both die are the same (i & j are the same)\n",
    "A <- subset(S, X1 == X2)\n",
    "A"
   ]
  },
  {
   "cell_type": "code",
   "execution_count": null,
   "metadata": {},
   "outputs": [],
   "source": [
    "# Subsetting sample space S, \n",
    "# for outcomes matching event B(sum of outcomes at least 8). \n",
    "# The die total must be 8 or more\n",
    "B <- subset(S, X1 + X2 >= 8)\n",
    "B"
   ]
  },
  {
   "cell_type": "code",
   "execution_count": null,
   "metadata": {},
   "outputs": [],
   "source": [
    "# When calculating conditional probability, we should use the \n",
    "# \"given\" argument of the prob function as shown below:\n",
    "# A is the event of getting same outcome {{1,1},{2,2}...{6,6}}\n",
    "# B is the event of getting the outcomes with sum of >=8 {{2,6},{3,6},{4,6},{5,6},{6,6},{3,5}...{6,6}}\n",
    "paste('P(A/B): ',Prob(A, given = B))\n",
    "\n",
    "paste('P(B/A): ',Prob(B, given = A))\n",
    "\n",
    "# Instead of defining events A and B you can directly do conditional probability, if we reference the original \n",
    "# probability space S as the first argument of the prob calculation as shown below:\n",
    "paste('P(A/B): ',Prob(S, X1==X2, given = (X1 + X2 >= 8) ))\n",
    "\n",
    "paste('P(B/A): ',Prob(S, X1+X2 >= 8, given = (X1==X2) ))"
   ]
  },
  {
   "cell_type": "markdown",
   "metadata": {},
   "source": [
    "The above examples shown are simple applications of conditional probability on a die. \n",
    "`prob` package can be extended to multivariate datasets where events can be defined \n",
    "as columns and supplied as arguments, like in the previous examples."
   ]
  },
  {
   "cell_type": "markdown",
   "metadata": {},
   "source": [
    "### Permutations and Combinations\n",
    "\n",
    "The main difference between combinations and permutations is that a combination does not take into account the order, whereas a permutation does.\n",
    "\n",
    "Consider a simple example from [mathisfun](http://www.mathsisfun.com/combinatorics/combinations-permutations.html). \n",
    "When we say \"My fruit salad is a **combination** of apples, grapes and bananas\", we are not bothered about what order the fruits are in. No matter in which order you mention the fruits, it's the same fruit salad.\n",
    "\n",
    "But when we say \"You need the combination 123 to open the safe\", \n",
    "we care about the order of numbers. \n",
    "No other combination will work to open the safe. \n",
    "It has to be exactly 1-2-3. \n",
    "This is a **permutation**.\n",
    "\n",
    "  * When the order doesn't matter, it is a Combination.\n",
    "\t\n",
    "  * When the order does matter, it is a Permutation.\n",
    "    \n",
    "\n",
    "There are many ways you can create permutations and combinations in R. \n",
    "We will be using combinat package for this. "
   ]
  },
  {
   "cell_type": "markdown",
   "metadata": {},
   "source": [
    "**combn():** `combn()` is used to generate combinations. Its usage is illustrated below. \n",
    "\n",
    "`Usage`\n",
    "\n",
    "    combn(x, m, fun=NULL, simplify=TRUE, ...)\n",
    "\n",
    "\n",
    "`Arguments`\n",
    "\n",
    "    x         vector source for combinations i'e the vector of elements used to generate the combinations \n",
    "    m         number of elements in each combination. If you specify 2 as input, combinations of size two are generated.\n",
    "    fun       function to be applied to each combination (may be null). It can be any function like sum(), mean() etc.\n",
    "    simplify  logical, if FALSE, returns a list, otherwise returns vector or array. \n",
    "    ...       args to fun\n",
    "\n",
    "It generates all combinations of the elements of x taken m at a time. \n",
    "In code snippet below, we have given an input of 4 to x and 2 to m. \n",
    "So, the function has to return combinations of size 2 using the numbers {1,2,3,4}, like {{1,2},{1,3}....}. \n",
    "\n",
    "If argument FUN is not NULL, the code applies a function given by the argument to each point. \n",
    "We will supply sum() as the function. \n",
    "If `simplify` is FALSE, it returns a list; otherwise, it returns an array, typically a matrix. \n",
    "\"...\" are passed unchanged to the FUN function, if specified."
   ]
  },
  {
   "cell_type": "code",
   "execution_count": null,
   "metadata": {},
   "outputs": [],
   "source": [
    "library(combinat)\n",
    "#Generate different possible combinations of size 2 using numbers {1,2,3,4}\n",
    "combn(4, 2)\n",
    "\n",
    "print(\"sum of elements of each combination \")\n",
    "#Generate different possible combinations of size 2 using numbers {1,2,3,4} and return their sums.\n",
    "combn(4, 2,sum)"
   ]
  },
  {
   "cell_type": "markdown",
   "metadata": {},
   "source": [
    "**permn(): ** `permn()` is used to generate permutations. \n",
    "\n",
    "`Usage`\n",
    "\n",
    "    permn(x, fun=NULL, ...)\n",
    "        \n",
    "        \n",
    "`Arguments`\n",
    "\n",
    "    x    vector source for permutations i'e the vector of elements used to generate the permutations \n",
    "    fun  if non.null, applied at each perm\n",
    "\n",
    "Generates all permutations of the elements of x. \n",
    "In the example below we have given 3 as our input in order to generate permutations of size 3, like {{1,2,3},{1,3,2},{2,1,3}...} etc. \n",
    "If argument \"fun\" is not null, it applies a function given by the argument to each point. "
   ]
  },
  {
   "cell_type": "code",
   "execution_count": null,
   "metadata": {},
   "outputs": [],
   "source": [
    "#Generate different possible permutations using numbers (1,2,3)\n",
    "permn(3)\n",
    "\n",
    "#Generate different possible permutations using numbers (1,2,3) and return standard deviation of permutations.\n",
    "permn(3,sd)"
   ]
  },
  {
   "cell_type": "code",
   "execution_count": null,
   "metadata": {},
   "outputs": [],
   "source": [
    "# You can find the number of permutations generated using length function. \n",
    "length(permn(3))"
   ]
  },
  {
   "cell_type": "markdown",
   "metadata": {},
   "source": [
    "### Extensions of probability to multivariate data\n",
    "\n",
    "We have seen how conditional probability has been applied to simple dice events. \n",
    "Let's continue our discussion to multivariate data. \n",
    "We will work with the motor vehicle thefts dataset. \n",
    "The data is a combination of both factor and continuous variables. \n",
    "The table() command is used extensively when dealing with conditional probability.\n",
    "\n",
    "Load the dataset into a dataframe called `vehicle_thefts`. \n",
    "Dataset is located in '/dsa/data/all_datasets/motor vehicle thefts/' directory. \n",
    "\n",
    "**NOTE:** This is a variation of the mvt.csv file that is used in other courses."
   ]
  },
  {
   "cell_type": "code",
   "execution_count": null,
   "metadata": {},
   "outputs": [],
   "source": [
    "vehicle_thefts <- read.csv(\"/dsa/data/all_datasets/motor vehicle thefts/mvt.csv\",header=TRUE)\n",
    "head(vehicle_thefts)"
   ]
  },
  {
   "cell_type": "code",
   "execution_count": null,
   "metadata": {
    "collapsed": true
   },
   "outputs": [],
   "source": [
    "# Extract month, weekday,hour etc. values from a date variable. Convert the format of date variable into a standard format so that day, month,\n",
    "#year etc. values can be extracted from a date.\n",
    "\n",
    "# strptime converts between character representations, which is the input date here, and objects of classes \"POSIXlt\" where \n",
    "# \"POSIXct\" represents calendar dates and times.\n",
    "\n",
    "# Here date is a character vector input for strptime which is converted to \"POSIXlt\" object.\n",
    "DateConvert = strptime(vehicle_thefts$Date, \"%m/%d/%Y\")\n",
    "\n",
    "# Extract the month and the day of the week and add these variables to the data frame vehicle_thefts.\n",
    "# months() and weekdays() functions help you extract the values from a \"POSIXlt\" object\n",
    "vehicle_thefts$Month = months(DateConvert)\n",
    "vehicle_thefts$Weekday = weekdays(DateConvert)"
   ]
  },
  {
   "cell_type": "markdown",
   "metadata": {},
   "source": [
    "**Reference: ** [strptime()](http://rfunction.com/archives/1912)                \n",
    "**Reference: ** [format()](https://stat.ethz.ch/R-manual/R-devel/library/base/html/format.html)"
   ]
  },
  {
   "cell_type": "code",
   "execution_count": null,
   "metadata": {},
   "outputs": [],
   "source": [
    "head(vehicle_thefts)"
   ]
  },
  {
   "cell_type": "code",
   "execution_count": null,
   "metadata": {},
   "outputs": [],
   "source": [
    "# What is the probability that an arrest has happened for domestic motor vehicle theft?\n",
    "\n",
    "# We have to find the distribution of thefts based on if it's domestic or not. We will use a 2-way table to generate these \n",
    "# frequencies and to use these frequencies to come up with probabilities.\n",
    "# with() is used to avoid refering to the dataframe every time we refer to one of its variables in table command. \n",
    "with(vehicle_thefts,table(Arrest,Domestic))"
   ]
  },
  {
   "cell_type": "code",
   "execution_count": null,
   "metadata": {},
   "outputs": [],
   "source": [
    "# We are trying to find out the probability of arrest happening given the theft is a Domestic type. \n",
    "# Mathematically, this is represented as P(Arrest|Domestic) = P( Arrest & Domestic)/P(Domestic)\n",
    "\n",
    "# P( Arrest & Domestic) = 65. Look at above table for the instances where arrest is TRUE and domestic is TRUE\n",
    "# P(Domestic) = 350. Look for instances where Domestic is true in above table.\n",
    "65/(350+65)"
   ]
  },
  {
   "cell_type": "markdown",
   "metadata": {},
   "source": [
    "**Reference: ** [with()](http://www.statmethods.net/stats/withby.html). \n",
    "\n",
    "You can use `attach()` function as an alternative to `with()`. \n",
    "`attach()` is used to make objects within dataframes accessible in R with fewer keystrokes. \n",
    "Once you attach the dataframe you can refer to its variable without referring to the dataframe.\n",
    "\n",
    "**Reference: ** [attach()](https://www.r-bloggers.com/to-attach-or-not-attach-that-is-the-question/)"
   ]
  },
  {
   "cell_type": "code",
   "execution_count": null,
   "metadata": {},
   "outputs": [],
   "source": [
    "# what is the probability that an arrest has been made for motor thefts in the year 2001?\n",
    "with(vehicle_thefts,table(Arrest, Year))"
   ]
  },
  {
   "cell_type": "code",
   "execution_count": null,
   "metadata": {},
   "outputs": [],
   "source": [
    "# P(Arrest|Year==2001) = P(Arrest & Year==2001)/P(Year==2001)\n",
    "\n",
    "# P(Arrest being made & Year==2001) = 2152\n",
    "# P(Year==2001) = 2152 + 18517\n",
    "2152/(2152+18517)"
   ]
  },
  {
   "cell_type": "code",
   "execution_count": null,
   "metadata": {},
   "outputs": [],
   "source": [
    "# There are different locations where the cars are being stolen from. Subset the data using top 5 locations in the order of \n",
    "#maximum number of thefts, excluding the \"Other\" category.  Select the bottom 5 of the following options.\n",
    "sort(table(vehicle_thefts$LocationDescription))"
   ]
  },
  {
   "cell_type": "code",
   "execution_count": null,
   "metadata": {},
   "outputs": [],
   "source": [
    "# Create a subset of data, including observations for which the theft happened in one of the top five locations.  \n",
    "# Call this new data set \"Top5\".\n",
    "\n",
    "Top5 <- subset(vehicle_thefts, vehicle_thefts$LocationDescription==\"STREET\" | \n",
    "                               vehicle_thefts$LocationDescription==\"PARKING LOT/GARAGE(NON.RESID.)\" | \n",
    "                               vehicle_thefts$LocationDescription==\"ALLEY\" | \n",
    "                               vehicle_thefts$LocationDescription==\"DRIVEWAY - RESIDENTIAL\" | \n",
    "                               vehicle_thefts$LocationDescription==\"GAS STATION\")\n",
    "\n",
    "\n",
    "str(Top5)"
   ]
  },
  {
   "cell_type": "markdown",
   "metadata": {},
   "source": [
    "Take a look at the number of levels of **LocationDescription**. \n",
    "Ideally, the new dataframe `Top5` should contain only five locations: \n",
    "STREET, PARKING LOT/GARAGE(NON.RESID.), ALLEY, DRIVEWAY - RESIDENTIAL and GAS STATION. \n",
    "However, str() says **LocationDescription** has 78 levels.\n",
    "\n",
    "So, what's going on here?"
   ]
  },
  {
   "cell_type": "code",
   "execution_count": null,
   "metadata": {},
   "outputs": [],
   "source": [
    "# R will remember the other categories of the LocationDescription variable from the original dataset 'vehicle_thefts'. \n",
    "# Therefore, update the LocationDescription of Top5 dataframe according to new data. If you forget to update the \n",
    "# LocationDescription, the Top5$LocationDescription will contain all 78 levels that you find in vehicle_thefts$LocationDescription.\n",
    "Top5$LocationDescription = factor(Top5$LocationDescription)\n",
    "\n",
    "str(Top5)"
   ]
  },
  {
   "cell_type": "code",
   "execution_count": null,
   "metadata": {},
   "outputs": [],
   "source": [
    "# What is the probability that an arrest is made and the place is street?\n",
    "with(Top5,table(LocationDescription, Arrest))"
   ]
  },
  {
   "cell_type": "code",
   "execution_count": null,
   "metadata": {},
   "outputs": [],
   "source": [
    "# P(arrest|LocationDescription==\"street\") = P( Arrest& street)/P(street)\n",
    "\n",
    "# P( Arrest being made & location is 'street') = 11595\n",
    "# P(street) = 11595 + 144969 \n",
    "(11595)/(144969+11595)"
   ]
  },
  {
   "cell_type": "code",
   "execution_count": null,
   "metadata": {},
   "outputs": [],
   "source": [
    "# What is the probability that an arrest did not happen and the weekday is Monday?\n",
    "with(Top5,table(Weekday, Arrest))"
   ]
  },
  {
   "cell_type": "code",
   "execution_count": null,
   "metadata": {},
   "outputs": [],
   "source": [
    "# P(!Arrest|Weekday==\"monday\") = P( !Arrest& Weekday)/P(Weekday)\n",
    "\n",
    "# P( Arrest didn't happen & Weekday is 'monday') = 23334\n",
    "# P(Weekday  is 'monday') = 23334+1954\n",
    "23334/(23334+1954)"
   ]
  },
  {
   "cell_type": "markdown",
   "metadata": {},
   "source": [
    "# This concludes the lab on Conditional Probability"
   ]
  }
 ],
 "metadata": {
  "kernelspec": {
   "display_name": "R",
   "language": "R",
   "name": "ir"
  },
  "language_info": {
   "codemirror_mode": "r",
   "file_extension": ".r",
   "mimetype": "text/x-r-source",
   "name": "R",
   "pygments_lexer": "r",
   "version": "3.4.0"
  }
 },
 "nbformat": 4,
 "nbformat_minor": 1
}
