{
 "cells": [
  {
   "cell_type": "markdown",
   "metadata": {
    "collapsed": true
   },
   "source": [
    "### Bayesian Statistics with Conditional Probability\n",
    "\n",
    "\n",
    "People rely on the collective intelligence of previous experiences to protect themselves or to make better decisions in the future, \n",
    "like saving themselves from eating bad food at the wrong restaurant. \n",
    "\n",
    "We discussed conditional probability of an event as the probability obtained using additional information that some other event has already occurred. \n",
    "We used the following formula for finding P(B|A):\n",
    "\n",
    "                                             P(A ∩ B)  \n",
    "                                    P(B|A) = --------  \n",
    "                                               P(A)\n",
    "\n",
    "Where the occurrance of event B is dependent on event A.    \n",
    "\n",
    "In this notebook, \n",
    "we will extend the discussion of conditional probability to applications of Bayes' theorem (or Bayes' rule). \n",
    "Bayes' rule is used to update the prior probabilities based on additional information that is obtained later. \n",
    "Bayes' theorem deals with sequence of events where each occurrance of a subsequent event provides \n",
    "new information that is used to revise the probability of the previous event.\n",
    "The terms _prior probability_ and _posterior probability_ are the common terms for this.\n",
    "\n",
    "**Prior probability** (a priori) is an initial probability value obtained before any additional information is obtained.\n",
    "\n",
    "**Posterior probability** (a posteriori) is a probability value that has been revised by using additional information that is later obtained."
   ]
  },
  {
   "cell_type": "markdown",
   "metadata": {},
   "source": [
    "### Bayes' Theorem\n",
    "\n",
    "The probability of event A, given that event B has subsequently occurred, is mathematically represented as below:\n",
    "\n",
    "                                             P(A) * P(B/A)\n",
    "                        P(A/B) = -------------------------------------\n",
    "                                  [P(A) * P(B/A)] + [ P(A') * P(B/A')]\n",
    "                                  \n",
    "\n",
    "Consider an example of conducting cancer tests. \n",
    "Tests detect things that don’t exist (false positive) and miss things that do exist (false negative).\n",
    "People often consider the test results directly, without considering the errors in the tests. \n",
    "Bayes’ theorem converts the results from a test into the real probability of the event. \n",
    "\n",
    "**Correct for measurement errors...** \n",
    "If you know the real probabilities and the chance of a false positive and false negative, \n",
    "you can correct for measurement errors.\n",
    "\n",
    "**Relate the actual probability to the measured test probability...** \n",
    "Bayes’ theorem lets you relate `P(A|X)`, the chance that an event A happened given the indicator X, \n",
    "and `P(X|A)`, the chance the indicator X happened given that event A occurred. \n",
    "Given mammogram test results and known error rates, you can predict the actual chance of having cancer.\n",
    "\n",
    "Bayes’ Theorem: \n",
    "It lets you take the test results and correct for the “skew” introduced by false positives. \n",
    "Consider the example of cancer test again to illustrate what Bayes' formula is doing.\n",
    "\n",
    "Let 'A' be the event of person having cancer.\n",
    "Let 'X' be the event of positive test\n",
    "\n",
    "P(A|X) = Chance of having cancer (A) given a positive test (X). \n",
    "This is what we **want to know**: \n",
    "How likely is it to have cancer with a positive result?\n",
    "\n",
    "P(X|A) = Chance of a positive test (X) given that you had cancer (A). This is the chance of a true positive.\n",
    "\n",
    "P(A) = Chance of having cancer.\n",
    "\n",
    "P(not A) = Chance of not having cancer.\n",
    "\n",
    "P(X|not A) = Chance of a positive test (X) given that you didn’t have cancer (~A). \n",
    "This is a false positive.\n",
    "\n",
    "It all comes down to the chance of a true positive result divided by the chance of any positive result. We can simplify the equation to:\n",
    "\n",
    "                      P(X/A) * P(A)\n",
    "            P(A/X) = ---------------\n",
    "                          P(X)\n",
    "\n",
    "P(X) is a normalizing constant and helps scale our equation. \n",
    "Pr(X) tells us the chance of getting any positive result, \n",
    "whether it’s a real positive in the cancer population or a false positive in the non-cancer population. \n",
    "It’s a bit like a weighted average and helps us compare against the overall chance of a positive result.\n",
    "\n",
    "The example below illustrates the formula... "
   ]
  },
  {
   "cell_type": "markdown",
   "metadata": {},
   "source": [
    "----\n",
    "`1. Consider an example:` In Boone County, Missouri 51% of the adults are males.\n",
    "One adult is randomly selected for a survey involving credit card usage. \n",
    "What is the prior probability that the selected person is a male?"
   ]
  },
  {
   "cell_type": "markdown",
   "metadata": {},
   "source": [
    "**Solution: ** It's known that 51% of the adults in the county are males. \n",
    "Consider 'm' as an event of selecting an adult. \n",
    "Then the probability of randomly selecting an adult and getting a male is given by P(m) = 0.51"
   ]
  },
  {
   "cell_type": "markdown",
   "metadata": {},
   "source": [
    "`2. Consider another example:` \n",
    "It is later learned that the selected survey subject was about smoking cigars. \n",
    "It is known that 9.5% of males smoke cigars, \n",
    "whereas 1.7% of females smoke cigars (based on data from the Substance Abuse and Mental Health Services Administration).\n",
    "Use this additional information to find the probability that the selected subject is a male if we know the subject smokes cigars."
   ]
  },
  {
   "cell_type": "markdown",
   "metadata": {},
   "source": [
    "**Solution: ** Based on the additional given information, we have the following:\n",
    "    \n",
    "  Let c denote the event that the adult smokes cigars\n",
    "        \n",
    "  c' is the compliment event of c and represents adults not smoking a cigars\n",
    "        \n",
    "  P(m) = 0.51 because 51% of the adults are males\n",
    "    \n",
    "  P(m') = 0.49 because 49% of the adults are females (not males)\n",
    "    \n",
    "  P(c|m) = 0.095 because 9.5% of the males smoke cigars \n",
    "  (That is, the probability of getting someone who smokes cigars, given that the person is a male, is 0.095.)\n",
    "\n",
    "  P(c|m') = 0.017 because 1.7% of the females smoke cigars \n",
    "  (That is, the probability of getting someone who smokes cigars, given that the person is a female, is 0.017)\n",
    "\n",
    "Applying Bayes' theorem to the information above, we get the following result:\n",
    "\n",
    "                                               p(m) * p(c/m)\n",
    "                        P(m | c) = --------------------------------------\n",
    "                                    [p(m) * p(c/m)] + [ p(m') * p(c/m')]\n",
    "                                    \n",
    "                                 =         0.51 * 0.095\n",
    "                                   -------------------------------\n",
    "                                   (0.51 * 0.095) + (0.49 * 0.017)\n",
    "                                   \n",
    "                                 =  0.853\n",
    "                                "
   ]
  },
  {
   "cell_type": "markdown",
   "metadata": {},
   "source": [
    "Before we knew that the survey subject smoked cigars, there is a 0.51 probability that the survey subject is male. \n",
    "But after realizing that the subject smoked cigars, \n",
    "the probability is revised to 0.853. \n",
    "There is a 0.853 probability that the cigar−smoking respondent is a male. \n",
    "The likelihood of a male increased dramatically with the additional information that the subject smokes cigars."
   ]
  },
  {
   "cell_type": "markdown",
   "metadata": {},
   "source": [
    "Let's apply Bayes theorem to a multivariate dataset to learn more. Load the framingham data from the directory '/dsa/data/all_datasets/framingham' ... \n",
    "This data is from the Framingham Heart Study : https://www.framinghamheartstudy.org"
   ]
  },
  {
   "cell_type": "code",
   "execution_count": null,
   "metadata": {},
   "outputs": [],
   "source": [
    "framingham_data <- read.csv(\"/dsa/data/all_datasets/framingham/framingham.csv\")\n",
    "head(framingham_data)"
   ]
  },
  {
   "cell_type": "code",
   "execution_count": null,
   "metadata": {},
   "outputs": [],
   "source": [
    "with(framingham_data,table(currentSmoker,TenYearCHD))"
   ]
  },
  {
   "cell_type": "markdown",
   "metadata": {},
   "source": [
    "**Question: ** What is the probability for a person to have coronary heart disease condition who is a smoker?\n",
    "\n",
    "According to the Bayes' theorem formula, let's define events...\n",
    "\n",
    "**Solution **: \n",
    "Let c be an event of selecting a current smoker and c' be event of selecting a non current smoker\n",
    "\n",
    "Let d be the event of person having a risk of coronory heart disease and d' be event of person not having a risk of coronory heart disease...\n",
    "\n",
    "                    p(d) * p(c/d)\n",
    "     p(d/c) =  -------------------------------------\n",
    "               [p(d) * p(c/d)] + [ p(d') * p(c/d')]\n",
    "            \n",
    "\n",
    "P(d|c) = Chance of having coronary heart disease (d) given a person is a smoker (c). \n",
    "This is what we want to know: \n",
    "How likely is it to have heart disease if a person smokes? \n",
    "\n",
    "P(c|d) = Chance of a person being a smoker (c) given that he has coronary heart disease (d). \n",
    "This is the chance of a true positive 0.517\n",
    "\n",
    "P(d) = Chance of having coronary heart disease (311+333)/(1762+333+1834+311)  = 644/4240 = 0.15\n",
    "\n",
    "P(d') = Chance of not having coronary heart disease (1834+1762)/(1762+333+1834+311) = 3596/4240 = 0.85\n",
    "\n",
    "P(c|not d) = Chance of person being smoker (c) given that he doesn't have the disease (d'). \n",
    "This is a false positive 0.49\n",
    "\n",
    "p(c)  = (1762+333)/(1762+333+1834+311)  = 2095/4240 = 0.4941\n",
    "\n",
    "\n",
    "              P(c ∩ d)      333\n",
    "    p(c/d) =  --------   = ----- = 0.517\n",
    "                p(d)        644\n",
    "\n",
    "\n",
    "                P(c ∩ d')       1762\n",
    "    p(c/d') =  -----------   = ------ = 0.49\n",
    "                 p(d')          3596\n",
    "\n",
    "                         p(d) * p(c/d)               \n",
    "    p(d/c) =   ---------------------------------------\n",
    "                    [p(d) * p(c/d)] + [ p(d') * p(c/d')]\n",
    "\n",
    "\n",
    "                     0.15 * 0.517            \n",
    "           =   -----------------------------------\n",
    "                  (0.15 * 0.517) + (0.85 * 0.49)\n",
    "         \n",
    "           =    0.1569\n",
    "        \n",
    "\n",
    "Here is a simplified version of Bayes rule. \n",
    "Compare the results.\n",
    "\n",
    "                                      p(d) * p(c/d)\n",
    "                        P(d/c)  =  -------------------\n",
    "                                         p(c)\n",
    "                                         \n",
    "                                     0.15 * 0.517\n",
    "                                =  ---------------\n",
    "                                         0.4941\n",
    "                                         \n",
    "                                =  0.1569"
   ]
  },
  {
   "cell_type": "markdown",
   "metadata": {},
   "source": [
    "**Example from: ** [IPSUR](https://cran.r-project.org/web/packages/IPSUR/vignettes/IPSUR.pdf)\n",
    "\n",
    "**Misfiling Assistants problem.**\n",
    "In this problem, there are three assistants working at a company: \n",
    "Moe, Larry, and Curly. \n",
    "Their primary job duty is to file paperwork in the filing cabinet when papers become available.\n",
    "The three assistants have different work schedules:\n",
    "\n",
    "|        |Moe |Larry |Curly\n",
    "|--------|----|------|-----\n",
    "|Workload|60% |30%   |10%\n",
    "\n",
    "That is, Moe works 60% of the time, Larry works 30% of the time, and Curly does the remaining 10%, and they file documents at approximately the same speed. Suppose a person were to select one of the documents from the cabinet at random. \n",
    "\n",
    "Let M be the event, M = {Moe filed the document}  and \n",
    "\n",
    "Let L and C be the events that Larry and Curly, respectively, filed the document. \n"
   ]
  },
  {
   "cell_type": "markdown",
   "metadata": {},
   "source": [
    "What are these events’ respective probabilities? \n",
    "In the absence of additional information, reasonable prior probabilities would just be\n",
    "\n",
    "|        |Moe        |Larry      |Curly|\n",
    "|--------|-----------|-----------|-----------|\n",
    "|Workload|P(M) = 60% |P(L) = 30% | P(C) = 10%|\n",
    "\n",
    "Now, the boss comes in one day, opens up the file cabinet, and selects a file at random. \n",
    "The boss discovers that the file has been misplaced. \n",
    "The boss is so angry at the mistake that (s)he threatens to fire the one who erred. \n",
    "The question is: Who misplaced the file?"
   ]
  },
  {
   "cell_type": "markdown",
   "metadata": {},
   "source": [
    "The boss decides to use probability to decide, and walks straight to the workload schedule. \n",
    "(S)he reasons that, since the three employees work at the same speed, \n",
    "the probability that a randomly selected file would have been filed by each one would be proportional to his workload.\n",
    "The boss notifies Moe that he has until the end of the day to empty his desk. \n",
    "But Moe argues in his defense that the boss has ignored additional information.\n",
    "Moe’s likelihood of having misfiled a document is smaller than Larry’s and Curly’s, \n",
    "since he is a diligent worker who pays close attention to his work.\n",
    "Moe admits that he works longer than the others, \n",
    "but he doesn’t make as many mistakes as they do. \n",
    "Thus, Moe recommends that – before making a decision – the boss should update the probability \n",
    "(initially based on workload alone) to incorporate the likelihood of having observed a misfiled document."
   ]
  },
  {
   "cell_type": "markdown",
   "metadata": {},
   "source": [
    "And, as it turns out, the boss has information about Moe, Larry, and Curly’s filing accuracy in the past (due to historical performance evaluations). \n",
    "The performance information may be represented by the following table:\n",
    "\n",
    "|        |Moe |Larry |Curly\n",
    "|--------|----|------|-----\n",
    "|Workload|0.003| 0.007| 0.010\n",
    "\n",
    "\n",
    "In other words, on the average, Moe misfiles 0.3% of the documents he is supposed to file. \n",
    "Notice that Moe was correct: he is the most accurate filer, followed by Larry, and lastly Curly. \n",
    "If the boss were to make a decision based only on the worker’s overall accuracy, \n",
    "then Curly should get the axe.\n",
    "But Curly hears this and interjects that he only works a short period during the day, and consequently makes mistakes only very rarely; \n",
    "there is only the tiniest chance that he misfiled this particular document."
   ]
  },
  {
   "cell_type": "markdown",
   "metadata": {},
   "source": [
    "The boss would like to use this updated information to update the probabilities for the three assistants, that is, \n",
    "(s)he wants to use the additional likelihood that the document was misfiled to update his/her beliefs about the likely culprit. \n",
    "\n",
    "Let **A** be the event that **a document is misfiled**.\n",
    "What the boss would like to know are the three probabilities...\n",
    "\n",
    "            P(M|A), P(L|A), and P(C|A)\n",
    "            \n",
    "We will show the calculation for P(M|A), the other two cases being similar.\n",
    "We use Bayes’ Rule in the form\n",
    "\n",
    "                  P(M ∩ A)        \n",
    "        P(M|A) = ----------\n",
    "                    P(A)\n",
    "   "
   ]
  },
  {
   "cell_type": "markdown",
   "metadata": {},
   "source": [
    "Let’s try to find P(M ∩ A), which is just P(M) · P(A|M) by the Multiplication Rule.\n",
    "We already know P(M) = 0.6 and P(A|M) is nothing more than Moe’s misfile rate, \n",
    "given above to be P(A|M) = 0.003.\n",
    "Thus, we compute\n",
    "\n",
    "        P(M ∩ A) = (0.6)(0.003) = 0.0018.\n",
    "\n",
    "        P(L ∩ A) = 0.0021 and P(C ∩ A) = 0.0010.\n",
    "\n",
    "Using the theorem of Total Probability we can write P(A) = P(A ∩ M) + P(A ∩ L) + P(A ∩ C).\n",
    "\n",
    "        P(A) = 0.0018 + 0.0021 + 0.0010 = 0.0049\n",
    "        \n",
    "                                         0.0018\n",
    "    According to Bayes' rule,  P(M|A) = --------  \n",
    "                                         0.0049\n",
    "\n",
    "                                       = 0.37\n",
    "\n",
    "The above last quantity is called the posterior probability that Moe misfiled the document. \n",
    "We can use the same argument to calculate\n",
    "\n",
    "\n",
    "|        |Moe        |Larry      |Curly|\n",
    "|--------|-----------|-----------|-----------|\n",
    "|Workload|P(M/A) = 0.37| P(L/A) = 0.43| P(C/A) = 0.20\n",
    "\n",
    "The conclusion:\n",
    "Larry gets the axe.\n",
    "What is happening is an intricate interplay between the time on the job and the misfile rate. \n",
    "It is not obvious who the winner (or in this case, loser) will be, \n",
    "and the statistician needs to consult Bayes’ Rule to determine the best course of action."
   ]
  },
  {
   "cell_type": "markdown",
   "metadata": {},
   "source": [
    "Let's try to implement the same thing in R. \n",
    "All the math in the problem above used four simple steps. "
   ]
  },
  {
   "cell_type": "code",
   "execution_count": null,
   "metadata": {},
   "outputs": [],
   "source": [
    "# prior_probs are the prior probabilities we assumed as below. These are assumed based on their working duration as we don't \n",
    "# have any prior\n",
    "prior_probs <- c(0.6, 0.3, 0.1)\n",
    "\n",
    "# Information about Moe, Larry, and Curly’s past historical performance evaluations considered as likelihood for them \n",
    "# to commit the misfiling.\n",
    "like <- c(0.003, 0.007, 0.01)\n",
    "\n",
    "# Generate posterior probabilities based on prior probability and likelihood of each event.\n",
    "post <- prior_probs * like   # Note: This is vector math\n",
    "post"
   ]
  },
  {
   "cell_type": "code",
   "execution_count": null,
   "metadata": {},
   "outputs": [],
   "source": [
    "post/sum(post) # More vector math"
   ]
  },
  {
   "cell_type": "markdown",
   "metadata": {},
   "source": [
    "We see that we can compute the results using R.\n",
    "Later in the course, you will see Bayes' Rule applied to a classification problem."
   ]
  }
 ],
 "metadata": {
  "kernelspec": {
   "display_name": "R",
   "language": "R",
   "name": "ir"
  },
  "language_info": {
   "codemirror_mode": "r",
   "file_extension": ".r",
   "mimetype": "text/x-r-source",
   "name": "R",
   "pygments_lexer": "r",
   "version": "3.4.0"
  }
 },
 "nbformat": 4,
 "nbformat_minor": 1
}
