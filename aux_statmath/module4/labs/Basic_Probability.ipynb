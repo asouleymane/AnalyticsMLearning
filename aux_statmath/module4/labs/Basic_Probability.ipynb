{
 "cells": [
  {
   "cell_type": "markdown",
   "metadata": {},
   "source": [
    "# Introduction to Probability\n",
    "\n",
    "Refer to [chapter 5 of ItS](http://onlinestatbook.com/2/probability/probability_intro.html) for more information on the concepts. \n",
    "\n",
    "In many events there are no definite outcomes, so the outcome can't be predicted with total certainty.\n",
    "What we can say is how likely the outcomes are to happen, using the idea of probability. \n",
    "Inferential statistics is built on the foundation of probability theory and has been remarkably successful in guiding opinion about the conclusions to be drawn from data. \n",
    "\n",
    "One conception of probability is drawn from the idea of symmetrical outcomes. \n",
    "For example, the two possible outcomes of tossing a fair coin seem not to be distinguishable in any way that affects which side will land up or down. \n",
    "Therefore the probability of heads is taken to be 1/2, as is the probability of tails. \n",
    "In general, if there are N symmetrical outcomes, the probability of any given one of them occurring is taken to be 1/N. \n",
    "Thus, if a six-sided die is rolled, the probability of any one of the six sides coming up is 1/6.\n",
    "\n",
    "If the oil prices traded at \\$100 a barrel 70% of the time in the last year, then the probability of it being around \\$100 a barrel would be 70% for the next year. \n",
    "This is a common conclusion but could be unreasonable if there is more data available to decide whether it will be trading at $100 a barrel tomorrow. \n",
    "For example, if the supply increased in the last day then the price would fall; \n",
    "we should consider only the days in last year where oil production matches. \n",
    "Even this information is not enough since decrease in oil prices depends on consumption too\n",
    "(The prices will fall if consumption is low). \n",
    "So, we should consider only the prior occurrences of matching oil production and similar consumption. \n",
    "As we keep considering more factors affecting the outcomes, \n",
    "you can see that the sample of prior cases will soon be reduced to the empty set.\n",
    "\n",
    "In some cases, probability should be thought of as subjective. \n",
    "Questions such as \"What is the probability that Starbucks coffee is better than McDonalds coffee?\" \n",
    "can't be answered using symmetry or frequency approaches to probability. \n",
    "Assigning a probability of 0.9 for example to this event reflects the speaker's personal opinion. \n",
    "Such an approach to probability, however, seems to lose the objective content of the idea of chance; \n",
    "probability becomes mere opinion."
   ]
  },
  {
   "cell_type": "markdown",
   "metadata": {},
   "source": [
    "### Sample Spaces\n",
    "\n",
    "For a random experiment E, the set of all possible outcomes of E is called the sample space and is denoted by the letter S. \n",
    "For a coin-toss experiment, S would be the results “Head” and “Tail”, which we may represent by $S = {H, T}$. Formally, the performance of a random experiment is the unpredictable selection of an outcome in S.\n",
    "\n",
    "The R package `prob` has all the functions to find probability of different basic events. \n",
    "A sample space is (usually) represented by a data frame.\n",
    "Each row of the data frame corresponds to an outcome of the experiment.\n",
    "\n",
    "Consider the random experiment of tossing a coin.\n",
    "The outcomes are H and T. \n",
    "We can set up the sample space quickly with the tosscoin function:"
   ]
  },
  {
   "cell_type": "code",
   "execution_count": null,
   "metadata": {},
   "outputs": [],
   "source": [
    "library(prob)\n",
    "tosscoin(1)"
   ]
  },
  {
   "cell_type": "markdown",
   "metadata": {},
   "source": [
    "The number 1 tells tosscoin that we only want to toss the coin once. We could toss it more times, like tosscoin(3), to get the output below..."
   ]
  },
  {
   "cell_type": "code",
   "execution_count": null,
   "metadata": {},
   "outputs": [],
   "source": [
    "tosscoin(3)"
   ]
  },
  {
   "cell_type": "markdown",
   "metadata": {},
   "source": [
    "## Events\n",
    "\n",
    "An event A is merely a collection of outcomes, or in other words, a subset of the sample space. \n",
    "After the performance of a random experiment E we say that the event A occurred if the experiment’s outcome was A. We say that a bunch of events-- A1, A2, A3, . . . -- \n",
    "are mutually exclusive or disjoint if Ai $\\cap$ Aj = $\\emptyset$; for any distinct pair Ai $\\ne$ Aj. \n",
    "For instance, in the coin-toss experiment the events A = {Heads} and B = {Tails} would be mutually exclusive."
   ]
  },
  {
   "cell_type": "code",
   "execution_count": null,
   "metadata": {},
   "outputs": [],
   "source": [
    "subset(rolldie(3), X1 + X2 + X3 > 16)"
   ]
  },
  {
   "cell_type": "markdown",
   "metadata": {},
   "source": [
    "Since the die is rolled 3 times, total number of possible outcomes are $6^3=216$. There are 4 outcomes as listed above where the sum of numbers appeared on dice in three rolls is greater than 16. "
   ]
  },
  {
   "cell_type": "markdown",
   "metadata": {},
   "source": [
    "#### Functions for Finding Subsets\n",
    "\n",
    "**The `%in%` function**\n",
    "\n",
    "The function %in% helps to learn whether each value of one vector lies somewhere inside another vector."
   ]
  },
  {
   "cell_type": "code",
   "execution_count": null,
   "metadata": {},
   "outputs": [],
   "source": [
    "x <- 1:10\n",
    "y <- 8:12\n",
    "y %in% x"
   ]
  },
  {
   "cell_type": "markdown",
   "metadata": {},
   "source": [
    "Notice that the returned value is a vector of length 5 which tests whether each element of `y` is in `x`, in turn.\n",
    "\n",
    "----\n",
    "\n",
    "**The `isin` function**\n",
    "\n",
    "It is more common to want to know whether the whole vector y is in x. We can do this with the isin function."
   ]
  },
  {
   "cell_type": "code",
   "execution_count": null,
   "metadata": {},
   "outputs": [],
   "source": [
    "isin(x, y)"
   ]
  },
  {
   "cell_type": "markdown",
   "metadata": {},
   "source": [
    "Note that there is an optional argument ordered, which tests whether the elements of y appear in x in the order in which they are appear in y. The output is..."
   ]
  },
  {
   "cell_type": "code",
   "execution_count": null,
   "metadata": {},
   "outputs": [],
   "source": [
    "isin(x, c(3, 4, 5), ordered = TRUE)"
   ]
  },
  {
   "cell_type": "code",
   "execution_count": null,
   "metadata": {},
   "outputs": [],
   "source": [
    "isin(x, c(3, 5, 4), ordered = TRUE)"
   ]
  },
  {
   "cell_type": "markdown",
   "metadata": {},
   "source": [
    "### Properties of Probability\n",
    "\n",
    "For any events A and B,\n",
    "\n",
    "I. $P(A^c) = 1 - P(A)$.\n",
    "\n",
    "&nbsp;&nbsp;&nbsp;&nbsp;&nbsp; Proof: Since $A \\cup A^c = S$ and $A \\cap A^c = \\emptyset$, we have\n",
    "\n",
    "&nbsp;&nbsp;&nbsp;&nbsp;&nbsp; $1 = P(S) = P(A \\cup A^c) = P(A) + P(A^c)$.\n",
    "\n",
    "----\n",
    "\n",
    "II. P($\\varnothing$) = 0.\n",
    "\n",
    "&nbsp;&nbsp;&nbsp;&nbsp;&nbsp; Proof: Note that $\\varnothing = S^c$, and use Property II.\n",
    "    \n",
    "----\n",
    "\n",
    "III. If $A \\subset B$ , then $P(A) \\le P(B)$.\n",
    "    \n",
    "&nbsp;&nbsp;&nbsp;&nbsp;&nbsp; Proof: Write $B = A \\cup (B \\cap A^c)$, and notice that $A \\cap (B \\cap A^c)$ = $\\varnothing$; thus\n",
    "    \n",
    "&nbsp;&nbsp;&nbsp;&nbsp;&nbsp; $P(B) = P(A \\cup (B \\cap A^c)) = P(A) + P (B \\cap A^c) \\ge P(A);   \n",
    "   \n",
    "&nbsp;&nbsp;&nbsp;&nbsp;&nbsp; since $P (B \\cap A^c) \\ge 0$\n",
    "\n",
    "----\n",
    "\n",
    "IV. &nbsp;&nbsp;&nbsp;&nbsp;&nbsp; $0 \\le P(A) \\le 1$\n",
    "\n",
    "----\n",
    "\n",
    "V. The General Addition Rule.\n",
    "\n",
    "&nbsp;&nbsp;&nbsp;&nbsp;&nbsp; $P(A \\cup B) = P(A) + P(B) + P(A \\cap B)$\n",
    "\n",
    "----\n",
    "\n",
    "VI. The Theorem of Total Probability. Let $B_1, B_2, . . . , B_n$ be mutually exclusive and exhaustive.\n",
    "\n",
    "Then $P(A) = P(A \\cap B_1) + P(A \\cap B_2) + ... + P(A \\cap B_n)$"
   ]
  },
  {
   "cell_type": "markdown",
   "metadata": {},
   "source": [
    "### Counting Methods\n",
    "\n",
    "There are different counting methods. \n",
    "The equally-likely model assigns equal probability to all elementary outcomes of the experiment and is a convenient and popular way to analyze random experiments. \n",
    "When the equally likely model applies, finding the probability of an event `A` amounts to nothing more than counting the number of outcomes that `A` contains (together with the number of events in S). \n",
    "Hence, to be a master of probability one must be skilled at counting outcomes in events of all kinds.\n",
    "\n",
    "**The Multiplication Principle**: \n",
    "Suppose that an experiment is composed of two successive steps. \n",
    "Further suppose that the first step may be performed in $n_1$ distinct ways while the second step may be performed in $n_2$ distinct ways. \n",
    "Then the experiment may be performed in $n_1 n_2$ distinct ways.\n",
    "\n",
    "More generally, if the experiment is composed of `k` successive steps which may be performed in $n_1, n_2, . . . , n_k$ distinct ways, respectively, then the experiment may be performed in $n_1 n_2 ... n_k$ distinct ways.\n"
   ]
  },
  {
   "cell_type": "markdown",
   "metadata": {},
   "source": [
    "\n",
    "----\n",
    "\n",
    "**Example:** We would like to order a pizza. \n",
    "It will be sure to have cheese (and marinara sauce) but we may elect to add one or more of the following five (5) available toppings: \n",
    "\n",
    "        pepperoni, sausage, anchovies, olives, and green peppers.\n",
    "\n",
    "How many distinct pizzas are possible?\n",
    "\n",
    "\n",
    "**Answer:** There are many ways to approach the problem, but the quickest avenue employs the Multiplication Principle directly.\n",
    "We will separate the action of ordering the pizza into a series of stages. At the first stage, we will decide whether or not to include pepperoni on the pizza (two possibilities). \n",
    "At the next stage, we will decide whether or not to include sausage on the pizza (again, two possibilities). \n",
    "We will continue in this fashion until at last we will decide whether or not to include green peppers on the pizza.\n",
    "\n",
    "At each stage we will have had two options, or ways, to select a pizza to be made. \n",
    "The Multiplication Principle says that we should multiply the 2’s to find the total number of possible pizzas:\n",
    "$$2 * 2 * 2 * 2 * 2 = 2^5 = 32$$"
   ]
  },
  {
   "cell_type": "markdown",
   "metadata": {},
   "source": [
    "### Ordered Samples\n",
    "\n",
    "The number of ways in which one may select an ordered sample of k subjects from a population that has n distinguishable members is\n",
    "* $n^k$ if sampling is done with replacement,\n",
    "* n(n - 1)(n - 2) ... (n - k + 1) if sampling is done without replacement.\n",
    "\n",
    "Recall from math the notation for factorials:\n",
    "\n",
    "\n",
    "$1! = 1, $\n",
    "\n",
    "$2! = 2 . 1 = 2,$\n",
    "\n",
    "$3! = 3 . 2 . 1 = 6,$\n",
    "\n",
    "$.$\n",
    "\n",
    "$.$\n",
    "\n",
    "$.$\n",
    "\n",
    "$n! = n(n-1)(n-1)...3.2.1$\n",
    "\n",
    "\n",
    "**Example:** We rent five movies to watch over the span of two nights. \n",
    "We wish to watch 3 movies on the first night. \n",
    "How many distinct sequences of 3 movies could we possibly watch?\n",
    "\n",
    "**Answer:** $5 * 4 * 3 = 60$."
   ]
  },
  {
   "cell_type": "markdown",
   "metadata": {},
   "source": [
    "### Unordered Samples\n",
    "\n",
    "The number of ways in which one may select an unordered sample of `k` subjects from a population that has `n` distinguishable members is:\n",
    "\n",
    " * $\\frac{(n - 1 + k)!}{[(n - 1)!k!]}$ if sampling is done with replacement, \n",
    "\n",
    " * $\\frac{n!}{[k!(n - k)!]}$ if sampling is done without replacement.\n",
    "\n",
    "The quantity $\\frac{n!}{[k!(n-k)!]}$ is called a binomial coefficient and plays a special role in mathematics. \n",
    "It is denoted  \n",
    "\n",
    "$$\\binom nk  = \\frac{n!}{k!(n-k)!}$$\n",
    "\n",
    "\n",
    "**Example:** \n",
    "You rent five movies to watch over the span of two nights, \n",
    "but only wish to watch 3 movies the first night. \n",
    "Your friend, Fred, wishes to borrow some movies to watch at his house on the first night. \n",
    "You owe Fred a favor, and allow him to select 2 movies from the set of 5. How many choices does Fred have? \n",
    "\n",
    "**Answer:** $\\binom 52  = 10$\n"
   ]
  },
  {
   "cell_type": "markdown",
   "metadata": {},
   "source": [
    "Let's try to solve the problem using R commands...\n",
    "\n",
    "**Example: ** \n",
    "Let our urn simply contain three balls, labeled 1, 2, and 3, respectively. \n",
    "We are going to take a sample of size 2 from the urn.\n",
    "\n",
    "**Answer: ** \n",
    "The `prob` package accomplishes sampling from urns with the urnsamples function, which has arguments x, size, replace, and ordered. \n",
    "The argument `x` represents the urn from which sampling is to be done. \n",
    "The `size` argument tells how large the sample will be. \n",
    "The ordered and replace arguments are logical and specify how sampling will be performed. \n",
    "We will discuss each in turn. \n",
    "\n",
    "If sampling is with replacement, then we can get any outcome 1, 2, or 3 on any draw. \n",
    "Further, by \"ordered\" we mean that we shall keep track of the order of the draws that we observe. \n",
    "We took a sample of size 2 from an urn with three distinguishable elements."
   ]
  },
  {
   "cell_type": "code",
   "execution_count": null,
   "metadata": {},
   "outputs": [],
   "source": [
    "nsamp(n = 3, k = 2, replace = TRUE, ordered = TRUE)"
   ]
  },
  {
   "cell_type": "markdown",
   "metadata": {},
   "source": [
    "The total number of outcomes for above event are 9. "
   ]
  }
 ],
 "metadata": {
  "kernelspec": {
   "display_name": "R",
   "language": "R",
   "name": "ir"
  },
  "language_info": {
   "codemirror_mode": "r",
   "file_extension": ".r",
   "mimetype": "text/x-r-source",
   "name": "R",
   "pygments_lexer": "r",
   "version": "3.4.0"
  }
 },
 "nbformat": 4,
 "nbformat_minor": 2
}
