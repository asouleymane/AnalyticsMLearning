{
 "cells": [
  {
   "cell_type": "code",
   "execution_count": 231,
   "metadata": {
    "collapsed": false
   },
   "outputs": [],
   "source": [
    "data <- read.csv(\"../../datasets/yrbss/yrbss-days-exercise.csv\", header = TRUE)\n",
    "# data"
   ]
  },
  {
   "cell_type": "code",
   "execution_count": 232,
   "metadata": {
    "collapsed": false
   },
   "outputs": [],
   "source": [
    "pop_mean <- mean(data$days.spent.exercising)\n",
    "# pop_mean"
   ]
  },
  {
   "cell_type": "code",
   "execution_count": 233,
   "metadata": {
    "collapsed": false
   },
   "outputs": [],
   "source": [
    "sample_size = 50\n",
    "sample <- data[sample(1:nrow(data), sample_size, replace = FALSE),]\n",
    "# l <- sample(1:10, 5, replace = FALSE)\n",
    "# head(data)\n",
    "# data[sample(1:6, 3, replace = FALSE),]"
   ]
  },
  {
   "cell_type": "code",
   "execution_count": 234,
   "metadata": {
    "collapsed": false
   },
   "outputs": [],
   "source": [
    "samples <- replicate(1000, data[sample(1:nrow(data), sample_size, replace = FALSE),])\n",
    "# samples"
   ]
  },
  {
   "cell_type": "code",
   "execution_count": 235,
   "metadata": {
    "collapsed": false
   },
   "outputs": [],
   "source": [
    "means <- apply(samples, 2, mean)\n",
    "# hist(means, breaks=20)\n",
    "# head(means)"
   ]
  },
  {
   "cell_type": "code",
   "execution_count": 236,
   "metadata": {
    "collapsed": false
   },
   "outputs": [],
   "source": [
    "std.devs <- apply(samples, 2, sd)\n",
    "# head(std.devs)"
   ]
  },
  {
   "cell_type": "code",
   "execution_count": 237,
   "metadata": {
    "collapsed": false
   },
   "outputs": [
    {
     "data": {
      "text/html": [
       "0.942"
      ],
      "text/latex": [
       "0.942"
      ],
      "text/markdown": [
       "0.942"
      ],
      "text/plain": [
       "[1] 0.942"
      ]
     },
     "execution_count": 237,
     "metadata": {},
     "output_type": "execute_result"
    }
   ],
   "source": [
    "all_intervals <- vector(\"list\",1000)\n",
    "in_interval <- 0\n",
    "\n",
    "for (i in 1:1000) {\n",
    "    std.error <- std.devs[i]/sqrt(sample_size)\n",
    "    lower <- means[i]-std.error*1.96\n",
    "    upper <- means[i]+std.error*1.96\n",
    "    if (lower <= pop_mean && pop_mean <= upper) {\n",
    "        in_interval = in_interval + 1\n",
    "    } \n",
    "    all_intervals[[i]] <- c(lower, upper)\n",
    "}\n",
    "# all_intervals\n",
    "# pop_mean_is_in_interval\n",
    "in_interval / 1000"
   ]
  },
  {
   "cell_type": "code",
   "execution_count": null,
   "metadata": {
    "collapsed": true
   },
   "outputs": [],
   "source": []
  }
 ],
 "metadata": {
  "kernelspec": {
   "display_name": "R",
   "language": "R",
   "name": "ir"
  },
  "language_info": {
   "codemirror_mode": "r",
   "file_extension": ".r",
   "mimetype": "text/x-r-source",
   "name": "R",
   "pygments_lexer": "r",
   "version": "3.3.0"
  }
 },
 "nbformat": 4,
 "nbformat_minor": 0
}
