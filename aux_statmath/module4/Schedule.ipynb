{
 "cells": [
  {
   "cell_type": "markdown",
   "metadata": {},
   "source": [
    "# Module 4: Probability\n",
    "\n",
    "In this module we discuss conditional probability, independent events, along with Bayes’ Theorem. We will also look into \n",
    "random variables and some discrete and continuous distributions.  \n",
    "\n",
    "\n",
    "## Topics covered\n",
    "\n",
    "* Probability \n",
    "  * Basic Probabilities\n",
    "    * Independent vs Dependent Events\n",
    "    * Conditional Probabilities\n",
    "  * Permutations and Combinations - To be decided\n",
    "* Extensions of Probability to Multivariate Data\n",
    "* Conditional Probabilities and Bayesian Statistics\n",
    "* Distributions\n",
    "  * Discrete\n",
    "      * Binomial Distribution \n",
    "      * Poisson Distribution \n",
    "  * Continuous\n",
    "      * Normal Distributions (ch 7 of ItS book)\n",
    "        * Mathematical Definition of Normal Distribution\n",
    "        * Measuring the Area Under Normal Distribution\n",
    "        * Normal Distribution as an Approximation for the Binomial Distribution\n",
    "      * Multivariate Normal distribution\n",
    "      * Multinomial Distribution\n",
    "\n",
    "\n",
    "## Readings\n",
    "The following is the suggested reading for above topic.\n",
    "\n",
    "- [Probability Chapter: Online Stats Book](http://onlinestatbook.com/2/probability/probability.pdf)\n"
   ]
  },
  {
   "cell_type": "markdown",
   "metadata": {},
   "source": [
    "  \n",
    "## Labs\n",
    "  - [Basic Probability](./labs/Basic_Probability.ipynb)\n",
    "  - [Conditional Probability](./labs/Conditional_Probability.ipynb)\n",
    "  - [Other Distributions](./labs/Other_Distributions.ipynb)\n",
    "  - [Bayes](./labs/Bayes.ipynb)\n",
    "\n",
    "\n",
    "## Practice Examples  \n",
    "  - [Conditional Probability](./practices/Conditional_Probability.ipynb)\n",
    "  - [Bayes](./practices/Bayes.ipynb)\n",
    "\n",
    "## Exercises\n",
    "  - [Exercises](./Exercises/Exercises.ipynb)"
   ]
  },
  {
   "cell_type": "markdown",
   "metadata": {},
   "source": [
    "## Submitting your work\n",
    "\n",
    "#### Steps:\n",
    "  1. Open Terminal in JupyterHub\n",
    "  1. Change into the course folder  \n",
    "  `cd StatMathf17*`\n",
    "  1. Stage (Git Add) the module's practive and exercise work   \n",
    "  `git  add   module4/practices    module4/exercises`\n",
    "  1. Create your work snapshot (Git Commit)  \n",
    "  `git   commit   -m   \"Module 4 submission\"`\n",
    "  1. Upload the snapshot to the server (Git Push)  \n",
    "  `git   push`\n",
    "\n"
   ]
  },
  {
   "cell_type": "markdown",
   "metadata": {},
   "source": [
    "# Congratulations, you have completed the learning activities for this module!\n"
   ]
  }
 ],
 "metadata": {
  "kernelspec": {
   "display_name": "Python 3",
   "language": "python",
   "name": "python3"
  },
  "language_info": {
   "codemirror_mode": {
    "name": "ipython",
    "version": 3
   },
   "file_extension": ".py",
   "mimetype": "text/x-python",
   "name": "python",
   "nbconvert_exporter": "python",
   "pygments_lexer": "ipython3",
   "version": "3.4.5"
  }
 },
 "nbformat": 4,
 "nbformat_minor": 1
}
