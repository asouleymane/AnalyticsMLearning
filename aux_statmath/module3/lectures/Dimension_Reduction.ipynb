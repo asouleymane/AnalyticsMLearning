{
 "cells": [
  {
   "cell_type": "markdown",
   "metadata": {},
   "source": [
    "# Lecture Material Notebook\n",
    "\n",
    "## Resources:\n",
    " * [R Quick Helps](http://www.statmethods.net/)\n",
    " * [Body Dimensions](https://www.openintro.org/stat/data/bdims.php)\n",
    " \n",
    "## Topics In Notebook\n",
    " * Reducing dimensions through projections"
   ]
  },
  {
   "cell_type": "code",
   "execution_count": null,
   "metadata": {},
   "outputs": [],
   "source": [
    "# Pull seed data down\n",
    "download.file(\"http://www.openintro.org/stat/data/bdims.RData\", destfile = \"bdims.RData\")\n",
    "load(\"bdims.RData\")\n",
    "\n",
    "names(bdims)"
   ]
  },
  {
   "cell_type": "code",
   "execution_count": null,
   "metadata": {},
   "outputs": [],
   "source": [
    "# Remove Gender, which is a factor\n",
    "lessData <- bdims[!names(bdims) %in% c('sex')]\n",
    "ncol(lessData)\n",
    "summary(lessData)"
   ]
  },
  {
   "cell_type": "markdown",
   "metadata": {},
   "source": [
    "__Reference__: http://www.sthda.com/english/wiki/principal-component-analysis-in-r-prcomp-vs-princomp-r-software-and-data-mining"
   ]
  },
  {
   "cell_type": "code",
   "execution_count": null,
   "metadata": {},
   "outputs": [],
   "source": [
    "cor(lessData)"
   ]
  },
  {
   "cell_type": "code",
   "execution_count": null,
   "metadata": {
    "collapsed": true
   },
   "outputs": [],
   "source": [
    "# Compute the Principal Components \n",
    "pca <- princomp(lessData, cor=TRUE)"
   ]
  },
  {
   "cell_type": "code",
   "execution_count": null,
   "metadata": {},
   "outputs": [],
   "source": [
    "summary(pca) # print variance accounted for"
   ]
  },
  {
   "cell_type": "markdown",
   "metadata": {},
   "source": [
    "### IMPORTANT PCA information\n",
    "\n",
    "The __Proportion of Variance__ and __Cumulative Proportion__ help you see how important or significant the components are.  \n",
    "\n",
    "Note that the first principal component (PC) captures __0.6248721__ of the total variance, which accumulates to 1.0.\n",
    "So, about 62.5%.\n",
    "\n",
    "We can see that PC 1-19 capture 99% of the total variance by looking at the __Cumulative Proportion__."
   ]
  },
  {
   "cell_type": "code",
   "execution_count": null,
   "metadata": {},
   "outputs": [],
   "source": [
    "loadings(pca) # pc loadings"
   ]
  },
  {
   "cell_type": "markdown",
   "metadata": {},
   "source": [
    "### Scree plot\n",
    "\n",
    "Next, we will look at the trend of variance captured as we progress from the first PC to the last.\n",
    "This is typically called a _Scree_ plot."
   ]
  },
  {
   "cell_type": "code",
   "execution_count": null,
   "metadata": {},
   "outputs": [],
   "source": [
    "plot(pca,type=\"lines\") # scree plot"
   ]
  },
  {
   "cell_type": "markdown",
   "metadata": {},
   "source": [
    "We can see that after the first two PC, the contribution to variance is very minimal."
   ]
  },
  {
   "cell_type": "code",
   "execution_count": null,
   "metadata": {},
   "outputs": [],
   "source": [
    "reduced <- pca$scores[,1:2] # the first 5 principal components\n",
    "summary(reduced)\n",
    "\n",
    "biplot(pca) "
   ]
  },
  {
   "cell_type": "markdown",
   "metadata": {},
   "source": [
    "# Interpretting a BiPlot\n",
    "\n",
    "\n",
    "---\n",
    "\n",
    "From: http://forrest.psych.unc.edu/research/vista-frames/help/lecturenotes/lecture13/biplot.html)\n",
    "\n",
    "As used in Principal Component Analysis, the axes of a biplot are a pair of principal components. These axes are drawn in black and are labled Comp.1, Comp.2.\n",
    "\n",
    "A biplot uses **points to represent the scores of the observations** on the _principal components_, and it __uses vectors to represent the coefficients of the variables on the principal components__. ...\n",
    "\n",
    "__Interpreting Points__: The relative location of the points can be interpreted. Points that are close together correspond to observations that have similar scores on the components displayed in the plot. To the extent that these components fit the data well, the points also correspond to observations that have similar values on the variables.\n",
    "\n",
    "...  \n",
    "[ \n",
    "The Points that are close together are data members with similar projections/position in the transformed space.\n",
    "That is, their vector components share similar trends in the original data space.\n",
    "]  \n",
    "...\n",
    "\n",
    "__Interpreting Vectors__: Both the direction and length of the vectors can be interpreted. Vectors point away from the origin in some direction.\n",
    "\n",
    "A vector points in the direction which is most like the variable represented by the vector. This is the direction which has the highest squared multiple correlation with the principal components. The length of the vector is proportional to the squared multiple correlation between the fitted values for the variable and the variable itself.\n",
    "\n",
    "The fitted values for a variable are the result of projecting the points in the space orthogonally onto the variable's vector (to do this, you must imagine extending the vector in both directions). The observations whose points project furthest in the direction in which the vector points are the observations that have the most of whatever the variable measures. Those points that project at the other end have the least. Those projecting in the middle have an average ammount. then the\n",
    "\n",
    "Thus, vectors that point in the same direction correspond to variables that have similar response profiles, and can be interpreted as having similar meaning in the context set by the data. \n",
    "\n",
    "---\n",
    "\n"
   ]
  },
  {
   "cell_type": "markdown",
   "metadata": {},
   "source": [
    "## Factor Analysis\n",
    "\n",
    "Finding underlying driving variables that lead to the observed variable."
   ]
  },
  {
   "cell_type": "code",
   "execution_count": null,
   "metadata": {},
   "outputs": [],
   "source": [
    "# Maximum Likelihood Factor Analysis\n",
    "# entering raw data and extracting 3 factors,\n",
    "# with varimax rotation\n",
    "students <- read.csv(\"/dsa/data/all_datasets/student_prefs/student_subject_preferences.csv\")\n",
    "summary(students)\n",
    "cor(students)"
   ]
  },
  {
   "cell_type": "code",
   "execution_count": null,
   "metadata": {},
   "outputs": [],
   "source": [
    "efa <- factanal(students, 2, rotation=\"varimax\")\n",
    "\n",
    "print(efa, digits=2, cutoff=0.3, sort=TRUE)"
   ]
  },
  {
   "cell_type": "markdown",
   "metadata": {},
   "source": [
    "### Factor Analysis Interpretation\n",
    "\n",
    "The way to interpret factors is to look at the observed variables that each factor contribute to:\n",
    "\n",
    "__Factor 1__ : contributes to Biology, Geography, and Chemistry  \n",
    "__Factor 2__ : contributed to Algebra, Calculus, and Statistics  \n",
    "\n",
    "Can we assign a conceptual label the factors based on their resulting observed measurements variables they are contributing to?\n",
    "\n",
    "Yes!  We can associate the first factor with _Science_ and the second factor with _Math_.  If these were scores on standardized tests, we use the factor analysis to plot students into sets of ''Science Kids'' and ''Math Kids''.\n",
    "\n"
   ]
  },
  {
   "cell_type": "code",
   "execution_count": null,
   "metadata": {},
   "outputs": [],
   "source": [
    "# plot factor 1 by factor 2\n",
    "load <- efa$loadings[,1:2]\n",
    "plot(load,type=\"n\") # set up plot\n",
    "text(load,labels=names(students),cex=.7) # add variable names "
   ]
  },
  {
   "cell_type": "markdown",
   "metadata": {},
   "source": [
    "A noticeable result of plotting the original variables in the factor space is that they separate in the scatter plot of the factor axis."
   ]
  }
 ],
 "metadata": {
  "kernelspec": {
   "display_name": "R",
   "language": "R",
   "name": "ir"
  },
  "language_info": {
   "codemirror_mode": "r",
   "file_extension": ".r",
   "mimetype": "text/x-r-source",
   "name": "R",
   "pygments_lexer": "r",
   "version": "3.4.0"
  }
 },
 "nbformat": 4,
 "nbformat_minor": 1
}
