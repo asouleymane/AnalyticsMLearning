{
 "cells": [
  {
   "cell_type": "markdown",
   "metadata": {},
   "source": [
    "# Extra ways to summarize data with R\n"
   ]
  },
  {
   "cell_type": "markdown",
   "metadata": {},
   "source": [
    "## Summarizing vectors\n",
    "\n",
    "As we have seen in prior modules, vectors are summarized using measures of central tendency and variability. \n",
    "We will look into other descriptive statistics for summarizing the vectors. \n",
    "We will work with the same kings county housing porices dataset."
   ]
  },
  {
   "cell_type": "code",
   "execution_count": null,
   "metadata": {
    "collapsed": true
   },
   "outputs": [],
   "source": [
    "housing_prices <- read.csv(\"/dsa/data/all_datasets/house_sales_in_king_county/kc_house_data.csv\")"
   ]
  },
  {
   "cell_type": "markdown",
   "metadata": {},
   "source": [
    "apply(), lapply(), sapply(), tapply(), ddply() are some of the summarizing functions you can use to apply functions on columns.\n",
    "Let's look into each of them. "
   ]
  },
  {
   "cell_type": "code",
   "execution_count": null,
   "metadata": {},
   "outputs": [],
   "source": [
    "#Apply function used to apply a function to the rows or columns of a matrix. It collapses either a row or column. 1 represents \n",
    "#row and 2 represents column. In the function below we are trying to apply mean function for all columns. So we specified 2.\n",
    "\n",
    "#Also date is factor variable. we cannot apply mean function on a factor variable. id column is just an id for the row. It\n",
    "#doesmt make any sense to computer mean value of it. So we will exclude these two columns from our input dataset housing_prices. \n",
    "#Lets create a less_data dataframe without date and id variables.\n",
    "less_data= housing_prices[,!names(housing_prices) %in% c('date','id')]\n",
    "apply(less_data, 2, mean)\n",
    "\n",
    "# colMeans, rowMeans, colSums, rowSums are functions you can use if you want to do averages on a matrix columns or rows. \n",
    "# It is much quicker using this functions."
   ]
  },
  {
   "cell_type": "code",
   "execution_count": null,
   "metadata": {},
   "outputs": [],
   "source": [
    "head(housing_prices)"
   ]
  },
  {
   "cell_type": "code",
   "execution_count": null,
   "metadata": {},
   "outputs": [],
   "source": [
    "#Lets create a list using variables bedrooms and bathrooms of housing_prices dataset. Here bedrooms and bathrooms are two \n",
    "#elements in the list. \n",
    "#x[1] contains bedrooms and x[2] contains bathrooms. Look at the structure of x below. \n",
    "x=list(housing_prices$bedrooms,housing_prices$bathrooms)\n",
    "str(x)"
   ]
  },
  {
   "cell_type": "code",
   "execution_count": null,
   "metadata": {},
   "outputs": [],
   "source": [
    "#lapply() is used When you want to apply a function to each element of a list. A list of values is returned back for every \n",
    "#element of the list. lapply(x) returns a list of the same length of x.\n",
    "res=lapply(x, FUN = mean)\n",
    "res\n",
    "\n",
    "#lapply() calculates the means of each element in x as x$1, x$2, and returns two elements such as res$1, res$2. \n",
    "#Its data type is a list.\n",
    "class(res)"
   ]
  },
  {
   "cell_type": "code",
   "execution_count": null,
   "metadata": {},
   "outputs": [],
   "source": [
    "#sapply() is used When you want to apply a function to each element of a list. In return you will get a vector rather than a list\n",
    "#lapply and sapply are similar except for the return type of the result. Compare spply() and lapply() by checking type of the result they \n",
    "#return. sapply() is a simple form of lapply() function.\n",
    "\n",
    "#Since date is a factor variable. We will use less_data for calculating means of the variables.\n",
    "res=sapply(less_data, mean)\n",
    "res\n",
    "class(res)"
   ]
  },
  {
   "cell_type": "code",
   "execution_count": null,
   "metadata": {},
   "outputs": [],
   "source": [
    "# mapply() - Use it when we have several data structures (e.g. vectors, lists) and we want to apply a function to all \n",
    "# columns in a row. The result is coerced into a vector/array as in sapply.\n",
    "\n",
    "#For example in our dataset there are different variables measuring different areas like sqft_living, sqft_lot, \n",
    "#sqft_above,sqft_basement, sqft_living15, sqft_lot15. If we want to find total area of each house then we can use this function.\n",
    "\n",
    "result = mapply(sum, housing_prices$sqft_living, housing_prices$sqft_lot,housing_prices$sqft_above,housing_prices$sqft_basement, \n",
    "       housing_prices$sqft_living15, housing_prices$sqft_lot15)\n",
    "head(result)"
   ]
  },
  {
   "cell_type": "markdown",
   "metadata": {},
   "source": [
    "If you are confused how above values are generated, look at below cells. \n",
    "A couple of the rows are worked out for you. \n",
    "The values of the six variables in first row are added to generate the first value in output above and so on.  "
   ]
  },
  {
   "cell_type": "code",
   "execution_count": null,
   "metadata": {},
   "outputs": [],
   "source": [
    "head(housing_prices)"
   ]
  },
  {
   "cell_type": "code",
   "execution_count": null,
   "metadata": {},
   "outputs": [],
   "source": [
    "#The six values below in first row are values for columns sqft_living, sqft_lot,sqft_above,sqft_basement, sqft_living15, \n",
    "#sqft_lot15 in first row of housing_prices dataset. \n",
    "1180+5650+1180+0+1340+5650\n",
    "\n",
    "#The values below are values for columns sqft_living, sqft_lot,sqft_above,sqft_basement, sqft_living15, \n",
    "#sqft_lot15 in second row of housing_prices dataset. \n",
    "2570+7242+2170+400+1690+7639\n",
    "\n",
    "#When you add these avalues they should be equal to values you got as result for mapply() command."
   ]
  },
  {
   "cell_type": "code",
   "execution_count": null,
   "metadata": {},
   "outputs": [],
   "source": [
    "#tapply() - You should be familiar with tapply by now. You will this function when you want to apply a function to subsets \n",
    "#of a vector and the subsets are defined by some other vector, usually a factor.\n",
    "\n",
    "#Its a tabular version of apply() function, which means that its input argument should have a categorical variable, and \n",
    "#its argument function is applied to each group.\n",
    "\n",
    "#For example, we want to know the average price of homes for each number of bedrooms in the house.\n",
    "t(tapply(housing_prices$price,housing_prices$bedrooms,mean))"
   ]
  },
  {
   "cell_type": "markdown",
   "metadata": {},
   "source": [
    "#### `by` function\n",
    "------\n",
    "tapply can be used to summarize one variable based on another variable. But what if we want to summarize many variables. \n",
    "The by function is like an extended version of tapply() command.\n"
   ]
  },
  {
   "cell_type": "code",
   "execution_count": null,
   "metadata": {},
   "outputs": [],
   "source": [
    "byviews <- by(housing_prices[,c('price','sqft_living')], housing_prices$view, summary)\n",
    "byviews"
   ]
  },
  {
   "cell_type": "markdown",
   "metadata": {},
   "source": [
    "### 2-way tables\n",
    "------\n",
    "2-way tables are very informative. \n",
    "In above table, we have the distribution of bathrooms for every count of bedrooms. \n",
    "It is very detailed and the sums of columns and rows are displayed which indicate \n",
    "number of bedrooms or bathrooms with a specific number. "
   ]
  },
  {
   "cell_type": "code",
   "execution_count": null,
   "metadata": {
    "scrolled": true
   },
   "outputs": [],
   "source": [
    "#Below command will produce a 2-way table with distribution count of every combination between bedrooms and bathrooms. \n",
    "#addmargins() will give the summary or sum of this counts at the end of both x and y axis.\n",
    "bed_vs_bath = table(housing_prices$bedrooms,housing_prices$bathrooms)\n",
    "addmargins(bed_vs_bath)"
   ]
  },
  {
   "cell_type": "markdown",
   "metadata": {},
   "source": [
    "Down below is an extended version of table command adding 3rd dimension to 2-way table. We can see same information as above but for every kind of view(0,1,2,3,4)"
   ]
  },
  {
   "cell_type": "code",
   "execution_count": null,
   "metadata": {},
   "outputs": [],
   "source": [
    "bed_bath_view <- xtabs(~bedrooms+bathrooms+view, data=housing_prices)\n",
    "bed_bath_view"
   ]
  },
  {
   "cell_type": "code",
   "execution_count": null,
   "metadata": {},
   "outputs": [],
   "source": [
    "#The stat.desc() function gives an elaborate descriptive statistics of input object. Most of the statistics are commonly used ones\n",
    "library(pastecs)\n",
    "options(scipen=999)\n",
    "stat.desc(housing_prices)"
   ]
  },
  {
   "cell_type": "code",
   "execution_count": null,
   "metadata": {},
   "outputs": [],
   "source": [
    "#Aggregate works just like groupby in sql. Here we are grouping data based on bedrooms. WE are interested in columns price, \n",
    "#bathrooms and  sqft_living. Finally applying mean function on this subset of data for every group of data(i'e number of bedrooms)\n",
    "\n",
    "aggregate(housing_prices[c(\"price\",\"bathrooms\",\"sqft_living\")],by=list(bedrooms=housing_prices$bedrooms), mean)"
   ]
  },
  {
   "cell_type": "markdown",
   "metadata": {},
   "source": [
    "[Additional reading on Summarizing data is suggested](http://www.cookbook-r.com/Manipulating_data/Summarizing_data/)"
   ]
  }
 ],
 "metadata": {
  "kernelspec": {
   "display_name": "R",
   "language": "R",
   "name": "ir"
  },
  "language_info": {
   "codemirror_mode": "r",
   "file_extension": ".r",
   "mimetype": "text/x-r-source",
   "name": "R",
   "pygments_lexer": "r",
   "version": "3.4.0"
  }
 },
 "nbformat": 4,
 "nbformat_minor": 1
}
