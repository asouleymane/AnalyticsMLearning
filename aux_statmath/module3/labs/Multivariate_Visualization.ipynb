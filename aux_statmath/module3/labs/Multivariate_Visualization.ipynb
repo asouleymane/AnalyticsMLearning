{
 "cells": [
  {
   "cell_type": "markdown",
   "metadata": {},
   "source": [
    "#  From Visualization to Statistics\n",
    "----\n",
    "\n",
    "## Limited utility of graphing vectors\n",
    "\n",
    "Previously, we tried to analyze data using different kinds of visualizations. \n",
    "Graphs are easy to understand and catchy when you want to explain something. \n",
    "You can convey lot of information through a picture. \n",
    "However, as we saw, there is a limit to the extent of information you can show on the graph and still convey its meaning appropriately. \n",
    "\n",
    "We have seen graphs do a great job in univariate and bivariate data analysis. \n",
    "They did fine in explaining how data varies in four dimensions by plotting 3-dimensional data \n",
    "points and using color as a fourth feature. \n",
    "However, it is hard to plot 5 features within a single plot. \n",
    "Even if you manage to plot 5 dimensions it will be difficult to interpret the graph. \n",
    "So when you have multidimensional data, which can reach 1000's of features, \n",
    "you have to rely on multivariate statistics for analyzing the data before you explore visualizations.\n",
    "\n",
    "In fact, statistics will help you to narrow down the list of significant features you can use for building a model. \n",
    "These reduced sets of features can be analyzed using graphs. \n",
    "Statistics will guide which features or data to be visualized to gain more insights from the data."
   ]
  },
  {
   "cell_type": "markdown",
   "metadata": {},
   "source": [
    "#### Let's review multidimensional visualizations from module 2 using shapes / colors / size\n",
    "\n",
    "We will work with the Kings county housing data again..."
   ]
  },
  {
   "cell_type": "code",
   "execution_count": null,
   "metadata": {},
   "outputs": [],
   "source": [
    "housing_prices <- read.csv(\"/dsa/data/all_datasets/house_sales_in_king_county/kc_house_data.csv\")\n",
    "head(housing_prices)"
   ]
  },
  {
   "cell_type": "markdown",
   "metadata": {},
   "source": [
    "Let's see how the independent variables are correlated to the dependent variable price. \n",
    "Before we can run `cor()` command on **housing_prices**, we need to make sure all variables supplied to `cor()` function are numeric.\n",
    "\n",
    "__Reference__: [apply, sapply, lapply in R](https://www.r-bloggers.com/using-apply-sapply-lapply-in-r/)  \n",
    "__Reference__: [R function for determining Class, TypeOf](http://rfunction.com/archives/770)  \n",
    "__Reference__: [R transpose function, t()](http://www.statmethods.net/management/reshape.html)"
   ]
  },
  {
   "cell_type": "code",
   "execution_count": null,
   "metadata": {},
   "outputs": [],
   "source": [
    "# sapply applies the class function to each column of housing_prices dataframe.\n",
    "t(sapply(housing_prices,class))\n",
    "# Transpose the output to a row instead of a column"
   ]
  },
  {
   "cell_type": "markdown",
   "metadata": {},
   "source": [
    "Notice that `date` is a factor variable. \n",
    "As such, we should exclude it when we use the `cor()` function on the housing_prices dataframe. \n",
    "Also, `id` is just a row identifier (aka counter)and is useless for statistical modelling. \n",
    "We will exclude both of them as shown below. "
   ]
  },
  {
   "cell_type": "code",
   "execution_count": null,
   "metadata": {},
   "outputs": [],
   "source": [
    "# Selecting columns from housing_prices which are not equal to id and date. \n",
    "cor(housing_prices[!names(housing_prices) %in% c('id','date')])\n",
    "\n",
    "# Note this sub-selects the columns that are not in the list (id,date)\n",
    "# The resulting data is sent to the correlation function to become a correlation matrix."
   ]
  },
  {
   "cell_type": "markdown",
   "metadata": {},
   "source": [
    "So, the remaining variables are... \n",
    "  1. `bathrooms`, \n",
    "  1. `sqft_living`, \n",
    "  1. `grade`, \n",
    "  1. `sqft_above` and \n",
    "  1. `sqft_living15`  \n",
    "They look significant, since they have a correlation greater than 0.5.\n",
    "\n",
    "How can you visualize these five features relative to price? \n",
    "Previously, we plotted each one against price and looked at the relationships in the value growth patterns."
   ]
  },
  {
   "cell_type": "code",
   "execution_count": null,
   "metadata": {},
   "outputs": [],
   "source": [
    "options(scipen=999)  \n",
    "library(ggplot2)\n",
    "ggplot(housing_prices,\n",
    "       aes(x=sqft_living,        # independent variable, feature 1\n",
    "           y=price,              # dependent variable, feature 2\n",
    "           color=factor(grade),  # independent variable, feature 3\n",
    "           size=bathrooms),      # independent variable, feature 4\n",
    "       xlab(\"sqft living\"),\n",
    "       ylab(\"price\"),\n",
    "       main(\"Prive vs Sqft living area\")\n",
    "      ) +geom_point()"
   ]
  },
  {
   "cell_type": "markdown",
   "metadata": {},
   "source": [
    "Houses with 0 bathrooms and 0 bedrooms are typical outliers. \n",
    "Let's remove those rows and redo the plot above. "
   ]
  },
  {
   "cell_type": "code",
   "execution_count": null,
   "metadata": {
    "collapsed": true
   },
   "outputs": [],
   "source": [
    "housing_prices=housing_prices[!housing_prices$bedrooms %in% c(0) & !housing_prices$bathrooms %in% c(0),]"
   ]
  },
  {
   "cell_type": "code",
   "execution_count": null,
   "metadata": {},
   "outputs": [],
   "source": [
    "ggplot(housing_prices,\n",
    "       aes(x=sqft_living,\n",
    "           y=price,\n",
    "           color=factor(grade),\n",
    "           size=bathrooms),\n",
    "       xlab(\"sqft living\"),\n",
    "       ylab(\"price\"),\n",
    "       main(\"Prive vs Sqft living area\")\n",
    "      ) +geom_point() +geom_smooth(method='lm',color='black')"
   ]
  },
  {
   "cell_type": "markdown",
   "metadata": {},
   "source": [
    "We have a nice visualization summarizing `price` against `sqft_living`, `grade` and `bathrooms`. \n",
    "Price is increasing linearly with increases in sqft_living. \n",
    "Big houses tend to have better grades. \n",
    "\n",
    "However, we are not able to interpret the size of the datapoints clearly for number of bathrooms. \n",
    "This is the limitation with visualizations. \n",
    "When the data becomes huge, plots become difficult to interpret.\n",
    "\n",
    "Let's try to denote `bathrooms` with color and `sqft_above` with grade... "
   ]
  },
  {
   "cell_type": "code",
   "execution_count": null,
   "metadata": {},
   "outputs": [],
   "source": [
    "ggplot(housing_prices,\n",
    "       aes(x=sqft_living,\n",
    "           y=price,\n",
    "           color=factor(bathrooms),\n",
    "           size=sqft_above),\n",
    "       xlab(\"sqft living\"),ylab(\"price\"),\n",
    "       main(\"Prive vs Sqft living area\")\n",
    "      ) +geom_point() +geom_smooth(method='lm',color='black')"
   ]
  },
  {
   "cell_type": "markdown",
   "metadata": {},
   "source": [
    "The plot does well summarizing `price` against `sqft_living` but explains little about how `price` is correlates with `sqft_above` or number of `bathrooms`. \n",
    "The size of the datapoints denote the sqft_above. \n",
    "Since the observations are closely packed we are not able to identify the trend in the data along with `sqft_living`. \n",
    "Bathrooms, when used as a factor, has 29 levels which are difficult to interpret with such subtle changes and the closely clustered data. \n",
    "\n",
    "We can try the same thing with a 3-dimensional plot to see if the size and color parameters help us in analyzing multiple dimensions in the data. \n",
    "\n",
    "__Reference__: [with() function](http://rfunction.com/archives/2182)  \n",
    "__Reference__: [Scatter Plot 3D](https://cran.r-project.org/web/packages/scatterplot3d/scatterplot3d.pdf)"
   ]
  },
  {
   "cell_type": "code",
   "execution_count": null,
   "metadata": {},
   "outputs": [],
   "source": [
    "library(scatterplot3d)\n",
    "#Assigning a color to ranges of bathrooms\n",
    "housing_prices$colors[housing_prices$bathrooms<2] <- \"red\"\n",
    "housing_prices$colors[housing_prices$bathrooms==2] <- \"blue\"\n",
    "housing_prices$colors[housing_prices$bathrooms>2] <- \"green\"\n",
    "housing_prices$colors[housing_prices$bathrooms>3] <- \"magenta\"\n",
    "housing_prices$colors[housing_prices$bathrooms>4] <- \"cyan\"\n",
    "\n",
    "\n",
    "with(housing_prices, {\n",
    "   # The scatter plot 3D was introduced in the extra / optional notebooks last week.\n",
    "   # This function produces a three dimensional plot of points using 3 variables for position, instead of just 2.\n",
    "                 #   x,        y,   and    z axis\n",
    "   scatterplot3d(sqft_living, sqft_above, price,       \n",
    "                 type=\"h\",             # put lines on the horizontal plane\n",
    "                 angle = 45,           # angle=45 denotes how graph is oriented,\n",
    "                 pch = 16,             # pch=16 denotes shape used to denote points on the plot\n",
    "                 color=housing_prices$colors,  \n",
    "                           #color=colors tells the graph to use colors variables defined above\n",
    "                 main=\"Areas vs Prices\",        \n",
    "                 xlab=\"Sqft living area\",\n",
    "                 ylab=\"Sqft above area\",\n",
    "                 zlab=\"Price\")\n",
    "\n",
    "legend(\"topleft\", inset=.05,      # location where the legend should be positioned on the graph\n",
    "    bty=\"n\", cex=.5,              # suppress legend box, shrink text 50%\n",
    "    title=\"Bathrooms\", \n",
    "    c(\"<2\", \"2\", \">2\", \">3\", \">4\"), fill=c(\"red\", \"blue\", \"green\", \"magenta\", \"cyan\"))\n",
    "}) # ends the context of the with()"
   ]
  },
  {
   "cell_type": "markdown",
   "metadata": {},
   "source": [
    "While we have been able to incorporate additional features of the data into the plot, we can see we have reached the limit in dimensionality of the data that can be visually inspected.\n",
    "\n",
    "## Feature Selection\n",
    "\n",
    "Up to this point, we have engaged in _feature selection_.  \n",
    "\n",
    "**Feature Selection** is the process of choosing relevant features from a data set to perform modelling and machine learning tasks.   \n",
    "\n",
    "We have chose features based on a simple threshold of 0.5 for correlation between an independent variable and our desired predicted variable.\n",
    "\n",
    "In the next lab, you will learn about additional techniques to reduce the feature space.\n"
   ]
  }
 ],
 "metadata": {
  "kernelspec": {
   "display_name": "R",
   "language": "R",
   "name": "ir"
  },
  "language_info": {
   "codemirror_mode": "r",
   "file_extension": ".r",
   "mimetype": "text/x-r-source",
   "name": "R",
   "pygments_lexer": "r",
   "version": "3.4.0"
  }
 },
 "nbformat": 4,
 "nbformat_minor": 1
}
