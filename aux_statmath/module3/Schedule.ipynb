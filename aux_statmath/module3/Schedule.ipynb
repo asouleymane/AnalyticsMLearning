{
 "cells": [
  {
   "cell_type": "markdown",
   "metadata": {},
   "source": [
    "# Module 3: Multivariate Data Exploration\n",
    "\n",
    "\n",
    "## Topics covered\n",
    "\n",
    "- What happens after 3D plot with colors?  5 dimesions, etc.\n",
    "- Dimensionality Reduction - Read module 6.4 in [An Introduction to Statistical Learning with Applications in R](https://docs.dsa.missouri.edu/static/PDF/ISLR.pdf)\n",
    "- Feature extraction\n",
    "- Principal Component Analysis\n",
    "- Factor Analysis\n",
    "- Feature selection\n",
    "- Down selecting for visual exploration\n",
    "\n",
    "\n",
    "## Readings\n",
    "The following are the suggested readings for each topic.\n",
    "\n",
    "- [Principal Components](http://www.sthda.com/english/wiki/principal-component-analysis-the-basics-you-should-read-r-software-and-data-mining)\n",
    "- [Factor Analysis](https://www.r-bloggers.com/basic-factor-analysis-in-r/)\n",
    "- [R Tools for Multivariate Visualization, sect. Visualising multivariate data](https://cran.r-project.org/web/views/Multivariate.html)\n",
    "- [An Introduction to Statistical Learning with Applications in R](../../resources/ISLR.pdf)\n",
    "  *James, Witten, Hastie, and Tibshirani*: Free to use."
   ]
  },
  {
   "cell_type": "markdown",
   "metadata": {},
   "source": [
    " \n",
    "\n",
    "## Lecture Notebooks\n",
    "  - [Multivariate Dimension Reduction](./lectures/Dimension_Reduction.ipynb)\n",
    "\n",
    "## Labs\n",
    "  - [Multivariate Visualization](./labs/Multivariate_Visualization.ipynb)\n",
    "  - [Extra R summary functions](./labs/Extra_r_summary_functions.ipynb)\n",
    "  - [Dimensionality Reduction](./labs/Dimensionality_Reduction.ipynb)\n",
    "\n",
    "\n",
    "## Practice Examples  \n",
    "  - [Multivariate Exploration](./practices/Practice_Multivariate_Exploration.ipynb)\n",
    "  - [Multivariate Reduction](./practices/Practice_Multivariate_Reduction.ipynb)\n",
    "\n",
    "## Exercises\n",
    "  - [Exercises](./exercises/Exercises.ipynb)\n",
    "  "
   ]
  },
  {
   "cell_type": "markdown",
   "metadata": {},
   "source": [
    "\n",
    "## Submitting your work\n",
    "\n",
    "#### Steps:\n",
    "  1. Open Terminal in JupyterHub\n",
    "  1. Change into the course folder  \n",
    "  `cd StatMathf17*`\n",
    "  1. Stage (Git Add) the module's practive and exercise work   \n",
    "  `git  add   module3/practices    module3/exercises`\n",
    "  1. Create your work snapshot (Git Commit)  \n",
    "  `git   commit   -m   \"Module 3 submission\"`\n",
    "  1. Upload the snapshot to the server (Git Push)  \n",
    "  `git   push`"
   ]
  },
  {
   "cell_type": "markdown",
   "metadata": {},
   "source": [
    "# Congratulations, you have completed the learning activities for this module!\n",
    "\n"
   ]
  }
 ],
 "metadata": {
  "kernelspec": {
   "display_name": "Python 3",
   "language": "python",
   "name": "python3"
  },
  "language_info": {
   "codemirror_mode": {
    "name": "ipython",
    "version": 3
   },
   "file_extension": ".py",
   "mimetype": "text/x-python",
   "name": "python",
   "nbconvert_exporter": "python",
   "pygments_lexer": "ipython3",
   "version": "3.4.5"
  }
 },
 "nbformat": 4,
 "nbformat_minor": 1
}
