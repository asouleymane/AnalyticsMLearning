{
 "cells": [
  {
   "cell_type": "markdown",
   "metadata": {},
   "source": [
    "# Module 8: Variance between Groups\n",
    "\n",
    "\n",
    "## Topics covered\n",
    "\n",
    "\n",
    "* Module 8 : Anova and Manova\n",
    "    * ANOVA testing ([ch 15 of ItS book](http://onlinestatbook.com/2/analysis_of_variance/ANOVA.html))\n",
    "        * Intro\n",
    "        * Analysis of variance designs\n",
    "        * Between- and within-subject factors\n",
    "        * One factor ANOVA (between subjects)\n",
    "        * Multi-factor between subjects designs\n",
    "        * Tests supplementing ANOVA\n",
    "        * within-subjects ANOVA\n",
    "    * MANOVA (Multivariate ANOVA)\n",
    "\n",
    "\n",
    "## References\n",
    "\n",
    " - [Random Forests explained](http://www.listendata.com/2014/11/random-forest-with-r.html)\n",
    " - [Decision trees vs Random Forests](https://www.analyticsvidhya.com/blog/2016/04/complete-tutorial-tree-based-modeling-scratch-in-python/)\n",
    "    \n"
   ]
  },
  {
   "cell_type": "markdown",
   "metadata": {},
   "source": [
    "\n",
    "  \n",
    "## Labs\n",
    "  - [Anova](./labs/Anova.ipynb)\n",
    "  - [Manova](./labs/Manova.ipynb)\n",
    "  - [Random_Forests](./labs/Random_Forests.ipynb)\n",
    "\n",
    "\n",
    "## Practice Examples\n",
    "  - [Anova and Manova](./practices/ANOVA_MANOVA.ipynb)\n",
    "\n",
    "\n",
    "## Exercises\n",
    "  - [Exercises](./exercises/Exercises.ipynb)"
   ]
  },
  {
   "cell_type": "markdown",
   "metadata": {},
   "source": [
    "## Submitting your work\n",
    "\n",
    "#### Steps:\n",
    "  1. Open Terminal in JupyterHub\n",
    "  1. Change into the course folder\n",
    "  1. Stage (Git Add) the module's practive and exercise work   \n",
    "  `git  add   module8/practices    module8/exercises`\n",
    "  1. Create your work snapshot (Git Commit)  \n",
    "  `git   commit   -m   \"Module 8 submission\"`\n",
    "  1. Upload the snapshot to the server (Git Push)  \n",
    "  `git   push`\n"
   ]
  },
  {
   "cell_type": "markdown",
   "metadata": {},
   "source": [
    "# Congratulations, you have completed the learning activities for this module!\n"
   ]
  }
 ],
 "metadata": {
  "kernelspec": {
   "display_name": "Python 3",
   "language": "python",
   "name": "python3"
  },
  "language_info": {
   "codemirror_mode": {
    "name": "ipython",
    "version": 3
   },
   "file_extension": ".py",
   "mimetype": "text/x-python",
   "name": "python",
   "nbconvert_exporter": "python",
   "pygments_lexer": "ipython3",
   "version": "3.4.5"
  }
 },
 "nbformat": 4,
 "nbformat_minor": 1
}
