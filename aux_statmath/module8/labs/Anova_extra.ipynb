{
 "cells": [
  {
   "cell_type": "markdown",
   "metadata": {},
   "source": [
    "## Anova extra lab\n",
    "\n",
    "This is a code focused lab."
   ]
  },
  {
   "cell_type": "markdown",
   "metadata": {},
   "source": [
    "Load the framingham dataset from '/dsa/data/all_datasets/framingham/framingham.csv'"
   ]
  },
  {
   "cell_type": "code",
   "execution_count": null,
   "metadata": {},
   "outputs": [],
   "source": [
    "framingham_data=read.csv(\"/dsa/data/all_datasets/framingham/framingham.csv\")\n",
    "head(framingham_data)"
   ]
  },
  {
   "cell_type": "code",
   "execution_count": null,
   "metadata": {},
   "outputs": [],
   "source": [
    "str(framingham_data)"
   ]
  },
  {
   "cell_type": "markdown",
   "metadata": {},
   "source": [
    "### One way between ANOVA"
   ]
  },
  {
   "cell_type": "markdown",
   "metadata": {},
   "source": [
    "Frame null hypothesis as\n",
    "\n",
    "$H_o: $ No significant difference exist among males and females regarding smoking habit (`cigsPerDay`).\n",
    "\n",
    "$H_1: $ Significant difference exist among males and females regarding smoking habit (`cigsPerDay`).\n",
    "\n",
    "Use `aov()` function in R to test the null hypothesis whether to reject or fail to reject the null hypothesis."
   ]
  },
  {
   "cell_type": "markdown",
   "metadata": {},
   "source": [
    "Plot a graph to compare the means of the variable of interest across groups. \n",
    "Create side-by-side boxplots of measurements organized in groups. \n",
    "The independent variable should be a factor to create group wise plots. \n",
    "Convert the variable male into a factor. "
   ]
  },
  {
   "cell_type": "code",
   "execution_count": null,
   "metadata": {
    "collapsed": true
   },
   "outputs": [],
   "source": [
    "framingham_data$male=as.factor(framingham_data$male)"
   ]
  },
  {
   "cell_type": "code",
   "execution_count": null,
   "metadata": {},
   "outputs": [],
   "source": [
    "plot(cigsPerDay ~ male, data=framingham_data)"
   ]
  },
  {
   "cell_type": "markdown",
   "metadata": {},
   "source": [
    "By examining the box plot, we can see that we expect the difference between male and female to exist in the data.\n",
    "Specifically, from the plot it appears average number of cigarettes for males are higher than females."
   ]
  },
  {
   "cell_type": "code",
   "execution_count": null,
   "metadata": {},
   "outputs": [],
   "source": [
    "# General form for aov() is aov(response ~ factor, data=data_name)\n",
    "# where response represents the response variable and factor the variable that separates the data into groups. \n",
    "# Both variables should be contained in the dataframe called data_name.\n",
    "\n",
    "fit <- aov(cigsPerDay ~ male, data=framingham_data)\n",
    "summary(fit)"
   ]
  },
  {
   "cell_type": "markdown",
   "metadata": {},
   "source": [
    "According to above results the F-statistic is 470.7 with a p-value almost equal to 0. \n",
    "Null hypothesis that there is no difference in smoking habits of males and females can be clearly rejected."
   ]
  },
  {
   "cell_type": "code",
   "execution_count": null,
   "metadata": {},
   "outputs": [],
   "source": [
    "# Show the means\n",
    "# model.tables() computes summary tables for model fits, especially complex aov fits.\n",
    "# type = \"means\" give tables of the mean response for each combinations of levels of the factors in a term.\n",
    "\n",
    "model.tables(fit, \"means\")"
   ]
  },
  {
   "cell_type": "markdown",
   "metadata": {},
   "source": [
    "Note that the `Grand mean` is 9.01 and the Female (male=0) mean is 5.73 and the Male (male=1) is 13.37."
   ]
  },
  {
   "cell_type": "code",
   "execution_count": null,
   "metadata": {
    "collapsed": true
   },
   "outputs": [],
   "source": [
    "# Review the documentation\n",
    "\n",
    "help(model.tables)"
   ]
  },
  {
   "cell_type": "markdown",
   "metadata": {},
   "source": [
    "### Two way between ANOVA\n",
    "\n",
    "`TenYearCHD` is explained by `male`, `totChol` and also by the interaction between them."
   ]
  },
  {
   "cell_type": "code",
   "execution_count": null,
   "metadata": {},
   "outputs": [],
   "source": [
    "# 2x2 between:\n",
    "# Independent variable: male\n",
    "# Independent variable: totChol\n",
    "# Dependent variable: TenYearCHD\n",
    "fit2 <- aov(TenYearCHD ~ male*totChol, data=framingham_data)\n",
    "summary(fit2)"
   ]
  },
  {
   "cell_type": "markdown",
   "metadata": {},
   "source": [
    "**Note:** The interaction is specified in the model by linking the independent variables with the \"__*__\" instead of the \"__+__\".\n",
    "\n",
    "```R\n",
    "TenYearCHD ~ male*totChol\n",
    "```\n",
    "\n",
    "Note that we see a very low F value for the `male:totChol` line in the summary of the `aov`.\n",
    "This indicates that the interaction between the variables is not significant.\n",
    "\n",
    "### Multiple comparisons"
   ]
  },
  {
   "cell_type": "markdown",
   "metadata": {},
   "source": [
    "The ANOVA F-test tells whether there are significant differences in the K population means. It does not tell us anything about  how they differ. pairwise.t.test function computes the pair-wise comparisons between group means with corrections for multiple testing. Its Usage is : \n",
    "\n",
    "\n",
    "```R\n",
    "pairwise.t.test(reponse, \n",
    "                factor, \n",
    "                p.adjust = method, \n",
    "                alternative = c(\"two.sided\",\"less\", \"greater\"))\n",
    "```\n",
    "\n",
    "Here, `p.adjust` is the correction method (e.g., “Bonferroni”)."
   ]
  },
  {
   "cell_type": "code",
   "execution_count": null,
   "metadata": {
    "collapsed": true
   },
   "outputs": [],
   "source": [
    "help(pairwise.t.test)"
   ]
  },
  {
   "cell_type": "code",
   "execution_count": null,
   "metadata": {},
   "outputs": [],
   "source": [
    "str(framingham_data)"
   ]
  },
  {
   "cell_type": "code",
   "execution_count": null,
   "metadata": {},
   "outputs": [],
   "source": [
    "# Convert to numerics\n",
    "framingham_data$cigsPerDay=as.numeric(framingham_data$cigsPerDay)\n",
    "framingham_data$male=as.numeric(framingham_data$male)\n",
    "str(framingham_data)"
   ]
  },
  {
   "cell_type": "code",
   "execution_count": null,
   "metadata": {},
   "outputs": [],
   "source": [
    "pairwise.t.test(framingham_data$male, framingham_data$currentSmoker, p.adjust=\"bonferroni\")"
   ]
  },
  {
   "cell_type": "markdown",
   "metadata": {},
   "source": [
    "# Save your notebook!"
   ]
  }
 ],
 "metadata": {
  "kernelspec": {
   "display_name": "R",
   "language": "R",
   "name": "ir"
  },
  "language_info": {
   "codemirror_mode": "r",
   "file_extension": ".r",
   "mimetype": "text/x-r-source",
   "name": "R",
   "pygments_lexer": "r",
   "version": "3.4.0"
  }
 },
 "nbformat": 4,
 "nbformat_minor": 1
}
