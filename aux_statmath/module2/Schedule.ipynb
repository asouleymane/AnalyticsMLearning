{
 "cells": [
  {
   "cell_type": "markdown",
   "metadata": {},
   "source": [
    "# Module Two: Multivariate Data\n",
    "\n",
    "## Topics covered\n",
    "- Univariate vs Multivariate data\n",
    "- How does univariate data analysis differ from multivariate data analysis\n",
    "- Descriptive statistics with vector\n",
    "- Vector for Bivariate and Multivariate data.\n",
    "- Pearson's correlation\n",
    "- Visualizing vectors"
   ]
  },
  {
   "cell_type": "markdown",
   "metadata": {},
   "source": [
    "## Readings\n",
    "The following are the suggested readings for each topic.\n",
    "\n",
    "- [Bivariate data](http://onlinestatbook.com/2/describing_bivariate_data/intro.html)\n",
    "- [Pearson's correlation](http://onlinestatbook.com/2/describing_bivariate_data/pearson.html)\n",
    "- [Variance sum law](http://onlinestatbook.com/2/describing_bivariate_data/variance_sum_law2.html)\n"
   ]
  },
  {
   "cell_type": "markdown",
   "metadata": {},
   "source": [
    "## Lecture Notebooks\n",
    "  - [Multivariate](./lectures/Multivariate.ipynb)\n",
    "\n",
    "## Labs\n",
    "  - [Multivariate data as Vectors](./labs/Vectors.ipynb)\n",
    "  - [Summarizing Vectors](./labs/Summarizing_Vectors.ipynb)\n",
    "  - **Optional, deeper dive** [Extra Material 1](./labs/Lab_Multivariate_extra1.ipynb)\n",
    "  - **Optional, deeper dive** [Extra Material 2](./labs/Lab_Multivariate_extra2.ipynb)"
   ]
  },
  {
   "cell_type": "markdown",
   "metadata": {},
   "source": [
    "\n",
    "\n",
    "## Practice Examples  \n",
    "  - [Multivariate](./practices/Practice_Multivariate.ipynb)\n",
    "  - **Optional, deeper dive**[Multivariate](./practices/Practice_Multivariate_extra2_lab.ipynb)\n",
    "\n",
    "## Exercises\n",
    "  - [Exercises](./exercises/Exercises.ipynb)\n",
    "  \n",
    "\n"
   ]
  },
  {
   "cell_type": "markdown",
   "metadata": {},
   "source": [
    "## Submitting your work\n",
    "\n",
    "#### Steps:\n",
    "  1. Open Terminal in JupyterHub\n",
    "  1. Change into the course folder\n",
    "  1. Stage (Git Add) the module's practive and exercise work   \n",
    "  `git  add   module2/practices    module2/exercises`\n",
    "  1. Create your work snapshot (Git Commit)  \n",
    "  `git   commit   -m   \"Module 2 submission\"`\n",
    "  1. Upload the snapshot to the server (Git Push)  \n",
    "  `git   push`\n"
   ]
  },
  {
   "cell_type": "markdown",
   "metadata": {},
   "source": [
    "# Congratulations, you have completed the learning activities for this module!"
   ]
  }
 ],
 "metadata": {
  "kernelspec": {
   "display_name": "Python 3",
   "language": "python",
   "name": "python3"
  },
  "language_info": {
   "codemirror_mode": {
    "name": "ipython",
    "version": 3
   },
   "file_extension": ".py",
   "mimetype": "text/x-python",
   "name": "python",
   "nbconvert_exporter": "python",
   "pygments_lexer": "ipython3",
   "version": "3.4.5"
  }
 },
 "nbformat": 4,
 "nbformat_minor": 1
}
