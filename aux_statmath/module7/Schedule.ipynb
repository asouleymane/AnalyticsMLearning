{
 "cells": [
  {
   "cell_type": "markdown",
   "metadata": {},
   "source": [
    "# Module 7: Clustering\n",
    "\n",
    "\n",
    "## Topics covered\n",
    "\n",
    "\n",
    "* Module 7 : Clustering\n",
    "    * Unsupervised Machine Learning vs. Supervised Machine Learning (Section 2.1.4 of ISLR Book)\n",
    "    * Hierarchical (Section 10.3.2 of ISLR Book)\n",
    "        * Agglomerative\n",
    "        * Divisive\n",
    "    * KMeans & its varients (Section 10.3.1 of ISLR Book)\n",
    "    * Support Vector Clustering\n",
    "    * Other techniques\n",
    "        * DBScan\n",
    "    * Cluster Validation\n",
    "\n",
    "\n",
    "## References\n",
    "The following is the suggested reading for Support vector clustering and DBScan topics.\n",
    "\n",
    " - [Support Vector Clustering](http://www.ai.mit.edu/projects/jmlr/papers/volume2/horn01a/rev1/horn01a1r.pdf)\n",
    " - [DBScan 1](https://en.wikibooks.org/wiki/Data_Mining_Algorithms_In_R/Clustering/Density-Based_Clustering)\n",
    " - [DBScan 2](http://www.sthda.com/english/wiki/dbscan-density-based-clustering-for-discovering-clusters-in-large-datasets-with-noise-unsupervised-machine-learning)\n",
    " - [Hierarchical Clustering](http://www.sthda.com/english/wiki/print.php?id=237)\n",
    " - [K-means and Hierarchical Clustering](http://research.cs.tamu.edu/prism/lectures/pr/pr_l15.pdf)\n"
   ]
  },
  {
   "cell_type": "markdown",
   "metadata": {},
   "source": [
    "  \n",
    "## Labs\n",
    "  - [Hierarchical_Clustering](./labs/Hierarchical_Clustering.ipynb)\n",
    "  - [K-Means_Clustering](./labs/K-Means_Clustering.ipynb)\n",
    "  - [Support_Vector_Clustering](./labs/Support_Vector_Clustering.ipynb)\n",
    "  - [DBscan](./labs/DBscan.ipynb)\n",
    "  - [Cluster_Validation](./labs/Cluster_Validation.ipynb)\n",
    "\n",
    "\n",
    "## Practice Examples\n",
    "  - [Hierarchical_Clustering](./practices/Hierarchical_Clustering.ipynb)\n",
    "  - [K-Means_Clustering](./practices/K-Means_Clustering.ipynb)\n",
    "  - [DBSCAN](./practices/DBSCAN.ipynb)\n",
    "\n",
    "\n",
    "## Exercises\n",
    "  - [Exercises](./exercises/Exercises.ipynb)"
   ]
  },
  {
   "cell_type": "markdown",
   "metadata": {},
   "source": [
    "## Submitting your work\n",
    "\n",
    "#### Steps:\n",
    "  1. Open Terminal in JupyterHub\n",
    "  1. Change into the course folder\n",
    "  1. Stage (Git Add) the module's practive and exercise work   \n",
    "  `git  add   module7/practices    module7/exercises`\n",
    "  1. Create your work snapshot (Git Commit)  \n",
    "  `git   commit   -m   \"Module 7 submission\"`\n",
    "  1. Upload the snapshot to the server (Git Push)  \n",
    "  `git   push`\n"
   ]
  },
  {
   "cell_type": "markdown",
   "metadata": {},
   "source": [
    "# Congratulations, you have completed the learning activities for this module!\n"
   ]
  }
 ],
 "metadata": {
  "kernelspec": {
   "display_name": "Python 3",
   "language": "python",
   "name": "python3"
  },
  "language_info": {
   "codemirror_mode": {
    "name": "ipython",
    "version": 3
   },
   "file_extension": ".py",
   "mimetype": "text/x-python",
   "name": "python",
   "nbconvert_exporter": "python",
   "pygments_lexer": "ipython3",
   "version": "3.4.5"
  }
 },
 "nbformat": 4,
 "nbformat_minor": 1
}
