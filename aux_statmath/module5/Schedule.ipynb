{
 "cells": [
  {
   "cell_type": "markdown",
   "metadata": {},
   "source": [
    "# Module 5: Regression\n",
    "\n",
    "\n",
    "## Topics covered\n",
    "\n",
    "\n",
    "* Linear Regression (ch 14 of ItS book)\n",
    "    * Introduction\n",
    "    * Partitioning the Sums of Squares\n",
    "    * Standard Error of the Estimate\n",
    "    * Influential Observations\n",
    "* Intro to Multiple Regression\n",
    "* Logistic Regression\n",
    "* Subset Selection\n",
    "* Polynomial Regression\n",
    "\n",
    "\n",
    "## Readings\n",
    "The following is the suggested reading for above topic.\n",
    "\n",
    "- [Regression Chapter: Online Stats Book](http://onlinestatbook.com/2/regression/regression.pdf)\n",
    "- [Multiple Regression](http://onlinestatbook.com/2/regression/multiple_regression.html) \n",
    "- [Logistic Regression](https://en.wikipedia.org/wiki/Logistic_regression#Fields_and_example_applications)\n",
    "- [Multivariate Regression](https://www.ncbi.nlm.nih.gov/pmc/articles/PMC3518362/)\n",
    "- [An Introduction to Statistical Learning with Applications in R](../../resources/ISLR.pdf)\n",
    "  *James, Witten, Hastie, and Tibshirani*: Free to use."
   ]
  },
  {
   "cell_type": "markdown",
   "metadata": {},
   "source": [
    "\n",
    "## Labs\n",
    "  - [Linear_and_Multiple_Regression](./labs/Linear_and_Multiple_Regression.ipynb)\n",
    "  - [Logistic_Regression](./labs/Logistic_Regression.ipynb)\n",
    "  - [Subset selection](./labs/Subset_selection.ipynb)\n",
    "  - [Polynomial Regression](.labs/Polynomial Regression.ipynb)\n",
    "\n",
    "\n",
    "## Practice Examples  \n",
    "  - [Simple_Linear_Regression](./practices/Simple_Linear_Regression.ipynb)\n",
    "  - [Multiple_Linear_Regression](./practices/Multiple_Linear_Regression.ipynb)\n",
    "  - [Logistic_Regression](./practices/Logistic_Regression.ipynb)\n",
    "\n",
    "\n",
    "## Exercises\n",
    "  - [Linear Regression Exercises](./exercises/Exercises_Linear_Regression.ipynb)\n",
    "  - [Logistic Regression Exercises](./exercises/Exercises_Logistic_Regression.ipynb)\n",
    "  "
   ]
  },
  {
   "cell_type": "markdown",
   "metadata": {},
   "source": [
    "## Submitting your work\n",
    "\n",
    "#### Steps:\n",
    "  1. Open Terminal in JupyterHub\n",
    "  1. Change into the course folder\n",
    "  1. Stage (Git Add) the module's practive and exercise work   \n",
    "  `git  add   module5/practices    module5/exercises`\n",
    "  1. Create your work snapshot (Git Commit)  \n",
    "  `git   commit   -m   \"Module 5 submission\"`\n",
    "  1. Upload the snapshot to the server (Git Push)  \n",
    "  `git   push`\n",
    "\n"
   ]
  },
  {
   "cell_type": "markdown",
   "metadata": {},
   "source": [
    "# Congratulations, you have completed the learning activities for this module!"
   ]
  }
 ],
 "metadata": {
  "kernelspec": {
   "display_name": "Python 3",
   "language": "python",
   "name": "python3"
  },
  "language_info": {
   "codemirror_mode": {
    "name": "ipython",
    "version": 3
   },
   "file_extension": ".py",
   "mimetype": "text/x-python",
   "name": "python",
   "nbconvert_exporter": "python",
   "pygments_lexer": "ipython3",
   "version": "3.4.5"
  }
 },
 "nbformat": 4,
 "nbformat_minor": 1
}
