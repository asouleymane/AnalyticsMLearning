{
 "cells": [
  {
   "cell_type": "markdown",
   "metadata": {},
   "source": [
    "# Module One: Introduction to Statistics with R\n",
    "\n",
    "## Topics covered\n",
    "- Intro to statistical thinking\n",
    "- Graphing distributions\n",
    "- Summarizing distributions\n",
    "\n",
    "## Readings\n",
    "The following are the suggested readings for each topic.\n",
    "\n",
    "- [Intro to statistical thinking](http://onlinestatbook.com/2/introduction/introduction.html)\n",
    "- [Graphing distributions](http://onlinestatbook.com/2/graphing_distributions/graphing_distributions.html)\n",
    "- [Summarizing distributions](http://onlinestatbook.com/2/summarizing_distributions/summarizing_distributions.html)\n"
   ]
  },
  {
   "cell_type": "markdown",
   "metadata": {},
   "source": [
    "## Labs\n",
    "\n",
    "**A Note on the Labs**  \n",
    "Students typically have a diverse background and comfort level with statistics.\n",
    "Please consider these notebooks as a reference set of examples for concepts with computational functions in R.\n",
    "We suggest you lightly review all the labs first to take note of the content.\n",
    "Then progress to the practice and refer back to the labs as needed.\n",
    "For this module, we will release the practice answers on Friday to aid in the exercises.\n",
    "\n",
    "  * [Intro to Statistics with R, Descriptive Statistics](./labs/1_lab1_intro_to_stats_ptA.ipynb)\n",
    "  * [Intro to Statistics with R, Inferential Statistics](./labs/1_lab1_intro_to_stats_ptB.ipynb)\n",
    "  * [Distributions, Continuous](./labs/2_Distributions_Continuous.ipynb)\n",
    "  * [Distributions, Discrete](./labs/2_Distributions_Discrete.ipynb)\n",
    "  * [Graphing Distributions](./labs/3_Graphing_Distributions.ipynb)\n",
    "  * [Summarizing Distributions](./labs/4_Summarizing_Distributions.ipynb)\n",
    "\n",
    "\n",
    "Please remember to **Save** (`File > Save and Checkpoint`) and **Close** all your notebooks. \n",
    "To properly close a notebook:  \n",
    "`File > Close and Halt`\n",
    "\n",
    "\n",
    "## Practice Examples  \n",
    "- [Intro to statistics practice](practices/practice_wine.ipynb)\n",
    "\n",
    "\n",
    "## Exercises\n",
    "- [Exercises](exercises/exercises.ipynb)\n"
   ]
  },
  {
   "cell_type": "markdown",
   "metadata": {},
   "source": [
    "## Submitting your work\n",
    "\n",
    "#### Steps:\n",
    "  1. Open Terminal in JupyterHub\n",
    "  1. Change into the course folder\n",
    "  1. Stage (Git Add) the module's practive and exercise work   \n",
    "  `git  add   module1/practices    module1/exercises`\n",
    "  1. Create your work snapshot (Git Commit)  \n",
    "  `git   commit   -m   \"Module 1 submission\"`\n",
    "  1. Upload the snapshot to the server (Git Push)  \n",
    "  `git   push`\n"
   ]
  },
  {
   "cell_type": "markdown",
   "metadata": {},
   "source": [
    "# Congratulations, you have completed the learning activities for this module!"
   ]
  }
 ],
 "metadata": {
  "kernelspec": {
   "display_name": "Python 3",
   "language": "python",
   "name": "python3"
  },
  "language_info": {
   "codemirror_mode": {
    "name": "ipython",
    "version": 3
   },
   "file_extension": ".py",
   "mimetype": "text/x-python",
   "name": "python",
   "nbconvert_exporter": "python",
   "pygments_lexer": "ipython3",
   "version": "3.4.5"
  }
 },
 "nbformat": 4,
 "nbformat_minor": 1
}
