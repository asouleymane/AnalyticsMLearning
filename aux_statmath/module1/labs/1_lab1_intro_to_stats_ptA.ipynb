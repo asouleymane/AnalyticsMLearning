{
 "cells": [
  {
   "cell_type": "markdown",
   "metadata": {},
   "source": [
    "# Reviewing Statistics and R\n",
    "\n",
    "This is your first lab for the Introduction to Statistical and Mathematical Foundations of Data Science course. \n",
    "You can refer to chapters 1 to 3 in [Intro to statistics textbook](http://onlinestatbook.com/2/index.html) book for reference. \n",
    "\n",
    "We will begin with statistics mainly for univariate data analysis, \n",
    "covering some basic concepts like descriptive and inferential statistics and distributions.\n",
    "\n",
    "Some of the concepts may have been covered in Intro to Statistics for Analytics course or boot camp. \n",
    "We will refresh those concepts here a little bit."
   ]
  },
  {
   "cell_type": "markdown",
   "metadata": {},
   "source": [
    "\n",
    "### Loading data\n",
    "\n",
    "Load the data `auto-mpg` into R and view the first few rows \n",
    "(including the column names (called the header)) using the following code. \n",
    "This data is about city-cycle fuel consumption based on different types of cars."
   ]
  },
  {
   "cell_type": "code",
   "execution_count": 2,
   "metadata": {
    "collapsed": true
   },
   "outputs": [],
   "source": [
    "auto_mpg <- read.csv(\"/dsa/data/all_datasets/auto-mpg/auto-mpg.csv\", header = T, sep=\",\")"
   ]
  },
  {
   "cell_type": "markdown",
   "metadata": {},
   "source": [
    "We can get a quick view of some of the relavent information about the data set `auto_mpg` using head() function. \n",
    "**`head()`** shows the first six rows by default. \n",
    "Just typing the variable `auto_mpg` will return all the rows in the table which is time consuming if you are dealing with a very big dataset."
   ]
  },
  {
   "cell_type": "code",
   "execution_count": 3,
   "metadata": {},
   "outputs": [
    {
     "data": {
      "text/html": [
       "<table>\n",
       "<thead><tr><th scope=col>mpg</th><th scope=col>cylinders</th><th scope=col>displacement</th><th scope=col>horsepower</th><th scope=col>weight</th><th scope=col>acceleration</th><th scope=col>model.year</th><th scope=col>origin</th><th scope=col>car.name</th></tr></thead>\n",
       "<tbody>\n",
       "\t<tr><td>18                       </td><td>8                        </td><td>307                      </td><td>130.0                    </td><td>3504                     </td><td>12.0                     </td><td>70                       </td><td>1                        </td><td>chevrolet chevelle malibu</td></tr>\n",
       "\t<tr><td>15                       </td><td>8                        </td><td>350                      </td><td>165.0                    </td><td>3693                     </td><td>11.5                     </td><td>70                       </td><td>1                        </td><td>buick skylark 320        </td></tr>\n",
       "\t<tr><td>18                       </td><td>8                        </td><td>318                      </td><td>150.0                    </td><td>3436                     </td><td>11.0                     </td><td>70                       </td><td>1                        </td><td>plymouth satellite       </td></tr>\n",
       "\t<tr><td>16                       </td><td>8                        </td><td>304                      </td><td>150.0                    </td><td>3433                     </td><td>12.0                     </td><td>70                       </td><td>1                        </td><td>amc rebel sst            </td></tr>\n",
       "\t<tr><td>17                       </td><td>8                        </td><td>302                      </td><td>140.0                    </td><td>3449                     </td><td>10.5                     </td><td>70                       </td><td>1                        </td><td>ford torino              </td></tr>\n",
       "\t<tr><td>15                       </td><td>8                        </td><td>429                      </td><td>198.0                    </td><td>4341                     </td><td>10.0                     </td><td>70                       </td><td>1                        </td><td>ford galaxie 500         </td></tr>\n",
       "</tbody>\n",
       "</table>\n"
      ],
      "text/latex": [
       "\\begin{tabular}{r|lllllllll}\n",
       " mpg & cylinders & displacement & horsepower & weight & acceleration & model.year & origin & car.name\\\\\n",
       "\\hline\n",
       "\t 18                        & 8                         & 307                       & 130.0                     & 3504                      & 12.0                      & 70                        & 1                         & chevrolet chevelle malibu\\\\\n",
       "\t 15                        & 8                         & 350                       & 165.0                     & 3693                      & 11.5                      & 70                        & 1                         & buick skylark 320        \\\\\n",
       "\t 18                        & 8                         & 318                       & 150.0                     & 3436                      & 11.0                      & 70                        & 1                         & plymouth satellite       \\\\\n",
       "\t 16                        & 8                         & 304                       & 150.0                     & 3433                      & 12.0                      & 70                        & 1                         & amc rebel sst            \\\\\n",
       "\t 17                        & 8                         & 302                       & 140.0                     & 3449                      & 10.5                      & 70                        & 1                         & ford torino              \\\\\n",
       "\t 15                        & 8                         & 429                       & 198.0                     & 4341                      & 10.0                      & 70                        & 1                         & ford galaxie 500         \\\\\n",
       "\\end{tabular}\n"
      ],
      "text/markdown": [
       "\n",
       "mpg | cylinders | displacement | horsepower | weight | acceleration | model.year | origin | car.name | \n",
       "|---|---|---|---|---|---|\n",
       "| 18                        | 8                         | 307                       | 130.0                     | 3504                      | 12.0                      | 70                        | 1                         | chevrolet chevelle malibu | \n",
       "| 15                        | 8                         | 350                       | 165.0                     | 3693                      | 11.5                      | 70                        | 1                         | buick skylark 320         | \n",
       "| 18                        | 8                         | 318                       | 150.0                     | 3436                      | 11.0                      | 70                        | 1                         | plymouth satellite        | \n",
       "| 16                        | 8                         | 304                       | 150.0                     | 3433                      | 12.0                      | 70                        | 1                         | amc rebel sst             | \n",
       "| 17                        | 8                         | 302                       | 140.0                     | 3449                      | 10.5                      | 70                        | 1                         | ford torino               | \n",
       "| 15                        | 8                         | 429                       | 198.0                     | 4341                      | 10.0                      | 70                        | 1                         | ford galaxie 500          | \n",
       "\n",
       "\n"
      ],
      "text/plain": [
       "  mpg cylinders displacement horsepower weight acceleration model.year origin\n",
       "1 18  8         307          130.0      3504   12.0         70         1     \n",
       "2 15  8         350          165.0      3693   11.5         70         1     \n",
       "3 18  8         318          150.0      3436   11.0         70         1     \n",
       "4 16  8         304          150.0      3433   12.0         70         1     \n",
       "5 17  8         302          140.0      3449   10.5         70         1     \n",
       "6 15  8         429          198.0      4341   10.0         70         1     \n",
       "  car.name                 \n",
       "1 chevrolet chevelle malibu\n",
       "2 buick skylark 320        \n",
       "3 plymouth satellite       \n",
       "4 amc rebel sst            \n",
       "5 ford torino              \n",
       "6 ford galaxie 500         "
      ]
     },
     "metadata": {},
     "output_type": "display_data"
    }
   ],
   "source": [
    "head(auto_mpg)"
   ]
  },
  {
   "cell_type": "markdown",
   "metadata": {},
   "source": [
    "**`names()`** : The auto_mpg dataset has the column names already set. \n",
    "But in many cases, a dataset will not have headers for the columns or the names will need some formatting. \n",
    "`names()` function is helpful in manipulating the names of dataframe columns. \n",
    "It is illustrated below how you can use this command. \n",
    "\n",
    "\n",
    "`Usage: names(x) <- value`\n",
    "\n",
    "\n",
    "`names(x)`, where `x` is the input dataframe, shows the variable names of the dataframe. \n",
    "You can also modify column names using this command.\n",
    "You can assign the variable names as a vector of names. \n",
    "If the length of character vector of names is less than the number of variables in the dataframe, \n",
    "it is extended by character NAs to the length of `x`."
   ]
  },
  {
   "cell_type": "code",
   "execution_count": 4,
   "metadata": {},
   "outputs": [
    {
     "data": {
      "text/html": [
       "<ol class=list-inline>\n",
       "\t<li>'mpg'</li>\n",
       "\t<li>'cylinders'</li>\n",
       "\t<li>'displacement'</li>\n",
       "\t<li>'horsepower'</li>\n",
       "\t<li>'weight'</li>\n",
       "\t<li>'acceleration'</li>\n",
       "\t<li>'model.year'</li>\n",
       "\t<li>'origin'</li>\n",
       "\t<li>'car.name'</li>\n",
       "</ol>\n"
      ],
      "text/latex": [
       "\\begin{enumerate*}\n",
       "\\item 'mpg'\n",
       "\\item 'cylinders'\n",
       "\\item 'displacement'\n",
       "\\item 'horsepower'\n",
       "\\item 'weight'\n",
       "\\item 'acceleration'\n",
       "\\item 'model.year'\n",
       "\\item 'origin'\n",
       "\\item 'car.name'\n",
       "\\end{enumerate*}\n"
      ],
      "text/markdown": [
       "1. 'mpg'\n",
       "2. 'cylinders'\n",
       "3. 'displacement'\n",
       "4. 'horsepower'\n",
       "5. 'weight'\n",
       "6. 'acceleration'\n",
       "7. 'model.year'\n",
       "8. 'origin'\n",
       "9. 'car.name'\n",
       "\n",
       "\n"
      ],
      "text/plain": [
       "[1] \"mpg\"          \"cylinders\"    \"displacement\" \"horsepower\"   \"weight\"      \n",
       "[6] \"acceleration\" \"model.year\"   \"origin\"       \"car.name\"    "
      ]
     },
     "metadata": {},
     "output_type": "display_data"
    }
   ],
   "source": [
    "names(auto_mpg)"
   ]
  },
  {
   "cell_type": "code",
   "execution_count": 5,
   "metadata": {},
   "outputs": [
    {
     "data": {
      "text/html": [
       "<ol class=list-inline>\n",
       "\t<li>'mpg'</li>\n",
       "\t<li>'cylinders'</li>\n",
       "\t<li>'displacement'</li>\n",
       "\t<li>'horsepower'</li>\n",
       "\t<li>'weight'</li>\n",
       "\t<li>'acceleration'</li>\n",
       "\t<li>'model.year'</li>\n",
       "\t<li>'origin'</li>\n",
       "\t<li>'car.name'</li>\n",
       "</ol>\n"
      ],
      "text/latex": [
       "\\begin{enumerate*}\n",
       "\\item 'mpg'\n",
       "\\item 'cylinders'\n",
       "\\item 'displacement'\n",
       "\\item 'horsepower'\n",
       "\\item 'weight'\n",
       "\\item 'acceleration'\n",
       "\\item 'model.year'\n",
       "\\item 'origin'\n",
       "\\item 'car.name'\n",
       "\\end{enumerate*}\n"
      ],
      "text/markdown": [
       "1. 'mpg'\n",
       "2. 'cylinders'\n",
       "3. 'displacement'\n",
       "4. 'horsepower'\n",
       "5. 'weight'\n",
       "6. 'acceleration'\n",
       "7. 'model.year'\n",
       "8. 'origin'\n",
       "9. 'car.name'\n",
       "\n",
       "\n"
      ],
      "text/plain": [
       "[1] \"mpg\"          \"cylinders\"    \"displacement\" \"horsepower\"   \"weight\"      \n",
       "[6] \"acceleration\" \"model.year\"   \"origin\"       \"car.name\"    "
      ]
     },
     "metadata": {},
     "output_type": "display_data"
    }
   ],
   "source": [
    "#Assign the current names of auto_mpg columns to the variable 'column_names', which we \n",
    "#will use later.\n",
    "column_names=names(auto_mpg)\n",
    "column_names"
   ]
  },
  {
   "cell_type": "code",
   "execution_count": 6,
   "metadata": {},
   "outputs": [
    {
     "data": {
      "text/html": [
       "<ol class=list-inline>\n",
       "\t<li>'a'</li>\n",
       "\t<li>'b'</li>\n",
       "\t<li>'c'</li>\n",
       "\t<li>'d'</li>\n",
       "\t<li>'e'</li>\n",
       "\t<li>'f'</li>\n",
       "\t<li>'g'</li>\n",
       "\t<li>'h'</li>\n",
       "\t<li>'i'</li>\n",
       "</ol>\n"
      ],
      "text/latex": [
       "\\begin{enumerate*}\n",
       "\\item 'a'\n",
       "\\item 'b'\n",
       "\\item 'c'\n",
       "\\item 'd'\n",
       "\\item 'e'\n",
       "\\item 'f'\n",
       "\\item 'g'\n",
       "\\item 'h'\n",
       "\\item 'i'\n",
       "\\end{enumerate*}\n"
      ],
      "text/markdown": [
       "1. 'a'\n",
       "2. 'b'\n",
       "3. 'c'\n",
       "4. 'd'\n",
       "5. 'e'\n",
       "6. 'f'\n",
       "7. 'g'\n",
       "8. 'h'\n",
       "9. 'i'\n",
       "\n",
       "\n"
      ],
      "text/plain": [
       "[1] \"a\" \"b\" \"c\" \"d\" \"e\" \"f\" \"g\" \"h\" \"i\""
      ]
     },
     "metadata": {},
     "output_type": "display_data"
    }
   ],
   "source": [
    "#Modify the names of columns of auto_mpg dataset by assigning new names.\n",
    "names(auto_mpg)=c('a','b','c','d','e','f','g','h','i')\n",
    "names(auto_mpg)"
   ]
  },
  {
   "cell_type": "markdown",
   "metadata": {},
   "source": [
    "### Changing a specific column name "
   ]
  },
  {
   "cell_type": "code",
   "execution_count": 7,
   "metadata": {
    "collapsed": true
   },
   "outputs": [],
   "source": [
    "#Modify the name of first column of auto_mpg dataset.\n",
    "names(auto_mpg)[1]='z'\n"
   ]
  },
  {
   "cell_type": "code",
   "execution_count": 8,
   "metadata": {},
   "outputs": [
    {
     "data": {
      "text/html": [
       "<ol class=list-inline>\n",
       "\t<li>'z'</li>\n",
       "\t<li>'b'</li>\n",
       "\t<li>'c'</li>\n",
       "\t<li>'d'</li>\n",
       "\t<li>'e'</li>\n",
       "\t<li>'f'</li>\n",
       "\t<li>'g'</li>\n",
       "\t<li>'h'</li>\n",
       "\t<li>'i'</li>\n",
       "</ol>\n"
      ],
      "text/latex": [
       "\\begin{enumerate*}\n",
       "\\item 'z'\n",
       "\\item 'b'\n",
       "\\item 'c'\n",
       "\\item 'd'\n",
       "\\item 'e'\n",
       "\\item 'f'\n",
       "\\item 'g'\n",
       "\\item 'h'\n",
       "\\item 'i'\n",
       "\\end{enumerate*}\n"
      ],
      "text/markdown": [
       "1. 'z'\n",
       "2. 'b'\n",
       "3. 'c'\n",
       "4. 'd'\n",
       "5. 'e'\n",
       "6. 'f'\n",
       "7. 'g'\n",
       "8. 'h'\n",
       "9. 'i'\n",
       "\n",
       "\n"
      ],
      "text/plain": [
       "[1] \"z\" \"b\" \"c\" \"d\" \"e\" \"f\" \"g\" \"h\" \"i\""
      ]
     },
     "metadata": {},
     "output_type": "display_data"
    }
   ],
   "source": [
    "#Display the names of auto_mpg columns\n",
    "names(auto_mpg)"
   ]
  },
  {
   "cell_type": "code",
   "execution_count": 9,
   "metadata": {},
   "outputs": [
    {
     "data": {
      "text/html": [
       "<ol class=list-inline>\n",
       "\t<li>'mpg'</li>\n",
       "\t<li>'cylinders'</li>\n",
       "\t<li>'displacement'</li>\n",
       "\t<li>'horsepower'</li>\n",
       "\t<li>'weight'</li>\n",
       "\t<li>'acceleration'</li>\n",
       "\t<li>'model.year'</li>\n",
       "\t<li>'origin'</li>\n",
       "\t<li>'car.name'</li>\n",
       "</ol>\n"
      ],
      "text/latex": [
       "\\begin{enumerate*}\n",
       "\\item 'mpg'\n",
       "\\item 'cylinders'\n",
       "\\item 'displacement'\n",
       "\\item 'horsepower'\n",
       "\\item 'weight'\n",
       "\\item 'acceleration'\n",
       "\\item 'model.year'\n",
       "\\item 'origin'\n",
       "\\item 'car.name'\n",
       "\\end{enumerate*}\n"
      ],
      "text/markdown": [
       "1. 'mpg'\n",
       "2. 'cylinders'\n",
       "3. 'displacement'\n",
       "4. 'horsepower'\n",
       "5. 'weight'\n",
       "6. 'acceleration'\n",
       "7. 'model.year'\n",
       "8. 'origin'\n",
       "9. 'car.name'\n",
       "\n",
       "\n"
      ],
      "text/plain": [
       "[1] \"mpg\"          \"cylinders\"    \"displacement\" \"horsepower\"   \"weight\"      \n",
       "[6] \"acceleration\" \"model.year\"   \"origin\"       \"car.name\"    "
      ]
     },
     "metadata": {},
     "output_type": "display_data"
    }
   ],
   "source": [
    "#Assigning the original column names back to auto_mpg dataset variables, using the variable\n",
    "#column_names we created before.\n",
    "names(auto_mpg)=column_names\n",
    "names(auto_mpg)"
   ]
  },
  {
   "cell_type": "markdown",
   "metadata": {},
   "source": [
    "\n",
    "----\n",
    "**`summary()`** \n",
    "\n",
    "`summary()` command gives a summary of each variable in the dataframe, show some descriptive statistics. \n",
    "As shown below, the command is very informative. \n",
    "It calculates the minimum value, 1st quartile, 2nd quartile(median), mean value, \n",
    "3rd quartile, and maximum values of numeric variables. \n",
    "If the variable has NA values, number of such rows with NA values is displayed too. \n",
    "\n",
    "You can use this information to quickly identify if the variables are qualitative (discrete) or quantitative (continuous). \n",
    "For example, all of the variables in auto_mpg dataset except for origin and car.name are continuous; \n",
    "origin is discrete and `car.name` is a qualitative (nominal) variable (also discrete)."
   ]
  },
  {
   "cell_type": "code",
   "execution_count": 10,
   "metadata": {},
   "outputs": [
    {
     "data": {
      "text/plain": [
       "      mpg          cylinders      displacement     horsepower      weight    \n",
       " Min.   : 9.00   Min.   :3.000   Min.   : 68.0   150.0  : 22   Min.   :1613  \n",
       " 1st Qu.:17.50   1st Qu.:4.000   1st Qu.:104.2   90.00  : 20   1st Qu.:2224  \n",
       " Median :23.00   Median :4.000   Median :148.5   88.00  : 19   Median :2804  \n",
       " Mean   :23.51   Mean   :5.455   Mean   :193.4   110.0  : 18   Mean   :2970  \n",
       " 3rd Qu.:29.00   3rd Qu.:8.000   3rd Qu.:262.0   100.0  : 17   3rd Qu.:3608  \n",
       " Max.   :46.60   Max.   :8.000   Max.   :455.0   75.00  : 14   Max.   :5140  \n",
       "                                                 (Other):288                 \n",
       "  acceleration     model.year        origin                car.name  \n",
       " Min.   : 8.00   Min.   :70.00   Min.   :1.000   ford pinto    :  6  \n",
       " 1st Qu.:13.82   1st Qu.:73.00   1st Qu.:1.000   amc matador   :  5  \n",
       " Median :15.50   Median :76.00   Median :1.000   ford maverick :  5  \n",
       " Mean   :15.57   Mean   :76.01   Mean   :1.573   toyota corolla:  5  \n",
       " 3rd Qu.:17.18   3rd Qu.:79.00   3rd Qu.:2.000   amc gremlin   :  4  \n",
       " Max.   :24.80   Max.   :82.00   Max.   :3.000   amc hornet    :  4  \n",
       "                                                 (Other)       :369  "
      ]
     },
     "metadata": {},
     "output_type": "display_data"
    }
   ],
   "source": [
    "summary(auto_mpg)"
   ]
  },
  {
   "cell_type": "markdown",
   "metadata": {},
   "source": [
    "**Note**: Do you wonder why there is no min, max, mean, or other values given for the horsepower variable? \n",
    "The same is the case with car.name but it makes sense for the car.name variable. \n",
    "The horsepower variable can't have a minimum value or mean values because it has strings in it. \n",
    "Run the `str()` function to understand the difference between `horsepower` and other numeric variables."
   ]
  },
  {
   "cell_type": "code",
   "execution_count": 11,
   "metadata": {},
   "outputs": [
    {
     "name": "stdout",
     "output_type": "stream",
     "text": [
      "'data.frame':\t398 obs. of  9 variables:\n",
      " $ mpg         : num  18 15 18 16 17 15 14 14 14 15 ...\n",
      " $ cylinders   : int  8 8 8 8 8 8 8 8 8 8 ...\n",
      " $ displacement: num  307 350 318 304 302 429 454 440 455 390 ...\n",
      " $ horsepower  : Factor w/ 94 levels \"?    \",\"100.0\",..: 17 35 29 29 24 42 47 46 48 40 ...\n",
      " $ weight      : int  3504 3693 3436 3433 3449 4341 4354 4312 4425 3850 ...\n",
      " $ acceleration: num  12 11.5 11 12 10.5 10 9 8.5 10 8.5 ...\n",
      " $ model.year  : int  70 70 70 70 70 70 70 70 70 70 ...\n",
      " $ origin      : int  1 1 1 1 1 1 1 1 1 1 ...\n",
      " $ car.name    : Factor w/ 305 levels \"amc ambassador brougham\",..: 50 37 232 15 162 142 55 224 242 2 ...\n"
     ]
    }
   ],
   "source": [
    "str(auto_mpg)"
   ]
  },
  {
   "cell_type": "markdown",
   "metadata": {},
   "source": [
    "Horsepower is a `factor` datatype. \n",
    "Factors are categorical (nominal/discrete) variables. \n",
    "They are not treated as continuous variables. \n",
    "So the summary function would not calculate mean, median, min etc. for Horsepower. \n",
    "\n",
    "`str()` function tells you the datatype of variables, the dimensions of the dataframe, \n",
    "and also gives an overview of the kind of values each variable contains."
   ]
  },
  {
   "cell_type": "markdown",
   "metadata": {},
   "source": [
    "## Column Access in R\n",
    "\n",
    "Recall, that column access in R is accomplished by using the __ \\$ __ operator.  \n",
    "```R\n",
    "dataframe$columnName\n",
    "```\n",
    "\n",
    "**`summary(auto$weight)`** shows summary of `weight` variable of the `auto_mpg` data."
   ]
  },
  {
   "cell_type": "code",
   "execution_count": 12,
   "metadata": {},
   "outputs": [
    {
     "data": {
      "text/plain": [
       "   Min. 1st Qu.  Median    Mean 3rd Qu.    Max. \n",
       "   1613    2224    2804    2970    3608    5140 "
      ]
     },
     "metadata": {},
     "output_type": "display_data"
    }
   ],
   "source": [
    "summary(auto_mpg$weight)"
   ]
  },
  {
   "cell_type": "markdown",
   "metadata": {},
   "source": [
    "----\n",
    "## Descriptive Statistics\n",
    "\n",
    "Descriptive statistics are used to summarize and describe data.\n",
    "If we are analyzing miles per gallon data, for example, \n",
    "a descriptive statistic might be the percentage of cars with different numbers of \n",
    "cylinders or the average miles per gallon for all cars. \n",
    "Many descriptive statistics are often used at one time to give a full picture of the data. \n",
    "\n",
    "There are mainly two categories of descriptive statistics:\n",
    "measures of central tendency (or averages) and measures of dispersion \n",
    "(which summarizes how spread out or dispersed the data points are). \n",
    "A variable can have many observations (data points or values) and a summary set of numbers that describe those multiple observations, \n",
    "such as those as shown by the `summary()` command, are descriptive statistics. \n",
    "\n",
    "There are three important measures of central tendency used to summarize data. \n",
    "The mean, the median, and the mode. \n",
    "When we talk about the mean, we'll be referring to the arithmetic mean as contrasted to some other means, \n",
    "such as the geometric mean or the harmonic mean, which are not used as frequently as arithmetic mean. \n",
    "The mean of a set of data is simply the sum of data observations divided by the total number of observations. \n",
    "\n",
    "The median of a set of ordered observations is a middle number that divides the data into two parts, \n",
    "where half of the data points are in one part and the other half in the second part. \n",
    "\n",
    "The mean is influenced to a greater extent by extreme observations. \n",
    "So, if you notice extreme observations in your data, then perhaps a median is a better summary of data than a mean. \n",
    "Income and price data generally follow this pattern, which is why census organizations report median incomes and median prices.\n",
    "\n",
    "Descriptive statistics are just descriptive. \n",
    "They cannot generalize anything beyond the data at hand. \n",
    "Generalizing from our data to another set of cases is dealt with in inferential statistics.\n",
    "R has built-in functions to calculate mean, median, standard deviation (a measure of the spread of data points around the mean), and other descriptive statistics.\n",
    "\n",
    "These terms should be familiar from previous introductory statistics for analytics course or boot camp."
   ]
  },
  {
   "cell_type": "code",
   "execution_count": 13,
   "metadata": {},
   "outputs": [
    {
     "data": {
      "text/html": [
       "<table>\n",
       "<thead><tr><th scope=col>mpg</th><th scope=col>cylinders</th><th scope=col>displacement</th><th scope=col>horsepower</th><th scope=col>weight</th><th scope=col>acceleration</th><th scope=col>model.year</th><th scope=col>origin</th><th scope=col>car.name</th></tr></thead>\n",
       "<tbody>\n",
       "\t<tr><td>18                       </td><td>8                        </td><td>307                      </td><td>130.0                    </td><td>3504                     </td><td>12.0                     </td><td>70                       </td><td>1                        </td><td>chevrolet chevelle malibu</td></tr>\n",
       "\t<tr><td>15                       </td><td>8                        </td><td>350                      </td><td>165.0                    </td><td>3693                     </td><td>11.5                     </td><td>70                       </td><td>1                        </td><td>buick skylark 320        </td></tr>\n",
       "\t<tr><td>18                       </td><td>8                        </td><td>318                      </td><td>150.0                    </td><td>3436                     </td><td>11.0                     </td><td>70                       </td><td>1                        </td><td>plymouth satellite       </td></tr>\n",
       "\t<tr><td>16                       </td><td>8                        </td><td>304                      </td><td>150.0                    </td><td>3433                     </td><td>12.0                     </td><td>70                       </td><td>1                        </td><td>amc rebel sst            </td></tr>\n",
       "\t<tr><td>17                       </td><td>8                        </td><td>302                      </td><td>140.0                    </td><td>3449                     </td><td>10.5                     </td><td>70                       </td><td>1                        </td><td>ford torino              </td></tr>\n",
       "\t<tr><td>15                       </td><td>8                        </td><td>429                      </td><td>198.0                    </td><td>4341                     </td><td>10.0                     </td><td>70                       </td><td>1                        </td><td>ford galaxie 500         </td></tr>\n",
       "</tbody>\n",
       "</table>\n"
      ],
      "text/latex": [
       "\\begin{tabular}{r|lllllllll}\n",
       " mpg & cylinders & displacement & horsepower & weight & acceleration & model.year & origin & car.name\\\\\n",
       "\\hline\n",
       "\t 18                        & 8                         & 307                       & 130.0                     & 3504                      & 12.0                      & 70                        & 1                         & chevrolet chevelle malibu\\\\\n",
       "\t 15                        & 8                         & 350                       & 165.0                     & 3693                      & 11.5                      & 70                        & 1                         & buick skylark 320        \\\\\n",
       "\t 18                        & 8                         & 318                       & 150.0                     & 3436                      & 11.0                      & 70                        & 1                         & plymouth satellite       \\\\\n",
       "\t 16                        & 8                         & 304                       & 150.0                     & 3433                      & 12.0                      & 70                        & 1                         & amc rebel sst            \\\\\n",
       "\t 17                        & 8                         & 302                       & 140.0                     & 3449                      & 10.5                      & 70                        & 1                         & ford torino              \\\\\n",
       "\t 15                        & 8                         & 429                       & 198.0                     & 4341                      & 10.0                      & 70                        & 1                         & ford galaxie 500         \\\\\n",
       "\\end{tabular}\n"
      ],
      "text/markdown": [
       "\n",
       "mpg | cylinders | displacement | horsepower | weight | acceleration | model.year | origin | car.name | \n",
       "|---|---|---|---|---|---|\n",
       "| 18                        | 8                         | 307                       | 130.0                     | 3504                      | 12.0                      | 70                        | 1                         | chevrolet chevelle malibu | \n",
       "| 15                        | 8                         | 350                       | 165.0                     | 3693                      | 11.5                      | 70                        | 1                         | buick skylark 320         | \n",
       "| 18                        | 8                         | 318                       | 150.0                     | 3436                      | 11.0                      | 70                        | 1                         | plymouth satellite        | \n",
       "| 16                        | 8                         | 304                       | 150.0                     | 3433                      | 12.0                      | 70                        | 1                         | amc rebel sst             | \n",
       "| 17                        | 8                         | 302                       | 140.0                     | 3449                      | 10.5                      | 70                        | 1                         | ford torino               | \n",
       "| 15                        | 8                         | 429                       | 198.0                     | 4341                      | 10.0                      | 70                        | 1                         | ford galaxie 500          | \n",
       "\n",
       "\n"
      ],
      "text/plain": [
       "  mpg cylinders displacement horsepower weight acceleration model.year origin\n",
       "1 18  8         307          130.0      3504   12.0         70         1     \n",
       "2 15  8         350          165.0      3693   11.5         70         1     \n",
       "3 18  8         318          150.0      3436   11.0         70         1     \n",
       "4 16  8         304          150.0      3433   12.0         70         1     \n",
       "5 17  8         302          140.0      3449   10.5         70         1     \n",
       "6 15  8         429          198.0      4341   10.0         70         1     \n",
       "  car.name                 \n",
       "1 chevrolet chevelle malibu\n",
       "2 buick skylark 320        \n",
       "3 plymouth satellite       \n",
       "4 amc rebel sst            \n",
       "5 ford torino              \n",
       "6 ford galaxie 500         "
      ]
     },
     "metadata": {},
     "output_type": "display_data"
    }
   ],
   "source": [
    "#Let's run the head() command on auto_mpg to peek into the dataset.\n",
    "head(auto_mpg)"
   ]
  },
  {
   "cell_type": "markdown",
   "metadata": {},
   "source": [
    "----\n",
    "#### Mean\n",
    "The `mean()` function gives the average value of the column. \n",
    "The mean is the most basic statistic to help you understand the distribution of observations (data points) of a variable.\n",
    "    \n",
    "    Mean = Sum of all Observations / No. of Observations"
   ]
  },
  {
   "cell_type": "code",
   "execution_count": 14,
   "metadata": {},
   "outputs": [
    {
     "data": {
      "text/html": [
       "'Average auto displacement is: 193.425879396985'"
      ],
      "text/latex": [
       "'Average auto displacement is: 193.425879396985'"
      ],
      "text/markdown": [
       "'Average auto displacement is: 193.425879396985'"
      ],
      "text/plain": [
       "[1] \"Average auto displacement is: 193.425879396985\""
      ]
     },
     "metadata": {},
     "output_type": "display_data"
    }
   ],
   "source": [
    "#The paste function below is used to concatenate strings to make things readable. \n",
    "#paste concatenates strings in the order they are given as input. \n",
    "paste('Average auto displacement is:',mean(auto_mpg$displacement))\n",
    "\n",
    "# Note, that paste adds a space character between the parts when concatenating"
   ]
  },
  {
   "cell_type": "code",
   "execution_count": 15,
   "metadata": {},
   "outputs": [
    {
     "data": {
      "text/html": [
       "193.425879396985"
      ],
      "text/latex": [
       "193.425879396985"
      ],
      "text/markdown": [
       "193.425879396985"
      ],
      "text/plain": [
       "[1] 193.4259"
      ]
     },
     "metadata": {},
     "output_type": "display_data"
    }
   ],
   "source": [
    "#Without the paste function\n",
    "mean(auto_mpg$displacement)"
   ]
  },
  {
   "cell_type": "markdown",
   "metadata": {},
   "source": [
    "These commands tell us on an average each vehicle has a displacement of 193.42. "
   ]
  },
  {
   "cell_type": "markdown",
   "metadata": {},
   "source": [
    "#### Mode\n",
    "    \n",
    "    Mode = Most occuring value in a set of values, i.e., a column of a dataframe\n",
    "    \n",
    "Mode is the value that has been repeated most frequently in a set of values and is especially useful when dealing with discrete variables.\n",
    "R does not have any built-in function to compute Mode as you would expect. \n",
    "Instead, the `mode()` function returns the type or **storage mode** of the object. \n",
    "For example:\n",
    "\n",
    "_mode_(dataframe\\$columnName). "
   ]
  },
  {
   "cell_type": "code",
   "execution_count": 16,
   "metadata": {},
   "outputs": [
    {
     "data": {
      "text/html": [
       "<span style=white-space:pre-wrap>'Datatype of mpg is  numeric'</span>"
      ],
      "text/latex": [
       "'Datatype of mpg is  numeric'"
      ],
      "text/markdown": [
       "<span style=white-space:pre-wrap>'Datatype of mpg is  numeric'</span>"
      ],
      "text/plain": [
       "[1] \"Datatype of mpg is  numeric\""
      ]
     },
     "metadata": {},
     "output_type": "display_data"
    }
   ],
   "source": [
    "paste('Datatype of mpg is ',mode(auto_mpg$mpg))\n"
   ]
  },
  {
   "cell_type": "code",
   "execution_count": 17,
   "metadata": {},
   "outputs": [
    {
     "data": {
      "text/html": [
       "'numeric'"
      ],
      "text/latex": [
       "'numeric'"
      ],
      "text/markdown": [
       "'numeric'"
      ],
      "text/plain": [
       "[1] \"numeric\""
      ]
     },
     "metadata": {},
     "output_type": "display_data"
    }
   ],
   "source": [
    "#Without the paste function\n",
    "mode(auto_mpg$mpg)"
   ]
  },
  {
   "cell_type": "markdown",
   "metadata": {},
   "source": [
    "However, you can use a command like below to calculate the most frequently occuring value. \n",
    "The `table()` command tells us the distribution/count of different values of a variable. \n",
    "So, using the command below, we are able to print how often each value occurred in the dataset. "
   ]
  },
  {
   "cell_type": "code",
   "execution_count": 18,
   "metadata": {},
   "outputs": [
    {
     "data": {
      "text/plain": [
       "\n",
       "   9   10   11   12   13   14 14.5   15 15.5   16 16.2 16.5 16.9   17 17.5 17.6 \n",
       "   1    2    4    6   20   19    1   16    5   13    1    3    1    7    5    2 \n",
       "17.7   18 18.1 18.2 18.5 18.6   19 19.1 19.2 19.4 19.8 19.9   20 20.2 20.3 20.5 \n",
       "   1   17    2    1    3    1   12    1    3    2    1    1    9    4    1    3 \n",
       "20.6 20.8   21 21.1 21.5 21.6   22 22.3 22.4 22.5   23 23.2 23.5 23.6 23.7 23.8 \n",
       "   2    1    8    1    3    1   10    1    1    1   10    1    1    1    1    1 \n",
       "23.9   24 24.2 24.3 24.5   25 25.1 25.4 25.5 25.8   26 26.4 26.5 26.6 26.8   27 \n",
       "   2   11    1    1    2   11    1    2    2    1   14    1    1    2    1    9 \n",
       "27.2 27.4 27.5 27.9   28 28.1 28.4 28.8   29 29.5 29.8 29.9   30 30.5 30.7 30.9 \n",
       "   3    1    1    1   10    1    1    1    8    2    2    1    7    2    1    1 \n",
       "  31 31.3 31.5 31.6 31.8 31.9   32 32.1 32.2 32.3 32.4 32.7 32.8 32.9   33 33.5 \n",
       "   7    1    2    1    1    1    6    1    1    1    2    1    1    1    3    3 \n",
       "33.7 33.8   34 34.1 34.2 34.3 34.4 34.5 34.7   35 35.1 35.7   36 36.1 36.4   37 \n",
       "   1    1    2    2    1    1    1    2    1    2    1    1    6    2    1    3 \n",
       "37.2 37.3 37.7   38 38.1   39 39.1 39.4 40.8 40.9 41.5 43.1 43.4   44 44.3 44.6 \n",
       "   1    1    1    4    1    1    1    1    1    1    1    1    1    1    1    1 \n",
       "46.6 \n",
       "   1 "
      ]
     },
     "metadata": {},
     "output_type": "display_data"
    }
   ],
   "source": [
    "table(auto_mpg$mpg)"
   ]
  },
  {
   "cell_type": "markdown",
   "metadata": {},
   "source": [
    "**Note:** In the output above, the table is line-wrapping in the display\n",
    "```\n",
    "Value->   9   10   11   12   13   14 14.5   15 15.5   16 16.2 16.5 16.9   17 17.5 17.6 \n",
    "Count->   1    2    4    6   20   19    1   16    5   13    1    3    1    7    5    2 \n",
    "\n",
    "Value->   17.7   18 18.1 18.2 18.5 18.6   19 19.1 19.2 19.4 19.8 19.9   20 20.2 20.3 20.5\n",
    "Count->      1   17    2    1    3    1   12    1    3    2    1    1    9    4    1    3\n",
    "\n",
    "...\n",
    "```\n",
    "\n",
    "We see that 13 MPG occurs 20 times (13 is at position 5).\n",
    "\n",
    "**Note:** What table() is actually doing is computing a histogram of the value for the given set / column.\n",
    "\n",
    "This tells us, 13 is the most commonly occuring mileage (miles per gallon) of the vehicles. Of the 398 vehicles, 20 vehicles have 13 miles per gallon. "
   ]
  },
  {
   "cell_type": "markdown",
   "metadata": {},
   "source": [
    "This is not quite the answer we are looking for, so a little more code and we can get what we need.\n",
    "In this case we will use the `which.max()` function to ask:  \n",
    "**Which index holds the greatest value?**\n",
    "\n",
    "\n",
    "In some other languages and mathematical notation, this is often referred to as \"argmax\" for:  \n",
    "Which argument (aka index) has the maximum value?"
   ]
  },
  {
   "cell_type": "code",
   "execution_count": 19,
   "metadata": {},
   "outputs": [
    {
     "data": {
      "text/html": [
       "<strong>13:</strong> 5"
      ],
      "text/latex": [
       "\\textbf{13:} 5"
      ],
      "text/markdown": [
       "**13:** 5"
      ],
      "text/plain": [
       "13 \n",
       " 5 "
      ]
     },
     "metadata": {},
     "output_type": "display_data"
    }
   ],
   "source": [
    "#Let's use which.max with the table function to find out which value \n",
    "#occurred the most frequently in the dataset\n",
    "which.max(table(auto_mpg$mpg))"
   ]
  },
  {
   "cell_type": "code",
   "execution_count": 20,
   "metadata": {},
   "outputs": [
    {
     "data": {
      "text/html": [
       "'The mode using which.max(): 13'"
      ],
      "text/latex": [
       "'The mode using which.max(): 13'"
      ],
      "text/markdown": [
       "'The mode using which.max(): 13'"
      ],
      "text/plain": [
       "[1] \"The mode using which.max(): 13\""
      ]
     },
     "metadata": {},
     "output_type": "display_data"
    }
   ],
   "source": [
    "#And now we can combine the previous code with the paste function...\n",
    "paste(\"The mode using which.max():\",names(which.max(table(auto_mpg$mpg))))\n"
   ]
  },
  {
   "cell_type": "markdown",
   "metadata": {},
   "source": [
    "#### Median\n",
    "    \n",
    "    Median = Mid point of all values. \n",
    "\n",
    "Median value divides the data set into two equal halves. \n",
    "One half lies to the left of median and the other to the right. \n",
    "Median values are less affected than the mean by outliers (extreme values). \n",
    "Therefore, the median is considered an ideal choice for measuring central tendency when the data is skewed \n",
    "(when the data has outliers). \n",
    "\n",
    "R has a built-in function to calculate the median. \n",
    "Let's calculate the median for the displacement variable in the auto_mpg dataset."
   ]
  },
  {
   "cell_type": "code",
   "execution_count": 21,
   "metadata": {},
   "outputs": [
    {
     "data": {
      "text/html": [
       "15.5"
      ],
      "text/latex": [
       "15.5"
      ],
      "text/markdown": [
       "15.5"
      ],
      "text/plain": [
       "[1] 15.5"
      ]
     },
     "metadata": {},
     "output_type": "display_data"
    }
   ],
   "source": [
    "median(auto_mpg$acceleration)"
   ]
  },
  {
   "cell_type": "code",
   "execution_count": 22,
   "metadata": {},
   "outputs": [
    {
     "data": {
      "text/html": [
       "<span style=white-space:pre-wrap>'median:  15.5'</span>"
      ],
      "text/latex": [
       "'median:  15.5'"
      ],
      "text/markdown": [
       "<span style=white-space:pre-wrap>'median:  15.5'</span>"
      ],
      "text/plain": [
       "[1] \"median:  15.5\""
      ]
     },
     "metadata": {},
     "output_type": "display_data"
    }
   ],
   "source": [
    "paste(\"median: \",median(auto_mpg$acceleration))"
   ]
  },
  {
   "cell_type": "markdown",
   "metadata": {},
   "source": [
    "Of the 398 observations in the dataset, 199 observations have acceleration less than or equal to 15.5 and other 199 observations have acceleration greater than or equal to 15.5"
   ]
  },
  {
   "cell_type": "markdown",
   "metadata": {},
   "source": [
    "#### Range\n",
    "    \n",
    "    Range = (lowest value, highest value)\n",
    "    \n",
    "The range is also a measure of spread or extremal values of a variable. \n",
    "R also has a built-in function to calculate range. \n",
    "Let's calculate the range of the variable `model.year` in the auto_mpg dataset. "
   ]
  },
  {
   "cell_type": "code",
   "execution_count": 23,
   "metadata": {},
   "outputs": [
    {
     "data": {
      "text/html": [
       "<ol class=list-inline>\n",
       "\t<li>70</li>\n",
       "\t<li>82</li>\n",
       "</ol>\n"
      ],
      "text/latex": [
       "\\begin{enumerate*}\n",
       "\\item 70\n",
       "\\item 82\n",
       "\\end{enumerate*}\n"
      ],
      "text/markdown": [
       "1. 70\n",
       "2. 82\n",
       "\n",
       "\n"
      ],
      "text/plain": [
       "[1] 70 82"
      ]
     },
     "metadata": {},
     "output_type": "display_data"
    }
   ],
   "source": [
    "range(auto_mpg$model.year)"
   ]
  },
  {
   "cell_type": "markdown",
   "metadata": {},
   "source": [
    "So, the range of model years for cars in the dataset are from year 70 to year 82"
   ]
  },
  {
   "cell_type": "markdown",
   "metadata": {},
   "source": [
    "#### Quantile\n",
    "\n",
    "The `quantile()` function divides the data set into **4 equal parts**, based on quantity of measurements. \n",
    "The first is Quantile (Q1), the second is Quantile (Q2), the third Quantile (Q3), and the fourth quantile (Q4).\n",
    "\n",
    "Quantiles are well understood when used with box plots. \n",
    "Box plots summarize and identify the range (minimum and maximum), Q1, Q2, and Q3 of a variable."
   ]
  },
  {
   "cell_type": "code",
   "execution_count": 24,
   "metadata": {},
   "outputs": [
    {
     "data": {
      "text/html": [
       "<dl class=dl-horizontal>\n",
       "\t<dt>0%</dt>\n",
       "\t\t<dd>68</dd>\n",
       "\t<dt>25%</dt>\n",
       "\t\t<dd>104.25</dd>\n",
       "\t<dt>50%</dt>\n",
       "\t\t<dd>148.5</dd>\n",
       "\t<dt>75%</dt>\n",
       "\t\t<dd>262</dd>\n",
       "\t<dt>100%</dt>\n",
       "\t\t<dd>455</dd>\n",
       "</dl>\n"
      ],
      "text/latex": [
       "\\begin{description*}\n",
       "\\item[0\\textbackslash{}\\%] 68\n",
       "\\item[25\\textbackslash{}\\%] 104.25\n",
       "\\item[50\\textbackslash{}\\%] 148.5\n",
       "\\item[75\\textbackslash{}\\%] 262\n",
       "\\item[100\\textbackslash{}\\%] 455\n",
       "\\end{description*}\n"
      ],
      "text/markdown": [
       "0%\n",
       ":   6825%\n",
       ":   104.2550%\n",
       ":   148.575%\n",
       ":   262100%\n",
       ":   455\n",
       "\n"
      ],
      "text/plain": [
       "    0%    25%    50%    75%   100% \n",
       " 68.00 104.25 148.50 262.00 455.00 "
      ]
     },
     "metadata": {},
     "output_type": "display_data"
    }
   ],
   "source": [
    "quantile(auto_mpg$displacement)"
   ]
  },
  {
   "cell_type": "code",
   "execution_count": 25,
   "metadata": {},
   "outputs": [
    {
     "data": {
      "text/html": [
       "<dl class=dl-horizontal>\n",
       "\t<dt>0%</dt>\n",
       "\t\t<dd>70</dd>\n",
       "\t<dt>25%</dt>\n",
       "\t\t<dd>73</dd>\n",
       "\t<dt>50%</dt>\n",
       "\t\t<dd>76</dd>\n",
       "\t<dt>75%</dt>\n",
       "\t\t<dd>79</dd>\n",
       "\t<dt>100%</dt>\n",
       "\t\t<dd>82</dd>\n",
       "</dl>\n"
      ],
      "text/latex": [
       "\\begin{description*}\n",
       "\\item[0\\textbackslash{}\\%] 70\n",
       "\\item[25\\textbackslash{}\\%] 73\n",
       "\\item[50\\textbackslash{}\\%] 76\n",
       "\\item[75\\textbackslash{}\\%] 79\n",
       "\\item[100\\textbackslash{}\\%] 82\n",
       "\\end{description*}\n"
      ],
      "text/markdown": [
       "0%\n",
       ":   7025%\n",
       ":   7350%\n",
       ":   7675%\n",
       ":   79100%\n",
       ":   82\n",
       "\n"
      ],
      "text/plain": [
       "  0%  25%  50%  75% 100% \n",
       "  70   73   76   79   82 "
      ]
     },
     "metadata": {},
     "output_type": "display_data"
    }
   ],
   "source": [
    "quantile(auto_mpg$model.year)"
   ]
  },
  {
   "cell_type": "markdown",
   "metadata": {},
   "source": [
    "This command is very informative as it gives minimum, maximum, 25th percentile, 50th percentile (median) and 75th percentile values of the variable. \n",
    "Quantiles are used for explaining the variance in the variable as it is less immune to outliers and explains variation better than other measures. "
   ]
  },
  {
   "cell_type": "markdown",
   "metadata": {},
   "source": [
    "#### Variance\n",
    "\n",
    "    The average of the squared differences from the mean.\n",
    "    \n",
    "Variance measures how widely the values in a variable are spread around the mean. \n",
    "If the observations vary greatly from the variable mean, the variance will be big and vice versa. \n",
    "R has built-in functions to calculate the variance so that we don't have to get into the math of it. "
   ]
  },
  {
   "cell_type": "code",
   "execution_count": 26,
   "metadata": {},
   "outputs": [
    {
     "data": {
      "text/html": [
       "10872.1991522474"
      ],
      "text/latex": [
       "10872.1991522474"
      ],
      "text/markdown": [
       "10872.1991522474"
      ],
      "text/plain": [
       "[1] 10872.2"
      ]
     },
     "metadata": {},
     "output_type": "display_data"
    }
   ],
   "source": [
    "var(auto_mpg$displacement)"
   ]
  },
  {
   "cell_type": "code",
   "execution_count": 27,
   "metadata": {},
   "outputs": [
    {
     "data": {
      "text/html": [
       "<span style=white-space:pre-wrap>'variance:  10872.1991522474'</span>"
      ],
      "text/latex": [
       "'variance:  10872.1991522474'"
      ],
      "text/markdown": [
       "<span style=white-space:pre-wrap>'variance:  10872.1991522474'</span>"
      ],
      "text/plain": [
       "[1] \"variance:  10872.1991522474\""
      ]
     },
     "metadata": {},
     "output_type": "display_data"
    }
   ],
   "source": [
    "paste('variance: ', var(auto_mpg$displacement))"
   ]
  },
  {
   "cell_type": "markdown",
   "metadata": {},
   "source": [
    "The above value represents the squared error of all the displacement values. \n",
    "Variance often doesn't make much sense when trying to understand the spread of the data as the units of variance are not the same as the units of the original data.\n",
    "However, standard deviation will give us a clearer idea of how data is spread. "
   ]
  },
  {
   "cell_type": "markdown",
   "metadata": {},
   "source": [
    "#### Standard deviation\n",
    "\n",
    "    SQRT(variance) = Standard Deviation"
   ]
  },
  {
   "cell_type": "code",
   "execution_count": 28,
   "metadata": {},
   "outputs": [
    {
     "data": {
      "text/html": [
       "104.269838171196"
      ],
      "text/latex": [
       "104.269838171196"
      ],
      "text/markdown": [
       "104.269838171196"
      ],
      "text/plain": [
       "[1] 104.2698"
      ]
     },
     "metadata": {},
     "output_type": "display_data"
    }
   ],
   "source": [
    "sd(auto_mpg$displacement)"
   ]
  },
  {
   "cell_type": "code",
   "execution_count": 29,
   "metadata": {},
   "outputs": [
    {
     "data": {
      "text/html": [
       "<span style=white-space:pre-wrap>'standard deviation:  104.269838171196'</span>"
      ],
      "text/latex": [
       "'standard deviation:  104.269838171196'"
      ],
      "text/markdown": [
       "<span style=white-space:pre-wrap>'standard deviation:  104.269838171196'</span>"
      ],
      "text/plain": [
       "[1] \"standard deviation:  104.269838171196\""
      ]
     },
     "metadata": {},
     "output_type": "display_data"
    }
   ],
   "source": [
    "paste(\"standard deviation: \", sd(auto_mpg$displacement))"
   ]
  },
  {
   "cell_type": "markdown",
   "metadata": {},
   "source": [
    "The values in the displacement variable have a standard deviation of 104.27. \n",
    "Recall that the mean was 193.42. \n",
    "In later lessons, the combination of mean and standard deviation can be combined to model a data population."
   ]
  },
  {
   "cell_type": "markdown",
   "metadata": {},
   "source": [
    "**Maximum, Minimum, Median, and Mean Absolute Deviation (similar to standard deviation):**\n",
    "\n",
    "We will do this using a for-loop, which is a slow process in R.  \n",
    "Inside the loop, `c()` is a generic R function that **combines** its arguments into a vector.\n",
    "\n",
    "`print()` is a generic R command that prints the contents of an object.\n",
    "\n",
    "Minimum, Maximum etc. cannot be calculated for factor data. \n",
    "So let's create a new datframe called numeric_data with horsepower as numeric type variable.\n",
    "We will also exclude car.name."
   ]
  },
  {
   "cell_type": "code",
   "execution_count": 30,
   "metadata": {
    "collapsed": true
   },
   "outputs": [],
   "source": [
    "                       # ncol is a function to return the number of columns\n",
    "numeric_data=auto_mpg[-ncol(auto_mpg)] # take all columns exect the last column\n",
    "numeric_data$horsepower = as.numeric(numeric_data$horsepower) # Convert the horsepower"
   ]
  },
  {
   "cell_type": "code",
   "execution_count": 31,
   "metadata": {},
   "outputs": [
    {
     "name": "stdout",
     "output_type": "stream",
     "text": [
      "[1] \"         Column    Maximum    Minimum     Median        Mean Absolute Deviation\"\n",
      "[1] \"            mpg       46.6        9.0       23.0        8.9\"\n",
      "[1] \"      cylinders        8.0        3.0        4.0        0.0\"\n",
      "[1] \"   displacement      455.0       68.0      148.5       86.7\"\n",
      "[1] \"     horsepower       94.0        1.0       60.5       35.6\"\n",
      "[1] \"         weight     5140.0     1613.0     2803.5      945.2\"\n",
      "[1] \"   acceleration       24.8        8.0       15.5        2.5\"\n",
      "[1] \"     model.year       82.0       70.0       76.0        4.4\"\n",
      "[1] \"         origin        3.0        1.0        1.0        0.0\"\n"
     ]
    }
   ],
   "source": [
    "print(sprintf(\"%15s %10s %10s %10s %30s\",\"Column\", \"Maximum\", \"Minimum\", \"Median\",\"Mean Absolute Deviation\"))\n",
    "for(i in 1:ncol(numeric_data))\n",
    "{\n",
    "    print(sprintf(\"%15s %10.1f %10.1f %10.1f %10.1f\", \n",
    "                  names(numeric_data[i]), \n",
    "                  max(numeric_data[,i]), \n",
    "                  min(numeric_data[,i]), \n",
    "                  median(numeric_data[,i]), \n",
    "                  mad(numeric_data[,i])\n",
    "                 )) \n",
    "}"
   ]
  },
  {
   "cell_type": "markdown",
   "metadata": {},
   "source": [
    "The output of the cell above is inefficient but intuitive. \n",
    "We will do the same job in a more efficient fashion using the apply() command.  \n",
    "Here the \"2\" refers to columns in the x array; a \"1\" would refer to rows.\n",
    "This is because rows are the _first index_ and columns are the _second index_."
   ]
  },
  {
   "cell_type": "code",
   "execution_count": 32,
   "metadata": {},
   "outputs": [
    {
     "data": {
      "text/html": [
       "<table>\n",
       "<thead><tr><th></th><th scope=col>Max</th><th scope=col>Min</th><th scope=col>Median</th><th scope=col>Mean_Absolute_Deviation</th></tr></thead>\n",
       "<tbody>\n",
       "\t<tr><th scope=row>mpg</th><td>  46.6   </td><td>   9     </td><td>  23.0   </td><td>  8.89560</td></tr>\n",
       "\t<tr><th scope=row>cylinders</th><td>   8.0   </td><td>   3     </td><td>   4.0   </td><td>  0.00000</td></tr>\n",
       "\t<tr><th scope=row>displacement</th><td> 455.0   </td><td>  68     </td><td> 148.5   </td><td> 86.73210</td></tr>\n",
       "\t<tr><th scope=row>horsepower</th><td>  94.0   </td><td>   1     </td><td>  60.5   </td><td> 35.58240</td></tr>\n",
       "\t<tr><th scope=row>weight</th><td>5140.0   </td><td>1613     </td><td>2803.5   </td><td>945.15750</td></tr>\n",
       "\t<tr><th scope=row>acceleration</th><td>  24.8   </td><td>   8     </td><td>  15.5   </td><td>  2.52042</td></tr>\n",
       "\t<tr><th scope=row>model.year</th><td>  82.0   </td><td>  70     </td><td>  76.0   </td><td>  4.44780</td></tr>\n",
       "\t<tr><th scope=row>origin</th><td>   3.0   </td><td>   1     </td><td>   1.0   </td><td>  0.00000</td></tr>\n",
       "</tbody>\n",
       "</table>\n"
      ],
      "text/latex": [
       "\\begin{tabular}{r|llll}\n",
       "  & Max & Min & Median & Mean\\_Absolute\\_Deviation\\\\\n",
       "\\hline\n",
       "\tmpg &   46.6    &    9      &   23.0    &   8.89560\\\\\n",
       "\tcylinders &    8.0    &    3      &    4.0    &   0.00000\\\\\n",
       "\tdisplacement &  455.0    &   68      &  148.5    &  86.73210\\\\\n",
       "\thorsepower &   94.0    &    1      &   60.5    &  35.58240\\\\\n",
       "\tweight & 5140.0    & 1613      & 2803.5    & 945.15750\\\\\n",
       "\tacceleration &   24.8    &    8      &   15.5    &   2.52042\\\\\n",
       "\tmodel.year &   82.0    &   70      &   76.0    &   4.44780\\\\\n",
       "\torigin &    3.0    &    1      &    1.0    &   0.00000\\\\\n",
       "\\end{tabular}\n"
      ],
      "text/markdown": [
       "\n",
       "| <!--/--> | Max | Min | Median | Mean_Absolute_Deviation | \n",
       "|---|---|---|---|---|---|---|---|\n",
       "| mpg |   46.6    |    9      |   23.0    |   8.89560 | \n",
       "| cylinders |    8.0    |    3      |    4.0    |   0.00000 | \n",
       "| displacement |  455.0    |   68      |  148.5    |  86.73210 | \n",
       "| horsepower |   94.0    |    1      |   60.5    |  35.58240 | \n",
       "| weight | 5140.0    | 1613      | 2803.5    | 945.15750 | \n",
       "| acceleration |   24.8    |    8      |   15.5    |   2.52042 | \n",
       "| model.year |   82.0    |   70      |   76.0    |   4.44780 | \n",
       "| origin |    3.0    |    1      |    1.0    |   0.00000 | \n",
       "\n",
       "\n"
      ],
      "text/plain": [
       "             Max    Min  Median Mean_Absolute_Deviation\n",
       "mpg            46.6    9   23.0   8.89560              \n",
       "cylinders       8.0    3    4.0   0.00000              \n",
       "displacement  455.0   68  148.5  86.73210              \n",
       "horsepower     94.0    1   60.5  35.58240              \n",
       "weight       5140.0 1613 2803.5 945.15750              \n",
       "acceleration   24.8    8   15.5   2.52042              \n",
       "model.year     82.0   70   76.0   4.44780              \n",
       "origin          3.0    1    1.0   0.00000              "
      ]
     },
     "metadata": {},
     "output_type": "display_data"
    }
   ],
   "source": [
    "cbind(Max=apply(numeric_data, 2, max), \n",
    "      Min=apply(numeric_data, 2, min), \n",
    "      Median=apply(numeric_data, 2, median), \n",
    "      Mean_Absolute_Deviation=apply(numeric_data, 2, mad))"
   ]
  },
  {
   "cell_type": "markdown",
   "metadata": {},
   "source": [
    "What does the `cbind()` function do?\n",
    "When you see functions used and you want more information, you can use the `help()` function to ask the R environment.\n",
    "\n",
    "In a similar fashion you can read the documentation of the `apply()` function as well."
   ]
  },
  {
   "cell_type": "code",
   "execution_count": 33,
   "metadata": {
    "collapsed": true
   },
   "outputs": [],
   "source": [
    "help(cbind)"
   ]
  },
  {
   "cell_type": "markdown",
   "metadata": {},
   "source": [
    "## Variables in R\n",
    "\n",
    "In statistical inference, there are basically two treatments of variables in a dataset, **Dependent** and **Independent** variables. \n",
    "The independent variables are used to predict the dependent variable's outcome. \n",
    "For example, in our auto-mpg dataset the variable 'mpg' can be dependent, i.e., it can be predicted by other variables in the dataset.  \n",
    "\n",
    "The variables often share a correlation among themselves. \n",
    "For example, the displacement of a vehicle might be correlated to mpg. \n",
    "Small vehicles tend to have more miles per gallon compared to big vehicles with low miles per gallon. \n",
    "A correlation between a dependent variable and an independent variable doesn't mean that independent variable is causing the changes in dependent variable. \n",
    "Dependent variables change according to independent variable but aren't necessarily caused by them. \n",
    "\n",
    "### Types of Variables:\n",
    "\n",
    "The most important distinction between variables is if they are either qualitative or quantitative. \n",
    "\n",
    "**Qualitative variables:** Variables that express a qualitative attribute such as religion, favorite movie, gender, and so on fall into this category. They are sometimes referred to as categorical or nominal variables. \n",
    "\n",
    "**Quantitative variables:** Variables that are measured in terms of numbers. \n",
    "Some examples are height, weight, and shoe size.\n",
    "\n",
    "Generally speaking, when the variable has a numeric value, we call it quantitative data. When you classify something, we call it qualitative data."
   ]
  },
  {
   "cell_type": "markdown",
   "metadata": {},
   "source": [
    "\n",
    "##### Flavors of Quantitative data:\n",
    "\n",
    "**Discrete variables: ** Some measures in data are discrete and cannot be made more precise. \n",
    "For example, number of children in a family is discrete, because you are counting indivisible entities. \n",
    "You can't have 2.5 kids or 1.3 pets.\n",
    "\n",
    "**Continuous data: ** Data can be reduced to finer levels or we can say it is continuous in nature. \n",
    "For example, you can measure the weight of yourself at different precise scales—kilograms, grams, milligrams and beyond. \n",
    "\n",
    "\n",
    "### Levels of measurement\n",
    "\n",
    "Both qualitative and quantitative variables follow levels of measurement. \n",
    "There are 4 levels: nominal, ordinal, interval and ratio scaled. \n",
    "\n",
    "**nominal:** Example : car.name - since it just has car names has its values. \n",
    "More examples could be marital status, gender, religious affliation, etc.\n",
    "\n",
    "**ordinal:** Example : cylinders - increase in the number of cylinders in a car means higher horsepower. \n",
    "Number of cylinders in cars have an order. \n",
    "More examples could be ranking of soldiers, grade a student belongs to, etc.\n",
    "\n",
    "**interval: ** We can classify acceleration as an interval scaled variable. \n",
    "For example, 10-11 or 11-12 are intervals.\n",
    "More examples could be temperature, I.Q, etc. \n",
    "\n",
    "**ratio:** We don't have a ratio scaled variable in the auto_mpg dataset. \n",
    "An example of a ratio scaled variable could be daily calorie intake or GPA score. \n",
    "\n",
    "These levels are explained in further detail in the [statistics online text book](http://onlinestatbook.com/2/introduction/levels_of_measurement.html). \n",
    "We will explore the concepts with the  _auto_mpg_ dataset columns and classify them into different kinds of variables."
   ]
  },
  {
   "cell_type": "code",
   "execution_count": 34,
   "metadata": {},
   "outputs": [
    {
     "data": {
      "text/plain": [
       "      mpg          cylinders      displacement     horsepower      weight    \n",
       " Min.   : 9.00   Min.   :3.000   Min.   : 68.0   150.0  : 22   Min.   :1613  \n",
       " 1st Qu.:17.50   1st Qu.:4.000   1st Qu.:104.2   90.00  : 20   1st Qu.:2224  \n",
       " Median :23.00   Median :4.000   Median :148.5   88.00  : 19   Median :2804  \n",
       " Mean   :23.51   Mean   :5.455   Mean   :193.4   110.0  : 18   Mean   :2970  \n",
       " 3rd Qu.:29.00   3rd Qu.:8.000   3rd Qu.:262.0   100.0  : 17   3rd Qu.:3608  \n",
       " Max.   :46.60   Max.   :8.000   Max.   :455.0   75.00  : 14   Max.   :5140  \n",
       "                                                 (Other):288                 \n",
       "  acceleration     model.year        origin                car.name  \n",
       " Min.   : 8.00   Min.   :70.00   Min.   :1.000   ford pinto    :  6  \n",
       " 1st Qu.:13.82   1st Qu.:73.00   1st Qu.:1.000   amc matador   :  5  \n",
       " Median :15.50   Median :76.00   Median :1.000   ford maverick :  5  \n",
       " Mean   :15.57   Mean   :76.01   Mean   :1.573   toyota corolla:  5  \n",
       " 3rd Qu.:17.18   3rd Qu.:79.00   3rd Qu.:2.000   amc gremlin   :  4  \n",
       " Max.   :24.80   Max.   :82.00   Max.   :3.000   amc hornet    :  4  \n",
       "                                                 (Other)       :369  "
      ]
     },
     "metadata": {},
     "output_type": "display_data"
    }
   ],
   "source": [
    "summary(auto_mpg)"
   ]
  },
  {
   "cell_type": "code",
   "execution_count": 35,
   "metadata": {},
   "outputs": [
    {
     "name": "stdout",
     "output_type": "stream",
     "text": [
      "'data.frame':\t398 obs. of  9 variables:\n",
      " $ mpg         : num  18 15 18 16 17 15 14 14 14 15 ...\n",
      " $ cylinders   : int  8 8 8 8 8 8 8 8 8 8 ...\n",
      " $ displacement: num  307 350 318 304 302 429 454 440 455 390 ...\n",
      " $ horsepower  : Factor w/ 94 levels \"?    \",\"100.0\",..: 17 35 29 29 24 42 47 46 48 40 ...\n",
      " $ weight      : int  3504 3693 3436 3433 3449 4341 4354 4312 4425 3850 ...\n",
      " $ acceleration: num  12 11.5 11 12 10.5 10 9 8.5 10 8.5 ...\n",
      " $ model.year  : int  70 70 70 70 70 70 70 70 70 70 ...\n",
      " $ origin      : int  1 1 1 1 1 1 1 1 1 1 ...\n",
      " $ car.name    : Factor w/ 305 levels \"amc ambassador brougham\",..: 50 37 232 15 162 142 55 224 242 2 ...\n"
     ]
    }
   ],
   "source": [
    "str(auto_mpg)"
   ]
  },
  {
   "cell_type": "markdown",
   "metadata": {},
   "source": [
    "From the above summary and structure of data we can identify what kind of variable each one is!\n",
    "\n",
    "mpg - quantitative[continuous] : \n",
    "\n",
    "      mpg data is numeric and continuous in nature.\n",
    "\n",
    "cylinders - quantitative[discrete] : \n",
    "\n",
    "      cylinders data is integer type and is discrete in nature.\n",
    "\n",
    "displacement - quantitative[continuous] : \n",
    "\n",
    "      Displacement data is numeric and continuous in nature.\n",
    "\n",
    "horsepower - quantitative[discrete] : \n",
    "\n",
    "      Horsepower data is factor type and discrete in nature.\n",
    "\n",
    "weight - quantitative[continuous] : \n",
    "\n",
    "      Weight data is numeric and continuous in nature.\n",
    "\n",
    "acceleration - quantitative[continuous] : \n",
    "\n",
    "      Acceleration data is numeric and continuous in nature.\n",
    "\n",
    "model.year - quantitative[discrete] : \n",
    "\n",
    "      model.year data is numeric and is discrete with values ranging from 70 through 82.\n",
    "\n",
    "origin - quantitative[discrete] : \n",
    "\n",
    "      origin data is integer type and it's discrete in nature with levels 1, 2, 3.\n",
    "\n",
    "car.name - qualitative[nominal] : \n",
    "\n",
    "      Car names are nominal. So, it is qualitative data. \n",
    "\n",
    "For variables origin, model.year, and cylinders the summary() doesn't give enough information to classify them as continuous or discrete. \n",
    "You should explore the data and see the values in the dataset to characterize their level of measurement.  "
   ]
  },
  {
   "cell_type": "markdown",
   "metadata": {},
   "source": [
    "## This concludes part A of the introductory statistics lab.  \n",
    "\n",
    "### Please take a break, then continue with [Part B](./1_lab1_intro_to_stats_ptB.ipynb)\n",
    "\n"
   ]
  }
 ],
 "metadata": {
  "kernelspec": {
   "display_name": "R",
   "language": "R",
   "name": "ir"
  },
  "language_info": {
   "codemirror_mode": "r",
   "file_extension": ".r",
   "mimetype": "text/x-r-source",
   "name": "R",
   "pygments_lexer": "r",
   "version": "3.4.0"
  }
 },
 "nbformat": 4,
 "nbformat_minor": 1
}
