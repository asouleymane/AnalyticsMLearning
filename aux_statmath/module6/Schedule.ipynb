{
 "cells": [
  {
   "cell_type": "markdown",
   "metadata": {},
   "source": [
    "# Module 6: Classification\n",
    "\n",
    "\n",
    "## Topics covered\n",
    "\n",
    "\n",
    "* Classification (sections 4.1 - 4.3 of ISLR book)\n",
    "    * An Overview of Classification\n",
    "    * Why Not Linear Regression\n",
    "    * Logistic Regression Revisited\n",
    "    * Graphical Explanation of Logistic Regression\n",
    "    * The Logistic Model (mathematical explanation)\n",
    "    * Estimating the Regression Coefficients\n",
    "    * Making Predictions\n",
    "    * Multiple Logistic Regression\n",
    "    * Logistic Regresion for >2 Response Classes\n",
    "* Linear Classifiers\n",
    "    * LDA (sections 4.4.1 & 4.4.2 of ISLR book)\n",
    "    * SVM (section 9.3 of ISLR book)\n",
    "* Decision Trees (section 8.3 of ISLR book)\n",
    "* Random Forests\n",
    "\n",
    "\n",
    "## Readings\n",
    "The following is the suggested additional reading for above topics.\n",
    "\n",
    "Introduction to Statistical Learning using R (linked in Canvas)\n",
    " - Chapter 4: Classification \n",
    " - Chapter 8: Tree-Based Methods\n",
    " - Chapter 9: Support Vector Machines \n"
   ]
  },
  {
   "cell_type": "markdown",
   "metadata": {},
   "source": [
    "\n",
    "## Labs\n",
    "  - [Logistic_Regression](./labs/Logistic_Regression.ipynb)\n",
    "  - [Linear_Discriminant_Analysis](./labs/Linear_Discriminant_Analysis.ipynb)\n",
    "  - [Support_Vector_Classifier](./labs/Support_Vector_Classifier.ipynb)\n",
    "  - [Support_Vector_Machines](./labs/Support_Vector_Machines.ipynb)\n",
    "  - [Decision Tress for Regression](./labs/Decision_Tress_Regression.ipynb)\n",
    "  - [Decision Trees for Classification](./labs/Decision_Trees_Classification.ipynb)\n",
    "  - [Random Forests](./labs/Random_Forests.ipynb)\n",
    "\n",
    "\n",
    "## Practice Examples  \n",
    "  - [Logistic_Regression](./practices/Logistic_Regression.ipynb)\n",
    "  - [Linear_Discriminant_Analysis](./practices/Linear_Discriminant_Analysis.ipynb)\n",
    "  - [Support Vector Machines](./practices/Support_Vector_Machine.ipynb)\n",
    "\n",
    "\n",
    "## Exercises\n",
    "  - [Exercises](./exercises/Exercises_Classification.ipynb)"
   ]
  },
  {
   "cell_type": "markdown",
   "metadata": {},
   "source": [
    "## Submitting your work\n",
    "\n",
    "#### Steps:\n",
    "  1. Open Terminal in JupyterHub\n",
    "  1. Change into the course folder\n",
    "  1. Stage (Git Add) the module's practive and exercise work   \n",
    "  `git  add   module6/practices    module6/exercises`\n",
    "  1. Create your work snapshot (Git Commit)  \n",
    "  `git   commit   -m   \"Module 6 submission\"`\n",
    "  1. Upload the snapshot to the server (Git Push)  \n",
    " \n"
   ]
  },
  {
   "cell_type": "markdown",
   "metadata": {},
   "source": [
    "# Congratulations, you have completed the learning activities for this module!\n"
   ]
  }
 ],
 "metadata": {
  "kernelspec": {
   "display_name": "Python 3",
   "language": "python",
   "name": "python3"
  },
  "language_info": {
   "codemirror_mode": {
    "name": "ipython",
    "version": 3
   },
   "file_extension": ".py",
   "mimetype": "text/x-python",
   "name": "python",
   "nbconvert_exporter": "python",
   "pygments_lexer": "ipython3",
   "version": "3.4.5"
  }
 },
 "nbformat": 4,
 "nbformat_minor": 1
}
