{
 "cells": [
  {
   "cell_type": "markdown",
   "metadata": {},
   "source": [
    "# Module 3: Feature extraction - Practice\n",
    "\n",
    "In this session you will practice feature extraction with **Principal Componentent Analysis**\n",
    "and **Factor Analysis**.\n",
    "\n",
    "We are going to use **titanic** dataset.\n",
    "\n",
    "sklearn API reference:\n",
    "\n",
    "+ [sklearn.decomposition.PCA](http://scikit-learn.org/stable/modules/generated/sklearn.decomposition.PCA.html)\n",
    "+ [sklearn.decomposition.FactorAnalysis](http://scikit-learn.org/stable/modules/generated/sklearn.decomposition.FactorAnalysis.html)"
   ]
  },
  {
   "cell_type": "code",
   "execution_count": 1,
   "metadata": {
    "collapsed": true
   },
   "outputs": [],
   "source": [
    "%matplotlib inline\n",
    "import matplotlib.pyplot as plt\n",
    "\n",
    "import os, sys\n",
    "import numpy as np\n",
    "import pandas as pd\n",
    "from sklearn.decomposition import PCA\n",
    "from sklearn.decomposition import FactorAnalysis\n",
    "from sklearn.preprocessing import scale\n",
    "\n",
    "from scipy.stats import pearsonr\n",
    "\n",
    "np.random.seed(18937)"
   ]
  },
  {
   "cell_type": "markdown",
   "metadata": {},
   "source": [
    "## Load dataset"
   ]
  },
  {
   "cell_type": "code",
   "execution_count": 2,
   "metadata": {},
   "outputs": [
    {
     "data": {
      "text/html": [
       "<div>\n",
       "<style>\n",
       "    .dataframe thead tr:only-child th {\n",
       "        text-align: right;\n",
       "    }\n",
       "\n",
       "    .dataframe thead th {\n",
       "        text-align: left;\n",
       "    }\n",
       "\n",
       "    .dataframe tbody tr th {\n",
       "        vertical-align: top;\n",
       "    }\n",
       "</style>\n",
       "<table border=\"1\" class=\"dataframe\">\n",
       "  <thead>\n",
       "    <tr style=\"text-align: right;\">\n",
       "      <th></th>\n",
       "      <th>pclass</th>\n",
       "      <th>sex</th>\n",
       "      <th>age</th>\n",
       "      <th>sibsp</th>\n",
       "      <th>parch</th>\n",
       "      <th>fare</th>\n",
       "      <th>embarked</th>\n",
       "      <th>survived</th>\n",
       "    </tr>\n",
       "  </thead>\n",
       "  <tbody>\n",
       "    <tr>\n",
       "      <th>count</th>\n",
       "      <td>890.000000</td>\n",
       "      <td>890.000000</td>\n",
       "      <td>890.000000</td>\n",
       "      <td>890.000000</td>\n",
       "      <td>890.000000</td>\n",
       "      <td>890.000000</td>\n",
       "      <td>890.000000</td>\n",
       "      <td>890.000000</td>\n",
       "    </tr>\n",
       "    <tr>\n",
       "      <th>mean</th>\n",
       "      <td>2.312360</td>\n",
       "      <td>0.642697</td>\n",
       "      <td>29.548697</td>\n",
       "      <td>0.503371</td>\n",
       "      <td>0.351685</td>\n",
       "      <td>32.865772</td>\n",
       "      <td>0.895506</td>\n",
       "      <td>0.389888</td>\n",
       "    </tr>\n",
       "    <tr>\n",
       "      <th>std</th>\n",
       "      <td>0.837241</td>\n",
       "      <td>0.479475</td>\n",
       "      <td>13.379025</td>\n",
       "      <td>1.095286</td>\n",
       "      <td>0.790069</td>\n",
       "      <td>52.639685</td>\n",
       "      <td>0.529535</td>\n",
       "      <td>0.487999</td>\n",
       "    </tr>\n",
       "    <tr>\n",
       "      <th>min</th>\n",
       "      <td>1.000000</td>\n",
       "      <td>0.000000</td>\n",
       "      <td>0.170000</td>\n",
       "      <td>0.000000</td>\n",
       "      <td>0.000000</td>\n",
       "      <td>0.000000</td>\n",
       "      <td>0.000000</td>\n",
       "      <td>0.000000</td>\n",
       "    </tr>\n",
       "    <tr>\n",
       "      <th>25%</th>\n",
       "      <td>2.000000</td>\n",
       "      <td>0.000000</td>\n",
       "      <td>21.000000</td>\n",
       "      <td>0.000000</td>\n",
       "      <td>0.000000</td>\n",
       "      <td>7.895800</td>\n",
       "      <td>1.000000</td>\n",
       "      <td>0.000000</td>\n",
       "    </tr>\n",
       "    <tr>\n",
       "      <th>50%</th>\n",
       "      <td>3.000000</td>\n",
       "      <td>1.000000</td>\n",
       "      <td>28.000000</td>\n",
       "      <td>0.000000</td>\n",
       "      <td>0.000000</td>\n",
       "      <td>13.775000</td>\n",
       "      <td>1.000000</td>\n",
       "      <td>0.000000</td>\n",
       "    </tr>\n",
       "    <tr>\n",
       "      <th>75%</th>\n",
       "      <td>3.000000</td>\n",
       "      <td>1.000000</td>\n",
       "      <td>37.000000</td>\n",
       "      <td>1.000000</td>\n",
       "      <td>0.000000</td>\n",
       "      <td>29.925000</td>\n",
       "      <td>1.000000</td>\n",
       "      <td>1.000000</td>\n",
       "    </tr>\n",
       "    <tr>\n",
       "      <th>max</th>\n",
       "      <td>3.000000</td>\n",
       "      <td>1.000000</td>\n",
       "      <td>80.000000</td>\n",
       "      <td>8.000000</td>\n",
       "      <td>9.000000</td>\n",
       "      <td>512.329200</td>\n",
       "      <td>2.000000</td>\n",
       "      <td>1.000000</td>\n",
       "    </tr>\n",
       "  </tbody>\n",
       "</table>\n",
       "</div>"
      ],
      "text/plain": [
       "           pclass         sex         age       sibsp       parch        fare  \\\n",
       "count  890.000000  890.000000  890.000000  890.000000  890.000000  890.000000   \n",
       "mean     2.312360    0.642697   29.548697    0.503371    0.351685   32.865772   \n",
       "std      0.837241    0.479475   13.379025    1.095286    0.790069   52.639685   \n",
       "min      1.000000    0.000000    0.170000    0.000000    0.000000    0.000000   \n",
       "25%      2.000000    0.000000   21.000000    0.000000    0.000000    7.895800   \n",
       "50%      3.000000    1.000000   28.000000    0.000000    0.000000   13.775000   \n",
       "75%      3.000000    1.000000   37.000000    1.000000    0.000000   29.925000   \n",
       "max      3.000000    1.000000   80.000000    8.000000    9.000000  512.329200   \n",
       "\n",
       "         embarked    survived  \n",
       "count  890.000000  890.000000  \n",
       "mean     0.895506    0.389888  \n",
       "std      0.529535    0.487999  \n",
       "min      0.000000    0.000000  \n",
       "25%      1.000000    0.000000  \n",
       "50%      1.000000    0.000000  \n",
       "75%      1.000000    1.000000  \n",
       "max      2.000000    1.000000  "
      ]
     },
     "execution_count": 2,
     "metadata": {},
     "output_type": "execute_result"
    }
   ],
   "source": [
    "# Dataset location\n",
    "DATASET = '/dsa/data/all_datasets/titanic_ML/titanic.csv'\n",
    "assert os.path.exists(DATASET)\n",
    "\n",
    "# Load and shuffle\n",
    "dataset = pd.read_csv(DATASET).sample(frac = 1).reset_index(drop=True)\n",
    "dataset.describe()"
   ]
  },
  {
   "cell_type": "markdown",
   "metadata": {},
   "source": [
    "Create variable **X** and **y** and pull features and labels respectively."
   ]
  },
  {
   "cell_type": "code",
   "execution_count": 4,
   "metadata": {
    "collapsed": true
   },
   "outputs": [],
   "source": [
    "# Complete code below this comment \n",
    "# ----------------------------------\n",
    "X = np.array(dataset.iloc[:,:-1])\n",
    "y = np.array(dataset.survived)"
   ]
  },
  {
   "cell_type": "markdown",
   "metadata": {},
   "source": [
    "**Initialize** and **fit** both a PCA and a FactorAnalysis feature extractors <span style=\"background: yellow\">with 5 components</span>."
   ]
  },
  {
   "cell_type": "code",
   "execution_count": 5,
   "metadata": {},
   "outputs": [
    {
     "data": {
      "text/plain": [
       "FactorAnalysis(copy=True, iterated_power=3, max_iter=1000, n_components=5,\n",
       "        noise_variance_init=None, random_state=0, svd_method='randomized',\n",
       "        tol=0.01)"
      ]
     },
     "execution_count": 5,
     "metadata": {},
     "output_type": "execute_result"
    }
   ],
   "source": [
    "# Complete your code below this comment for PCA\n",
    "# ----------------------------------\n",
    "pca = PCA(n_components=5)\n",
    "pca.fit(X)\n",
    "\n",
    "# Complete your code below this comment for FA\n",
    "# ----------------------------------\n",
    "fa = FactorAnalysis(n_components=5)\n",
    "fa.fit(X)"
   ]
  },
  {
   "cell_type": "markdown",
   "metadata": {},
   "source": [
    "## Print explained variance ratio for each"
   ]
  },
  {
   "cell_type": "code",
   "execution_count": 6,
   "metadata": {},
   "outputs": [
    {
     "name": "stdout",
     "output_type": "stream",
     "text": [
      "PCA [  9.40387759e-01   5.87406060e-02   4.21984854e-04   1.56438754e-04\n",
      "   1.46031870e-04]\n"
     ]
    }
   ],
   "source": [
    "# Complete code below this comment for PCA\n",
    "# ----------------------------------\n",
    "print('PCA', pca.explained_variance_ratio_)"
   ]
  },
  {
   "cell_type": "code",
   "execution_count": 7,
   "metadata": {},
   "outputs": [
    {
     "name": "stdout",
     "output_type": "stream",
     "text": [
      "FA [  9.40048739e-01   5.84015698e-02   1.99209172e-04   5.59455086e-05\n",
      "   2.96715012e-05]\n"
     ]
    }
   ],
   "source": [
    "# Complete code below this comment for FA\n",
    "# ----------------------------------\n",
    "def FA_explained_variance_ratio(fa):\n",
    "    fa.explained_variance_ = np.flip(np.sort(np.sum(fa.components_**2, axis=1)), axis=0)\n",
    "    total_variance = np.sum(fa.explained_variance_) + np.sum(fa.noise_variance_)\n",
    "    fa.explained_variance_ratio_ = fa.explained_variance_ / total_variance\n",
    "\n",
    "FA_explained_variance_ratio(fa)\n",
    "print('FA', fa.explained_variance_ratio_)"
   ]
  },
  {
   "cell_type": "markdown",
   "metadata": {},
   "source": [
    "## Compute correlation coefficient for extracted features\n",
    "\n",
    "1) Use [scipy.stats.pearsonr()](https://docs.scipy.org/doc/scipy/reference/generated/scipy.stats.pearsonr.html)"
   ]
  },
  {
   "cell_type": "code",
   "execution_count": 8,
   "metadata": {},
   "outputs": [
    {
     "data": {
      "text/plain": [
       "(890, 5)"
      ]
     },
     "execution_count": 8,
     "metadata": {},
     "output_type": "execute_result"
    }
   ],
   "source": [
    "X_PCA = pca.transform(X)\n",
    "X_PCA.shape"
   ]
  },
  {
   "cell_type": "code",
   "execution_count": 9,
   "metadata": {},
   "outputs": [
    {
     "name": "stdout",
     "output_type": "stream",
     "text": [
      "[0.24872661824798264, -0.1005517603801484, -0.094401552494738833, -0.1227412227902883, 0.2531771113352333]\n",
      "[0.24883090257942506, -0.10041907651994385, -0.011046190976886843, -0.24840054259671859, -0.46894764240495157]\n"
     ]
    }
   ],
   "source": [
    "# Complete code below this comment for PCA\n",
    "# ----------------------------------\n",
    "X_PCA = pca.transform(X)\n",
    "print([pearsonr(X_PCA[:,i],y)[0] for i in range(X_PCA.shape[1])])\n",
    "\n",
    "# Add code below this comment for FA\n",
    "# ----------------------------------\n",
    "\n",
    "X_FA = fa.transform(X)\n",
    "print([pearsonr(X_FA[:,i],y)[0] for i in range(X_FA.shape[1])])\n"
   ]
  },
  {
   "cell_type": "markdown",
   "metadata": {},
   "source": [
    "2) We encourage you to attempt the same using the following equation, where j is index for features.\n",
    "\n",
    "$$ r_j = \\frac{\\sigma_{X_j y}}{\\sigma_{X_j} \\sigma_y} = \\frac{(y-\\bar y)^T (X_j-\\bar {X_j})}{\\lVert X_j-\\bar {X_j}\\rVert \\cdot \\lVert y-\\bar y\\rVert} = cos \\measuredangle(X_j-\\bar {X_j}, y-\\bar y) $$\n",
    "\n",
    "**Tip**: _You could refer to labs for hints or make use of an implementation of the equation provided with **cosine(a,b)**._\n",
    "\n",
    "$(X-\\bar X)$ and $(y-\\bar y)$ are given as **X_centered** and **y_centered** respectively."
   ]
  },
  {
   "cell_type": "code",
   "execution_count": 10,
   "metadata": {},
   "outputs": [
    {
     "name": "stdout",
     "output_type": "stream",
     "text": [
      "[ 0.24872662 -0.10055176 -0.09440155 -0.12274122  0.25317711]\n"
     ]
    }
   ],
   "source": [
    "X_centered = scale(X_PCA, with_std = False)\n",
    "y_centered = scale(y.astype(float), with_std = False)\n",
    "\n",
    "# This is a function to compute cosine of the angle between two vectors.\n",
    "cosine = lambda a,b: np.dot(a, b) / (np.linalg.norm(a) * np.linalg.norm(b))\n",
    "\n",
    "# Add code below this comment for PCA only;\n",
    "# goal is to get close results to what previous cell did for PCA.\n",
    "# ----------------------------------\n",
    "\n",
    "corr = np.dot(y_centered,X_centered)/np.linalg.norm(X_centered,axis = 0)/np.linalg.norm(y_centered)\n",
    "print(corr)\n"
   ]
  },
  {
   "cell_type": "markdown",
   "metadata": {},
   "source": [
    "Is this a suitable use case of correlation? Why or why not?"
   ]
  },
  {
   "cell_type": "raw",
   "metadata": {},
   "source": [
    "# Add your answer below this comment\n",
    "the correlation looks pretty insignificant because they are all around zero which means the features are pretty uncorrelated.\n",
    "\n",
    "\n",
    "\n",
    "\n"
   ]
  },
  {
   "cell_type": "markdown",
   "metadata": {},
   "source": [
    "## Scree plot\n",
    "\n",
    "Create a scree plot for PCA's explained variance ratio below."
   ]
  },
  {
   "cell_type": "code",
   "execution_count": 11,
   "metadata": {},
   "outputs": [
    {
     "data": {
      "text/plain": [
       "[<matplotlib.lines.Line2D at 0x7fe5634569e8>]"
      ]
     },
     "execution_count": 11,
     "metadata": {},
     "output_type": "execute_result"
    },
    {
     "data": {
      "image/png": "[encoded data removed]",
      "text/plain": [
       "<matplotlib.figure.Figure at 0x7fe563456860>"
      ]
     },
     "metadata": {},
     "output_type": "display_data"
    }
   ],
   "source": [
    "x_ticks = np.arange(len(pca.components_))+1\n",
    "plt.xticks(x_ticks) # this enforces integers on the x-axis\n",
    "\n",
    "# Complete code below this comment for PCA\n",
    "# ----------------------------------\n",
    "plt.plot(x_ticks, pca.explained_variance_)"
   ]
  },
  {
   "cell_type": "markdown",
   "metadata": {},
   "source": [
    "Create a scree plot for FA's explained variance ratio below."
   ]
  },
  {
   "cell_type": "code",
   "execution_count": 12,
   "metadata": {},
   "outputs": [
    {
     "data": {
      "text/plain": [
       "[<matplotlib.lines.Line2D at 0x7fe5613f7860>]"
      ]
     },
     "execution_count": 12,
     "metadata": {},
     "output_type": "execute_result"
    },
    {
     "data": {
      "image/png": "[encoded data removed]",
      "text/plain": [
       "<matplotlib.figure.Figure at 0x7fe5613f7780>"
      ]
     },
     "metadata": {},
     "output_type": "display_data"
    }
   ],
   "source": [
    "x_ticks = np.arange(len(fa.components_))+1\n",
    "plt.xticks(x_ticks) # this enforces integers on the x-axis\n",
    "\n",
    "# Complete code below this comment for FA\n",
    "# ----------------------------------\n",
    "plt.plot(x_ticks, np.flip(np.sort(np.sum(fa.components_**2,axis=1)),axis=0))"
   ]
  },
  {
   "cell_type": "markdown",
   "metadata": {},
   "source": [
    "Plot both in the same figure below <span style=\"background: yellow;\">in log-scale</span>."
   ]
  },
  {
   "cell_type": "code",
   "execution_count": 13,
   "metadata": {},
   "outputs": [
    {
     "data": {
      "image/png": "[encoded data removed]",
      "text/plain": [
       "<matplotlib.figure.Figure at 0x7fe5613a7ac8>"
      ]
     },
     "metadata": {},
     "output_type": "display_data"
    }
   ],
   "source": [
    "# Complete code below this comment for FA\n",
    "# ----------------------------------\n",
    "x_ticks = np.arange(len(pca.components_))+1\n",
    "plt.xticks(x_ticks) # this enforces integers on the x-axis\n",
    "plt.plot(x_ticks, np.log(pca.explained_variance_), 'b')\n",
    "plt.plot(x_ticks, np.log(np.flip(np.sort(np.sum(fa.components_**2,axis=1)),axis=0)), 'r')\n",
    "plt.show()"
   ]
  },
  {
   "cell_type": "markdown",
   "metadata": {},
   "source": [
    "Which do you think performed better for this dataset? PCA or FA? What makes you think so?"
   ]
  },
  {
   "cell_type": "raw",
   "metadata": {},
   "source": [
    "# Add your answer below this comment\n",
    "# -----------------------------------\n",
    "\n",
    "It looks like pca has high variance then factor analysis therefore i believe it is better.\n",
    "\n"
   ]
  },
  {
   "cell_type": "markdown",
   "metadata": {},
   "source": [
    "## A case study\n",
    "\n",
    "Consider the following dataset, as visualized below if you run the cell."
   ]
  },
  {
   "cell_type": "code",
   "execution_count": 14,
   "metadata": {},
   "outputs": [
    {
     "data": {
      "text/plain": [
       "<matplotlib.collections.PathCollection at 0x7fe5612b50f0>"
      ]
     },
     "execution_count": 14,
     "metadata": {},
     "output_type": "execute_result"
    },
    {
     "data": {
      "image/png": "[encoded data removed]",
      "text/plain": [
       "<matplotlib.figure.Figure at 0x7fe5634633c8>"
      ]
     },
     "metadata": {},
     "output_type": "display_data"
    }
   ],
   "source": [
    "num_per_class = 120\n",
    "\n",
    "dataset2 = np.vstack([\n",
    "  np.hstack([np.random.multivariate_normal([0,5], [[3, 1], [1, 16]], num_per_class), np.zeros((num_per_class, 1))]),\n",
    "  np.hstack([np.random.multivariate_normal([5,0], [[3, 1], [1, 16]], num_per_class), np.ones((num_per_class, 1))])\n",
    "])\n",
    "\n",
    "np.random.shuffle(dataset2)\n",
    "\n",
    "plt.scatter(dataset2[:, 0], dataset2[:, 1], c=dataset2[:, 2])"
   ]
  },
  {
   "cell_type": "markdown",
   "metadata": {},
   "source": [
    "Do a PCA transform on this dataset, then store new features into <span style=\"background: yellow;\">variable named **dataset2_features**</span>, before running the following cell to plot transformed features.\n",
    "\n",
    "The **first 2 columns are features in this dataset**, while the 3rd column is label."
   ]
  },
  {
   "cell_type": "code",
   "execution_count": 22,
   "metadata": {},
   "outputs": [
    {
     "data": {
      "text/plain": [
       "<matplotlib.collections.PathCollection at 0x7fe5612406a0>"
      ]
     },
     "execution_count": 22,
     "metadata": {},
     "output_type": "execute_result"
    },
    {
     "data": {
      "image/png": "[encoded data removed]",
      "text/plain": [
       "<matplotlib.figure.Figure at 0x7fe561314be0>"
      ]
     },
     "metadata": {},
     "output_type": "display_data"
    }
   ],
   "source": [
    "# Complete code below this comment\n",
    "# ----------------------------------\n",
    "dataset2_PCA = PCA(n_components=3)\n",
    "dataset2_PCA.fit(dataset2)\n",
    "dataset2_features=dataset2_PCA.transform(dataset2)\n",
    "plt.scatter(dataset2_features[:, 0], dataset2_features[:, 1], c=dataset2[:, 2])"
   ]
  },
  {
   "cell_type": "markdown",
   "metadata": {},
   "source": [
    "Do you think PCA performed well on this dataset? What happened?"
   ]
  },
  {
   "cell_type": "raw",
   "metadata": {
    "collapsed": true
   },
   "source": [
    "# Add your answer below this comment\n",
    "# -----------------------------------\n",
    "I definitely believe it did well on this dataset at least visually.\n",
    "\n",
    "\n"
   ]
  },
  {
   "cell_type": "markdown",
   "metadata": {},
   "source": [
    "# Save your notebook!"
   ]
  }
 ],
 "metadata": {
  "kernelspec": {
   "display_name": "Python 3",
   "language": "python",
   "name": "python3"
  },
  "language_info": {
   "codemirror_mode": {
    "name": "ipython",
    "version": 3
   },
   "file_extension": ".py",
   "mimetype": "text/x-python",
   "name": "python",
   "nbconvert_exporter": "python",
   "pygments_lexer": "ipython3",
   "version": "3.4.5"
  }
 },
 "nbformat": 4,
 "nbformat_minor": 2
}
