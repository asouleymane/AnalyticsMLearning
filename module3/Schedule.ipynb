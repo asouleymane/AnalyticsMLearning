{
 "cells": [
  {
   "cell_type": "markdown",
   "metadata": {},
   "source": [
    "# 3 \n",
    "# Dimensionality Reduction for machine learnign models"
   ]
  },
  {
   "cell_type": "markdown",
   "metadata": {},
   "source": [
    "## Module Topics\n",
    "### Machine Learning Overview\n",
    "  * Feature Selection\n",
    "    * Forward Selection\n",
    "    * Backward Elimination\n",
    "    * Floating Selection\n",
    "    * Mutual Information\n",
    "  * Feature Extraction\n",
    "    * PCA\n",
    "    * Kernel Methods\n",
    "    * Factor Analysis\n"
   ]
  },
  {
   "cell_type": "markdown",
   "metadata": {},
   "source": [
    "## Readings\n",
    "\n",
    "<ul>\n",
    "<li><a href=\"https://en.wikipedia.org/wiki/Feature_selection\">Wikipedia: Feature Selection</a></li>\n",
    "<li>Scholarly<a href=\"http://www.jmlr.org/papers/volume3/guyon03a/guyon03a.pdf\"> Paper (2003)</a>, just browse for now and consider a longer term reference</li>\n",
    "<li><a href=\"https://coolstatsblog.com/2015/03/21/principal-component-analysis-explained/\">PCA Blog Post</a></li>\n",
    "<li><a href=\"http://www.statisticshowto.com/factor-analysis/\">Factor Analysis Explained</a></li>\n",
    "</ul>\n",
    "  \n",
    "  \n",
    "\n",
    " "
   ]
  },
  {
   "cell_type": "markdown",
   "metadata": {},
   "source": [
    "## Labs\n",
    "\n",
    "The goal of the labs this module are to refresh and further explore the use of feature reduction techniques.\n",
    "\n",
    "  * [Feature Selection](./labs/FeatureSelection.ipynb)\n",
    "  * [Principal Component Analysis](./labs/PCA.ipynb)\n",
    "  * [Factor Analysis](./labs/FactorAnalysis.ipynb)\n"
   ]
  },
  {
   "cell_type": "markdown",
   "metadata": {},
   "source": [
    "## Practices\n",
    "\n",
    "  * [Feature Selection](./practices/FeatureSelection.ipynb)\n",
    "  * [Feature Extraction](./practices/FeatureExtraction.ipynb)\n"
   ]
  },
  {
   "cell_type": "markdown",
   "metadata": {},
   "source": [
    "## Exercises\n",
    "\n",
    "  * [Dimensionality Reduction](./exercises/DimensionReduction.ipynb)\n"
   ]
  },
  {
   "cell_type": "markdown",
   "metadata": {},
   "source": [
    "## Submitting your work\n",
    "\n",
    "#### Steps:\n",
    "  1. Open Terminal in JupyterHub\n",
    "  1. Change into the course folder\n",
    "  1. Stage (Git Add) the module's practive and exercise work   \n",
    "  `git  add   module3/practices    module3/exercises`\n",
    "  1. Create your work snapshot (Git Commit)  \n",
    "  `git   commit   -m   \"Module 3 submission\"`\n",
    "  1. Upload the snapshot to the server (Git Push)  \n",
    "  `git   push`\n"
   ]
  },
  {
   "cell_type": "markdown",
   "metadata": {},
   "source": [
    "## Congratulations, you have completed the learning activities for this module!"
   ]
  }
 ],
 "metadata": {
  "kernelspec": {
   "display_name": "Python 3",
   "language": "python",
   "name": "python3"
  },
  "language_info": {
   "codemirror_mode": {
    "name": "ipython",
    "version": 3
   },
   "file_extension": ".py",
   "mimetype": "text/x-python",
   "name": "python",
   "nbconvert_exporter": "python",
   "pygments_lexer": "ipython3",
   "version": "3.4.5"
  }
 },
 "nbformat": 4,
 "nbformat_minor": 2
}
