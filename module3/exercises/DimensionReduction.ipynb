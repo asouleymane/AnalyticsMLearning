{
 "cells": [
  {
   "cell_type": "markdown",
   "metadata": {
    "collapsed": true
   },
   "source": [
    "# Module 3: Dimensionality reduction - Exercise\n",
    "\n",
    "In this session you will compare both **feature selection** and **feature extraction** for dimensionality reduction, \n",
    "but we will still use **Naive Bayes** model.\n",
    "We will apply these techniques to a real-world [HR Analytics dataset](https://www.kaggle.com/ludobenistant/hr-analytics).\n",
    "##### NOTE\n",
    "\n",
    "The goal is the get the best performance from the **Naive Bayes** model using feature reduction techniques. \n",
    "We can expect that a different model may be more suitable, \n",
    "however we want to only have a single moving part at a time so we will stay with Naive Bayes this week."
   ]
  },
  {
   "cell_type": "code",
   "execution_count": 53,
   "metadata": {
    "collapsed": true
   },
   "outputs": [],
   "source": [
    "%matplotlib inline\n",
    "import matplotlib.pyplot as plt\n",
    "\n",
    "import os, sys\n",
    "import numpy as np\n",
    "import pandas as pd\n",
    "np.random.seed(18937)\n",
    "\n",
    "# Add code below this comment\n",
    "# to import additional libraries\n",
    "# and classes\n",
    "from sklearn.naive_bayes import GaussianNB\n",
    "from sklearn.feature_selection import SelectKBest\n",
    "from sklearn.feature_selection import chi2\n",
    "from sklearn.feature_selection import f_regression\n",
    "from sklearn.feature_selection import mutual_info_classif\n",
    "from sklearn.feature_selection import RFE\n",
    "from sklearn.model_selection import train_test_split\n",
    "from sklearn.preprocessing import LabelBinarizer\n",
    "from sklearn.decomposition import PCA\n"
   ]
  },
  {
   "cell_type": "markdown",
   "metadata": {},
   "source": [
    "# Load dataset\n",
    "\n",
    "Load dataset into a DataFrame and shuffle."
   ]
  },
  {
   "cell_type": "code",
   "execution_count": 28,
   "metadata": {
    "collapsed": true
   },
   "outputs": [],
   "source": [
    "# Dataset location\n",
    "DATASET = '/dsa/data/all_datasets/HR_analytics.csv'\n",
    "assert os.path.exists(DATASET)\n",
    "\n",
    "# Add code below this comment\n",
    "# ---------------------------\n",
    "dataset=pd.read_csv(DATASET,sep=',').sample(frac=1).reset_index(drop=True)\n",
    "\n",
    "\n"
   ]
  },
  {
   "cell_type": "markdown",
   "metadata": {},
   "source": [
    "Print top 5 rows of the dataset."
   ]
  },
  {
   "cell_type": "code",
   "execution_count": 29,
   "metadata": {},
   "outputs": [
    {
     "data": {
      "text/html": [
       "<div>\n",
       "<style>\n",
       "    .dataframe thead tr:only-child th {\n",
       "        text-align: right;\n",
       "    }\n",
       "\n",
       "    .dataframe thead th {\n",
       "        text-align: left;\n",
       "    }\n",
       "\n",
       "    .dataframe tbody tr th {\n",
       "        vertical-align: top;\n",
       "    }\n",
       "</style>\n",
       "<table border=\"1\" class=\"dataframe\">\n",
       "  <thead>\n",
       "    <tr style=\"text-align: right;\">\n",
       "      <th></th>\n",
       "      <th>satisfaction_level</th>\n",
       "      <th>last_evaluation</th>\n",
       "      <th>number_project</th>\n",
       "      <th>average_montly_hours</th>\n",
       "      <th>time_spend_company</th>\n",
       "      <th>Work_accident</th>\n",
       "      <th>left</th>\n",
       "      <th>promotion_last_5years</th>\n",
       "      <th>sales</th>\n",
       "      <th>salary</th>\n",
       "    </tr>\n",
       "  </thead>\n",
       "  <tbody>\n",
       "    <tr>\n",
       "      <th>0</th>\n",
       "      <td>0.85</td>\n",
       "      <td>0.90</td>\n",
       "      <td>5</td>\n",
       "      <td>202</td>\n",
       "      <td>3</td>\n",
       "      <td>0</td>\n",
       "      <td>0</td>\n",
       "      <td>0</td>\n",
       "      <td>IT</td>\n",
       "      <td>low</td>\n",
       "    </tr>\n",
       "    <tr>\n",
       "      <th>1</th>\n",
       "      <td>0.12</td>\n",
       "      <td>0.60</td>\n",
       "      <td>2</td>\n",
       "      <td>194</td>\n",
       "      <td>4</td>\n",
       "      <td>0</td>\n",
       "      <td>0</td>\n",
       "      <td>0</td>\n",
       "      <td>technical</td>\n",
       "      <td>medium</td>\n",
       "    </tr>\n",
       "    <tr>\n",
       "      <th>2</th>\n",
       "      <td>0.40</td>\n",
       "      <td>0.47</td>\n",
       "      <td>2</td>\n",
       "      <td>136</td>\n",
       "      <td>3</td>\n",
       "      <td>0</td>\n",
       "      <td>1</td>\n",
       "      <td>0</td>\n",
       "      <td>hr</td>\n",
       "      <td>medium</td>\n",
       "    </tr>\n",
       "    <tr>\n",
       "      <th>3</th>\n",
       "      <td>0.47</td>\n",
       "      <td>0.55</td>\n",
       "      <td>4</td>\n",
       "      <td>122</td>\n",
       "      <td>5</td>\n",
       "      <td>1</td>\n",
       "      <td>0</td>\n",
       "      <td>0</td>\n",
       "      <td>marketing</td>\n",
       "      <td>medium</td>\n",
       "    </tr>\n",
       "    <tr>\n",
       "      <th>4</th>\n",
       "      <td>0.89</td>\n",
       "      <td>0.65</td>\n",
       "      <td>5</td>\n",
       "      <td>195</td>\n",
       "      <td>6</td>\n",
       "      <td>0</td>\n",
       "      <td>1</td>\n",
       "      <td>0</td>\n",
       "      <td>support</td>\n",
       "      <td>low</td>\n",
       "    </tr>\n",
       "    <tr>\n",
       "      <th>5</th>\n",
       "      <td>0.80</td>\n",
       "      <td>0.83</td>\n",
       "      <td>4</td>\n",
       "      <td>183</td>\n",
       "      <td>2</td>\n",
       "      <td>1</td>\n",
       "      <td>0</td>\n",
       "      <td>1</td>\n",
       "      <td>support</td>\n",
       "      <td>low</td>\n",
       "    </tr>\n",
       "  </tbody>\n",
       "</table>\n",
       "</div>"
      ],
      "text/plain": [
       "   satisfaction_level  last_evaluation  number_project  average_montly_hours  \\\n",
       "0                0.85             0.90               5                   202   \n",
       "1                0.12             0.60               2                   194   \n",
       "2                0.40             0.47               2                   136   \n",
       "3                0.47             0.55               4                   122   \n",
       "4                0.89             0.65               5                   195   \n",
       "5                0.80             0.83               4                   183   \n",
       "\n",
       "   time_spend_company  Work_accident  left  promotion_last_5years      sales  \\\n",
       "0                   3              0     0                      0         IT   \n",
       "1                   4              0     0                      0  technical   \n",
       "2                   3              0     1                      0         hr   \n",
       "3                   5              1     0                      0  marketing   \n",
       "4                   6              0     1                      0    support   \n",
       "5                   2              1     0                      1    support   \n",
       "\n",
       "   salary  \n",
       "0     low  \n",
       "1  medium  \n",
       "2  medium  \n",
       "3  medium  \n",
       "4     low  \n",
       "5     low  "
      ]
     },
     "execution_count": 29,
     "metadata": {},
     "output_type": "execute_result"
    }
   ],
   "source": [
    "# Add code below this comment\n",
    "# ---------------------------\n",
    "\n",
    "dataset.iloc[:6]\n",
    "\n"
   ]
  },
  {
   "cell_type": "markdown",
   "metadata": {},
   "source": [
    "## Processing\n",
    "\n",
    "In the dataset, \"sales\" and \"salary\" are string columns,\n",
    "which need some proccessing before we can start feature selection/extraction.\n",
    "\n",
    "Play with following code and **add comments** to explain based on your understanding.\n",
    "Feel free to drop questions on disscussion board if you encounter difficulties."
   ]
  },
  {
   "cell_type": "code",
   "execution_count": 30,
   "metadata": {},
   "outputs": [
    {
     "data": {
      "text/html": [
       "<div>\n",
       "<style>\n",
       "    .dataframe thead tr:only-child th {\n",
       "        text-align: right;\n",
       "    }\n",
       "\n",
       "    .dataframe thead th {\n",
       "        text-align: left;\n",
       "    }\n",
       "\n",
       "    .dataframe tbody tr th {\n",
       "        vertical-align: top;\n",
       "    }\n",
       "</style>\n",
       "<table border=\"1\" class=\"dataframe\">\n",
       "  <thead>\n",
       "    <tr style=\"text-align: right;\">\n",
       "      <th></th>\n",
       "      <th>satisfaction_level</th>\n",
       "      <th>last_evaluation</th>\n",
       "      <th>number_project</th>\n",
       "      <th>average_montly_hours</th>\n",
       "      <th>time_spend_company</th>\n",
       "      <th>Work_accident</th>\n",
       "      <th>left</th>\n",
       "      <th>promotion_last_5years</th>\n",
       "      <th>sales</th>\n",
       "      <th>salary</th>\n",
       "      <th>salary_high</th>\n",
       "      <th>salary_low</th>\n",
       "      <th>salary_medium</th>\n",
       "    </tr>\n",
       "  </thead>\n",
       "  <tbody>\n",
       "    <tr>\n",
       "      <th>0</th>\n",
       "      <td>0.85</td>\n",
       "      <td>0.90</td>\n",
       "      <td>5</td>\n",
       "      <td>202</td>\n",
       "      <td>3</td>\n",
       "      <td>0</td>\n",
       "      <td>0</td>\n",
       "      <td>0</td>\n",
       "      <td>IT</td>\n",
       "      <td>low</td>\n",
       "      <td>0</td>\n",
       "      <td>1</td>\n",
       "      <td>0</td>\n",
       "    </tr>\n",
       "    <tr>\n",
       "      <th>1</th>\n",
       "      <td>0.12</td>\n",
       "      <td>0.60</td>\n",
       "      <td>2</td>\n",
       "      <td>194</td>\n",
       "      <td>4</td>\n",
       "      <td>0</td>\n",
       "      <td>0</td>\n",
       "      <td>0</td>\n",
       "      <td>technical</td>\n",
       "      <td>medium</td>\n",
       "      <td>0</td>\n",
       "      <td>0</td>\n",
       "      <td>1</td>\n",
       "    </tr>\n",
       "    <tr>\n",
       "      <th>2</th>\n",
       "      <td>0.40</td>\n",
       "      <td>0.47</td>\n",
       "      <td>2</td>\n",
       "      <td>136</td>\n",
       "      <td>3</td>\n",
       "      <td>0</td>\n",
       "      <td>1</td>\n",
       "      <td>0</td>\n",
       "      <td>hr</td>\n",
       "      <td>medium</td>\n",
       "      <td>0</td>\n",
       "      <td>0</td>\n",
       "      <td>1</td>\n",
       "    </tr>\n",
       "    <tr>\n",
       "      <th>3</th>\n",
       "      <td>0.47</td>\n",
       "      <td>0.55</td>\n",
       "      <td>4</td>\n",
       "      <td>122</td>\n",
       "      <td>5</td>\n",
       "      <td>1</td>\n",
       "      <td>0</td>\n",
       "      <td>0</td>\n",
       "      <td>marketing</td>\n",
       "      <td>medium</td>\n",
       "      <td>0</td>\n",
       "      <td>0</td>\n",
       "      <td>1</td>\n",
       "    </tr>\n",
       "    <tr>\n",
       "      <th>4</th>\n",
       "      <td>0.89</td>\n",
       "      <td>0.65</td>\n",
       "      <td>5</td>\n",
       "      <td>195</td>\n",
       "      <td>6</td>\n",
       "      <td>0</td>\n",
       "      <td>1</td>\n",
       "      <td>0</td>\n",
       "      <td>support</td>\n",
       "      <td>low</td>\n",
       "      <td>0</td>\n",
       "      <td>1</td>\n",
       "      <td>0</td>\n",
       "    </tr>\n",
       "  </tbody>\n",
       "</table>\n",
       "</div>"
      ],
      "text/plain": [
       "   satisfaction_level  last_evaluation  number_project  average_montly_hours  \\\n",
       "0                0.85             0.90               5                   202   \n",
       "1                0.12             0.60               2                   194   \n",
       "2                0.40             0.47               2                   136   \n",
       "3                0.47             0.55               4                   122   \n",
       "4                0.89             0.65               5                   195   \n",
       "\n",
       "   time_spend_company  Work_accident  left  promotion_last_5years      sales  \\\n",
       "0                   3              0     0                      0         IT   \n",
       "1                   4              0     0                      0  technical   \n",
       "2                   3              0     1                      0         hr   \n",
       "3                   5              1     0                      0  marketing   \n",
       "4                   6              0     1                      0    support   \n",
       "\n",
       "   salary  salary_high  salary_low  salary_medium  \n",
       "0     low            0           1              0  \n",
       "1  medium            0           0              1  \n",
       "2  medium            0           0              1  \n",
       "3  medium            0           0              1  \n",
       "4     low            0           1              0  "
      ]
     },
     "execution_count": 30,
     "metadata": {},
     "output_type": "execute_result"
    }
   ],
   "source": [
    "# Add line-by-line comments to explain following code\n",
    "# ===============================\n",
    "encoder = LabelBinarizer()# Creating an instance of the class LabelBinarizer called encoder.\n",
    "salary_features = encoder.fit_transform(np.expand_dims(dataset.salary, 1))#the salary column is being encoded and expand\n",
    "# transformed across axis 1.\n",
    "for j, _class in enumerate(encoder.classes_):# for element and _class in the different classes formed after encoding\n",
    "    # put a number on each element and display its class\n",
    "    dataset.loc[:, 'salary_{}'.format(_class.replace('\\x20', '_'))] = salary_features[:, j]#formating the newly created\n",
    "    #classes to have salary_ plus the salary_features j.\n",
    "\n",
    "dataset.head()"
   ]
  },
  {
   "cell_type": "markdown",
   "metadata": {},
   "source": [
    "Now please write similar code for \"sales\" column like what we just did above. Feel free to drop questions on disscussion board if you need clarification."
   ]
  },
  {
   "cell_type": "code",
   "execution_count": 31,
   "metadata": {},
   "outputs": [
    {
     "name": "stdout",
     "output_type": "stream",
     "text": [
      "<class 'pandas.core.frame.DataFrame'>\n",
      "RangeIndex: 14999 entries, 0 to 14998\n",
      "Data columns (total 23 columns):\n",
      "satisfaction_level       14999 non-null float64\n",
      "last_evaluation          14999 non-null float64\n",
      "number_project           14999 non-null int64\n",
      "average_montly_hours     14999 non-null int64\n",
      "time_spend_company       14999 non-null int64\n",
      "Work_accident            14999 non-null int64\n",
      "left                     14999 non-null int64\n",
      "promotion_last_5years    14999 non-null int64\n",
      "sales                    14999 non-null object\n",
      "salary                   14999 non-null object\n",
      "salary_high              14999 non-null int64\n",
      "salary_low               14999 non-null int64\n",
      "salary_medium            14999 non-null int64\n",
      "sales_IT                 14999 non-null int64\n",
      "sales_RandD              14999 non-null int64\n",
      "sales_accounting         14999 non-null int64\n",
      "sales_hr                 14999 non-null int64\n",
      "sales_management         14999 non-null int64\n",
      "sales_marketing          14999 non-null int64\n",
      "sales_product_mng        14999 non-null int64\n",
      "sales_sales              14999 non-null int64\n",
      "sales_support            14999 non-null int64\n",
      "sales_technical          14999 non-null int64\n",
      "dtypes: float64(2), int64(19), object(2)\n",
      "memory usage: 2.6+ MB\n"
     ]
    }
   ],
   "source": [
    "# Add code below this comment\n",
    "# ---------------------------\n",
    "encoder = LabelBinarizer()\n",
    "sales_features = encoder.fit_transform(np.expand_dims(dataset.sales,1))\n",
    "for j,_class in enumerate(encoder.classes_):\n",
    "    dataset.loc[:, 'sales_{}'.format(_class.replace('\\x20', '_'))] = sales_features[:, j]\n",
    "\n",
    "dataset.info()"
   ]
  },
  {
   "cell_type": "code",
   "execution_count": 32,
   "metadata": {},
   "outputs": [
    {
     "data": {
      "text/html": [
       "<div>\n",
       "<style>\n",
       "    .dataframe thead tr:only-child th {\n",
       "        text-align: right;\n",
       "    }\n",
       "\n",
       "    .dataframe thead th {\n",
       "        text-align: left;\n",
       "    }\n",
       "\n",
       "    .dataframe tbody tr th {\n",
       "        vertical-align: top;\n",
       "    }\n",
       "</style>\n",
       "<table border=\"1\" class=\"dataframe\">\n",
       "  <thead>\n",
       "    <tr style=\"text-align: right;\">\n",
       "      <th></th>\n",
       "      <th>satisfaction_level</th>\n",
       "      <th>last_evaluation</th>\n",
       "      <th>number_project</th>\n",
       "      <th>average_montly_hours</th>\n",
       "      <th>time_spend_company</th>\n",
       "      <th>Work_accident</th>\n",
       "      <th>left</th>\n",
       "      <th>promotion_last_5years</th>\n",
       "      <th>sales</th>\n",
       "      <th>salary</th>\n",
       "      <th>...</th>\n",
       "      <th>sales_IT</th>\n",
       "      <th>sales_RandD</th>\n",
       "      <th>sales_accounting</th>\n",
       "      <th>sales_hr</th>\n",
       "      <th>sales_management</th>\n",
       "      <th>sales_marketing</th>\n",
       "      <th>sales_product_mng</th>\n",
       "      <th>sales_sales</th>\n",
       "      <th>sales_support</th>\n",
       "      <th>sales_technical</th>\n",
       "    </tr>\n",
       "  </thead>\n",
       "  <tbody>\n",
       "    <tr>\n",
       "      <th>0</th>\n",
       "      <td>0.85</td>\n",
       "      <td>0.90</td>\n",
       "      <td>5</td>\n",
       "      <td>202</td>\n",
       "      <td>3</td>\n",
       "      <td>0</td>\n",
       "      <td>0</td>\n",
       "      <td>0</td>\n",
       "      <td>IT</td>\n",
       "      <td>low</td>\n",
       "      <td>...</td>\n",
       "      <td>1</td>\n",
       "      <td>0</td>\n",
       "      <td>0</td>\n",
       "      <td>0</td>\n",
       "      <td>0</td>\n",
       "      <td>0</td>\n",
       "      <td>0</td>\n",
       "      <td>0</td>\n",
       "      <td>0</td>\n",
       "      <td>0</td>\n",
       "    </tr>\n",
       "    <tr>\n",
       "      <th>1</th>\n",
       "      <td>0.12</td>\n",
       "      <td>0.60</td>\n",
       "      <td>2</td>\n",
       "      <td>194</td>\n",
       "      <td>4</td>\n",
       "      <td>0</td>\n",
       "      <td>0</td>\n",
       "      <td>0</td>\n",
       "      <td>technical</td>\n",
       "      <td>medium</td>\n",
       "      <td>...</td>\n",
       "      <td>0</td>\n",
       "      <td>0</td>\n",
       "      <td>0</td>\n",
       "      <td>0</td>\n",
       "      <td>0</td>\n",
       "      <td>0</td>\n",
       "      <td>0</td>\n",
       "      <td>0</td>\n",
       "      <td>0</td>\n",
       "      <td>1</td>\n",
       "    </tr>\n",
       "    <tr>\n",
       "      <th>2</th>\n",
       "      <td>0.40</td>\n",
       "      <td>0.47</td>\n",
       "      <td>2</td>\n",
       "      <td>136</td>\n",
       "      <td>3</td>\n",
       "      <td>0</td>\n",
       "      <td>1</td>\n",
       "      <td>0</td>\n",
       "      <td>hr</td>\n",
       "      <td>medium</td>\n",
       "      <td>...</td>\n",
       "      <td>0</td>\n",
       "      <td>0</td>\n",
       "      <td>0</td>\n",
       "      <td>1</td>\n",
       "      <td>0</td>\n",
       "      <td>0</td>\n",
       "      <td>0</td>\n",
       "      <td>0</td>\n",
       "      <td>0</td>\n",
       "      <td>0</td>\n",
       "    </tr>\n",
       "    <tr>\n",
       "      <th>3</th>\n",
       "      <td>0.47</td>\n",
       "      <td>0.55</td>\n",
       "      <td>4</td>\n",
       "      <td>122</td>\n",
       "      <td>5</td>\n",
       "      <td>1</td>\n",
       "      <td>0</td>\n",
       "      <td>0</td>\n",
       "      <td>marketing</td>\n",
       "      <td>medium</td>\n",
       "      <td>...</td>\n",
       "      <td>0</td>\n",
       "      <td>0</td>\n",
       "      <td>0</td>\n",
       "      <td>0</td>\n",
       "      <td>0</td>\n",
       "      <td>1</td>\n",
       "      <td>0</td>\n",
       "      <td>0</td>\n",
       "      <td>0</td>\n",
       "      <td>0</td>\n",
       "    </tr>\n",
       "    <tr>\n",
       "      <th>4</th>\n",
       "      <td>0.89</td>\n",
       "      <td>0.65</td>\n",
       "      <td>5</td>\n",
       "      <td>195</td>\n",
       "      <td>6</td>\n",
       "      <td>0</td>\n",
       "      <td>1</td>\n",
       "      <td>0</td>\n",
       "      <td>support</td>\n",
       "      <td>low</td>\n",
       "      <td>...</td>\n",
       "      <td>0</td>\n",
       "      <td>0</td>\n",
       "      <td>0</td>\n",
       "      <td>0</td>\n",
       "      <td>0</td>\n",
       "      <td>0</td>\n",
       "      <td>0</td>\n",
       "      <td>0</td>\n",
       "      <td>1</td>\n",
       "      <td>0</td>\n",
       "    </tr>\n",
       "  </tbody>\n",
       "</table>\n",
       "<p>5 rows × 23 columns</p>\n",
       "</div>"
      ],
      "text/plain": [
       "   satisfaction_level  last_evaluation  number_project  average_montly_hours  \\\n",
       "0                0.85             0.90               5                   202   \n",
       "1                0.12             0.60               2                   194   \n",
       "2                0.40             0.47               2                   136   \n",
       "3                0.47             0.55               4                   122   \n",
       "4                0.89             0.65               5                   195   \n",
       "\n",
       "   time_spend_company  Work_accident  left  promotion_last_5years      sales  \\\n",
       "0                   3              0     0                      0         IT   \n",
       "1                   4              0     0                      0  technical   \n",
       "2                   3              0     1                      0         hr   \n",
       "3                   5              1     0                      0  marketing   \n",
       "4                   6              0     1                      0    support   \n",
       "\n",
       "   salary       ...         sales_IT  sales_RandD  sales_accounting  sales_hr  \\\n",
       "0     low       ...                1            0                 0         0   \n",
       "1  medium       ...                0            0                 0         0   \n",
       "2  medium       ...                0            0                 0         1   \n",
       "3  medium       ...                0            0                 0         0   \n",
       "4     low       ...                0            0                 0         0   \n",
       "\n",
       "   sales_management  sales_marketing  sales_product_mng  sales_sales  \\\n",
       "0                 0                0                  0            0   \n",
       "1                 0                0                  0            0   \n",
       "2                 0                0                  0            0   \n",
       "3                 0                1                  0            0   \n",
       "4                 0                0                  0            0   \n",
       "\n",
       "   sales_support  sales_technical  \n",
       "0              0                0  \n",
       "1              0                1  \n",
       "2              0                0  \n",
       "3              0                0  \n",
       "4              1                0  \n",
       "\n",
       "[5 rows x 23 columns]"
      ]
     },
     "execution_count": 32,
     "metadata": {},
     "output_type": "execute_result"
    }
   ],
   "source": [
    "dataset.head()"
   ]
  },
  {
   "cell_type": "markdown",
   "metadata": {},
   "source": [
    "Store feature columns (all columns except 'left', 'sales' and 'salary') to a new variable **X**.\n",
    "\n",
    "Store label column into a new variable **y**."
   ]
  },
  {
   "cell_type": "code",
   "execution_count": 36,
   "metadata": {
    "collapsed": true
   },
   "outputs": [],
   "source": [
    "# Add code below this comment\n",
    "# ---------------------------\n",
    "X = np.array(dataset.iloc[:,[0,1,2,3,4,7,10,11,12,13,14,15,16,17,18,19,20,21,22]])\n",
    "y = np.array(dataset.left)\n",
    "\n",
    "\n",
    "#dataset.head()\n"
   ]
  },
  {
   "cell_type": "markdown",
   "metadata": {},
   "source": [
    "Create train/validate split (20% validation ratio) and use variable names: **X_train, X_test, y_train, y_test**."
   ]
  },
  {
   "cell_type": "code",
   "execution_count": 37,
   "metadata": {
    "collapsed": true
   },
   "outputs": [],
   "source": [
    "# Add code below this comment\n",
    "# ---------------------------\n",
    "X_train,X_test,y_train,y_test= train_test_split(X,y,test_size=0.2)\n",
    "\n",
    "\n",
    "\n"
   ]
  },
  {
   "cell_type": "markdown",
   "metadata": {},
   "source": [
    "# Feature selection and evaluation\n",
    "\n",
    "In this section you could make use of any method so far introduced or provided by sklearn for **feature selection**.\n",
    "\n",
    "Steps:\n",
    "1. Initialize a feature selector\n",
    "2. Fit feature selector on training set\n",
    "3. Print indices of features selected, the \"support\".\n",
    "4. Train a Gaussian Naive Bayes model on selected features from training set.\n",
    "5. Evaluate the model by measuring its accuracy on the test set.\n",
    "\n",
    "Please **briefly answer the 2 questions** at the end of this section; use evidence printed from your code as appropiate to support your answer. \n",
    "\n",
    "It is not required but if you are comparing different feature selection methods,\n",
    "please add new notebook cells for each method."
   ]
  },
  {
   "cell_type": "code",
   "execution_count": 57,
   "metadata": {},
   "outputs": [
    {
     "name": "stdout",
     "output_type": "stream",
     "text": [
      "X statistic [  1.81535117e+02   4.48445122e-02   3.72329462e+00   7.94896891e+02\n",
      "   1.56525975e+02   4.78547228e+01   1.61801609e+02   1.21291796e+02\n",
      "   3.75952950e+01   6.37107974e-01   2.80140334e+01   4.04950887e+00\n",
      "   1.07948130e+01   2.27176338e+01   6.14596997e-02   2.89620782e+00\n",
      "   4.43749081e-02   1.58555395e+00   5.10618897e+00]\n",
      "Selected indices [0 3 4 5 6 7]\n"
     ]
    },
    {
     "data": {
      "text/plain": [
       "0.72199999999999998"
      ]
     },
     "execution_count": 57,
     "metadata": {},
     "output_type": "execute_result"
    }
   ],
   "source": [
    "# Add code below this comment\n",
    "# ---------------------------\n",
    "selector = SelectKBest(chi2,k=6)\n",
    "selector.fit(X_train,y_train)\n",
    "print('X statistic',selector.scores_)\n",
    "print('Selected indices',selector.get_support(True))\n",
    "model=GaussianNB()\n",
    "model.fit(selector.transform(X_train),y_train)\n",
    "model.score(selector.transform(X_test),y_test)\n",
    "\n",
    "\n"
   ]
  },
  {
   "cell_type": "markdown",
   "metadata": {},
   "source": [
    "Briefly justify why you think this feature selector is suitable for the job."
   ]
  },
  {
   "cell_type": "raw",
   "metadata": {},
   "source": [
    "# Add your answer below this comment\n",
    "# -----------------------------------\n",
    "Since this method incorporate statistical methods to rank each feature instead of measuring accuracy of a model trained on selected feautures it may not yield high model score sometimes for it chose the features independantly of the model.It simply rank the features to be used in model that they may not fit well.\n",
    "\n",
    "\n"
   ]
  },
  {
   "cell_type": "markdown",
   "metadata": {},
   "source": [
    "How many number of features did you finally choose? Why?"
   ]
  },
  {
   "cell_type": "raw",
   "metadata": {},
   "source": [
    "# Add your answer below this comment\n",
    "# -----------------------------------\n",
    "\n",
    "I chose 7 after trying random numbers and even K='all' but realized that seven does boost the score a little higher.\n",
    "\n"
   ]
  },
  {
   "cell_type": "markdown",
   "metadata": {
    "collapsed": true
   },
   "source": [
    "# Feature extraction\n",
    "\n",
    "In this section you could use **Principle Component Analysis** or **Factor Analysis** for feature extraction.\n",
    "\n",
    "Steps:\n",
    "1. Initialize either PCA or FactorAnalysis\n",
    "2. Fit feature extractor on training set.\n",
    "4. Train a Gaussian Naive Bayes model on selected features from training set.\n",
    "5. Evaluate the model by measuring its accuracy on the test set."
   ]
  },
  {
   "cell_type": "code",
   "execution_count": 55,
   "metadata": {},
   "outputs": [
    {
     "name": "stdout",
     "output_type": "stream",
     "text": [
      "[  9.98039631e-01   8.74050890e-04   4.79005190e-04   1.82858975e-04\n",
      "   9.49303365e-05   6.57021204e-05   4.75947140e-05   4.32745546e-05\n",
      "   2.96746143e-05   2.44962996e-05]\n"
     ]
    },
    {
     "data": {
      "text/plain": [
       "0.82233333333333336"
      ]
     },
     "execution_count": 55,
     "metadata": {},
     "output_type": "execute_result"
    }
   ],
   "source": [
    "# Add code below this comment\n",
    "# ---------------------------\n",
    "pca = PCA(n_components=10)\n",
    "pca.fit(X_train)\n",
    "print(pca.explained_variance_ratio_)\n",
    "X_features = pca.transform(X_train)\n",
    "model = GaussianNB()\n",
    "model.fit(X_features,y_train)\n",
    "model.score(pca.transform(X_test),y_test)\n",
    "\n",
    "\n"
   ]
  },
  {
   "cell_type": "markdown",
   "metadata": {},
   "source": [
    "Create a scree plot of **explained variance ratio** for extracted features."
   ]
  },
  {
   "cell_type": "code",
   "execution_count": 61,
   "metadata": {},
   "outputs": [
    {
     "name": "stdout",
     "output_type": "stream",
     "text": [
      "total explained variance ratio 0.999881218518\n"
     ]
    },
    {
     "data": {
      "image/png": "[encoded data removed]",
      "text/plain": [
       "<matplotlib.figure.Figure at 0x7f04d3838208>"
      ]
     },
     "metadata": {},
     "output_type": "display_data"
    }
   ],
   "source": [
    "# Add code below this comment\n",
    "# ---------------------------\n",
    "x_ticks = np.arange(len(pca.components_)) + 1\n",
    "plt.xticks(x_ticks)\n",
    "plt.plot(x_ticks,pca.explained_variance_ratio_)\n",
    "print('total explained variance ratio',np.sum(pca.explained_variance_ratio_))\n"
   ]
  },
  {
   "cell_type": "markdown",
   "metadata": {},
   "source": [
    "Do you think this feature extraction method performed satisfactorily?\n",
    "How does it compare to feature selection methods in terms of effectiveness?"
   ]
  },
  {
   "cell_type": "raw",
   "metadata": {},
   "source": [
    "# Add your answer below this comment\n",
    "# -----------------------------------\n",
    "It looks like variance is the same from 2 to 10 which explains the straight line.It does not seems to do a better job however the model has a higher score than the score in the feature selection.\n",
    "\n"
   ]
  },
  {
   "cell_type": "markdown",
   "metadata": {},
   "source": [
    "How would you explain the features you have extracted to somebody without a data science background if you were to recommend this method?\n",
    "(short answer)"
   ]
  },
  {
   "cell_type": "raw",
   "metadata": {},
   "source": [
    "# Add your answer below this comment\n",
    "# -----------------------------------\n",
    "These are the features that explain the maximun variance in the data space therefore are susceptible to provide a better model score if they are used to solve a prediction problem.\n",
    "\n"
   ]
  },
  {
   "cell_type": "markdown",
   "metadata": {},
   "source": [
    "# Save your notebook!"
   ]
  }
 ],
 "metadata": {
  "kernelspec": {
   "display_name": "Python 3",
   "language": "python",
   "name": "python3"
  },
  "language_info": {
   "codemirror_mode": {
    "name": "ipython",
    "version": 3
   },
   "file_extension": ".py",
   "mimetype": "text/x-python",
   "name": "python",
   "nbconvert_exporter": "python",
   "pygments_lexer": "ipython3",
   "version": "3.4.5"
  }
 },
 "nbformat": 4,
 "nbformat_minor": 2
}
