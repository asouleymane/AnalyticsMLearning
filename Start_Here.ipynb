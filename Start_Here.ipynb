{
 "cells": [
  {
   "cell_type": "markdown",
   "metadata": {},
   "source": [
    "# Applied Machine Learning\n",
    "\n",
    "This course leverages the foundations in statistics and modeling to teach applied concepts in machine learning (ML). \n",
    "Participants will learn various classes of machine learning and modeling techniques, \n",
    "and gain an in-depth understanding how to select appropriate techniques for various data science tasks. \n",
    "Topics cover a spectrum from simple Bayesian modeling to more advanced algorithms such as support vector machines, \n",
    "decision trees/forests, and neural networks. \n",
    "Students learn to incorporate machine learning workflows into data-intensive analytical processes."
   ]
  },
  {
   "cell_type": "markdown",
   "metadata": {},
   "source": [
    "## Course Module Schedule\n",
    "\n",
    "  1. [Introduction to Machine Learning: Principles and Categories](./module1/Schedule.ipynb)\n",
    "  2. [Programming ML workflows](./module2/Schedule.ipynb)\n",
    "  3. [Dimensionality Reduction for ML models](./module3/Schedule.ipynb)\n",
    "  4. [Unsupervised ML](./module4/Schedule.ipynb)\n",
    "  5. [Neural Networks & Deep Learning](./module5/Schedule.ipynb)\n",
    "  6. [Support Vector Machines & Graph Models](./module6/Schedule.ipynb)\n",
    "  7. [Decision Trees & Random Forest](./module7/Schedule.ipynb)\n",
    "  8. [Operationalizing the ML Pipeline](./module8/Schedule.ipynb)\n",
    "  \n",
    "### Weekly Module Download\n",
    "\n",
    "Each Monday morning, the new module will become available.\n",
    "You will using Git Pull to acquire the module's learning activities.  \n",
    "Clicking on the modules above before the content is pulled is expected to give you a **404 Error**\n",
    "\n",
    "#### Steps:\n",
    "  1. Open Terminal in JupyterHub\n",
    "  1. Change into the course folder\n",
    "  1. Execute command:  \n",
    "  `git pull   --no-edit   upstream   master`"
   ]
  },
  {
   "cell_type": "markdown",
   "metadata": {},
   "source": [
    "## Technologies\n",
    "\n",
    "  * Scikit - Learn (Python)\n",
    "  * TensorFlow (Python)\n",
    "  * SparkML (Python, Scala, other)"
   ]
  },
  {
   "cell_type": "markdown",
   "metadata": {},
   "source": [
    "## Weekly Module Schedule\n",
    "This is the suggested weekly schedule for each module\n",
    "  * Monday - Wednesday: Readings, Videos, Labs and Practices\n",
    "  * Tuesday - Thursday: Discussion Board Activities\n",
    "  * Friday - Sunday: Weekly Exercise(s)\n",
    "  \n",
    "All material will be released at the beginning of each module to allow you to work through the week and manage your time as needed.\n",
    "\n",
    "Module exercises will be collected midnight central time at the end of the Tuesday after the exercise was assigned.\n",
    "\n",
    "Exercises should be submitted by way of Git : Add, Commit, Push. More details will be provided in the learning activities on JupyterHub."
   ]
  },
  {
   "cell_type": "markdown",
   "metadata": {},
   "source": [
    "## Resources\n",
    "\n",
    "Each module will have reading links and resources.\n",
    "Please consult the weekly `Schedule` notebook for details and modular particulars."
   ]
  }
 ],
 "metadata": {
  "kernelspec": {
   "display_name": "Python 3",
   "language": "python",
   "name": "python3"
  },
  "language_info": {
   "codemirror_mode": {
    "name": "ipython",
    "version": 3
   },
   "file_extension": ".py",
   "mimetype": "text/x-python",
   "name": "python",
   "nbconvert_exporter": "python",
   "pygments_lexer": "ipython3",
   "version": "3.4.5"
  }
 },
 "nbformat": 4,
 "nbformat_minor": 2
}
